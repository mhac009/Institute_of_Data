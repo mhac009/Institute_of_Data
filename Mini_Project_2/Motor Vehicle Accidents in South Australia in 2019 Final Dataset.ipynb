{
 "cells": [
  {
   "cell_type": "code",
   "execution_count": 3,
   "metadata": {},
   "outputs": [],
   "source": [
    "import numpy as np\n",
    "import pandas as pd\n",
    "import matplotlib.pyplot as plt\n",
    "import seaborn as sns\n",
    "\n",
    "from sklearn import datasets\n",
    "from sklearn.linear_model import LinearRegression\n",
    "from sklearn.linear_model import LogisticRegression\n",
    "from sklearn.linear_model import Ridge, RidgeCV\n",
    "from sklearn.linear_model import Lasso, LassoCV\n",
    "from sklearn.model_selection import train_test_split\n",
    "from sklearn.metrics import mean_squared_error\n",
    "from sklearn.metrics import confusion_matrix\n",
    "from sklearn.metrics import classification_report \n",
    "from sklearn.model_selection import cross_val_score\n",
    "from sklearn.preprocessing import StandardScaler\n",
    "from sklearn.metrics import accuracy_score\n",
    "from sklearn.svm import SVC\n",
    "from sklearn.metrics import f1_score\n",
    "from sklearn.model_selection import GridSearchCV\n",
    "from sklearn.model_selection import learning_curve\n",
    "from sklearn.naive_bayes import GaussianNB\n",
    "\n",
    "#import category_encoders as ce\n",
    "\n",
    "pd.set_option('display.max_columns', None)"
   ]
  },
  {
   "cell_type": "code",
   "execution_count": 4,
   "metadata": {},
   "outputs": [],
   "source": [
    "dfcrash = pd.read_csv('2019_DATA_SA_Crash.csv')"
   ]
  },
  {
   "cell_type": "code",
   "execution_count": 5,
   "metadata": {},
   "outputs": [
    {
     "data": {
      "text/plain": [
       "(12964, 33)"
      ]
     },
     "execution_count": 5,
     "metadata": {},
     "output_type": "execute_result"
    }
   ],
   "source": [
    "dfcrash.shape"
   ]
  },
  {
   "cell_type": "code",
   "execution_count": 6,
   "metadata": {},
   "outputs": [],
   "source": [
    "dfunit = pd.read_csv('2019_DATA_SA_Units.csv')"
   ]
  },
  {
   "cell_type": "code",
   "execution_count": null,
   "metadata": {},
   "outputs": [],
   "source": [
    "dfunit.shape"
   ]
  },
  {
   "cell_type": "code",
   "execution_count": 9,
   "metadata": {},
   "outputs": [
    {
     "data": {
      "text/html": [
       "<div>\n",
       "<style scoped>\n",
       "    .dataframe tbody tr th:only-of-type {\n",
       "        vertical-align: middle;\n",
       "    }\n",
       "\n",
       "    .dataframe tbody tr th {\n",
       "        vertical-align: top;\n",
       "    }\n",
       "\n",
       "    .dataframe thead th {\n",
       "        text-align: right;\n",
       "    }\n",
       "</style>\n",
       "<table border=\"1\" class=\"dataframe\">\n",
       "  <thead>\n",
       "    <tr style=\"text-align: right;\">\n",
       "      <th></th>\n",
       "      <th>REPORT_ID</th>\n",
       "      <th>Unit No</th>\n",
       "      <th>No Of Cas</th>\n",
       "      <th>Veh Reg State</th>\n",
       "      <th>Unit Type</th>\n",
       "      <th>Veh Year</th>\n",
       "      <th>Direction Of Travel</th>\n",
       "      <th>Sex</th>\n",
       "      <th>Age</th>\n",
       "      <th>Lic State</th>\n",
       "      <th>Licence Class</th>\n",
       "      <th>Licence Type</th>\n",
       "      <th>Towing</th>\n",
       "      <th>Unit Movement</th>\n",
       "      <th>Number Occupants</th>\n",
       "      <th>Postcode</th>\n",
       "      <th>Rollover</th>\n",
       "      <th>Fire</th>\n",
       "    </tr>\n",
       "  </thead>\n",
       "  <tbody>\n",
       "    <tr>\n",
       "      <th>0</th>\n",
       "      <td>2019-1-8/07/2020</td>\n",
       "      <td>1</td>\n",
       "      <td>0</td>\n",
       "      <td>SA</td>\n",
       "      <td>Station Wagon</td>\n",
       "      <td>1998</td>\n",
       "      <td>South</td>\n",
       "      <td>Female</td>\n",
       "      <td>085</td>\n",
       "      <td>SA</td>\n",
       "      <td>C</td>\n",
       "      <td>Full</td>\n",
       "      <td>Not Towing</td>\n",
       "      <td>Right Turn</td>\n",
       "      <td>1.0</td>\n",
       "      <td>XXXX</td>\n",
       "      <td>NaN</td>\n",
       "      <td>NaN</td>\n",
       "    </tr>\n",
       "    <tr>\n",
       "      <th>1</th>\n",
       "      <td>2019-1-8/07/2020</td>\n",
       "      <td>2</td>\n",
       "      <td>0</td>\n",
       "      <td>SA</td>\n",
       "      <td>Motor Cars - Sedan</td>\n",
       "      <td>2009</td>\n",
       "      <td>East</td>\n",
       "      <td>Female</td>\n",
       "      <td>022</td>\n",
       "      <td>SA</td>\n",
       "      <td>C</td>\n",
       "      <td>Provisional 2</td>\n",
       "      <td>Not Towing</td>\n",
       "      <td>Straight Ahead</td>\n",
       "      <td>1.0</td>\n",
       "      <td>5085</td>\n",
       "      <td>NaN</td>\n",
       "      <td>NaN</td>\n",
       "    </tr>\n",
       "    <tr>\n",
       "      <th>2</th>\n",
       "      <td>2019-2-8/07/2020</td>\n",
       "      <td>1</td>\n",
       "      <td>0</td>\n",
       "      <td>SA</td>\n",
       "      <td>Motor Cars - Sedan</td>\n",
       "      <td>2007</td>\n",
       "      <td>North East</td>\n",
       "      <td>Male</td>\n",
       "      <td>021</td>\n",
       "      <td>SA</td>\n",
       "      <td>C</td>\n",
       "      <td>Provisional 2</td>\n",
       "      <td>Not Towing</td>\n",
       "      <td>Straight Ahead</td>\n",
       "      <td>4.0</td>\n",
       "      <td>5114</td>\n",
       "      <td>NaN</td>\n",
       "      <td>NaN</td>\n",
       "    </tr>\n",
       "    <tr>\n",
       "      <th>3</th>\n",
       "      <td>2019-2-8/07/2020</td>\n",
       "      <td>2</td>\n",
       "      <td>0</td>\n",
       "      <td>SA</td>\n",
       "      <td>Motor Cars - Sedan</td>\n",
       "      <td>2002</td>\n",
       "      <td>North East</td>\n",
       "      <td>Female</td>\n",
       "      <td>031</td>\n",
       "      <td>SA</td>\n",
       "      <td>C</td>\n",
       "      <td>Full</td>\n",
       "      <td>Not Towing</td>\n",
       "      <td>Straight Ahead</td>\n",
       "      <td>1.0</td>\n",
       "      <td>5108</td>\n",
       "      <td>NaN</td>\n",
       "      <td>NaN</td>\n",
       "    </tr>\n",
       "    <tr>\n",
       "      <th>4</th>\n",
       "      <td>2019-3-8/07/2020</td>\n",
       "      <td>1</td>\n",
       "      <td>0</td>\n",
       "      <td>UNKNOWN</td>\n",
       "      <td>Motor Vehicle - Type Unknown</td>\n",
       "      <td>XXXX</td>\n",
       "      <td>East</td>\n",
       "      <td>Unknown</td>\n",
       "      <td>XXX</td>\n",
       "      <td>UNKNOWN</td>\n",
       "      <td>XX</td>\n",
       "      <td>Unknown</td>\n",
       "      <td>Unknown</td>\n",
       "      <td>Straight Ahead</td>\n",
       "      <td>1.0</td>\n",
       "      <td>XXXX</td>\n",
       "      <td>NaN</td>\n",
       "      <td>NaN</td>\n",
       "    </tr>\n",
       "  </tbody>\n",
       "</table>\n",
       "</div>"
      ],
      "text/plain": [
       "          REPORT_ID  Unit No  No Of Cas Veh Reg State  \\\n",
       "0  2019-1-8/07/2020        1          0            SA   \n",
       "1  2019-1-8/07/2020        2          0            SA   \n",
       "2  2019-2-8/07/2020        1          0            SA   \n",
       "3  2019-2-8/07/2020        2          0            SA   \n",
       "4  2019-3-8/07/2020        1          0       UNKNOWN   \n",
       "\n",
       "                      Unit Type Veh Year Direction Of Travel      Sex  Age  \\\n",
       "0                 Station Wagon     1998               South   Female  085   \n",
       "1            Motor Cars - Sedan     2009                East   Female  022   \n",
       "2            Motor Cars - Sedan     2007          North East     Male  021   \n",
       "3            Motor Cars - Sedan     2002          North East   Female  031   \n",
       "4  Motor Vehicle - Type Unknown     XXXX                East  Unknown  XXX   \n",
       "\n",
       "  Lic State Licence Class   Licence Type      Towing   Unit Movement  \\\n",
       "0        SA            C            Full  Not Towing      Right Turn   \n",
       "1        SA            C   Provisional 2  Not Towing  Straight Ahead   \n",
       "2        SA            C   Provisional 2  Not Towing  Straight Ahead   \n",
       "3        SA            C            Full  Not Towing  Straight Ahead   \n",
       "4   UNKNOWN            XX        Unknown     Unknown  Straight Ahead   \n",
       "\n",
       "   Number Occupants Postcode Rollover Fire  \n",
       "0               1.0     XXXX      NaN  NaN  \n",
       "1               1.0     5085      NaN  NaN  \n",
       "2               4.0     5114      NaN  NaN  \n",
       "3               1.0     5108      NaN  NaN  \n",
       "4               1.0     XXXX      NaN  NaN  "
      ]
     },
     "execution_count": 9,
     "metadata": {},
     "output_type": "execute_result"
    }
   ],
   "source": [
    "dfunit.head()"
   ]
  },
  {
   "cell_type": "code",
   "execution_count": 10,
   "metadata": {},
   "outputs": [],
   "source": [
    "unit1 = dfunit[dfunit['Unit No'] == 1]"
   ]
  },
  {
   "cell_type": "code",
   "execution_count": 11,
   "metadata": {},
   "outputs": [
    {
     "data": {
      "text/html": [
       "<div>\n",
       "<style scoped>\n",
       "    .dataframe tbody tr th:only-of-type {\n",
       "        vertical-align: middle;\n",
       "    }\n",
       "\n",
       "    .dataframe tbody tr th {\n",
       "        vertical-align: top;\n",
       "    }\n",
       "\n",
       "    .dataframe thead th {\n",
       "        text-align: right;\n",
       "    }\n",
       "</style>\n",
       "<table border=\"1\" class=\"dataframe\">\n",
       "  <thead>\n",
       "    <tr style=\"text-align: right;\">\n",
       "      <th></th>\n",
       "      <th>REPORT_ID</th>\n",
       "      <th>Unit No</th>\n",
       "      <th>No Of Cas</th>\n",
       "      <th>Veh Reg State</th>\n",
       "      <th>Unit Type</th>\n",
       "      <th>Veh Year</th>\n",
       "      <th>Direction Of Travel</th>\n",
       "      <th>Sex</th>\n",
       "      <th>Age</th>\n",
       "      <th>Lic State</th>\n",
       "      <th>Licence Class</th>\n",
       "      <th>Licence Type</th>\n",
       "      <th>Towing</th>\n",
       "      <th>Unit Movement</th>\n",
       "      <th>Number Occupants</th>\n",
       "      <th>Postcode</th>\n",
       "      <th>Rollover</th>\n",
       "      <th>Fire</th>\n",
       "    </tr>\n",
       "  </thead>\n",
       "  <tbody>\n",
       "    <tr>\n",
       "      <th>0</th>\n",
       "      <td>2019-1-8/07/2020</td>\n",
       "      <td>1</td>\n",
       "      <td>0</td>\n",
       "      <td>SA</td>\n",
       "      <td>Station Wagon</td>\n",
       "      <td>1998</td>\n",
       "      <td>South</td>\n",
       "      <td>Female</td>\n",
       "      <td>085</td>\n",
       "      <td>SA</td>\n",
       "      <td>C</td>\n",
       "      <td>Full</td>\n",
       "      <td>Not Towing</td>\n",
       "      <td>Right Turn</td>\n",
       "      <td>1.0</td>\n",
       "      <td>XXXX</td>\n",
       "      <td>NaN</td>\n",
       "      <td>NaN</td>\n",
       "    </tr>\n",
       "    <tr>\n",
       "      <th>2</th>\n",
       "      <td>2019-2-8/07/2020</td>\n",
       "      <td>1</td>\n",
       "      <td>0</td>\n",
       "      <td>SA</td>\n",
       "      <td>Motor Cars - Sedan</td>\n",
       "      <td>2007</td>\n",
       "      <td>North East</td>\n",
       "      <td>Male</td>\n",
       "      <td>021</td>\n",
       "      <td>SA</td>\n",
       "      <td>C</td>\n",
       "      <td>Provisional 2</td>\n",
       "      <td>Not Towing</td>\n",
       "      <td>Straight Ahead</td>\n",
       "      <td>4.0</td>\n",
       "      <td>5114</td>\n",
       "      <td>NaN</td>\n",
       "      <td>NaN</td>\n",
       "    </tr>\n",
       "    <tr>\n",
       "      <th>4</th>\n",
       "      <td>2019-3-8/07/2020</td>\n",
       "      <td>1</td>\n",
       "      <td>0</td>\n",
       "      <td>UNKNOWN</td>\n",
       "      <td>Motor Vehicle - Type Unknown</td>\n",
       "      <td>XXXX</td>\n",
       "      <td>East</td>\n",
       "      <td>Unknown</td>\n",
       "      <td>XXX</td>\n",
       "      <td>UNKNOWN</td>\n",
       "      <td>XX</td>\n",
       "      <td>Unknown</td>\n",
       "      <td>Unknown</td>\n",
       "      <td>Straight Ahead</td>\n",
       "      <td>1.0</td>\n",
       "      <td>XXXX</td>\n",
       "      <td>NaN</td>\n",
       "      <td>NaN</td>\n",
       "    </tr>\n",
       "    <tr>\n",
       "      <th>6</th>\n",
       "      <td>2019-4-8/07/2020</td>\n",
       "      <td>1</td>\n",
       "      <td>1</td>\n",
       "      <td>SA</td>\n",
       "      <td>Motor Cycle</td>\n",
       "      <td>2015</td>\n",
       "      <td>North West</td>\n",
       "      <td>Male</td>\n",
       "      <td>021</td>\n",
       "      <td>SA</td>\n",
       "      <td>C RD</td>\n",
       "      <td>Learners</td>\n",
       "      <td>Not Towing</td>\n",
       "      <td>Straight Ahead</td>\n",
       "      <td>1.0</td>\n",
       "      <td>5108</td>\n",
       "      <td>NaN</td>\n",
       "      <td>NaN</td>\n",
       "    </tr>\n",
       "    <tr>\n",
       "      <th>8</th>\n",
       "      <td>2019-5-8/07/2020</td>\n",
       "      <td>1</td>\n",
       "      <td>0</td>\n",
       "      <td>SA</td>\n",
       "      <td>Motor Cars - Sedan</td>\n",
       "      <td>2017</td>\n",
       "      <td>West</td>\n",
       "      <td>Male</td>\n",
       "      <td>031</td>\n",
       "      <td>UNKNOWN</td>\n",
       "      <td>C</td>\n",
       "      <td>Full</td>\n",
       "      <td>Not Towing</td>\n",
       "      <td>Straight Ahead</td>\n",
       "      <td>1.0</td>\n",
       "      <td>XXXX</td>\n",
       "      <td>NaN</td>\n",
       "      <td>NaN</td>\n",
       "    </tr>\n",
       "    <tr>\n",
       "      <th>...</th>\n",
       "      <td>...</td>\n",
       "      <td>...</td>\n",
       "      <td>...</td>\n",
       "      <td>...</td>\n",
       "      <td>...</td>\n",
       "      <td>...</td>\n",
       "      <td>...</td>\n",
       "      <td>...</td>\n",
       "      <td>...</td>\n",
       "      <td>...</td>\n",
       "      <td>...</td>\n",
       "      <td>...</td>\n",
       "      <td>...</td>\n",
       "      <td>...</td>\n",
       "      <td>...</td>\n",
       "      <td>...</td>\n",
       "      <td>...</td>\n",
       "      <td>...</td>\n",
       "    </tr>\n",
       "    <tr>\n",
       "      <th>27704</th>\n",
       "      <td>2019-12960-8/07/2020</td>\n",
       "      <td>1</td>\n",
       "      <td>1</td>\n",
       "      <td>SA</td>\n",
       "      <td>Station Wagon</td>\n",
       "      <td>2016</td>\n",
       "      <td>North</td>\n",
       "      <td>Male</td>\n",
       "      <td>059</td>\n",
       "      <td>SA</td>\n",
       "      <td>C</td>\n",
       "      <td>Full</td>\n",
       "      <td>Not Towing</td>\n",
       "      <td>Stopped on Carriageway</td>\n",
       "      <td>1.0</td>\n",
       "      <td>5074</td>\n",
       "      <td>NaN</td>\n",
       "      <td>NaN</td>\n",
       "    </tr>\n",
       "    <tr>\n",
       "      <th>27706</th>\n",
       "      <td>2019-12961-8/07/2020</td>\n",
       "      <td>1</td>\n",
       "      <td>0</td>\n",
       "      <td>SA</td>\n",
       "      <td>Motor Cars - Sedan</td>\n",
       "      <td>2004</td>\n",
       "      <td>North East</td>\n",
       "      <td>Male</td>\n",
       "      <td>038</td>\n",
       "      <td>SA</td>\n",
       "      <td>C</td>\n",
       "      <td>Provisional 1</td>\n",
       "      <td>Not Towing</td>\n",
       "      <td>Straight Ahead</td>\n",
       "      <td>3.0</td>\n",
       "      <td>5012</td>\n",
       "      <td>NaN</td>\n",
       "      <td>NaN</td>\n",
       "    </tr>\n",
       "    <tr>\n",
       "      <th>27708</th>\n",
       "      <td>2019-12962-8/07/2020</td>\n",
       "      <td>1</td>\n",
       "      <td>1</td>\n",
       "      <td>NaN</td>\n",
       "      <td>Pedal Cycle</td>\n",
       "      <td>NaN</td>\n",
       "      <td>North East</td>\n",
       "      <td>Male</td>\n",
       "      <td>047</td>\n",
       "      <td>NaN</td>\n",
       "      <td>NaN</td>\n",
       "      <td>NaN</td>\n",
       "      <td>NaN</td>\n",
       "      <td>Straight Ahead</td>\n",
       "      <td>1.0</td>\n",
       "      <td>5290</td>\n",
       "      <td>NaN</td>\n",
       "      <td>NaN</td>\n",
       "    </tr>\n",
       "    <tr>\n",
       "      <th>27710</th>\n",
       "      <td>2019-12963-8/07/2020</td>\n",
       "      <td>1</td>\n",
       "      <td>0</td>\n",
       "      <td>SA</td>\n",
       "      <td>Motor Cycle</td>\n",
       "      <td>2007</td>\n",
       "      <td>North West</td>\n",
       "      <td>Male</td>\n",
       "      <td>058</td>\n",
       "      <td>SA</td>\n",
       "      <td>R</td>\n",
       "      <td>Full</td>\n",
       "      <td>Not Towing</td>\n",
       "      <td>Straight Ahead</td>\n",
       "      <td>1.0</td>\n",
       "      <td>5241</td>\n",
       "      <td>NaN</td>\n",
       "      <td>NaN</td>\n",
       "    </tr>\n",
       "    <tr>\n",
       "      <th>27712</th>\n",
       "      <td>2019-12964-8/07/2020</td>\n",
       "      <td>1</td>\n",
       "      <td>1</td>\n",
       "      <td>NaN</td>\n",
       "      <td>Pedal Cycle</td>\n",
       "      <td>NaN</td>\n",
       "      <td>North</td>\n",
       "      <td>Male</td>\n",
       "      <td>056</td>\n",
       "      <td>NaN</td>\n",
       "      <td>NaN</td>\n",
       "      <td>NaN</td>\n",
       "      <td>NaN</td>\n",
       "      <td>Straight Ahead</td>\n",
       "      <td>1.0</td>\n",
       "      <td>5166</td>\n",
       "      <td>Y</td>\n",
       "      <td>NaN</td>\n",
       "    </tr>\n",
       "  </tbody>\n",
       "</table>\n",
       "<p>12964 rows × 18 columns</p>\n",
       "</div>"
      ],
      "text/plain": [
       "                  REPORT_ID  Unit No  No Of Cas Veh Reg State  \\\n",
       "0          2019-1-8/07/2020        1          0            SA   \n",
       "2          2019-2-8/07/2020        1          0            SA   \n",
       "4          2019-3-8/07/2020        1          0       UNKNOWN   \n",
       "6          2019-4-8/07/2020        1          1            SA   \n",
       "8          2019-5-8/07/2020        1          0            SA   \n",
       "...                     ...      ...        ...           ...   \n",
       "27704  2019-12960-8/07/2020        1          1            SA   \n",
       "27706  2019-12961-8/07/2020        1          0            SA   \n",
       "27708  2019-12962-8/07/2020        1          1           NaN   \n",
       "27710  2019-12963-8/07/2020        1          0            SA   \n",
       "27712  2019-12964-8/07/2020        1          1           NaN   \n",
       "\n",
       "                          Unit Type Veh Year Direction Of Travel      Sex  \\\n",
       "0                     Station Wagon     1998               South   Female   \n",
       "2                Motor Cars - Sedan     2007          North East     Male   \n",
       "4      Motor Vehicle - Type Unknown     XXXX                East  Unknown   \n",
       "6                       Motor Cycle     2015          North West     Male   \n",
       "8                Motor Cars - Sedan     2017                West     Male   \n",
       "...                             ...      ...                 ...      ...   \n",
       "27704                 Station Wagon     2016               North     Male   \n",
       "27706            Motor Cars - Sedan     2004          North East     Male   \n",
       "27708                   Pedal Cycle      NaN          North East     Male   \n",
       "27710                   Motor Cycle     2007          North West     Male   \n",
       "27712                   Pedal Cycle      NaN               North     Male   \n",
       "\n",
       "       Age Lic State Licence Class    Licence Type      Towing  \\\n",
       "0      085        SA            C             Full  Not Towing   \n",
       "2      021        SA            C    Provisional 2  Not Towing   \n",
       "4      XXX   UNKNOWN            XX         Unknown     Unknown   \n",
       "6      021        SA          C RD        Learners  Not Towing   \n",
       "8      031   UNKNOWN            C             Full  Not Towing   \n",
       "...    ...       ...           ...             ...         ...   \n",
       "27704  059        SA            C             Full  Not Towing   \n",
       "27706  038        SA            C   Provisional 1   Not Towing   \n",
       "27708  047       NaN           NaN             NaN         NaN   \n",
       "27710  058        SA            R             Full  Not Towing   \n",
       "27712  056       NaN           NaN             NaN         NaN   \n",
       "\n",
       "                Unit Movement  Number Occupants Postcode Rollover Fire  \n",
       "0                  Right Turn               1.0     XXXX      NaN  NaN  \n",
       "2              Straight Ahead               4.0     5114      NaN  NaN  \n",
       "4              Straight Ahead               1.0     XXXX      NaN  NaN  \n",
       "6              Straight Ahead               1.0     5108      NaN  NaN  \n",
       "8              Straight Ahead               1.0     XXXX      NaN  NaN  \n",
       "...                       ...               ...      ...      ...  ...  \n",
       "27704  Stopped on Carriageway               1.0     5074      NaN  NaN  \n",
       "27706          Straight Ahead               3.0     5012      NaN  NaN  \n",
       "27708          Straight Ahead               1.0     5290      NaN  NaN  \n",
       "27710          Straight Ahead               1.0     5241      NaN  NaN  \n",
       "27712          Straight Ahead               1.0     5166        Y  NaN  \n",
       "\n",
       "[12964 rows x 18 columns]"
      ]
     },
     "execution_count": 11,
     "metadata": {},
     "output_type": "execute_result"
    }
   ],
   "source": [
    "unit1"
   ]
  },
  {
   "cell_type": "code",
   "execution_count": 12,
   "metadata": {},
   "outputs": [],
   "source": [
    "df = pd.merge(dfcrash, unit1, how='left', on='REPORT_ID')"
   ]
  },
  {
   "cell_type": "code",
   "execution_count": 9,
   "metadata": {
    "scrolled": true
   },
   "outputs": [
    {
     "data": {
      "text/html": [
       "<div>\n",
       "<style scoped>\n",
       "    .dataframe tbody tr th:only-of-type {\n",
       "        vertical-align: middle;\n",
       "    }\n",
       "\n",
       "    .dataframe tbody tr th {\n",
       "        vertical-align: top;\n",
       "    }\n",
       "\n",
       "    .dataframe thead th {\n",
       "        text-align: right;\n",
       "    }\n",
       "</style>\n",
       "<table border=\"1\" class=\"dataframe\">\n",
       "  <thead>\n",
       "    <tr style=\"text-align: right;\">\n",
       "      <th></th>\n",
       "      <th>REPORT_ID</th>\n",
       "      <th>Stats Area</th>\n",
       "      <th>Suburb</th>\n",
       "      <th>Postcode_x</th>\n",
       "      <th>LGA Name</th>\n",
       "      <th>Total Units</th>\n",
       "      <th>Total Cas</th>\n",
       "      <th>Total Fats</th>\n",
       "      <th>Total SI</th>\n",
       "      <th>Total MI</th>\n",
       "      <th>Year</th>\n",
       "      <th>Month</th>\n",
       "      <th>Day</th>\n",
       "      <th>Time</th>\n",
       "      <th>Area Speed</th>\n",
       "      <th>Position Type</th>\n",
       "      <th>Horizontal Align</th>\n",
       "      <th>Vertical Align</th>\n",
       "      <th>Other Feat</th>\n",
       "      <th>Road Surface</th>\n",
       "      <th>Moisture Cond</th>\n",
       "      <th>Weather Cond</th>\n",
       "      <th>DayNight</th>\n",
       "      <th>Crash Type</th>\n",
       "      <th>Unit Resp</th>\n",
       "      <th>Entity Code</th>\n",
       "      <th>CSEF Severity</th>\n",
       "      <th>Traffic Ctrls</th>\n",
       "      <th>DUI Involved</th>\n",
       "      <th>Drugs Involved</th>\n",
       "      <th>ACCLOC_X</th>\n",
       "      <th>ACCLOC_Y</th>\n",
       "      <th>UNIQUE_LOC</th>\n",
       "      <th>Unit No</th>\n",
       "      <th>No Of Cas</th>\n",
       "      <th>Veh Reg State</th>\n",
       "      <th>Unit Type</th>\n",
       "      <th>Veh Year</th>\n",
       "      <th>Direction Of Travel</th>\n",
       "      <th>Sex</th>\n",
       "      <th>Age</th>\n",
       "      <th>Lic State</th>\n",
       "      <th>Licence Class</th>\n",
       "      <th>Licence Type</th>\n",
       "      <th>Towing</th>\n",
       "      <th>Unit Movement</th>\n",
       "      <th>Number Occupants</th>\n",
       "      <th>Postcode_y</th>\n",
       "      <th>Rollover</th>\n",
       "      <th>Fire</th>\n",
       "    </tr>\n",
       "  </thead>\n",
       "  <tbody>\n",
       "    <tr>\n",
       "      <th>0</th>\n",
       "      <td>2019-1-8/07/2020</td>\n",
       "      <td>2 Metropolitan</td>\n",
       "      <td>HAMPSTEAD GARDENS</td>\n",
       "      <td>5086</td>\n",
       "      <td>CITY OF PORT ADELAIDE ENFIELD</td>\n",
       "      <td>2</td>\n",
       "      <td>0</td>\n",
       "      <td>0</td>\n",
       "      <td>0</td>\n",
       "      <td>0</td>\n",
       "      <td>2019</td>\n",
       "      <td>June</td>\n",
       "      <td>Wednesday</td>\n",
       "      <td>11:15 am</td>\n",
       "      <td>60</td>\n",
       "      <td>Cross Road</td>\n",
       "      <td>Straight road</td>\n",
       "      <td>Level</td>\n",
       "      <td>Not Applicable</td>\n",
       "      <td>Sealed</td>\n",
       "      <td>Dry</td>\n",
       "      <td>Not Raining</td>\n",
       "      <td>Daylight</td>\n",
       "      <td>Right Angle</td>\n",
       "      <td>1</td>\n",
       "      <td>Driver Rider</td>\n",
       "      <td>1: PDO</td>\n",
       "      <td>Give Way Sign</td>\n",
       "      <td>NaN</td>\n",
       "      <td>NaN</td>\n",
       "      <td>1331810.03</td>\n",
       "      <td>1676603.26</td>\n",
       "      <td>13318101676603</td>\n",
       "      <td>1</td>\n",
       "      <td>0</td>\n",
       "      <td>SA</td>\n",
       "      <td>Station Wagon</td>\n",
       "      <td>1998</td>\n",
       "      <td>South</td>\n",
       "      <td>Female</td>\n",
       "      <td>085</td>\n",
       "      <td>SA</td>\n",
       "      <td>C</td>\n",
       "      <td>Full</td>\n",
       "      <td>Not Towing</td>\n",
       "      <td>Right Turn</td>\n",
       "      <td>1.0</td>\n",
       "      <td>XXXX</td>\n",
       "      <td>NaN</td>\n",
       "      <td>NaN</td>\n",
       "    </tr>\n",
       "    <tr>\n",
       "      <th>1</th>\n",
       "      <td>2019-2-8/07/2020</td>\n",
       "      <td>2 Metropolitan</td>\n",
       "      <td>DRY CREEK</td>\n",
       "      <td>5094</td>\n",
       "      <td>CITY OF SALISBURY</td>\n",
       "      <td>2</td>\n",
       "      <td>0</td>\n",
       "      <td>0</td>\n",
       "      <td>0</td>\n",
       "      <td>0</td>\n",
       "      <td>2019</td>\n",
       "      <td>January</td>\n",
       "      <td>Tuesday</td>\n",
       "      <td>12:49 am</td>\n",
       "      <td>90</td>\n",
       "      <td>Divided Road</td>\n",
       "      <td>Straight road</td>\n",
       "      <td>Level</td>\n",
       "      <td>Not Applicable</td>\n",
       "      <td>Sealed</td>\n",
       "      <td>Dry</td>\n",
       "      <td>Not Raining</td>\n",
       "      <td>Night</td>\n",
       "      <td>Rear End</td>\n",
       "      <td>2</td>\n",
       "      <td>Driver Rider</td>\n",
       "      <td>1: PDO</td>\n",
       "      <td>No Control</td>\n",
       "      <td>NaN</td>\n",
       "      <td>NaN</td>\n",
       "      <td>1328376.20</td>\n",
       "      <td>1682942.63</td>\n",
       "      <td>13283761682943</td>\n",
       "      <td>1</td>\n",
       "      <td>0</td>\n",
       "      <td>SA</td>\n",
       "      <td>Motor Cars - Sedan</td>\n",
       "      <td>2007</td>\n",
       "      <td>North East</td>\n",
       "      <td>Male</td>\n",
       "      <td>021</td>\n",
       "      <td>SA</td>\n",
       "      <td>C</td>\n",
       "      <td>Provisional 2</td>\n",
       "      <td>Not Towing</td>\n",
       "      <td>Straight Ahead</td>\n",
       "      <td>4.0</td>\n",
       "      <td>5114</td>\n",
       "      <td>NaN</td>\n",
       "      <td>NaN</td>\n",
       "    </tr>\n",
       "    <tr>\n",
       "      <th>2</th>\n",
       "      <td>2019-3-8/07/2020</td>\n",
       "      <td>2 Metropolitan</td>\n",
       "      <td>MILE END</td>\n",
       "      <td>5031</td>\n",
       "      <td>CITY OF WEST TORRENS</td>\n",
       "      <td>2</td>\n",
       "      <td>1</td>\n",
       "      <td>0</td>\n",
       "      <td>0</td>\n",
       "      <td>1</td>\n",
       "      <td>2019</td>\n",
       "      <td>January</td>\n",
       "      <td>Tuesday</td>\n",
       "      <td>12:00 am</td>\n",
       "      <td>60</td>\n",
       "      <td>Divided Road</td>\n",
       "      <td>Straight road</td>\n",
       "      <td>Level</td>\n",
       "      <td>Not Applicable</td>\n",
       "      <td>Sealed</td>\n",
       "      <td>Dry</td>\n",
       "      <td>Not Raining</td>\n",
       "      <td>Night</td>\n",
       "      <td>Hit Pedestrian</td>\n",
       "      <td>1</td>\n",
       "      <td>Driver Rider</td>\n",
       "      <td>2: MI</td>\n",
       "      <td>No Control</td>\n",
       "      <td>NaN</td>\n",
       "      <td>NaN</td>\n",
       "      <td>1325819.68</td>\n",
       "      <td>1670994.26</td>\n",
       "      <td>13258201670994</td>\n",
       "      <td>1</td>\n",
       "      <td>0</td>\n",
       "      <td>UNKNOWN</td>\n",
       "      <td>Motor Vehicle - Type Unknown</td>\n",
       "      <td>XXXX</td>\n",
       "      <td>East</td>\n",
       "      <td>Unknown</td>\n",
       "      <td>XXX</td>\n",
       "      <td>UNKNOWN</td>\n",
       "      <td>XX</td>\n",
       "      <td>Unknown</td>\n",
       "      <td>Unknown</td>\n",
       "      <td>Straight Ahead</td>\n",
       "      <td>1.0</td>\n",
       "      <td>XXXX</td>\n",
       "      <td>NaN</td>\n",
       "      <td>NaN</td>\n",
       "    </tr>\n",
       "    <tr>\n",
       "      <th>3</th>\n",
       "      <td>2019-4-8/07/2020</td>\n",
       "      <td>2 Metropolitan</td>\n",
       "      <td>PARALOWIE</td>\n",
       "      <td>5108</td>\n",
       "      <td>CITY OF SALISBURY</td>\n",
       "      <td>2</td>\n",
       "      <td>1</td>\n",
       "      <td>0</td>\n",
       "      <td>1</td>\n",
       "      <td>0</td>\n",
       "      <td>2019</td>\n",
       "      <td>January</td>\n",
       "      <td>Tuesday</td>\n",
       "      <td>12:05 am</td>\n",
       "      <td>50</td>\n",
       "      <td>Not Divided</td>\n",
       "      <td>CURVED, VIEW OPEN</td>\n",
       "      <td>Level</td>\n",
       "      <td>Not Applicable</td>\n",
       "      <td>Sealed</td>\n",
       "      <td>Dry</td>\n",
       "      <td>Not Raining</td>\n",
       "      <td>Night</td>\n",
       "      <td>Hit Fixed Object</td>\n",
       "      <td>1</td>\n",
       "      <td>Driver Rider</td>\n",
       "      <td>3: SI</td>\n",
       "      <td>No Control</td>\n",
       "      <td>NaN</td>\n",
       "      <td>NaN</td>\n",
       "      <td>1328320.60</td>\n",
       "      <td>1690237.08</td>\n",
       "      <td>13283211690237</td>\n",
       "      <td>1</td>\n",
       "      <td>1</td>\n",
       "      <td>SA</td>\n",
       "      <td>Motor Cycle</td>\n",
       "      <td>2015</td>\n",
       "      <td>North West</td>\n",
       "      <td>Male</td>\n",
       "      <td>021</td>\n",
       "      <td>SA</td>\n",
       "      <td>C RD</td>\n",
       "      <td>Learners</td>\n",
       "      <td>Not Towing</td>\n",
       "      <td>Straight Ahead</td>\n",
       "      <td>1.0</td>\n",
       "      <td>5108</td>\n",
       "      <td>NaN</td>\n",
       "      <td>NaN</td>\n",
       "    </tr>\n",
       "    <tr>\n",
       "      <th>4</th>\n",
       "      <td>2019-5-8/07/2020</td>\n",
       "      <td>2 Metropolitan</td>\n",
       "      <td>MOUNT BARKER</td>\n",
       "      <td>5251</td>\n",
       "      <td>DC MT.BARKER.</td>\n",
       "      <td>2</td>\n",
       "      <td>0</td>\n",
       "      <td>0</td>\n",
       "      <td>0</td>\n",
       "      <td>0</td>\n",
       "      <td>2019</td>\n",
       "      <td>January</td>\n",
       "      <td>Tuesday</td>\n",
       "      <td>05:15 am</td>\n",
       "      <td>110</td>\n",
       "      <td>Divided Road</td>\n",
       "      <td>Straight road</td>\n",
       "      <td>Slope</td>\n",
       "      <td>Not Applicable</td>\n",
       "      <td>Sealed</td>\n",
       "      <td>Dry</td>\n",
       "      <td>Not Raining</td>\n",
       "      <td>Night</td>\n",
       "      <td>Hit Animal</td>\n",
       "      <td>2</td>\n",
       "      <td>Animal</td>\n",
       "      <td>1: PDO</td>\n",
       "      <td>No Control</td>\n",
       "      <td>NaN</td>\n",
       "      <td>NaN</td>\n",
       "      <td>1353279.99</td>\n",
       "      <td>1655645.15</td>\n",
       "      <td>13532801655645</td>\n",
       "      <td>1</td>\n",
       "      <td>0</td>\n",
       "      <td>SA</td>\n",
       "      <td>Motor Cars - Sedan</td>\n",
       "      <td>2017</td>\n",
       "      <td>West</td>\n",
       "      <td>Male</td>\n",
       "      <td>031</td>\n",
       "      <td>UNKNOWN</td>\n",
       "      <td>C</td>\n",
       "      <td>Full</td>\n",
       "      <td>Not Towing</td>\n",
       "      <td>Straight Ahead</td>\n",
       "      <td>1.0</td>\n",
       "      <td>XXXX</td>\n",
       "      <td>NaN</td>\n",
       "      <td>NaN</td>\n",
       "    </tr>\n",
       "  </tbody>\n",
       "</table>\n",
       "</div>"
      ],
      "text/plain": [
       "          REPORT_ID      Stats Area             Suburb  Postcode_x  \\\n",
       "0  2019-1-8/07/2020  2 Metropolitan  HAMPSTEAD GARDENS        5086   \n",
       "1  2019-2-8/07/2020  2 Metropolitan          DRY CREEK        5094   \n",
       "2  2019-3-8/07/2020  2 Metropolitan           MILE END        5031   \n",
       "3  2019-4-8/07/2020  2 Metropolitan          PARALOWIE        5108   \n",
       "4  2019-5-8/07/2020  2 Metropolitan       MOUNT BARKER        5251   \n",
       "\n",
       "                         LGA Name  Total Units  Total Cas  Total Fats  \\\n",
       "0   CITY OF PORT ADELAIDE ENFIELD            2          0           0   \n",
       "1               CITY OF SALISBURY            2          0           0   \n",
       "2            CITY OF WEST TORRENS            2          1           0   \n",
       "3               CITY OF SALISBURY            2          1           0   \n",
       "4  DC MT.BARKER.                             2          0           0   \n",
       "\n",
       "   Total SI  Total MI  Year    Month        Day      Time  Area Speed  \\\n",
       "0         0         0  2019     June  Wednesday  11:15 am          60   \n",
       "1         0         0  2019  January    Tuesday  12:49 am          90   \n",
       "2         0         1  2019  January    Tuesday  12:00 am          60   \n",
       "3         1         0  2019  January    Tuesday  12:05 am          50   \n",
       "4         0         0  2019  January    Tuesday  05:15 am         110   \n",
       "\n",
       "  Position Type   Horizontal Align Vertical Align      Other Feat  \\\n",
       "0    Cross Road      Straight road          Level  Not Applicable   \n",
       "1  Divided Road      Straight road          Level  Not Applicable   \n",
       "2  Divided Road      Straight road          Level  Not Applicable   \n",
       "3   Not Divided  CURVED, VIEW OPEN          Level  Not Applicable   \n",
       "4  Divided Road      Straight road          Slope  Not Applicable   \n",
       "\n",
       "  Road Surface Moisture Cond Weather Cond  DayNight        Crash Type  \\\n",
       "0       Sealed           Dry  Not Raining  Daylight       Right Angle   \n",
       "1       Sealed           Dry  Not Raining     Night          Rear End   \n",
       "2       Sealed           Dry  Not Raining     Night    Hit Pedestrian   \n",
       "3       Sealed           Dry  Not Raining     Night  Hit Fixed Object   \n",
       "4       Sealed           Dry  Not Raining     Night        Hit Animal   \n",
       "\n",
       "   Unit Resp   Entity Code CSEF Severity  Traffic Ctrls DUI Involved  \\\n",
       "0          1  Driver Rider        1: PDO  Give Way Sign          NaN   \n",
       "1          2  Driver Rider        1: PDO     No Control          NaN   \n",
       "2          1  Driver Rider         2: MI     No Control          NaN   \n",
       "3          1  Driver Rider         3: SI     No Control          NaN   \n",
       "4          2        Animal        1: PDO     No Control          NaN   \n",
       "\n",
       "  Drugs Involved    ACCLOC_X    ACCLOC_Y      UNIQUE_LOC  Unit No  No Of Cas  \\\n",
       "0            NaN  1331810.03  1676603.26  13318101676603        1          0   \n",
       "1            NaN  1328376.20  1682942.63  13283761682943        1          0   \n",
       "2            NaN  1325819.68  1670994.26  13258201670994        1          0   \n",
       "3            NaN  1328320.60  1690237.08  13283211690237        1          1   \n",
       "4            NaN  1353279.99  1655645.15  13532801655645        1          0   \n",
       "\n",
       "  Veh Reg State                     Unit Type Veh Year Direction Of Travel  \\\n",
       "0            SA                 Station Wagon     1998               South   \n",
       "1            SA            Motor Cars - Sedan     2007          North East   \n",
       "2       UNKNOWN  Motor Vehicle - Type Unknown     XXXX                East   \n",
       "3            SA                   Motor Cycle     2015          North West   \n",
       "4            SA            Motor Cars - Sedan     2017                West   \n",
       "\n",
       "       Sex  Age Lic State Licence Class   Licence Type      Towing  \\\n",
       "0   Female  085        SA            C            Full  Not Towing   \n",
       "1     Male  021        SA            C   Provisional 2  Not Towing   \n",
       "2  Unknown  XXX   UNKNOWN            XX        Unknown     Unknown   \n",
       "3     Male  021        SA          C RD       Learners  Not Towing   \n",
       "4     Male  031   UNKNOWN            C            Full  Not Towing   \n",
       "\n",
       "    Unit Movement  Number Occupants Postcode_y Rollover Fire  \n",
       "0      Right Turn               1.0       XXXX      NaN  NaN  \n",
       "1  Straight Ahead               4.0       5114      NaN  NaN  \n",
       "2  Straight Ahead               1.0       XXXX      NaN  NaN  \n",
       "3  Straight Ahead               1.0       5108      NaN  NaN  \n",
       "4  Straight Ahead               1.0       XXXX      NaN  NaN  "
      ]
     },
     "execution_count": 9,
     "metadata": {},
     "output_type": "execute_result"
    }
   ],
   "source": [
    "df.head()"
   ]
  },
  {
   "cell_type": "code",
   "execution_count": 10,
   "metadata": {},
   "outputs": [
    {
     "name": "stdout",
     "output_type": "stream",
     "text": [
      "<class 'pandas.core.frame.DataFrame'>\n",
      "Int64Index: 12964 entries, 0 to 12963\n",
      "Data columns (total 50 columns):\n",
      " #   Column               Non-Null Count  Dtype  \n",
      "---  ------               --------------  -----  \n",
      " 0   REPORT_ID            12964 non-null  object \n",
      " 1   Stats Area           12964 non-null  object \n",
      " 2   Suburb               12964 non-null  object \n",
      " 3   Postcode_x           12964 non-null  int64  \n",
      " 4   LGA Name             12857 non-null  object \n",
      " 5   Total Units          12964 non-null  int64  \n",
      " 6   Total Cas            12964 non-null  int64  \n",
      " 7   Total Fats           12964 non-null  int64  \n",
      " 8   Total SI             12964 non-null  int64  \n",
      " 9   Total MI             12964 non-null  int64  \n",
      " 10  Year                 12964 non-null  int64  \n",
      " 11  Month                12964 non-null  object \n",
      " 12  Day                  12964 non-null  object \n",
      " 13  Time                 12964 non-null  object \n",
      " 14  Area Speed           12964 non-null  int64  \n",
      " 15  Position Type        12964 non-null  object \n",
      " 16  Horizontal Align     12964 non-null  object \n",
      " 17  Vertical Align       12964 non-null  object \n",
      " 18  Other Feat           12964 non-null  object \n",
      " 19  Road Surface         12964 non-null  object \n",
      " 20  Moisture Cond        12964 non-null  object \n",
      " 21  Weather Cond         12964 non-null  object \n",
      " 22  DayNight             12964 non-null  object \n",
      " 23  Crash Type           12964 non-null  object \n",
      " 24  Unit Resp            12964 non-null  int64  \n",
      " 25  Entity Code          12964 non-null  object \n",
      " 26  CSEF Severity        12964 non-null  object \n",
      " 27  Traffic Ctrls        12964 non-null  object \n",
      " 28  DUI Involved         349 non-null    object \n",
      " 29  Drugs Involved       314 non-null    object \n",
      " 30  ACCLOC_X             12964 non-null  float64\n",
      " 31  ACCLOC_Y             12964 non-null  float64\n",
      " 32  UNIQUE_LOC           12964 non-null  int64  \n",
      " 33  Unit No              12964 non-null  int64  \n",
      " 34  No Of Cas            12964 non-null  int64  \n",
      " 35  Veh Reg State        12558 non-null  object \n",
      " 36  Unit Type            12960 non-null  object \n",
      " 37  Veh Year             12558 non-null  object \n",
      " 38  Direction Of Travel  12963 non-null  object \n",
      " 39  Sex                  12621 non-null  object \n",
      " 40  Age                  12621 non-null  object \n",
      " 41  Lic State            12195 non-null  object \n",
      " 42  Licence Class        12217 non-null  object \n",
      " 43  Licence Type         12216 non-null  object \n",
      " 44  Towing               12481 non-null  object \n",
      " 45  Unit Movement        12963 non-null  object \n",
      " 46  Number Occupants     12870 non-null  float64\n",
      " 47  Postcode_y           12621 non-null  object \n",
      " 48  Rollover             695 non-null    object \n",
      " 49  Fire                 20 non-null     object \n",
      "dtypes: float64(3), int64(12), object(35)\n",
      "memory usage: 5.0+ MB\n"
     ]
    }
   ],
   "source": [
    "df.info()"
   ]
  },
  {
   "cell_type": "code",
   "execution_count": 11,
   "metadata": {
    "scrolled": true
   },
   "outputs": [
    {
     "data": {
      "text/plain": [
       "REPORT_ID                  0\n",
       "Stats Area                 0\n",
       "Suburb                     0\n",
       "Postcode_x                 0\n",
       "LGA Name                 107\n",
       "Total Units                0\n",
       "Total Cas                  0\n",
       "Total Fats                 0\n",
       "Total SI                   0\n",
       "Total MI                   0\n",
       "Year                       0\n",
       "Month                      0\n",
       "Day                        0\n",
       "Time                       0\n",
       "Area Speed                 0\n",
       "Position Type              0\n",
       "Horizontal Align           0\n",
       "Vertical Align             0\n",
       "Other Feat                 0\n",
       "Road Surface               0\n",
       "Moisture Cond              0\n",
       "Weather Cond               0\n",
       "DayNight                   0\n",
       "Crash Type                 0\n",
       "Unit Resp                  0\n",
       "Entity Code                0\n",
       "CSEF Severity              0\n",
       "Traffic Ctrls              0\n",
       "DUI Involved           12615\n",
       "Drugs Involved         12650\n",
       "ACCLOC_X                   0\n",
       "ACCLOC_Y                   0\n",
       "UNIQUE_LOC                 0\n",
       "Unit No                    0\n",
       "No Of Cas                  0\n",
       "Veh Reg State            406\n",
       "Unit Type                  4\n",
       "Veh Year                 406\n",
       "Direction Of Travel        1\n",
       "Sex                      343\n",
       "Age                      343\n",
       "Lic State                769\n",
       "Licence Class            747\n",
       "Licence Type             748\n",
       "Towing                   483\n",
       "Unit Movement              1\n",
       "Number Occupants          94\n",
       "Postcode_y               343\n",
       "Rollover               12269\n",
       "Fire                   12944\n",
       "dtype: int64"
      ]
     },
     "execution_count": 11,
     "metadata": {},
     "output_type": "execute_result"
    }
   ],
   "source": [
    "df.isnull().sum()"
   ]
  },
  {
   "cell_type": "markdown",
   "metadata": {},
   "source": [
    "## Data Cleaning"
   ]
  },
  {
   "cell_type": "markdown",
   "metadata": {},
   "source": [
    "Which columns are easily identifiable to drop from the dataframe?"
   ]
  },
  {
   "cell_type": "code",
   "execution_count": 12,
   "metadata": {},
   "outputs": [],
   "source": [
    "dropcols = ['Postcode_x', 'Postcode_y', 'Suburb', 'LGA Name', 'ACCLOC_X', 'ACCLOC_Y', 'UNIQUE_LOC']\n",
    "#These will have no bearing on the modelling process"
   ]
  },
  {
   "cell_type": "code",
   "execution_count": 13,
   "metadata": {},
   "outputs": [],
   "source": [
    "df = df.drop(dropcols, axis=1)"
   ]
  },
  {
   "cell_type": "code",
   "execution_count": 14,
   "metadata": {},
   "outputs": [
    {
     "data": {
      "text/plain": [
       "Index(['REPORT_ID', 'Stats Area', 'Total Units', 'Total Cas', 'Total Fats',\n",
       "       'Total SI', 'Total MI', 'Year', 'Month', 'Day', 'Time', 'Area Speed',\n",
       "       'Position Type', 'Horizontal Align', 'Vertical Align', 'Other Feat',\n",
       "       'Road Surface', 'Moisture Cond', 'Weather Cond', 'DayNight',\n",
       "       'Crash Type', 'Unit Resp', 'Entity Code', 'CSEF Severity',\n",
       "       'Traffic Ctrls', 'DUI Involved', 'Drugs Involved', 'Unit No',\n",
       "       'No Of Cas', 'Veh Reg State', 'Unit Type', 'Veh Year',\n",
       "       'Direction Of Travel', 'Sex', 'Age', 'Lic State', 'Licence Class',\n",
       "       'Licence Type', 'Towing', 'Unit Movement', 'Number Occupants',\n",
       "       'Rollover', 'Fire'],\n",
       "      dtype='object')"
      ]
     },
     "execution_count": 14,
     "metadata": {},
     "output_type": "execute_result"
    }
   ],
   "source": [
    "df.columns"
   ]
  },
  {
   "cell_type": "code",
   "execution_count": 15,
   "metadata": {},
   "outputs": [
    {
     "data": {
      "text/plain": [
       "(12964, 43)"
      ]
     },
     "execution_count": 15,
     "metadata": {},
     "output_type": "execute_result"
    }
   ],
   "source": [
    "df.shape"
   ]
  },
  {
   "cell_type": "markdown",
   "metadata": {},
   "source": [
    "The documentation shows that while rare, the fire, rollover, DUI and drugs involved values are confirmed - I will assume that the NaN values are the crashes where it didn't occur. I will replace Nan with confirmed values of no involvement of those factors. Confirmed incidents where those occurred will be encoded with 1."
   ]
  },
  {
   "cell_type": "code",
   "execution_count": 16,
   "metadata": {
    "scrolled": true
   },
   "outputs": [
    {
     "data": {
      "text/plain": [
       "Fire               20\n",
       "Rollover          695\n",
       "DUI Involved      349\n",
       "Drugs Involved    314\n",
       "dtype: int64"
      ]
     },
     "execution_count": 16,
     "metadata": {},
     "output_type": "execute_result"
    }
   ],
   "source": [
    "df[['Fire', 'Rollover', 'DUI Involved', 'Drugs Involved']].notnull().sum()"
   ]
  },
  {
   "cell_type": "code",
   "execution_count": 17,
   "metadata": {
    "scrolled": true
   },
   "outputs": [
    {
     "data": {
      "text/plain": [
       "Y    20\n",
       "Name: Fire, dtype: int64"
      ]
     },
     "execution_count": 17,
     "metadata": {},
     "output_type": "execute_result"
    }
   ],
   "source": [
    "df['Fire'].value_counts()"
   ]
  },
  {
   "cell_type": "code",
   "execution_count": 18,
   "metadata": {},
   "outputs": [
    {
     "data": {
      "text/plain": [
       "Y    695\n",
       "Name: Rollover, dtype: int64"
      ]
     },
     "execution_count": 18,
     "metadata": {},
     "output_type": "execute_result"
    }
   ],
   "source": [
    "df['Rollover'].value_counts()"
   ]
  },
  {
   "cell_type": "code",
   "execution_count": 19,
   "metadata": {},
   "outputs": [
    {
     "data": {
      "text/plain": [
       "Y    349\n",
       "Name: DUI Involved, dtype: int64"
      ]
     },
     "execution_count": 19,
     "metadata": {},
     "output_type": "execute_result"
    }
   ],
   "source": [
    "df['DUI Involved'].value_counts()"
   ]
  },
  {
   "cell_type": "code",
   "execution_count": 20,
   "metadata": {},
   "outputs": [
    {
     "data": {
      "text/plain": [
       "Y    314\n",
       "Name: Drugs Involved, dtype: int64"
      ]
     },
     "execution_count": 20,
     "metadata": {},
     "output_type": "execute_result"
    }
   ],
   "source": [
    "df['Drugs Involved'].value_counts()"
   ]
  },
  {
   "cell_type": "code",
   "execution_count": 21,
   "metadata": {
    "scrolled": true
   },
   "outputs": [],
   "source": [
    "df['Fire'].replace('Y', 1, inplace=True)\n",
    "df['Rollover'].replace('Y', 1, inplace=True)\n",
    "df['DUI Involved'].replace('Y', 1, inplace=True)\n",
    "df['Drugs Involved'].replace('Y', 1, inplace=True)"
   ]
  },
  {
   "cell_type": "code",
   "execution_count": 22,
   "metadata": {
    "scrolled": true
   },
   "outputs": [
    {
     "data": {
      "text/plain": [
       "1.0    20\n",
       "Name: Fire, dtype: int64"
      ]
     },
     "execution_count": 22,
     "metadata": {},
     "output_type": "execute_result"
    }
   ],
   "source": [
    "df['Fire'].value_counts()"
   ]
  },
  {
   "cell_type": "code",
   "execution_count": 23,
   "metadata": {},
   "outputs": [
    {
     "data": {
      "text/plain": [
       "1.0    695\n",
       "Name: Rollover, dtype: int64"
      ]
     },
     "execution_count": 23,
     "metadata": {},
     "output_type": "execute_result"
    }
   ],
   "source": [
    "df['Rollover'].value_counts()"
   ]
  },
  {
   "cell_type": "code",
   "execution_count": 24,
   "metadata": {},
   "outputs": [
    {
     "data": {
      "text/plain": [
       "1.0    349\n",
       "Name: DUI Involved, dtype: int64"
      ]
     },
     "execution_count": 24,
     "metadata": {},
     "output_type": "execute_result"
    }
   ],
   "source": [
    "df['DUI Involved'].value_counts()"
   ]
  },
  {
   "cell_type": "code",
   "execution_count": 25,
   "metadata": {},
   "outputs": [
    {
     "data": {
      "text/plain": [
       "1.0    314\n",
       "Name: Drugs Involved, dtype: int64"
      ]
     },
     "execution_count": 25,
     "metadata": {},
     "output_type": "execute_result"
    }
   ],
   "source": [
    "df['Drugs Involved'].value_counts()"
   ]
  },
  {
   "cell_type": "code",
   "execution_count": 26,
   "metadata": {},
   "outputs": [
    {
     "data": {
      "text/plain": [
       "Fire              12944\n",
       "Rollover          12269\n",
       "DUI Involved      12615\n",
       "Drugs Involved    12650\n",
       "dtype: int64"
      ]
     },
     "execution_count": 26,
     "metadata": {},
     "output_type": "execute_result"
    }
   ],
   "source": [
    "df[['Fire', 'Rollover', 'DUI Involved', 'Drugs Involved']].isna().sum()"
   ]
  },
  {
   "cell_type": "code",
   "execution_count": 27,
   "metadata": {},
   "outputs": [],
   "source": [
    "df['Fire'].fillna(0, inplace=True)"
   ]
  },
  {
   "cell_type": "code",
   "execution_count": 28,
   "metadata": {},
   "outputs": [
    {
     "data": {
      "text/plain": [
       "Fire                  0\n",
       "Rollover          12269\n",
       "DUI Involved      12615\n",
       "Drugs Involved    12650\n",
       "dtype: int64"
      ]
     },
     "execution_count": 28,
     "metadata": {},
     "output_type": "execute_result"
    }
   ],
   "source": [
    "df[['Fire', 'Rollover', 'DUI Involved', 'Drugs Involved']].isna().sum()"
   ]
  },
  {
   "cell_type": "code",
   "execution_count": 29,
   "metadata": {
    "scrolled": false
   },
   "outputs": [
    {
     "data": {
      "text/plain": [
       "Fire                  0\n",
       "Rollover          12269\n",
       "DUI Involved      12615\n",
       "Drugs Involved    12650\n",
       "dtype: int64"
      ]
     },
     "execution_count": 29,
     "metadata": {},
     "output_type": "execute_result"
    }
   ],
   "source": [
    "fillcols = ['Fire', 'Rollover', 'DUI Involved', 'Drugs Involved']\n",
    "df[fillcols].isna().sum()"
   ]
  },
  {
   "cell_type": "code",
   "execution_count": 30,
   "metadata": {},
   "outputs": [],
   "source": [
    "df['Rollover'].fillna(0, inplace=True)\n",
    "df['DUI Involved'].fillna(0, inplace=True)\n",
    "df['Drugs Involved'].fillna(0, inplace=True)"
   ]
  },
  {
   "cell_type": "code",
   "execution_count": 31,
   "metadata": {
    "scrolled": true
   },
   "outputs": [
    {
     "data": {
      "text/plain": [
       "Fire              0\n",
       "Rollover          0\n",
       "DUI Involved      0\n",
       "Drugs Involved    0\n",
       "dtype: int64"
      ]
     },
     "execution_count": 31,
     "metadata": {},
     "output_type": "execute_result"
    }
   ],
   "source": [
    "df[fillcols].isna().sum()"
   ]
  },
  {
   "cell_type": "code",
   "execution_count": 32,
   "metadata": {
    "scrolled": true
   },
   "outputs": [
    {
     "name": "stdout",
     "output_type": "stream",
     "text": [
      "0.0    12944\n",
      "1.0       20\n",
      "Name: Fire, dtype: int64\n",
      "0.0    12269\n",
      "1.0      695\n",
      "Name: Rollover, dtype: int64\n",
      "0.0    12615\n",
      "1.0      349\n",
      "Name: DUI Involved, dtype: int64\n",
      "0.0    12650\n",
      "1.0      314\n",
      "Name: Drugs Involved, dtype: int64\n"
     ]
    }
   ],
   "source": [
    "print(df['Fire'].value_counts())\n",
    "print(df['Rollover'].value_counts())\n",
    "print(df['DUI Involved'].value_counts())\n",
    "print(df['Drugs Involved'].value_counts())"
   ]
  },
  {
   "cell_type": "code",
   "execution_count": 33,
   "metadata": {},
   "outputs": [
    {
     "data": {
      "text/plain": [
       "REPORT_ID                0\n",
       "Stats Area               0\n",
       "Total Units              0\n",
       "Total Cas                0\n",
       "Total Fats               0\n",
       "Total SI                 0\n",
       "Total MI                 0\n",
       "Year                     0\n",
       "Month                    0\n",
       "Day                      0\n",
       "Time                     0\n",
       "Area Speed               0\n",
       "Position Type            0\n",
       "Horizontal Align         0\n",
       "Vertical Align           0\n",
       "Other Feat               0\n",
       "Road Surface             0\n",
       "Moisture Cond            0\n",
       "Weather Cond             0\n",
       "DayNight                 0\n",
       "Crash Type               0\n",
       "Unit Resp                0\n",
       "Entity Code              0\n",
       "CSEF Severity            0\n",
       "Traffic Ctrls            0\n",
       "DUI Involved             0\n",
       "Drugs Involved           0\n",
       "Unit No                  0\n",
       "No Of Cas                0\n",
       "Veh Reg State          406\n",
       "Unit Type                4\n",
       "Veh Year               406\n",
       "Direction Of Travel      1\n",
       "Sex                    343\n",
       "Age                    343\n",
       "Lic State              769\n",
       "Licence Class          747\n",
       "Licence Type           748\n",
       "Towing                 483\n",
       "Unit Movement            1\n",
       "Number Occupants        94\n",
       "Rollover                 0\n",
       "Fire                     0\n",
       "dtype: int64"
      ]
     },
     "execution_count": 33,
     "metadata": {},
     "output_type": "execute_result"
    }
   ],
   "source": [
    "#Checking next column to clean null values\n",
    "df.isnull().sum()"
   ]
  },
  {
   "cell_type": "code",
   "execution_count": 34,
   "metadata": {},
   "outputs": [
    {
     "data": {
      "text/plain": [
       "SA         12121\n",
       "VIC          202\n",
       "NSW           61\n",
       "QLD           51\n",
       "UNKNOWN       48\n",
       "WA            42\n",
       "NT            17\n",
       "FEDERAL        9\n",
       "TAS            5\n",
       "ACT            2\n",
       "Name: Veh Reg State, dtype: int64"
      ]
     },
     "execution_count": 34,
     "metadata": {},
     "output_type": "execute_result"
    }
   ],
   "source": [
    "df['Veh Reg State'].value_counts()"
   ]
  },
  {
   "cell_type": "code",
   "execution_count": 35,
   "metadata": {},
   "outputs": [
    {
     "data": {
      "text/plain": [
       "406"
      ]
     },
     "execution_count": 35,
     "metadata": {},
     "output_type": "execute_result"
    }
   ],
   "source": [
    "df['Veh Reg State'].isnull().sum()"
   ]
  },
  {
   "cell_type": "markdown",
   "metadata": {},
   "source": [
    "I will make the assumption that the unknown vehicles are registered to SA."
   ]
  },
  {
   "cell_type": "code",
   "execution_count": 36,
   "metadata": {},
   "outputs": [],
   "source": [
    "df['Veh Reg State'].fillna('SA', inplace=True)"
   ]
  },
  {
   "cell_type": "code",
   "execution_count": 37,
   "metadata": {},
   "outputs": [
    {
     "data": {
      "text/plain": [
       "0"
      ]
     },
     "execution_count": 37,
     "metadata": {},
     "output_type": "execute_result"
    }
   ],
   "source": [
    "df['Veh Reg State'].isnull().sum()"
   ]
  },
  {
   "cell_type": "code",
   "execution_count": 38,
   "metadata": {},
   "outputs": [],
   "source": [
    "df['Veh Reg State'].replace('UNKNOWN', 'SA', inplace=True)"
   ]
  },
  {
   "cell_type": "code",
   "execution_count": 39,
   "metadata": {},
   "outputs": [
    {
     "data": {
      "text/plain": [
       "SA         12575\n",
       "VIC          202\n",
       "NSW           61\n",
       "QLD           51\n",
       "WA            42\n",
       "NT            17\n",
       "FEDERAL        9\n",
       "TAS            5\n",
       "ACT            2\n",
       "Name: Veh Reg State, dtype: int64"
      ]
     },
     "execution_count": 39,
     "metadata": {},
     "output_type": "execute_result"
    }
   ],
   "source": [
    "df['Veh Reg State'].value_counts()"
   ]
  },
  {
   "cell_type": "markdown",
   "metadata": {},
   "source": [
    "Encoding the vehicle types into groups. Unknown vehicles will be defined as motor-cars sedan. "
   ]
  },
  {
   "cell_type": "code",
   "execution_count": 40,
   "metadata": {},
   "outputs": [
    {
     "data": {
      "text/plain": [
       "Motor Cars - Sedan                6743\n",
       "Station Wagon                     2692\n",
       "Utility                           1177\n",
       "Motor Cycle                        520\n",
       "RIGID TRUCK LGE GE 4.5T            414\n",
       "Pedal Cycle                        299\n",
       "Panel Van                          225\n",
       "OMNIBUS                            200\n",
       "SEMI TRAILER                       168\n",
       "Other Defined Special Vehicle       91\n",
       "Pedestrian on Road                  76\n",
       "Taxi Cab                            73\n",
       "BDOUBLE - ROAD TRAIN                66\n",
       "Motor Vehicle - Type Unknown        60\n",
       "Light Truck LT 4.5T                 45\n",
       "Scooter                             42\n",
       "Motor Cars - Tourer                 25\n",
       "Forward Control Passenger Van       17\n",
       "Pedestrian on Footpath/Carpark      14\n",
       "Power Asst. Bicycle                  7\n",
       "Small Wheel Vehicle User             2\n",
       "Animal - Wild                        1\n",
       "Tram                                 1\n",
       "Animal Drawn Vehicle                 1\n",
       "Motorised Wheelchair/Gopher          1\n",
       "Name: Unit Type, dtype: int64"
      ]
     },
     "execution_count": 40,
     "metadata": {},
     "output_type": "execute_result"
    }
   ],
   "source": [
    "df['Unit Type'].value_counts(normalize=False)"
   ]
  },
  {
   "cell_type": "code",
   "execution_count": 41,
   "metadata": {},
   "outputs": [],
   "source": [
    "df['Unit Type'].replace('Motor Vehicle - Type Unknown', 'Motor Cars - Sedan', inplace=True)"
   ]
  },
  {
   "cell_type": "code",
   "execution_count": 42,
   "metadata": {},
   "outputs": [
    {
     "data": {
      "text/plain": [
       "Motor Cars - Sedan                6803\n",
       "Station Wagon                     2692\n",
       "Utility                           1177\n",
       "Motor Cycle                        520\n",
       "RIGID TRUCK LGE GE 4.5T            414\n",
       "Pedal Cycle                        299\n",
       "Panel Van                          225\n",
       "OMNIBUS                            200\n",
       "SEMI TRAILER                       168\n",
       "Other Defined Special Vehicle       91\n",
       "Pedestrian on Road                  76\n",
       "Taxi Cab                            73\n",
       "BDOUBLE - ROAD TRAIN                66\n",
       "Light Truck LT 4.5T                 45\n",
       "Scooter                             42\n",
       "Motor Cars - Tourer                 25\n",
       "Forward Control Passenger Van       17\n",
       "Pedestrian on Footpath/Carpark      14\n",
       "Power Asst. Bicycle                  7\n",
       "Small Wheel Vehicle User             2\n",
       "Animal Drawn Vehicle                 1\n",
       "Animal - Wild                        1\n",
       "Tram                                 1\n",
       "Motorised Wheelchair/Gopher          1\n",
       "Name: Unit Type, dtype: int64"
      ]
     },
     "execution_count": 42,
     "metadata": {},
     "output_type": "execute_result"
    }
   ],
   "source": [
    "df['Unit Type'].value_counts(normalize=False)"
   ]
  },
  {
   "cell_type": "code",
   "execution_count": 43,
   "metadata": {},
   "outputs": [
    {
     "data": {
      "text/html": [
       "<div>\n",
       "<style scoped>\n",
       "    .dataframe tbody tr th:only-of-type {\n",
       "        vertical-align: middle;\n",
       "    }\n",
       "\n",
       "    .dataframe tbody tr th {\n",
       "        vertical-align: top;\n",
       "    }\n",
       "\n",
       "    .dataframe thead th {\n",
       "        text-align: right;\n",
       "    }\n",
       "</style>\n",
       "<table border=\"1\" class=\"dataframe\">\n",
       "  <thead>\n",
       "    <tr style=\"text-align: right;\">\n",
       "      <th></th>\n",
       "      <th>REPORT_ID</th>\n",
       "      <th>Stats Area</th>\n",
       "      <th>Total Units</th>\n",
       "      <th>Total Cas</th>\n",
       "      <th>Total Fats</th>\n",
       "      <th>Total SI</th>\n",
       "      <th>Total MI</th>\n",
       "      <th>Year</th>\n",
       "      <th>Month</th>\n",
       "      <th>Day</th>\n",
       "      <th>Time</th>\n",
       "      <th>Area Speed</th>\n",
       "      <th>Position Type</th>\n",
       "      <th>Horizontal Align</th>\n",
       "      <th>Vertical Align</th>\n",
       "      <th>Other Feat</th>\n",
       "      <th>Road Surface</th>\n",
       "      <th>Moisture Cond</th>\n",
       "      <th>Weather Cond</th>\n",
       "      <th>DayNight</th>\n",
       "      <th>Crash Type</th>\n",
       "      <th>Unit Resp</th>\n",
       "      <th>Entity Code</th>\n",
       "      <th>CSEF Severity</th>\n",
       "      <th>Traffic Ctrls</th>\n",
       "      <th>DUI Involved</th>\n",
       "      <th>Drugs Involved</th>\n",
       "      <th>Unit No</th>\n",
       "      <th>No Of Cas</th>\n",
       "      <th>Veh Reg State</th>\n",
       "      <th>Unit Type</th>\n",
       "      <th>Veh Year</th>\n",
       "      <th>Direction Of Travel</th>\n",
       "      <th>Sex</th>\n",
       "      <th>Age</th>\n",
       "      <th>Lic State</th>\n",
       "      <th>Licence Class</th>\n",
       "      <th>Licence Type</th>\n",
       "      <th>Towing</th>\n",
       "      <th>Unit Movement</th>\n",
       "      <th>Number Occupants</th>\n",
       "      <th>Rollover</th>\n",
       "      <th>Fire</th>\n",
       "    </tr>\n",
       "  </thead>\n",
       "  <tbody>\n",
       "    <tr>\n",
       "      <th>1988</th>\n",
       "      <td>2019-1989-8/07/2020</td>\n",
       "      <td>1 City</td>\n",
       "      <td>1</td>\n",
       "      <td>1</td>\n",
       "      <td>0</td>\n",
       "      <td>0</td>\n",
       "      <td>1</td>\n",
       "      <td>2019</td>\n",
       "      <td>March</td>\n",
       "      <td>Friday</td>\n",
       "      <td>05:25 pm</td>\n",
       "      <td>50</td>\n",
       "      <td>T-Junction</td>\n",
       "      <td>Straight road</td>\n",
       "      <td>Slope</td>\n",
       "      <td>Not Applicable</td>\n",
       "      <td>Sealed</td>\n",
       "      <td>Dry</td>\n",
       "      <td>Not Raining</td>\n",
       "      <td>Daylight</td>\n",
       "      <td>Roll Over</td>\n",
       "      <td>1</td>\n",
       "      <td>Driver Rider</td>\n",
       "      <td>2: MI</td>\n",
       "      <td>No Control</td>\n",
       "      <td>0.0</td>\n",
       "      <td>0.0</td>\n",
       "      <td>1</td>\n",
       "      <td>1</td>\n",
       "      <td>SA</td>\n",
       "      <td>NaN</td>\n",
       "      <td>NaN</td>\n",
       "      <td>South East</td>\n",
       "      <td>Female</td>\n",
       "      <td>034</td>\n",
       "      <td>NaN</td>\n",
       "      <td>NaN</td>\n",
       "      <td>NaN</td>\n",
       "      <td>NaN</td>\n",
       "      <td>Straight Ahead</td>\n",
       "      <td>1.0</td>\n",
       "      <td>1.0</td>\n",
       "      <td>0.0</td>\n",
       "    </tr>\n",
       "    <tr>\n",
       "      <th>3160</th>\n",
       "      <td>2019-3161-8/07/2020</td>\n",
       "      <td>1 City</td>\n",
       "      <td>2</td>\n",
       "      <td>1</td>\n",
       "      <td>0</td>\n",
       "      <td>0</td>\n",
       "      <td>1</td>\n",
       "      <td>2019</td>\n",
       "      <td>March</td>\n",
       "      <td>Saturday</td>\n",
       "      <td>01:45 pm</td>\n",
       "      <td>50</td>\n",
       "      <td>T-Junction</td>\n",
       "      <td>Straight road</td>\n",
       "      <td>Level</td>\n",
       "      <td>Not Applicable</td>\n",
       "      <td>Sealed</td>\n",
       "      <td>Dry</td>\n",
       "      <td>Not Raining</td>\n",
       "      <td>Daylight</td>\n",
       "      <td>Right Angle</td>\n",
       "      <td>1</td>\n",
       "      <td>Driver Rider</td>\n",
       "      <td>2: MI</td>\n",
       "      <td>No Control</td>\n",
       "      <td>0.0</td>\n",
       "      <td>0.0</td>\n",
       "      <td>1</td>\n",
       "      <td>1</td>\n",
       "      <td>SA</td>\n",
       "      <td>NaN</td>\n",
       "      <td>NaN</td>\n",
       "      <td>West</td>\n",
       "      <td>Male</td>\n",
       "      <td>024</td>\n",
       "      <td>NaN</td>\n",
       "      <td>NaN</td>\n",
       "      <td>NaN</td>\n",
       "      <td>NaN</td>\n",
       "      <td>Straight Ahead</td>\n",
       "      <td>1.0</td>\n",
       "      <td>0.0</td>\n",
       "      <td>0.0</td>\n",
       "    </tr>\n",
       "    <tr>\n",
       "      <th>5133</th>\n",
       "      <td>2019-5134-8/07/2020</td>\n",
       "      <td>1 City</td>\n",
       "      <td>2</td>\n",
       "      <td>0</td>\n",
       "      <td>0</td>\n",
       "      <td>0</td>\n",
       "      <td>0</td>\n",
       "      <td>2019</td>\n",
       "      <td>May</td>\n",
       "      <td>Friday</td>\n",
       "      <td>05:22 pm</td>\n",
       "      <td>50</td>\n",
       "      <td>T-Junction</td>\n",
       "      <td>Straight road</td>\n",
       "      <td>Level</td>\n",
       "      <td>Not Applicable</td>\n",
       "      <td>Sealed</td>\n",
       "      <td>Dry</td>\n",
       "      <td>Not Raining</td>\n",
       "      <td>Night</td>\n",
       "      <td>Right Angle</td>\n",
       "      <td>1</td>\n",
       "      <td>Driver Rider</td>\n",
       "      <td>1: PDO</td>\n",
       "      <td>No Control</td>\n",
       "      <td>0.0</td>\n",
       "      <td>0.0</td>\n",
       "      <td>1</td>\n",
       "      <td>0</td>\n",
       "      <td>SA</td>\n",
       "      <td>NaN</td>\n",
       "      <td>NaN</td>\n",
       "      <td>East</td>\n",
       "      <td>Female</td>\n",
       "      <td>021</td>\n",
       "      <td>NaN</td>\n",
       "      <td>NaN</td>\n",
       "      <td>NaN</td>\n",
       "      <td>NaN</td>\n",
       "      <td>Straight Ahead</td>\n",
       "      <td>1.0</td>\n",
       "      <td>0.0</td>\n",
       "      <td>0.0</td>\n",
       "    </tr>\n",
       "    <tr>\n",
       "      <th>12028</th>\n",
       "      <td>2019-12029-8/07/2020</td>\n",
       "      <td>1 City</td>\n",
       "      <td>1</td>\n",
       "      <td>1</td>\n",
       "      <td>0</td>\n",
       "      <td>1</td>\n",
       "      <td>0</td>\n",
       "      <td>2019</td>\n",
       "      <td>September</td>\n",
       "      <td>Thursday</td>\n",
       "      <td>09:30 pm</td>\n",
       "      <td>50</td>\n",
       "      <td>Not Divided</td>\n",
       "      <td>Straight road</td>\n",
       "      <td>Level</td>\n",
       "      <td>Not Applicable</td>\n",
       "      <td>Sealed</td>\n",
       "      <td>Dry</td>\n",
       "      <td>Not Raining</td>\n",
       "      <td>Night</td>\n",
       "      <td>Roll Over</td>\n",
       "      <td>1</td>\n",
       "      <td>Driver Rider</td>\n",
       "      <td>3: SI</td>\n",
       "      <td>No Control</td>\n",
       "      <td>0.0</td>\n",
       "      <td>0.0</td>\n",
       "      <td>1</td>\n",
       "      <td>1</td>\n",
       "      <td>SA</td>\n",
       "      <td>NaN</td>\n",
       "      <td>NaN</td>\n",
       "      <td>South</td>\n",
       "      <td>Male</td>\n",
       "      <td>045</td>\n",
       "      <td>NaN</td>\n",
       "      <td>NaN</td>\n",
       "      <td>NaN</td>\n",
       "      <td>NaN</td>\n",
       "      <td>Straight Ahead</td>\n",
       "      <td>1.0</td>\n",
       "      <td>1.0</td>\n",
       "      <td>0.0</td>\n",
       "    </tr>\n",
       "  </tbody>\n",
       "</table>\n",
       "</div>"
      ],
      "text/plain": [
       "                  REPORT_ID Stats Area  Total Units  Total Cas  Total Fats  \\\n",
       "1988    2019-1989-8/07/2020     1 City            1          1           0   \n",
       "3160    2019-3161-8/07/2020     1 City            2          1           0   \n",
       "5133    2019-5134-8/07/2020     1 City            2          0           0   \n",
       "12028  2019-12029-8/07/2020     1 City            1          1           0   \n",
       "\n",
       "       Total SI  Total MI  Year      Month       Day      Time  Area Speed  \\\n",
       "1988          0         1  2019      March    Friday  05:25 pm          50   \n",
       "3160          0         1  2019      March  Saturday  01:45 pm          50   \n",
       "5133          0         0  2019        May    Friday  05:22 pm          50   \n",
       "12028         1         0  2019  September  Thursday  09:30 pm          50   \n",
       "\n",
       "      Position Type Horizontal Align Vertical Align      Other Feat  \\\n",
       "1988     T-Junction    Straight road          Slope  Not Applicable   \n",
       "3160     T-Junction    Straight road          Level  Not Applicable   \n",
       "5133     T-Junction    Straight road          Level  Not Applicable   \n",
       "12028   Not Divided    Straight road          Level  Not Applicable   \n",
       "\n",
       "      Road Surface Moisture Cond Weather Cond  DayNight   Crash Type  \\\n",
       "1988        Sealed           Dry  Not Raining  Daylight    Roll Over   \n",
       "3160        Sealed           Dry  Not Raining  Daylight  Right Angle   \n",
       "5133        Sealed           Dry  Not Raining     Night  Right Angle   \n",
       "12028       Sealed           Dry  Not Raining     Night    Roll Over   \n",
       "\n",
       "       Unit Resp   Entity Code CSEF Severity Traffic Ctrls  DUI Involved  \\\n",
       "1988           1  Driver Rider         2: MI    No Control           0.0   \n",
       "3160           1  Driver Rider         2: MI    No Control           0.0   \n",
       "5133           1  Driver Rider        1: PDO    No Control           0.0   \n",
       "12028          1  Driver Rider         3: SI    No Control           0.0   \n",
       "\n",
       "       Drugs Involved  Unit No  No Of Cas Veh Reg State Unit Type Veh Year  \\\n",
       "1988              0.0        1          1            SA       NaN      NaN   \n",
       "3160              0.0        1          1            SA       NaN      NaN   \n",
       "5133              0.0        1          0            SA       NaN      NaN   \n",
       "12028             0.0        1          1            SA       NaN      NaN   \n",
       "\n",
       "      Direction Of Travel     Sex  Age Lic State Licence Class Licence Type  \\\n",
       "1988           South East  Female  034       NaN           NaN          NaN   \n",
       "3160                 West    Male  024       NaN           NaN          NaN   \n",
       "5133                 East  Female  021       NaN           NaN          NaN   \n",
       "12028               South    Male  045       NaN           NaN          NaN   \n",
       "\n",
       "      Towing   Unit Movement  Number Occupants  Rollover  Fire  \n",
       "1988     NaN  Straight Ahead               1.0       1.0   0.0  \n",
       "3160     NaN  Straight Ahead               1.0       0.0   0.0  \n",
       "5133     NaN  Straight Ahead               1.0       0.0   0.0  \n",
       "12028    NaN  Straight Ahead               1.0       1.0   0.0  "
      ]
     },
     "execution_count": 43,
     "metadata": {},
     "output_type": "execute_result"
    }
   ],
   "source": [
    "df.loc[df['Unit Type'].isnull()]"
   ]
  },
  {
   "cell_type": "markdown",
   "metadata": {},
   "source": [
    "2/4 of these crashes are rollovers - because of this I will assume those are cars and will further assume the other two are as well, due to the high proportion of cars."
   ]
  },
  {
   "cell_type": "code",
   "execution_count": 44,
   "metadata": {},
   "outputs": [],
   "source": [
    "df['Unit Type'].fillna('Motor Cars - Sedan', inplace=True)"
   ]
  },
  {
   "cell_type": "code",
   "execution_count": 45,
   "metadata": {},
   "outputs": [],
   "source": [
    "#Passenger Vehicles\n",
    "df['Unit Type'].replace(['Motor Cars - Sedan', 'Station Wagon', 'Utility', 'Taxi Cab', 'Motor Cars - Tourer'], 1, inplace=True)"
   ]
  },
  {
   "cell_type": "code",
   "execution_count": 46,
   "metadata": {},
   "outputs": [
    {
     "data": {
      "text/plain": [
       "1                                 10774\n",
       "Motor Cycle                         520\n",
       "RIGID TRUCK LGE GE 4.5T             414\n",
       "Pedal Cycle                         299\n",
       "Panel Van                           225\n",
       "OMNIBUS                             200\n",
       "SEMI TRAILER                        168\n",
       "Other Defined Special Vehicle        91\n",
       "Pedestrian on Road                   76\n",
       "BDOUBLE - ROAD TRAIN                 66\n",
       "Light Truck LT 4.5T                  45\n",
       "Scooter                              42\n",
       "Forward Control Passenger Van        17\n",
       "Pedestrian on Footpath/Carpark       14\n",
       "Power Asst. Bicycle                   7\n",
       "Small Wheel Vehicle User              2\n",
       "Animal Drawn Vehicle                  1\n",
       "Animal - Wild                         1\n",
       "Motorised Wheelchair/Gopher           1\n",
       "Tram                                  1\n",
       "Name: Unit Type, dtype: int64"
      ]
     },
     "execution_count": 46,
     "metadata": {},
     "output_type": "execute_result"
    }
   ],
   "source": [
    "df['Unit Type'].value_counts()"
   ]
  },
  {
   "cell_type": "code",
   "execution_count": 47,
   "metadata": {},
   "outputs": [],
   "source": [
    "#Heavy Vehicles\n",
    "df['Unit Type'].replace(['RIGID TRUCK LGE GE 4.5T', 'OMNIBUS', 'SEMI TRAILER', 'BDOUBLE - ROAD TRAIN'], 2, inplace=True)"
   ]
  },
  {
   "cell_type": "code",
   "execution_count": 48,
   "metadata": {},
   "outputs": [],
   "source": [
    "#Medium Vehicles\n",
    "\n",
    "df['Unit Type'].replace(['Panel Van', 'Forward Control Passenger Van', 'Light Truck LT 4.5T'], 3, inplace=True)"
   ]
  },
  {
   "cell_type": "code",
   "execution_count": 49,
   "metadata": {},
   "outputs": [],
   "source": [
    "#Motorcycle\n",
    "\n",
    "df['Unit Type'].replace(['Motor Cycle', 'Scooter'], 4, inplace=True)"
   ]
  },
  {
   "cell_type": "code",
   "execution_count": 50,
   "metadata": {},
   "outputs": [],
   "source": [
    "#Light Vehicles\n",
    "\n",
    "df['Unit Type'].replace(['Pedal Cycle', 'Power Asst. Bicycle', 'Small Wheel Vehicle User', 'Motorised Wheelchair/Gopher'], 5, inplace=True)"
   ]
  },
  {
   "cell_type": "code",
   "execution_count": 51,
   "metadata": {},
   "outputs": [],
   "source": [
    "# Miscellaneous Vehicles\n",
    "\n",
    "df['Unit Type'].replace(['Other Defined Special Vehicle', 'Tram', 'Animal Drawn Vehicle', 'Animal - Wild'], 6, inplace=True)"
   ]
  },
  {
   "cell_type": "code",
   "execution_count": 52,
   "metadata": {},
   "outputs": [],
   "source": [
    "#Pedestrians\n",
    "\n",
    "df['Unit Type'].replace(['Pedestrian on Road', 'Pedestrian on Footpath/Carpark'], 7, inplace=True)"
   ]
  },
  {
   "cell_type": "code",
   "execution_count": 53,
   "metadata": {},
   "outputs": [
    {
     "data": {
      "text/plain": [
       "1    10774\n",
       "2      848\n",
       "4      562\n",
       "5      309\n",
       "3      287\n",
       "6       94\n",
       "7       90\n",
       "Name: Unit Type, dtype: int64"
      ]
     },
     "execution_count": 53,
     "metadata": {},
     "output_type": "execute_result"
    }
   ],
   "source": [
    "df['Unit Type'].value_counts()"
   ]
  },
  {
   "cell_type": "code",
   "execution_count": 54,
   "metadata": {},
   "outputs": [
    {
     "data": {
      "text/plain": [
       "REPORT_ID                0\n",
       "Stats Area               0\n",
       "Total Units              0\n",
       "Total Cas                0\n",
       "Total Fats               0\n",
       "Total SI                 0\n",
       "Total MI                 0\n",
       "Year                     0\n",
       "Month                    0\n",
       "Day                      0\n",
       "Time                     0\n",
       "Area Speed               0\n",
       "Position Type            0\n",
       "Horizontal Align         0\n",
       "Vertical Align           0\n",
       "Other Feat               0\n",
       "Road Surface             0\n",
       "Moisture Cond            0\n",
       "Weather Cond             0\n",
       "DayNight                 0\n",
       "Crash Type               0\n",
       "Unit Resp                0\n",
       "Entity Code              0\n",
       "CSEF Severity            0\n",
       "Traffic Ctrls            0\n",
       "DUI Involved             0\n",
       "Drugs Involved           0\n",
       "Unit No                  0\n",
       "No Of Cas                0\n",
       "Veh Reg State            0\n",
       "Unit Type                0\n",
       "Veh Year               406\n",
       "Direction Of Travel      1\n",
       "Sex                    343\n",
       "Age                    343\n",
       "Lic State              769\n",
       "Licence Class          747\n",
       "Licence Type           748\n",
       "Towing                 483\n",
       "Unit Movement            1\n",
       "Number Occupants        94\n",
       "Rollover                 0\n",
       "Fire                     0\n",
       "dtype: int64"
      ]
     },
     "execution_count": 54,
     "metadata": {},
     "output_type": "execute_result"
    }
   ],
   "source": [
    "df.isnull().sum()"
   ]
  },
  {
   "cell_type": "code",
   "execution_count": 55,
   "metadata": {},
   "outputs": [
    {
     "data": {
      "text/html": [
       "<div>\n",
       "<style scoped>\n",
       "    .dataframe tbody tr th:only-of-type {\n",
       "        vertical-align: middle;\n",
       "    }\n",
       "\n",
       "    .dataframe tbody tr th {\n",
       "        vertical-align: top;\n",
       "    }\n",
       "\n",
       "    .dataframe thead th {\n",
       "        text-align: right;\n",
       "    }\n",
       "</style>\n",
       "<table border=\"1\" class=\"dataframe\">\n",
       "  <thead>\n",
       "    <tr style=\"text-align: right;\">\n",
       "      <th></th>\n",
       "      <th>REPORT_ID</th>\n",
       "      <th>Stats Area</th>\n",
       "      <th>Total Units</th>\n",
       "      <th>Total Cas</th>\n",
       "      <th>Total Fats</th>\n",
       "      <th>Total SI</th>\n",
       "      <th>Total MI</th>\n",
       "      <th>Year</th>\n",
       "      <th>Month</th>\n",
       "      <th>Day</th>\n",
       "      <th>Time</th>\n",
       "      <th>Area Speed</th>\n",
       "      <th>Position Type</th>\n",
       "      <th>Horizontal Align</th>\n",
       "      <th>Vertical Align</th>\n",
       "      <th>Other Feat</th>\n",
       "      <th>Road Surface</th>\n",
       "      <th>Moisture Cond</th>\n",
       "      <th>Weather Cond</th>\n",
       "      <th>DayNight</th>\n",
       "      <th>Crash Type</th>\n",
       "      <th>Unit Resp</th>\n",
       "      <th>Entity Code</th>\n",
       "      <th>CSEF Severity</th>\n",
       "      <th>Traffic Ctrls</th>\n",
       "      <th>DUI Involved</th>\n",
       "      <th>Drugs Involved</th>\n",
       "      <th>Unit No</th>\n",
       "      <th>No Of Cas</th>\n",
       "      <th>Veh Reg State</th>\n",
       "      <th>Unit Type</th>\n",
       "      <th>Veh Year</th>\n",
       "      <th>Direction Of Travel</th>\n",
       "      <th>Sex</th>\n",
       "      <th>Age</th>\n",
       "      <th>Lic State</th>\n",
       "      <th>Licence Class</th>\n",
       "      <th>Licence Type</th>\n",
       "      <th>Towing</th>\n",
       "      <th>Unit Movement</th>\n",
       "      <th>Number Occupants</th>\n",
       "      <th>Rollover</th>\n",
       "      <th>Fire</th>\n",
       "    </tr>\n",
       "  </thead>\n",
       "  <tbody>\n",
       "    <tr>\n",
       "      <th>8</th>\n",
       "      <td>2019-9-8/07/2020</td>\n",
       "      <td>3 Country</td>\n",
       "      <td>1</td>\n",
       "      <td>1</td>\n",
       "      <td>0</td>\n",
       "      <td>0</td>\n",
       "      <td>1</td>\n",
       "      <td>2019</td>\n",
       "      <td>January</td>\n",
       "      <td>Tuesday</td>\n",
       "      <td>11:45 am</td>\n",
       "      <td>50</td>\n",
       "      <td>T-Junction</td>\n",
       "      <td>Straight road</td>\n",
       "      <td>Bottom of Hill</td>\n",
       "      <td>Not Applicable</td>\n",
       "      <td>Sealed</td>\n",
       "      <td>Dry</td>\n",
       "      <td>Not Raining</td>\n",
       "      <td>Daylight</td>\n",
       "      <td>Roll Over</td>\n",
       "      <td>1</td>\n",
       "      <td>Driver Rider</td>\n",
       "      <td>2: MI</td>\n",
       "      <td>Stop Sign</td>\n",
       "      <td>0.0</td>\n",
       "      <td>0.0</td>\n",
       "      <td>1</td>\n",
       "      <td>1</td>\n",
       "      <td>SA</td>\n",
       "      <td>5</td>\n",
       "      <td>NaN</td>\n",
       "      <td>North East</td>\n",
       "      <td>Female</td>\n",
       "      <td>056</td>\n",
       "      <td>NaN</td>\n",
       "      <td>NaN</td>\n",
       "      <td>NaN</td>\n",
       "      <td>NaN</td>\n",
       "      <td>Straight Ahead</td>\n",
       "      <td>1.0</td>\n",
       "      <td>1.0</td>\n",
       "      <td>0.0</td>\n",
       "    </tr>\n",
       "    <tr>\n",
       "      <th>26</th>\n",
       "      <td>2019-27-8/07/2020</td>\n",
       "      <td>2 Metropolitan</td>\n",
       "      <td>2</td>\n",
       "      <td>1</td>\n",
       "      <td>0</td>\n",
       "      <td>0</td>\n",
       "      <td>1</td>\n",
       "      <td>2019</td>\n",
       "      <td>January</td>\n",
       "      <td>Tuesday</td>\n",
       "      <td>05:30 pm</td>\n",
       "      <td>50</td>\n",
       "      <td>Not Divided</td>\n",
       "      <td>Straight road</td>\n",
       "      <td>Level</td>\n",
       "      <td>Not Applicable</td>\n",
       "      <td>Sealed</td>\n",
       "      <td>Dry</td>\n",
       "      <td>Not Raining</td>\n",
       "      <td>Daylight</td>\n",
       "      <td>Hit Parked Vehicle</td>\n",
       "      <td>2</td>\n",
       "      <td>Driver Rider</td>\n",
       "      <td>2: MI</td>\n",
       "      <td>No Control</td>\n",
       "      <td>0.0</td>\n",
       "      <td>0.0</td>\n",
       "      <td>1</td>\n",
       "      <td>1</td>\n",
       "      <td>SA</td>\n",
       "      <td>5</td>\n",
       "      <td>NaN</td>\n",
       "      <td>North</td>\n",
       "      <td>Male</td>\n",
       "      <td>016</td>\n",
       "      <td>NaN</td>\n",
       "      <td>NaN</td>\n",
       "      <td>NaN</td>\n",
       "      <td>NaN</td>\n",
       "      <td>Straight Ahead</td>\n",
       "      <td>1.0</td>\n",
       "      <td>0.0</td>\n",
       "      <td>0.0</td>\n",
       "    </tr>\n",
       "    <tr>\n",
       "      <th>68</th>\n",
       "      <td>2019-69-8/07/2020</td>\n",
       "      <td>2 Metropolitan</td>\n",
       "      <td>2</td>\n",
       "      <td>0</td>\n",
       "      <td>0</td>\n",
       "      <td>0</td>\n",
       "      <td>0</td>\n",
       "      <td>2019</td>\n",
       "      <td>January</td>\n",
       "      <td>Friday</td>\n",
       "      <td>12:01 pm</td>\n",
       "      <td>50</td>\n",
       "      <td>Cross Road</td>\n",
       "      <td>Straight road</td>\n",
       "      <td>Level</td>\n",
       "      <td>Not Applicable</td>\n",
       "      <td>Sealed</td>\n",
       "      <td>Dry</td>\n",
       "      <td>Not Raining</td>\n",
       "      <td>Daylight</td>\n",
       "      <td>Rear End</td>\n",
       "      <td>2</td>\n",
       "      <td>Driver Rider</td>\n",
       "      <td>1: PDO</td>\n",
       "      <td>Roundabout</td>\n",
       "      <td>0.0</td>\n",
       "      <td>0.0</td>\n",
       "      <td>1</td>\n",
       "      <td>0</td>\n",
       "      <td>SA</td>\n",
       "      <td>5</td>\n",
       "      <td>NaN</td>\n",
       "      <td>North</td>\n",
       "      <td>Male</td>\n",
       "      <td>039</td>\n",
       "      <td>NaN</td>\n",
       "      <td>NaN</td>\n",
       "      <td>NaN</td>\n",
       "      <td>NaN</td>\n",
       "      <td>Stopped on Carriageway</td>\n",
       "      <td>1.0</td>\n",
       "      <td>0.0</td>\n",
       "      <td>0.0</td>\n",
       "    </tr>\n",
       "    <tr>\n",
       "      <th>84</th>\n",
       "      <td>2019-85-8/07/2020</td>\n",
       "      <td>2 Metropolitan</td>\n",
       "      <td>2</td>\n",
       "      <td>0</td>\n",
       "      <td>0</td>\n",
       "      <td>0</td>\n",
       "      <td>0</td>\n",
       "      <td>2019</td>\n",
       "      <td>January</td>\n",
       "      <td>Tuesday</td>\n",
       "      <td>04:30 pm</td>\n",
       "      <td>50</td>\n",
       "      <td>T-Junction</td>\n",
       "      <td>CURVED, VIEW OPEN</td>\n",
       "      <td>Level</td>\n",
       "      <td>Not Applicable</td>\n",
       "      <td>Sealed</td>\n",
       "      <td>Dry</td>\n",
       "      <td>Not Raining</td>\n",
       "      <td>Daylight</td>\n",
       "      <td>Right Angle</td>\n",
       "      <td>2</td>\n",
       "      <td>Driver Rider</td>\n",
       "      <td>1: PDO</td>\n",
       "      <td>No Control</td>\n",
       "      <td>0.0</td>\n",
       "      <td>0.0</td>\n",
       "      <td>1</td>\n",
       "      <td>0</td>\n",
       "      <td>SA</td>\n",
       "      <td>5</td>\n",
       "      <td>NaN</td>\n",
       "      <td>West</td>\n",
       "      <td>Male</td>\n",
       "      <td>013</td>\n",
       "      <td>NaN</td>\n",
       "      <td>NaN</td>\n",
       "      <td>NaN</td>\n",
       "      <td>NaN</td>\n",
       "      <td>Straight Ahead</td>\n",
       "      <td>1.0</td>\n",
       "      <td>0.0</td>\n",
       "      <td>0.0</td>\n",
       "    </tr>\n",
       "    <tr>\n",
       "      <th>89</th>\n",
       "      <td>2019-90-8/07/2020</td>\n",
       "      <td>1 City</td>\n",
       "      <td>2</td>\n",
       "      <td>2</td>\n",
       "      <td>0</td>\n",
       "      <td>0</td>\n",
       "      <td>2</td>\n",
       "      <td>2019</td>\n",
       "      <td>January</td>\n",
       "      <td>Saturday</td>\n",
       "      <td>08:50 am</td>\n",
       "      <td>50</td>\n",
       "      <td>Not Divided</td>\n",
       "      <td>CURVED, VIEW OPEN</td>\n",
       "      <td>Level</td>\n",
       "      <td>Not Applicable</td>\n",
       "      <td>Sealed</td>\n",
       "      <td>Dry</td>\n",
       "      <td>Not Raining</td>\n",
       "      <td>Daylight</td>\n",
       "      <td>Side Swipe</td>\n",
       "      <td>1</td>\n",
       "      <td>Driver Rider</td>\n",
       "      <td>2: MI</td>\n",
       "      <td>No Control</td>\n",
       "      <td>0.0</td>\n",
       "      <td>0.0</td>\n",
       "      <td>1</td>\n",
       "      <td>1</td>\n",
       "      <td>SA</td>\n",
       "      <td>5</td>\n",
       "      <td>NaN</td>\n",
       "      <td>South West</td>\n",
       "      <td>Male</td>\n",
       "      <td>063</td>\n",
       "      <td>NaN</td>\n",
       "      <td>NaN</td>\n",
       "      <td>NaN</td>\n",
       "      <td>NaN</td>\n",
       "      <td>Straight Ahead</td>\n",
       "      <td>1.0</td>\n",
       "      <td>0.0</td>\n",
       "      <td>0.0</td>\n",
       "    </tr>\n",
       "    <tr>\n",
       "      <th>...</th>\n",
       "      <td>...</td>\n",
       "      <td>...</td>\n",
       "      <td>...</td>\n",
       "      <td>...</td>\n",
       "      <td>...</td>\n",
       "      <td>...</td>\n",
       "      <td>...</td>\n",
       "      <td>...</td>\n",
       "      <td>...</td>\n",
       "      <td>...</td>\n",
       "      <td>...</td>\n",
       "      <td>...</td>\n",
       "      <td>...</td>\n",
       "      <td>...</td>\n",
       "      <td>...</td>\n",
       "      <td>...</td>\n",
       "      <td>...</td>\n",
       "      <td>...</td>\n",
       "      <td>...</td>\n",
       "      <td>...</td>\n",
       "      <td>...</td>\n",
       "      <td>...</td>\n",
       "      <td>...</td>\n",
       "      <td>...</td>\n",
       "      <td>...</td>\n",
       "      <td>...</td>\n",
       "      <td>...</td>\n",
       "      <td>...</td>\n",
       "      <td>...</td>\n",
       "      <td>...</td>\n",
       "      <td>...</td>\n",
       "      <td>...</td>\n",
       "      <td>...</td>\n",
       "      <td>...</td>\n",
       "      <td>...</td>\n",
       "      <td>...</td>\n",
       "      <td>...</td>\n",
       "      <td>...</td>\n",
       "      <td>...</td>\n",
       "      <td>...</td>\n",
       "      <td>...</td>\n",
       "      <td>...</td>\n",
       "      <td>...</td>\n",
       "    </tr>\n",
       "    <tr>\n",
       "      <th>12905</th>\n",
       "      <td>2019-12906-8/07/2020</td>\n",
       "      <td>2 Metropolitan</td>\n",
       "      <td>2</td>\n",
       "      <td>1</td>\n",
       "      <td>0</td>\n",
       "      <td>0</td>\n",
       "      <td>1</td>\n",
       "      <td>2019</td>\n",
       "      <td>December</td>\n",
       "      <td>Tuesday</td>\n",
       "      <td>02:25 pm</td>\n",
       "      <td>50</td>\n",
       "      <td>Not Divided</td>\n",
       "      <td>Straight road</td>\n",
       "      <td>Level</td>\n",
       "      <td>Not Applicable</td>\n",
       "      <td>Sealed</td>\n",
       "      <td>Dry</td>\n",
       "      <td>Not Raining</td>\n",
       "      <td>Daylight</td>\n",
       "      <td>Rear End</td>\n",
       "      <td>2</td>\n",
       "      <td>Driver Rider</td>\n",
       "      <td>2: MI</td>\n",
       "      <td>No Control</td>\n",
       "      <td>0.0</td>\n",
       "      <td>0.0</td>\n",
       "      <td>1</td>\n",
       "      <td>1</td>\n",
       "      <td>SA</td>\n",
       "      <td>5</td>\n",
       "      <td>NaN</td>\n",
       "      <td>North</td>\n",
       "      <td>Male</td>\n",
       "      <td>034</td>\n",
       "      <td>NaN</td>\n",
       "      <td>NaN</td>\n",
       "      <td>NaN</td>\n",
       "      <td>NaN</td>\n",
       "      <td>Straight Ahead</td>\n",
       "      <td>1.0</td>\n",
       "      <td>0.0</td>\n",
       "      <td>0.0</td>\n",
       "    </tr>\n",
       "    <tr>\n",
       "      <th>12922</th>\n",
       "      <td>2019-12923-8/07/2020</td>\n",
       "      <td>2 Metropolitan</td>\n",
       "      <td>2</td>\n",
       "      <td>1</td>\n",
       "      <td>0</td>\n",
       "      <td>0</td>\n",
       "      <td>1</td>\n",
       "      <td>2019</td>\n",
       "      <td>December</td>\n",
       "      <td>Tuesday</td>\n",
       "      <td>08:50 am</td>\n",
       "      <td>50</td>\n",
       "      <td>Not Divided</td>\n",
       "      <td>Straight road</td>\n",
       "      <td>Level</td>\n",
       "      <td>Not Applicable</td>\n",
       "      <td>Sealed</td>\n",
       "      <td>Dry</td>\n",
       "      <td>Not Raining</td>\n",
       "      <td>Daylight</td>\n",
       "      <td>Hit Pedestrian</td>\n",
       "      <td>1</td>\n",
       "      <td>Pedestrian</td>\n",
       "      <td>2: MI</td>\n",
       "      <td>No Control</td>\n",
       "      <td>0.0</td>\n",
       "      <td>0.0</td>\n",
       "      <td>1</td>\n",
       "      <td>1</td>\n",
       "      <td>SA</td>\n",
       "      <td>7</td>\n",
       "      <td>NaN</td>\n",
       "      <td>East</td>\n",
       "      <td>Female</td>\n",
       "      <td>089</td>\n",
       "      <td>NaN</td>\n",
       "      <td>NaN</td>\n",
       "      <td>NaN</td>\n",
       "      <td>NaN</td>\n",
       "      <td>Crossing without Control</td>\n",
       "      <td>NaN</td>\n",
       "      <td>0.0</td>\n",
       "      <td>0.0</td>\n",
       "    </tr>\n",
       "    <tr>\n",
       "      <th>12954</th>\n",
       "      <td>2019-12955-8/07/2020</td>\n",
       "      <td>2 Metropolitan</td>\n",
       "      <td>2</td>\n",
       "      <td>0</td>\n",
       "      <td>0</td>\n",
       "      <td>0</td>\n",
       "      <td>0</td>\n",
       "      <td>2019</td>\n",
       "      <td>November</td>\n",
       "      <td>Sunday</td>\n",
       "      <td>12:15 am</td>\n",
       "      <td>50</td>\n",
       "      <td>Not Divided</td>\n",
       "      <td>Straight road</td>\n",
       "      <td>Slope</td>\n",
       "      <td>Not Applicable</td>\n",
       "      <td>Sealed</td>\n",
       "      <td>Dry</td>\n",
       "      <td>Not Raining</td>\n",
       "      <td>Night</td>\n",
       "      <td>Hit Fixed Object</td>\n",
       "      <td>1</td>\n",
       "      <td>Driver Rider</td>\n",
       "      <td>1: PDO</td>\n",
       "      <td>No Control</td>\n",
       "      <td>1.0</td>\n",
       "      <td>0.0</td>\n",
       "      <td>1</td>\n",
       "      <td>0</td>\n",
       "      <td>SA</td>\n",
       "      <td>5</td>\n",
       "      <td>NaN</td>\n",
       "      <td>North West</td>\n",
       "      <td>Male</td>\n",
       "      <td>019</td>\n",
       "      <td>NaN</td>\n",
       "      <td>NaN</td>\n",
       "      <td>NaN</td>\n",
       "      <td>NaN</td>\n",
       "      <td>Straight Ahead</td>\n",
       "      <td>1.0</td>\n",
       "      <td>0.0</td>\n",
       "      <td>0.0</td>\n",
       "    </tr>\n",
       "    <tr>\n",
       "      <th>12961</th>\n",
       "      <td>2019-12962-8/07/2020</td>\n",
       "      <td>3 Country</td>\n",
       "      <td>2</td>\n",
       "      <td>1</td>\n",
       "      <td>0</td>\n",
       "      <td>0</td>\n",
       "      <td>1</td>\n",
       "      <td>2019</td>\n",
       "      <td>December</td>\n",
       "      <td>Friday</td>\n",
       "      <td>03:30 pm</td>\n",
       "      <td>50</td>\n",
       "      <td>Not Divided</td>\n",
       "      <td>Straight road</td>\n",
       "      <td>Slope</td>\n",
       "      <td>Driveway or Entrance</td>\n",
       "      <td>Sealed</td>\n",
       "      <td>Dry</td>\n",
       "      <td>Not Raining</td>\n",
       "      <td>Daylight</td>\n",
       "      <td>Side Swipe</td>\n",
       "      <td>2</td>\n",
       "      <td>Driver Rider</td>\n",
       "      <td>2: MI</td>\n",
       "      <td>No Control</td>\n",
       "      <td>0.0</td>\n",
       "      <td>0.0</td>\n",
       "      <td>1</td>\n",
       "      <td>1</td>\n",
       "      <td>SA</td>\n",
       "      <td>5</td>\n",
       "      <td>NaN</td>\n",
       "      <td>North East</td>\n",
       "      <td>Male</td>\n",
       "      <td>047</td>\n",
       "      <td>NaN</td>\n",
       "      <td>NaN</td>\n",
       "      <td>NaN</td>\n",
       "      <td>NaN</td>\n",
       "      <td>Straight Ahead</td>\n",
       "      <td>1.0</td>\n",
       "      <td>0.0</td>\n",
       "      <td>0.0</td>\n",
       "    </tr>\n",
       "    <tr>\n",
       "      <th>12963</th>\n",
       "      <td>2019-12964-8/07/2020</td>\n",
       "      <td>2 Metropolitan</td>\n",
       "      <td>1</td>\n",
       "      <td>1</td>\n",
       "      <td>0</td>\n",
       "      <td>1</td>\n",
       "      <td>0</td>\n",
       "      <td>2019</td>\n",
       "      <td>December</td>\n",
       "      <td>Monday</td>\n",
       "      <td>03:30 pm</td>\n",
       "      <td>50</td>\n",
       "      <td>Not Divided</td>\n",
       "      <td>Straight road</td>\n",
       "      <td>Level</td>\n",
       "      <td>Not Applicable</td>\n",
       "      <td>Sealed</td>\n",
       "      <td>Dry</td>\n",
       "      <td>Not Raining</td>\n",
       "      <td>Daylight</td>\n",
       "      <td>Roll Over</td>\n",
       "      <td>1</td>\n",
       "      <td>Driver Rider</td>\n",
       "      <td>3: SI</td>\n",
       "      <td>No Control</td>\n",
       "      <td>1.0</td>\n",
       "      <td>0.0</td>\n",
       "      <td>1</td>\n",
       "      <td>1</td>\n",
       "      <td>SA</td>\n",
       "      <td>5</td>\n",
       "      <td>NaN</td>\n",
       "      <td>North</td>\n",
       "      <td>Male</td>\n",
       "      <td>056</td>\n",
       "      <td>NaN</td>\n",
       "      <td>NaN</td>\n",
       "      <td>NaN</td>\n",
       "      <td>NaN</td>\n",
       "      <td>Straight Ahead</td>\n",
       "      <td>1.0</td>\n",
       "      <td>1.0</td>\n",
       "      <td>0.0</td>\n",
       "    </tr>\n",
       "  </tbody>\n",
       "</table>\n",
       "<p>406 rows × 43 columns</p>\n",
       "</div>"
      ],
      "text/plain": [
       "                  REPORT_ID      Stats Area  Total Units  Total Cas  \\\n",
       "8          2019-9-8/07/2020       3 Country            1          1   \n",
       "26        2019-27-8/07/2020  2 Metropolitan            2          1   \n",
       "68        2019-69-8/07/2020  2 Metropolitan            2          0   \n",
       "84        2019-85-8/07/2020  2 Metropolitan            2          0   \n",
       "89        2019-90-8/07/2020          1 City            2          2   \n",
       "...                     ...             ...          ...        ...   \n",
       "12905  2019-12906-8/07/2020  2 Metropolitan            2          1   \n",
       "12922  2019-12923-8/07/2020  2 Metropolitan            2          1   \n",
       "12954  2019-12955-8/07/2020  2 Metropolitan            2          0   \n",
       "12961  2019-12962-8/07/2020       3 Country            2          1   \n",
       "12963  2019-12964-8/07/2020  2 Metropolitan            1          1   \n",
       "\n",
       "       Total Fats  Total SI  Total MI  Year     Month       Day      Time  \\\n",
       "8               0         0         1  2019   January   Tuesday  11:45 am   \n",
       "26              0         0         1  2019   January   Tuesday  05:30 pm   \n",
       "68              0         0         0  2019   January    Friday  12:01 pm   \n",
       "84              0         0         0  2019   January   Tuesday  04:30 pm   \n",
       "89              0         0         2  2019   January  Saturday  08:50 am   \n",
       "...           ...       ...       ...   ...       ...       ...       ...   \n",
       "12905           0         0         1  2019  December   Tuesday  02:25 pm   \n",
       "12922           0         0         1  2019  December   Tuesday  08:50 am   \n",
       "12954           0         0         0  2019  November    Sunday  12:15 am   \n",
       "12961           0         0         1  2019  December    Friday  03:30 pm   \n",
       "12963           0         1         0  2019  December    Monday  03:30 pm   \n",
       "\n",
       "       Area Speed Position Type   Horizontal Align  Vertical Align  \\\n",
       "8              50    T-Junction      Straight road  Bottom of Hill   \n",
       "26             50   Not Divided      Straight road           Level   \n",
       "68             50    Cross Road      Straight road           Level   \n",
       "84             50    T-Junction  CURVED, VIEW OPEN           Level   \n",
       "89             50   Not Divided  CURVED, VIEW OPEN           Level   \n",
       "...           ...           ...                ...             ...   \n",
       "12905          50   Not Divided      Straight road           Level   \n",
       "12922          50   Not Divided      Straight road           Level   \n",
       "12954          50   Not Divided      Straight road           Slope   \n",
       "12961          50   Not Divided      Straight road           Slope   \n",
       "12963          50   Not Divided      Straight road           Level   \n",
       "\n",
       "                 Other Feat Road Surface Moisture Cond Weather Cond  DayNight  \\\n",
       "8            Not Applicable       Sealed           Dry  Not Raining  Daylight   \n",
       "26           Not Applicable       Sealed           Dry  Not Raining  Daylight   \n",
       "68           Not Applicable       Sealed           Dry  Not Raining  Daylight   \n",
       "84           Not Applicable       Sealed           Dry  Not Raining  Daylight   \n",
       "89           Not Applicable       Sealed           Dry  Not Raining  Daylight   \n",
       "...                     ...          ...           ...          ...       ...   \n",
       "12905        Not Applicable       Sealed           Dry  Not Raining  Daylight   \n",
       "12922        Not Applicable       Sealed           Dry  Not Raining  Daylight   \n",
       "12954        Not Applicable       Sealed           Dry  Not Raining     Night   \n",
       "12961  Driveway or Entrance       Sealed           Dry  Not Raining  Daylight   \n",
       "12963        Not Applicable       Sealed           Dry  Not Raining  Daylight   \n",
       "\n",
       "               Crash Type  Unit Resp   Entity Code CSEF Severity  \\\n",
       "8               Roll Over          1  Driver Rider         2: MI   \n",
       "26     Hit Parked Vehicle          2  Driver Rider         2: MI   \n",
       "68               Rear End          2  Driver Rider        1: PDO   \n",
       "84            Right Angle          2  Driver Rider        1: PDO   \n",
       "89             Side Swipe          1  Driver Rider         2: MI   \n",
       "...                   ...        ...           ...           ...   \n",
       "12905            Rear End          2  Driver Rider         2: MI   \n",
       "12922      Hit Pedestrian          1    Pedestrian         2: MI   \n",
       "12954    Hit Fixed Object          1  Driver Rider        1: PDO   \n",
       "12961          Side Swipe          2  Driver Rider         2: MI   \n",
       "12963           Roll Over          1  Driver Rider         3: SI   \n",
       "\n",
       "      Traffic Ctrls  DUI Involved  Drugs Involved  Unit No  No Of Cas  \\\n",
       "8         Stop Sign           0.0             0.0        1          1   \n",
       "26       No Control           0.0             0.0        1          1   \n",
       "68       Roundabout           0.0             0.0        1          0   \n",
       "84       No Control           0.0             0.0        1          0   \n",
       "89       No Control           0.0             0.0        1          1   \n",
       "...             ...           ...             ...      ...        ...   \n",
       "12905    No Control           0.0             0.0        1          1   \n",
       "12922    No Control           0.0             0.0        1          1   \n",
       "12954    No Control           1.0             0.0        1          0   \n",
       "12961    No Control           0.0             0.0        1          1   \n",
       "12963    No Control           1.0             0.0        1          1   \n",
       "\n",
       "      Veh Reg State  Unit Type Veh Year Direction Of Travel     Sex  Age  \\\n",
       "8                SA          5      NaN          North East  Female  056   \n",
       "26               SA          5      NaN               North    Male  016   \n",
       "68               SA          5      NaN               North    Male  039   \n",
       "84               SA          5      NaN                West    Male  013   \n",
       "89               SA          5      NaN          South West    Male  063   \n",
       "...             ...        ...      ...                 ...     ...  ...   \n",
       "12905            SA          5      NaN               North    Male  034   \n",
       "12922            SA          7      NaN                East  Female  089   \n",
       "12954            SA          5      NaN          North West    Male  019   \n",
       "12961            SA          5      NaN          North East    Male  047   \n",
       "12963            SA          5      NaN               North    Male  056   \n",
       "\n",
       "      Lic State Licence Class Licence Type Towing             Unit Movement  \\\n",
       "8           NaN           NaN          NaN    NaN            Straight Ahead   \n",
       "26          NaN           NaN          NaN    NaN            Straight Ahead   \n",
       "68          NaN           NaN          NaN    NaN    Stopped on Carriageway   \n",
       "84          NaN           NaN          NaN    NaN            Straight Ahead   \n",
       "89          NaN           NaN          NaN    NaN            Straight Ahead   \n",
       "...         ...           ...          ...    ...                       ...   \n",
       "12905       NaN           NaN          NaN    NaN            Straight Ahead   \n",
       "12922       NaN           NaN          NaN    NaN  Crossing without Control   \n",
       "12954       NaN           NaN          NaN    NaN            Straight Ahead   \n",
       "12961       NaN           NaN          NaN    NaN            Straight Ahead   \n",
       "12963       NaN           NaN          NaN    NaN            Straight Ahead   \n",
       "\n",
       "       Number Occupants  Rollover  Fire  \n",
       "8                   1.0       1.0   0.0  \n",
       "26                  1.0       0.0   0.0  \n",
       "68                  1.0       0.0   0.0  \n",
       "84                  1.0       0.0   0.0  \n",
       "89                  1.0       0.0   0.0  \n",
       "...                 ...       ...   ...  \n",
       "12905               1.0       0.0   0.0  \n",
       "12922               NaN       0.0   0.0  \n",
       "12954               1.0       0.0   0.0  \n",
       "12961               1.0       0.0   0.0  \n",
       "12963               1.0       1.0   0.0  \n",
       "\n",
       "[406 rows x 43 columns]"
      ]
     },
     "execution_count": 55,
     "metadata": {},
     "output_type": "execute_result"
    }
   ],
   "source": [
    "df.loc[df['Veh Year'].isna()]"
   ]
  },
  {
   "cell_type": "code",
   "execution_count": 56,
   "metadata": {},
   "outputs": [
    {
     "data": {
      "text/plain": [
       "2017    663\n",
       "2006    650\n",
       "2012    639\n",
       "2008    632\n",
       "2010    627\n",
       "2018    626\n",
       "2005    625\n",
       "2013    624\n",
       "2016    619\n",
       "2007    614\n",
       "2015    609\n",
       "2003    583\n",
       "2014    574\n",
       "2004    537\n",
       "2009    520\n",
       "2011    505\n",
       "2002    491\n",
       "2001    378\n",
       "2000    345\n",
       "1999    275\n",
       "1998    261\n",
       "1997    181\n",
       "XXXX    158\n",
       "2019    153\n",
       "1996    127\n",
       "1995    116\n",
       "1994     94\n",
       "1993     70\n",
       "1992     58\n",
       "1990     39\n",
       "1991     35\n",
       "1989     28\n",
       "1988     17\n",
       "1986     11\n",
       "1983      9\n",
       "1984      9\n",
       "1987      8\n",
       "1985      7\n",
       "1971      5\n",
       "1973      4\n",
       "1980      3\n",
       "1975      3\n",
       "1982      3\n",
       "1976      3\n",
       "1969      3\n",
       "1974      2\n",
       "1972      2\n",
       "1979      2\n",
       "1967      2\n",
       "1981      2\n",
       "1964      1\n",
       "1970      1\n",
       "1978      1\n",
       "1900      1\n",
       "1932      1\n",
       "1968      1\n",
       "1977      1\n",
       "Name: Veh Year, dtype: int64"
      ]
     },
     "execution_count": 56,
     "metadata": {},
     "output_type": "execute_result"
    }
   ],
   "source": [
    "df['Veh Year'].value_counts()"
   ]
  },
  {
   "cell_type": "markdown",
   "metadata": {},
   "source": [
    "I don't imagine a car from 1900 was being driven around in a crash - I will incorporate it into the XXXX unknown values."
   ]
  },
  {
   "cell_type": "code",
   "execution_count": 57,
   "metadata": {},
   "outputs": [],
   "source": [
    "df['Veh Year'].replace('1900', 'XXXX', inplace=True)"
   ]
  },
  {
   "cell_type": "code",
   "execution_count": 58,
   "metadata": {
    "scrolled": false
   },
   "outputs": [],
   "source": [
    "df['Veh Year'] = pd.to_numeric(df['Veh Year'], errors='coerce')"
   ]
  },
  {
   "cell_type": "code",
   "execution_count": 59,
   "metadata": {
    "scrolled": true
   },
   "outputs": [
    {
     "data": {
      "text/plain": [
       "2017.0    663\n",
       "2006.0    650\n",
       "2012.0    639\n",
       "2008.0    632\n",
       "2010.0    627\n",
       "2018.0    626\n",
       "2005.0    625\n",
       "2013.0    624\n",
       "2016.0    619\n",
       "2007.0    614\n",
       "2015.0    609\n",
       "2003.0    583\n",
       "2014.0    574\n",
       "2004.0    537\n",
       "2009.0    520\n",
       "2011.0    505\n",
       "2002.0    491\n",
       "2001.0    378\n",
       "2000.0    345\n",
       "1999.0    275\n",
       "1998.0    261\n",
       "1997.0    181\n",
       "2019.0    153\n",
       "1996.0    127\n",
       "1995.0    116\n",
       "1994.0     94\n",
       "1993.0     70\n",
       "1992.0     58\n",
       "1990.0     39\n",
       "1991.0     35\n",
       "1989.0     28\n",
       "1988.0     17\n",
       "1986.0     11\n",
       "1983.0      9\n",
       "1984.0      9\n",
       "1987.0      8\n",
       "1985.0      7\n",
       "1971.0      5\n",
       "1973.0      4\n",
       "1982.0      3\n",
       "1975.0      3\n",
       "1976.0      3\n",
       "1969.0      3\n",
       "1980.0      3\n",
       "1979.0      2\n",
       "1972.0      2\n",
       "1974.0      2\n",
       "1967.0      2\n",
       "1981.0      2\n",
       "1968.0      1\n",
       "1977.0      1\n",
       "1964.0      1\n",
       "1978.0      1\n",
       "1932.0      1\n",
       "1970.0      1\n",
       "Name: Veh Year, dtype: int64"
      ]
     },
     "execution_count": 59,
     "metadata": {},
     "output_type": "execute_result"
    }
   ],
   "source": [
    "df['Veh Year'].value_counts()"
   ]
  },
  {
   "cell_type": "code",
   "execution_count": 60,
   "metadata": {
    "scrolled": true
   },
   "outputs": [
    {
     "data": {
      "text/plain": [
       "565"
      ]
     },
     "execution_count": 60,
     "metadata": {},
     "output_type": "execute_result"
    }
   ],
   "source": [
    "df['Veh Year'].isna().sum()"
   ]
  },
  {
   "cell_type": "code",
   "execution_count": 61,
   "metadata": {},
   "outputs": [
    {
     "data": {
      "text/plain": [
       "2008.0"
      ]
     },
     "execution_count": 61,
     "metadata": {},
     "output_type": "execute_result"
    }
   ],
   "source": [
    "df['Veh Year'].median()"
   ]
  },
  {
   "cell_type": "code",
   "execution_count": 62,
   "metadata": {
    "scrolled": true
   },
   "outputs": [
    {
     "data": {
      "text/plain": [
       "2008.028631341237"
      ]
     },
     "execution_count": 62,
     "metadata": {},
     "output_type": "execute_result"
    }
   ],
   "source": [
    "df['Veh Year'].mean()"
   ]
  },
  {
   "cell_type": "code",
   "execution_count": 63,
   "metadata": {},
   "outputs": [],
   "source": [
    "df['Veh Year'].fillna(df['Veh Year'].median(), inplace=True)"
   ]
  },
  {
   "cell_type": "code",
   "execution_count": 64,
   "metadata": {},
   "outputs": [
    {
     "data": {
      "text/plain": [
       "0"
      ]
     },
     "execution_count": 64,
     "metadata": {},
     "output_type": "execute_result"
    }
   ],
   "source": [
    "df['Veh Year'].isna().sum()"
   ]
  },
  {
   "cell_type": "code",
   "execution_count": 65,
   "metadata": {
    "scrolled": true
   },
   "outputs": [
    {
     "data": {
      "text/plain": [
       "12964"
      ]
     },
     "execution_count": 65,
     "metadata": {},
     "output_type": "execute_result"
    }
   ],
   "source": [
    "df['Veh Year'].value_counts().sum()"
   ]
  },
  {
   "cell_type": "code",
   "execution_count": 66,
   "metadata": {},
   "outputs": [
    {
     "data": {
      "image/png": "[encoded data removed]",
      "text/plain": [
       "<Figure size 432x288 with 1 Axes>"
      ]
     },
     "metadata": {
      "needs_background": "light"
     },
     "output_type": "display_data"
    },
    {
     "data": {
      "text/plain": [
       "<Figure size 2880x720 with 0 Axes>"
      ]
     },
     "metadata": {},
     "output_type": "display_data"
    }
   ],
   "source": [
    "df['Veh Year'].value_counts().plot(kind='bar')\n",
    "plt.plot()\n",
    "plt.figure(figsize=(40,10))\n",
    "plt.show()  "
   ]
  },
  {
   "cell_type": "code",
   "execution_count": 67,
   "metadata": {},
   "outputs": [
    {
     "data": {
      "text/plain": [
       "<bound method Series.mean of 0        1998.0\n",
       "1        2007.0\n",
       "2        2008.0\n",
       "3        2015.0\n",
       "4        2017.0\n",
       "          ...  \n",
       "12959    2016.0\n",
       "12960    2004.0\n",
       "12961    2008.0\n",
       "12962    2007.0\n",
       "12963    2008.0\n",
       "Name: Veh Year, Length: 12964, dtype: float64>"
      ]
     },
     "execution_count": 67,
     "metadata": {},
     "output_type": "execute_result"
    }
   ],
   "source": [
    "df['Veh Year'].mean"
   ]
  },
  {
   "cell_type": "code",
   "execution_count": 68,
   "metadata": {
    "scrolled": true
   },
   "outputs": [],
   "source": [
    "#Remapping Veh Year column to Veh Age\n",
    "df.rename(columns = {\"Veh Year\": \"Veh_Age\"}, inplace=True)"
   ]
  },
  {
   "cell_type": "code",
   "execution_count": 69,
   "metadata": {},
   "outputs": [
    {
     "data": {
      "text/plain": [
       "dtype('float64')"
      ]
     },
     "execution_count": 69,
     "metadata": {},
     "output_type": "execute_result"
    }
   ],
   "source": [
    "df[\"Veh_Age\"].dtype"
   ]
  },
  {
   "cell_type": "code",
   "execution_count": 70,
   "metadata": {},
   "outputs": [],
   "source": [
    "df['Veh_Age'] = 2019 - (df['Veh_Age'])"
   ]
  },
  {
   "cell_type": "code",
   "execution_count": 71,
   "metadata": {
    "scrolled": true
   },
   "outputs": [
    {
     "data": {
      "text/plain": [
       "11.0    1197\n",
       "2.0      663\n",
       "13.0     650\n",
       "7.0      639\n",
       "9.0      627\n",
       "1.0      626\n",
       "14.0     625\n",
       "6.0      624\n",
       "3.0      619\n",
       "12.0     614\n",
       "4.0      609\n",
       "16.0     583\n",
       "5.0      574\n",
       "15.0     537\n",
       "10.0     520\n",
       "8.0      505\n",
       "17.0     491\n",
       "18.0     378\n",
       "19.0     345\n",
       "20.0     275\n",
       "21.0     261\n",
       "22.0     181\n",
       "0.0      153\n",
       "23.0     127\n",
       "24.0     116\n",
       "25.0      94\n",
       "26.0      70\n",
       "27.0      58\n",
       "29.0      39\n",
       "28.0      35\n",
       "30.0      28\n",
       "31.0      17\n",
       "33.0      11\n",
       "35.0       9\n",
       "36.0       9\n",
       "32.0       8\n",
       "34.0       7\n",
       "48.0       5\n",
       "46.0       4\n",
       "50.0       3\n",
       "39.0       3\n",
       "37.0       3\n",
       "44.0       3\n",
       "43.0       3\n",
       "52.0       2\n",
       "47.0       2\n",
       "38.0       2\n",
       "45.0       2\n",
       "40.0       2\n",
       "51.0       1\n",
       "49.0       1\n",
       "42.0       1\n",
       "41.0       1\n",
       "55.0       1\n",
       "87.0       1\n",
       "Name: Veh_Age, dtype: int64"
      ]
     },
     "execution_count": 71,
     "metadata": {},
     "output_type": "execute_result"
    }
   ],
   "source": [
    "df['Veh_Age'].value_counts()"
   ]
  },
  {
   "cell_type": "code",
   "execution_count": 72,
   "metadata": {},
   "outputs": [
    {
     "data": {
      "image/png": "[encoded data removed]",
      "text/plain": [
       "<Figure size 432x288 with 1 Axes>"
      ]
     },
     "metadata": {
      "needs_background": "light"
     },
     "output_type": "display_data"
    }
   ],
   "source": [
    "sns.boxplot(x='CSEF Severity', y='Veh_Age', data=df)\n",
    "plt.xlabel('Crash Severity')\n",
    "plt.ylabel('Vehicle Age')\n",
    "plt.title('Crash Severity vs. Age of Vehicle')\n",
    "fig = plt.gcf()\n",
    "fig.savefig('Crash Severity vs Vehicle Age.png')"
   ]
  },
  {
   "cell_type": "code",
   "execution_count": 73,
   "metadata": {
    "scrolled": true
   },
   "outputs": [
    {
     "data": {
      "text/plain": [
       "<AxesSubplot:>"
      ]
     },
     "execution_count": 73,
     "metadata": {},
     "output_type": "execute_result"
    },
    {
     "data": {
      "image/png": "[encoded data removed]",
      "text/plain": [
       "<Figure size 432x288 with 2 Axes>"
      ]
     },
     "metadata": {
      "needs_background": "light"
     },
     "output_type": "display_data"
    }
   ],
   "source": [
    "sns.heatmap(df.corr())"
   ]
  },
  {
   "cell_type": "code",
   "execution_count": 74,
   "metadata": {},
   "outputs": [],
   "source": [
    "Modern_Veh = df['Veh_Age'] < 20\n",
    "df.loc[Modern_Veh, 'Veh_Age'] = 1\n",
    "Medium_Veh = (df['Veh_Age'] >= 20) & (df['Veh_Age'] <= 40)\n",
    "df.loc[Medium_Veh, 'Veh_Age'] = 2\n",
    "Vintage_Veh = df['Veh_Age'] >40\n",
    "df.loc[Vintage_Veh, 'Veh_Age'] = 3"
   ]
  },
  {
   "cell_type": "code",
   "execution_count": 75,
   "metadata": {
    "scrolled": false
   },
   "outputs": [
    {
     "data": {
      "text/plain": [
       "1.0    11579\n",
       "2.0     1355\n",
       "3.0       30\n",
       "Name: Veh_Age, dtype: int64"
      ]
     },
     "execution_count": 75,
     "metadata": {},
     "output_type": "execute_result"
    }
   ],
   "source": [
    "df['Veh_Age'].value_counts()"
   ]
  },
  {
   "cell_type": "code",
   "execution_count": 76,
   "metadata": {},
   "outputs": [
    {
     "data": {
      "text/plain": [
       "REPORT_ID                0\n",
       "Stats Area               0\n",
       "Total Units              0\n",
       "Total Cas                0\n",
       "Total Fats               0\n",
       "Total SI                 0\n",
       "Total MI                 0\n",
       "Year                     0\n",
       "Month                    0\n",
       "Day                      0\n",
       "Time                     0\n",
       "Area Speed               0\n",
       "Position Type            0\n",
       "Horizontal Align         0\n",
       "Vertical Align           0\n",
       "Other Feat               0\n",
       "Road Surface             0\n",
       "Moisture Cond            0\n",
       "Weather Cond             0\n",
       "DayNight                 0\n",
       "Crash Type               0\n",
       "Unit Resp                0\n",
       "Entity Code              0\n",
       "CSEF Severity            0\n",
       "Traffic Ctrls            0\n",
       "DUI Involved             0\n",
       "Drugs Involved           0\n",
       "Unit No                  0\n",
       "No Of Cas                0\n",
       "Veh Reg State            0\n",
       "Unit Type                0\n",
       "Veh_Age                  0\n",
       "Direction Of Travel      1\n",
       "Sex                    343\n",
       "Age                    343\n",
       "Lic State              769\n",
       "Licence Class          747\n",
       "Licence Type           748\n",
       "Towing                 483\n",
       "Unit Movement            1\n",
       "Number Occupants        94\n",
       "Rollover                 0\n",
       "Fire                     0\n",
       "dtype: int64"
      ]
     },
     "execution_count": 76,
     "metadata": {},
     "output_type": "execute_result"
    }
   ],
   "source": [
    "df.isnull().sum()"
   ]
  },
  {
   "cell_type": "code",
   "execution_count": 77,
   "metadata": {},
   "outputs": [
    {
     "data": {
      "text/plain": [
       "North         1939\n",
       "South         1838\n",
       "North East    1720\n",
       "South West    1635\n",
       "West          1553\n",
       "East          1523\n",
       "North West    1419\n",
       "South East    1334\n",
       "Unknown          2\n",
       "Name: Direction Of Travel, dtype: int64"
      ]
     },
     "execution_count": 77,
     "metadata": {},
     "output_type": "execute_result"
    }
   ],
   "source": [
    "df['Direction Of Travel'].value_counts()"
   ]
  },
  {
   "cell_type": "code",
   "execution_count": 78,
   "metadata": {},
   "outputs": [
    {
     "data": {
      "text/html": [
       "<div>\n",
       "<style scoped>\n",
       "    .dataframe tbody tr th:only-of-type {\n",
       "        vertical-align: middle;\n",
       "    }\n",
       "\n",
       "    .dataframe tbody tr th {\n",
       "        vertical-align: top;\n",
       "    }\n",
       "\n",
       "    .dataframe thead th {\n",
       "        text-align: right;\n",
       "    }\n",
       "</style>\n",
       "<table border=\"1\" class=\"dataframe\">\n",
       "  <thead>\n",
       "    <tr style=\"text-align: right;\">\n",
       "      <th></th>\n",
       "      <th>REPORT_ID</th>\n",
       "      <th>Stats Area</th>\n",
       "      <th>Total Units</th>\n",
       "      <th>Total Cas</th>\n",
       "      <th>Total Fats</th>\n",
       "      <th>Total SI</th>\n",
       "      <th>Total MI</th>\n",
       "      <th>Year</th>\n",
       "      <th>Month</th>\n",
       "      <th>Day</th>\n",
       "      <th>Time</th>\n",
       "      <th>Area Speed</th>\n",
       "      <th>Position Type</th>\n",
       "      <th>Horizontal Align</th>\n",
       "      <th>Vertical Align</th>\n",
       "      <th>Other Feat</th>\n",
       "      <th>Road Surface</th>\n",
       "      <th>Moisture Cond</th>\n",
       "      <th>Weather Cond</th>\n",
       "      <th>DayNight</th>\n",
       "      <th>Crash Type</th>\n",
       "      <th>Unit Resp</th>\n",
       "      <th>Entity Code</th>\n",
       "      <th>CSEF Severity</th>\n",
       "      <th>Traffic Ctrls</th>\n",
       "      <th>DUI Involved</th>\n",
       "      <th>Drugs Involved</th>\n",
       "      <th>Unit No</th>\n",
       "      <th>No Of Cas</th>\n",
       "      <th>Veh Reg State</th>\n",
       "      <th>Unit Type</th>\n",
       "      <th>Veh_Age</th>\n",
       "      <th>Direction Of Travel</th>\n",
       "      <th>Sex</th>\n",
       "      <th>Age</th>\n",
       "      <th>Lic State</th>\n",
       "      <th>Licence Class</th>\n",
       "      <th>Licence Type</th>\n",
       "      <th>Towing</th>\n",
       "      <th>Unit Movement</th>\n",
       "      <th>Number Occupants</th>\n",
       "      <th>Rollover</th>\n",
       "      <th>Fire</th>\n",
       "    </tr>\n",
       "  </thead>\n",
       "  <tbody>\n",
       "    <tr>\n",
       "      <th>9065</th>\n",
       "      <td>2019-9066-8/07/2020</td>\n",
       "      <td>2 Metropolitan</td>\n",
       "      <td>4</td>\n",
       "      <td>1</td>\n",
       "      <td>0</td>\n",
       "      <td>0</td>\n",
       "      <td>1</td>\n",
       "      <td>2019</td>\n",
       "      <td>September</td>\n",
       "      <td>Thursday</td>\n",
       "      <td>08:25 pm</td>\n",
       "      <td>60</td>\n",
       "      <td>Not Divided</td>\n",
       "      <td>Straight road</td>\n",
       "      <td>Level</td>\n",
       "      <td>Not Applicable</td>\n",
       "      <td>Sealed</td>\n",
       "      <td>Dry</td>\n",
       "      <td>Not Raining</td>\n",
       "      <td>Night</td>\n",
       "      <td>Hit Animal</td>\n",
       "      <td>1</td>\n",
       "      <td>Animal</td>\n",
       "      <td>2: MI</td>\n",
       "      <td>No Control</td>\n",
       "      <td>0.0</td>\n",
       "      <td>0.0</td>\n",
       "      <td>1</td>\n",
       "      <td>0</td>\n",
       "      <td>SA</td>\n",
       "      <td>6</td>\n",
       "      <td>1.0</td>\n",
       "      <td>NaN</td>\n",
       "      <td>NaN</td>\n",
       "      <td>NaN</td>\n",
       "      <td>NaN</td>\n",
       "      <td>NaN</td>\n",
       "      <td>NaN</td>\n",
       "      <td>NaN</td>\n",
       "      <td>NaN</td>\n",
       "      <td>NaN</td>\n",
       "      <td>0.0</td>\n",
       "      <td>0.0</td>\n",
       "    </tr>\n",
       "  </tbody>\n",
       "</table>\n",
       "</div>"
      ],
      "text/plain": [
       "                REPORT_ID      Stats Area  Total Units  Total Cas  Total Fats  \\\n",
       "9065  2019-9066-8/07/2020  2 Metropolitan            4          1           0   \n",
       "\n",
       "      Total SI  Total MI  Year      Month       Day      Time  Area Speed  \\\n",
       "9065         0         1  2019  September  Thursday  08:25 pm          60   \n",
       "\n",
       "     Position Type Horizontal Align Vertical Align      Other Feat  \\\n",
       "9065   Not Divided    Straight road          Level  Not Applicable   \n",
       "\n",
       "     Road Surface Moisture Cond Weather Cond DayNight  Crash Type  Unit Resp  \\\n",
       "9065       Sealed           Dry  Not Raining    Night  Hit Animal          1   \n",
       "\n",
       "     Entity Code CSEF Severity Traffic Ctrls  DUI Involved  Drugs Involved  \\\n",
       "9065      Animal         2: MI    No Control           0.0             0.0   \n",
       "\n",
       "      Unit No  No Of Cas Veh Reg State  Unit Type  Veh_Age  \\\n",
       "9065        1          0            SA          6      1.0   \n",
       "\n",
       "     Direction Of Travel  Sex  Age Lic State Licence Class Licence Type  \\\n",
       "9065                 NaN  NaN  NaN       NaN           NaN          NaN   \n",
       "\n",
       "     Towing Unit Movement  Number Occupants  Rollover  Fire  \n",
       "9065    NaN           NaN               NaN       0.0   0.0  "
      ]
     },
     "execution_count": 78,
     "metadata": {},
     "output_type": "execute_result"
    }
   ],
   "source": [
    "df.loc[df['Direction Of Travel'].isnull()]"
   ]
  },
  {
   "cell_type": "markdown",
   "metadata": {},
   "source": [
    "As there are only 3 values that are null/Unknown, I will replace them with North. I don't believe this will have a great influence on the results."
   ]
  },
  {
   "cell_type": "code",
   "execution_count": 79,
   "metadata": {},
   "outputs": [],
   "source": [
    "df['Direction Of Travel'].replace('Unknown', 'North', inplace=True)"
   ]
  },
  {
   "cell_type": "code",
   "execution_count": 80,
   "metadata": {},
   "outputs": [],
   "source": [
    "df['Direction Of Travel'].fillna(value='North', inplace=True)"
   ]
  },
  {
   "cell_type": "code",
   "execution_count": 81,
   "metadata": {
    "scrolled": true
   },
   "outputs": [
    {
     "data": {
      "text/plain": [
       "0"
      ]
     },
     "execution_count": 81,
     "metadata": {},
     "output_type": "execute_result"
    }
   ],
   "source": [
    "df['Direction Of Travel'].isnull().sum()"
   ]
  },
  {
   "cell_type": "code",
   "execution_count": 82,
   "metadata": {},
   "outputs": [
    {
     "data": {
      "text/plain": [
       "North         1942\n",
       "South         1838\n",
       "North East    1720\n",
       "South West    1635\n",
       "West          1553\n",
       "East          1523\n",
       "North West    1419\n",
       "South East    1334\n",
       "Name: Direction Of Travel, dtype: int64"
      ]
     },
     "execution_count": 82,
     "metadata": {},
     "output_type": "execute_result"
    }
   ],
   "source": [
    "df['Direction Of Travel'].value_counts()"
   ]
  },
  {
   "cell_type": "markdown",
   "metadata": {},
   "source": [
    "Targeting encoding direction of travel will follow"
   ]
  },
  {
   "cell_type": "code",
   "execution_count": 83,
   "metadata": {},
   "outputs": [
    {
     "name": "stdout",
     "output_type": "stream",
     "text": [
      "Male       7676\n",
      "Female     4645\n",
      "Unknown     300\n",
      "Name: Sex, dtype: int64\n",
      "343\n"
     ]
    }
   ],
   "source": [
    "print(df['Sex'].value_counts())\n",
    "print(df['Sex'].isnull().sum())"
   ]
  },
  {
   "cell_type": "code",
   "execution_count": 84,
   "metadata": {},
   "outputs": [],
   "source": [
    "#I will fill the NaN values with male and the 'Unknown' values with female - this will roughly preserve the ~60/40 split that is observed in the data\n",
    "df['Sex'].fillna(value='Male', inplace=True)\n",
    "df['Sex'].replace('Unknown', 'Female', inplace=True)"
   ]
  },
  {
   "cell_type": "code",
   "execution_count": 85,
   "metadata": {
    "scrolled": false
   },
   "outputs": [
    {
     "name": "stdout",
     "output_type": "stream",
     "text": [
      "Male      0.618559\n",
      "Female    0.381441\n",
      "Name: Sex, dtype: float64\n",
      "0\n"
     ]
    }
   ],
   "source": [
    "print(df['Sex'].value_counts(normalize=True))\n",
    "print(df['Sex'].isnull().sum())"
   ]
  },
  {
   "cell_type": "code",
   "execution_count": 86,
   "metadata": {},
   "outputs": [
    {
     "name": "stdout",
     "output_type": "stream",
     "text": [
      "1    8019\n",
      "0    4945\n",
      "Name: Sex, dtype: int64\n"
     ]
    }
   ],
   "source": [
    "df['Sex'].replace('Male', 1, inplace=True)\n",
    "df['Sex'].replace('Female', 0, inplace=True)\n",
    "\n",
    "# Male = 1; Female = 0\n",
    "print(df['Sex'].value_counts())"
   ]
  },
  {
   "cell_type": "code",
   "execution_count": 87,
   "metadata": {},
   "outputs": [
    {
     "name": "stdout",
     "output_type": "stream",
     "text": [
      "020    377\n",
      "019    365\n",
      "021    352\n",
      "XXX    348\n",
      "022    344\n",
      "      ... \n",
      "009      2\n",
      "004      1\n",
      "008      1\n",
      "097      1\n",
      "006      1\n",
      "Name: Age, Length: 90, dtype: int64\n",
      "343\n"
     ]
    }
   ],
   "source": [
    "print(df['Age'].value_counts())\n",
    "print(df['Age'].isnull().sum())"
   ]
  },
  {
   "cell_type": "code",
   "execution_count": 88,
   "metadata": {},
   "outputs": [],
   "source": [
    "df['Age'] = pd.to_numeric(df['Age'], errors='coerce')"
   ]
  },
  {
   "cell_type": "code",
   "execution_count": 89,
   "metadata": {},
   "outputs": [
    {
     "name": "stdout",
     "output_type": "stream",
     "text": [
      "20.0    377\n",
      "19.0    365\n",
      "21.0    352\n",
      "22.0    344\n",
      "23.0    325\n",
      "       ... \n",
      "9.0       2\n",
      "97.0      1\n",
      "6.0       1\n",
      "4.0       1\n",
      "8.0       1\n",
      "Name: Age, Length: 89, dtype: int64\n",
      "[85. 21. nan 31. 26. 56. 46. 19. 37. 18. 40. 17. 48. 24. 41. 58. 16. 27.\n",
      " 44. 87. 28. 35. 50. 34. 63. 23. 61. 49. 32. 82. 29. 38. 67. 43. 42. 30.\n",
      " 71. 55. 22. 53. 36. 33. 39. 72. 25. 62. 20. 13. 54. 47. 65. 80. 60. 52.\n",
      " 57. 74. 59. 51. 75. 81. 68. 70. 94. 79. 66. 45. 69. 76. 90. 88. 78. 64.\n",
      " 15. 77. 73. 83. 12. 84. 86. 89. 11. 91.  9. 14. 92. 93.  8.  4.  6. 97.]\n"
     ]
    }
   ],
   "source": [
    "print(df['Age'].value_counts())\n",
    "print(df['Age'].unique())"
   ]
  },
  {
   "cell_type": "code",
   "execution_count": 90,
   "metadata": {},
   "outputs": [
    {
     "data": {
      "text/plain": [
       "691"
      ]
     },
     "execution_count": 90,
     "metadata": {},
     "output_type": "execute_result"
    }
   ],
   "source": [
    "df['Age'].isna().sum()"
   ]
  },
  {
   "cell_type": "code",
   "execution_count": 91,
   "metadata": {
    "scrolled": true
   },
   "outputs": [
    {
     "name": "stdout",
     "output_type": "stream",
     "text": [
      "40.82188543958282\n"
     ]
    }
   ],
   "source": [
    "print(df['Age'].mean(skipna=True))"
   ]
  },
  {
   "cell_type": "code",
   "execution_count": 92,
   "metadata": {},
   "outputs": [
    {
     "name": "stdout",
     "output_type": "stream",
     "text": [
      "37.0\n"
     ]
    }
   ],
   "source": [
    "print(df['Age'].median(skipna=True))"
   ]
  },
  {
   "cell_type": "code",
   "execution_count": 93,
   "metadata": {
    "scrolled": true
   },
   "outputs": [
    {
     "data": {
      "text/plain": [
       "Sex\n",
       "0    37.0\n",
       "1    37.0\n",
       "Name: Age, dtype: float64"
      ]
     },
     "execution_count": 93,
     "metadata": {},
     "output_type": "execute_result"
    }
   ],
   "source": [
    "df.groupby(\"Sex\")[\"Age\"].median()"
   ]
  },
  {
   "cell_type": "code",
   "execution_count": 94,
   "metadata": {},
   "outputs": [],
   "source": [
    "df['Age'].fillna(df.groupby(by=['Sex'])['Age'].transform(\"median\"), inplace=True)"
   ]
  },
  {
   "cell_type": "code",
   "execution_count": 95,
   "metadata": {},
   "outputs": [],
   "source": [
    "df['Age'].fillna(37, inplace=True)"
   ]
  },
  {
   "cell_type": "code",
   "execution_count": 96,
   "metadata": {
    "scrolled": true
   },
   "outputs": [
    {
     "data": {
      "text/plain": [
       "0"
      ]
     },
     "execution_count": 96,
     "metadata": {},
     "output_type": "execute_result"
    }
   ],
   "source": [
    "df['Age'].isna().sum()"
   ]
  },
  {
   "cell_type": "code",
   "execution_count": 97,
   "metadata": {
    "scrolled": true
   },
   "outputs": [
    {
     "data": {
      "text/plain": [
       "37.0    900\n",
       "20.0    377\n",
       "19.0    365\n",
       "21.0    352\n",
       "22.0    344\n",
       "       ... \n",
       "9.0       2\n",
       "97.0      1\n",
       "6.0       1\n",
       "4.0       1\n",
       "8.0       1\n",
       "Name: Age, Length: 89, dtype: int64"
      ]
     },
     "execution_count": 97,
     "metadata": {},
     "output_type": "execute_result"
    }
   ],
   "source": [
    "df['Age'].value_counts()"
   ]
  },
  {
   "cell_type": "code",
   "execution_count": 272,
   "metadata": {
    "scrolled": true
   },
   "outputs": [
    {
     "data": {
      "text/plain": [
       "<AxesSubplot:xlabel='Age', ylabel='Count'>"
      ]
     },
     "execution_count": 272,
     "metadata": {},
     "output_type": "execute_result"
    },
    {
     "data": {
      "image/png": "[encoded data removed]",
      "text/plain": [
       "<Figure size 432x288 with 1 Axes>"
      ]
     },
     "metadata": {
      "needs_background": "light"
     },
     "output_type": "display_data"
    }
   ],
   "source": [
    "sns.histplot(x= 'Age', data=df, bins = 20)"
   ]
  },
  {
   "cell_type": "code",
   "execution_count": 274,
   "metadata": {
    "scrolled": true
   },
   "outputs": [
    {
     "data": {
      "text/plain": [
       "1.0"
      ]
     },
     "execution_count": 274,
     "metadata": {},
     "output_type": "execute_result"
    }
   ],
   "source": [
    "df.Age.min()"
   ]
  },
  {
   "cell_type": "code",
   "execution_count": 275,
   "metadata": {},
   "outputs": [
    {
     "data": {
      "text/plain": [
       "97.0"
      ]
     },
     "execution_count": 275,
     "metadata": {},
     "output_type": "execute_result"
    }
   ],
   "source": [
    "df.Age.max()"
   ]
  },
  {
   "cell_type": "code",
   "execution_count": 273,
   "metadata": {},
   "outputs": [
    {
     "data": {
      "text/html": [
       "<div>\n",
       "<style scoped>\n",
       "    .dataframe tbody tr th:only-of-type {\n",
       "        vertical-align: middle;\n",
       "    }\n",
       "\n",
       "    .dataframe tbody tr th {\n",
       "        vertical-align: top;\n",
       "    }\n",
       "\n",
       "    .dataframe thead th {\n",
       "        text-align: right;\n",
       "    }\n",
       "</style>\n",
       "<table border=\"1\" class=\"dataframe\">\n",
       "  <thead>\n",
       "    <tr style=\"text-align: right;\">\n",
       "      <th></th>\n",
       "      <th>Stats Area</th>\n",
       "      <th>Total Units</th>\n",
       "      <th>Casualty</th>\n",
       "      <th>Area Speed</th>\n",
       "      <th>Position Type</th>\n",
       "      <th>Horizontal Align</th>\n",
       "      <th>Vertical Align</th>\n",
       "      <th>Sealed Road</th>\n",
       "      <th>Dry Road</th>\n",
       "      <th>Raining</th>\n",
       "      <th>Daytime</th>\n",
       "      <th>Crash Type</th>\n",
       "      <th>Unit Resp</th>\n",
       "      <th>Entity Code</th>\n",
       "      <th>Traffic Ctrls</th>\n",
       "      <th>DUI Involved</th>\n",
       "      <th>Drugs Involved</th>\n",
       "      <th>Unit No</th>\n",
       "      <th>Veh Reg State</th>\n",
       "      <th>Unit Type</th>\n",
       "      <th>Veh_Age</th>\n",
       "      <th>Direction Of Travel</th>\n",
       "      <th>Sex</th>\n",
       "      <th>Age</th>\n",
       "      <th>Lic State</th>\n",
       "      <th>Licence Type</th>\n",
       "      <th>Towing</th>\n",
       "      <th>Unit Movement</th>\n",
       "      <th>Number Occupants</th>\n",
       "      <th>Rollover</th>\n",
       "      <th>Fire</th>\n",
       "    </tr>\n",
       "    <tr>\n",
       "      <th>REPORT_ID</th>\n",
       "      <th></th>\n",
       "      <th></th>\n",
       "      <th></th>\n",
       "      <th></th>\n",
       "      <th></th>\n",
       "      <th></th>\n",
       "      <th></th>\n",
       "      <th></th>\n",
       "      <th></th>\n",
       "      <th></th>\n",
       "      <th></th>\n",
       "      <th></th>\n",
       "      <th></th>\n",
       "      <th></th>\n",
       "      <th></th>\n",
       "      <th></th>\n",
       "      <th></th>\n",
       "      <th></th>\n",
       "      <th></th>\n",
       "      <th></th>\n",
       "      <th></th>\n",
       "      <th></th>\n",
       "      <th></th>\n",
       "      <th></th>\n",
       "      <th></th>\n",
       "      <th></th>\n",
       "      <th></th>\n",
       "      <th></th>\n",
       "      <th></th>\n",
       "      <th></th>\n",
       "      <th></th>\n",
       "    </tr>\n",
       "  </thead>\n",
       "  <tbody>\n",
       "    <tr>\n",
       "      <th>2019-14-8/07/2020</th>\n",
       "      <td>2</td>\n",
       "      <td>3</td>\n",
       "      <td>1</td>\n",
       "      <td>3</td>\n",
       "      <td>4</td>\n",
       "      <td>1</td>\n",
       "      <td>1</td>\n",
       "      <td>0</td>\n",
       "      <td>1</td>\n",
       "      <td>0</td>\n",
       "      <td>0</td>\n",
       "      <td>1</td>\n",
       "      <td>1</td>\n",
       "      <td>1</td>\n",
       "      <td>1</td>\n",
       "      <td>0.0</td>\n",
       "      <td>0.0</td>\n",
       "      <td>1</td>\n",
       "      <td>0.366998</td>\n",
       "      <td>1</td>\n",
       "      <td>1.0</td>\n",
       "      <td>0.386047</td>\n",
       "      <td>0</td>\n",
       "      <td>1.0</td>\n",
       "      <td>0.36522</td>\n",
       "      <td>8</td>\n",
       "      <td>0.0</td>\n",
       "      <td>0.377448</td>\n",
       "      <td>1.0</td>\n",
       "      <td>0.0</td>\n",
       "      <td>0.0</td>\n",
       "    </tr>\n",
       "    <tr>\n",
       "      <th>2019-34-8/07/2020</th>\n",
       "      <td>2</td>\n",
       "      <td>2</td>\n",
       "      <td>0</td>\n",
       "      <td>2</td>\n",
       "      <td>1</td>\n",
       "      <td>1</td>\n",
       "      <td>1</td>\n",
       "      <td>1</td>\n",
       "      <td>1</td>\n",
       "      <td>0</td>\n",
       "      <td>1</td>\n",
       "      <td>1</td>\n",
       "      <td>2</td>\n",
       "      <td>1</td>\n",
       "      <td>5</td>\n",
       "      <td>0.0</td>\n",
       "      <td>0.0</td>\n",
       "      <td>1</td>\n",
       "      <td>0.366998</td>\n",
       "      <td>1</td>\n",
       "      <td>1.0</td>\n",
       "      <td>0.373232</td>\n",
       "      <td>1</td>\n",
       "      <td>2.0</td>\n",
       "      <td>0.36522</td>\n",
       "      <td>8</td>\n",
       "      <td>0.0</td>\n",
       "      <td>0.377448</td>\n",
       "      <td>1.0</td>\n",
       "      <td>0.0</td>\n",
       "      <td>0.0</td>\n",
       "    </tr>\n",
       "    <tr>\n",
       "      <th>2019-55-8/07/2020</th>\n",
       "      <td>2</td>\n",
       "      <td>2</td>\n",
       "      <td>1</td>\n",
       "      <td>2</td>\n",
       "      <td>1</td>\n",
       "      <td>2</td>\n",
       "      <td>1</td>\n",
       "      <td>1</td>\n",
       "      <td>1</td>\n",
       "      <td>0</td>\n",
       "      <td>1</td>\n",
       "      <td>1</td>\n",
       "      <td>2</td>\n",
       "      <td>1</td>\n",
       "      <td>1</td>\n",
       "      <td>0.0</td>\n",
       "      <td>0.0</td>\n",
       "      <td>1</td>\n",
       "      <td>0.366998</td>\n",
       "      <td>1</td>\n",
       "      <td>1.0</td>\n",
       "      <td>0.372093</td>\n",
       "      <td>1</td>\n",
       "      <td>1.0</td>\n",
       "      <td>0.36522</td>\n",
       "      <td>8</td>\n",
       "      <td>0.0</td>\n",
       "      <td>0.395788</td>\n",
       "      <td>1.0</td>\n",
       "      <td>0.0</td>\n",
       "      <td>0.0</td>\n",
       "    </tr>\n",
       "    <tr>\n",
       "      <th>2019-70-8/07/2020</th>\n",
       "      <td>2</td>\n",
       "      <td>2</td>\n",
       "      <td>0</td>\n",
       "      <td>2</td>\n",
       "      <td>3</td>\n",
       "      <td>1</td>\n",
       "      <td>1</td>\n",
       "      <td>1</td>\n",
       "      <td>1</td>\n",
       "      <td>0</td>\n",
       "      <td>1</td>\n",
       "      <td>1</td>\n",
       "      <td>2</td>\n",
       "      <td>1</td>\n",
       "      <td>1</td>\n",
       "      <td>0.0</td>\n",
       "      <td>0.0</td>\n",
       "      <td>1</td>\n",
       "      <td>0.366998</td>\n",
       "      <td>1</td>\n",
       "      <td>1.0</td>\n",
       "      <td>0.369607</td>\n",
       "      <td>0</td>\n",
       "      <td>1.0</td>\n",
       "      <td>0.36522</td>\n",
       "      <td>8</td>\n",
       "      <td>0.0</td>\n",
       "      <td>0.395788</td>\n",
       "      <td>1.0</td>\n",
       "      <td>0.0</td>\n",
       "      <td>0.0</td>\n",
       "    </tr>\n",
       "    <tr>\n",
       "      <th>2019-76-8/07/2020</th>\n",
       "      <td>3</td>\n",
       "      <td>1</td>\n",
       "      <td>1</td>\n",
       "      <td>3</td>\n",
       "      <td>3</td>\n",
       "      <td>1</td>\n",
       "      <td>1</td>\n",
       "      <td>0</td>\n",
       "      <td>1</td>\n",
       "      <td>0</td>\n",
       "      <td>1</td>\n",
       "      <td>3</td>\n",
       "      <td>1</td>\n",
       "      <td>1</td>\n",
       "      <td>1</td>\n",
       "      <td>0.0</td>\n",
       "      <td>0.0</td>\n",
       "      <td>1</td>\n",
       "      <td>0.366998</td>\n",
       "      <td>1</td>\n",
       "      <td>1.0</td>\n",
       "      <td>0.382263</td>\n",
       "      <td>0</td>\n",
       "      <td>1.0</td>\n",
       "      <td>0.36522</td>\n",
       "      <td>6</td>\n",
       "      <td>0.0</td>\n",
       "      <td>0.377448</td>\n",
       "      <td>2.0</td>\n",
       "      <td>1.0</td>\n",
       "      <td>0.0</td>\n",
       "    </tr>\n",
       "    <tr>\n",
       "      <th>...</th>\n",
       "      <td>...</td>\n",
       "      <td>...</td>\n",
       "      <td>...</td>\n",
       "      <td>...</td>\n",
       "      <td>...</td>\n",
       "      <td>...</td>\n",
       "      <td>...</td>\n",
       "      <td>...</td>\n",
       "      <td>...</td>\n",
       "      <td>...</td>\n",
       "      <td>...</td>\n",
       "      <td>...</td>\n",
       "      <td>...</td>\n",
       "      <td>...</td>\n",
       "      <td>...</td>\n",
       "      <td>...</td>\n",
       "      <td>...</td>\n",
       "      <td>...</td>\n",
       "      <td>...</td>\n",
       "      <td>...</td>\n",
       "      <td>...</td>\n",
       "      <td>...</td>\n",
       "      <td>...</td>\n",
       "      <td>...</td>\n",
       "      <td>...</td>\n",
       "      <td>...</td>\n",
       "      <td>...</td>\n",
       "      <td>...</td>\n",
       "      <td>...</td>\n",
       "      <td>...</td>\n",
       "      <td>...</td>\n",
       "    </tr>\n",
       "    <tr>\n",
       "      <th>2019-12899-8/07/2020</th>\n",
       "      <td>2</td>\n",
       "      <td>3</td>\n",
       "      <td>0</td>\n",
       "      <td>3</td>\n",
       "      <td>3</td>\n",
       "      <td>2</td>\n",
       "      <td>1</td>\n",
       "      <td>1</td>\n",
       "      <td>1</td>\n",
       "      <td>0</td>\n",
       "      <td>0</td>\n",
       "      <td>2</td>\n",
       "      <td>1</td>\n",
       "      <td>1</td>\n",
       "      <td>1</td>\n",
       "      <td>0.0</td>\n",
       "      <td>0.0</td>\n",
       "      <td>1</td>\n",
       "      <td>0.366998</td>\n",
       "      <td>1</td>\n",
       "      <td>1.0</td>\n",
       "      <td>0.373232</td>\n",
       "      <td>0</td>\n",
       "      <td>1.0</td>\n",
       "      <td>0.36522</td>\n",
       "      <td>7</td>\n",
       "      <td>0.0</td>\n",
       "      <td>0.377448</td>\n",
       "      <td>1.0</td>\n",
       "      <td>0.0</td>\n",
       "      <td>0.0</td>\n",
       "    </tr>\n",
       "    <tr>\n",
       "      <th>2019-12900-8/07/2020</th>\n",
       "      <td>2</td>\n",
       "      <td>2</td>\n",
       "      <td>0</td>\n",
       "      <td>3</td>\n",
       "      <td>1</td>\n",
       "      <td>2</td>\n",
       "      <td>1</td>\n",
       "      <td>1</td>\n",
       "      <td>1</td>\n",
       "      <td>0</td>\n",
       "      <td>1</td>\n",
       "      <td>1</td>\n",
       "      <td>2</td>\n",
       "      <td>1</td>\n",
       "      <td>3</td>\n",
       "      <td>0.0</td>\n",
       "      <td>0.0</td>\n",
       "      <td>1</td>\n",
       "      <td>0.366998</td>\n",
       "      <td>1</td>\n",
       "      <td>2.0</td>\n",
       "      <td>0.369607</td>\n",
       "      <td>1</td>\n",
       "      <td>2.0</td>\n",
       "      <td>0.36522</td>\n",
       "      <td>8</td>\n",
       "      <td>0.0</td>\n",
       "      <td>0.333984</td>\n",
       "      <td>1.0</td>\n",
       "      <td>0.0</td>\n",
       "      <td>0.0</td>\n",
       "    </tr>\n",
       "    <tr>\n",
       "      <th>2019-12924-8/07/2020</th>\n",
       "      <td>1</td>\n",
       "      <td>2</td>\n",
       "      <td>1</td>\n",
       "      <td>2</td>\n",
       "      <td>1</td>\n",
       "      <td>1</td>\n",
       "      <td>1</td>\n",
       "      <td>1</td>\n",
       "      <td>1</td>\n",
       "      <td>0</td>\n",
       "      <td>1</td>\n",
       "      <td>1</td>\n",
       "      <td>2</td>\n",
       "      <td>1</td>\n",
       "      <td>5</td>\n",
       "      <td>0.0</td>\n",
       "      <td>0.0</td>\n",
       "      <td>1</td>\n",
       "      <td>0.366998</td>\n",
       "      <td>1</td>\n",
       "      <td>1.0</td>\n",
       "      <td>0.382263</td>\n",
       "      <td>0</td>\n",
       "      <td>3.0</td>\n",
       "      <td>0.36522</td>\n",
       "      <td>8</td>\n",
       "      <td>0.0</td>\n",
       "      <td>0.377448</td>\n",
       "      <td>1.0</td>\n",
       "      <td>0.0</td>\n",
       "      <td>0.0</td>\n",
       "    </tr>\n",
       "    <tr>\n",
       "      <th>2019-12929-8/07/2020</th>\n",
       "      <td>2</td>\n",
       "      <td>2</td>\n",
       "      <td>1</td>\n",
       "      <td>2</td>\n",
       "      <td>1</td>\n",
       "      <td>1</td>\n",
       "      <td>1</td>\n",
       "      <td>1</td>\n",
       "      <td>1</td>\n",
       "      <td>0</td>\n",
       "      <td>1</td>\n",
       "      <td>1</td>\n",
       "      <td>2</td>\n",
       "      <td>1</td>\n",
       "      <td>5</td>\n",
       "      <td>0.0</td>\n",
       "      <td>0.0</td>\n",
       "      <td>1</td>\n",
       "      <td>0.366998</td>\n",
       "      <td>1</td>\n",
       "      <td>2.0</td>\n",
       "      <td>0.371064</td>\n",
       "      <td>1</td>\n",
       "      <td>1.0</td>\n",
       "      <td>0.36522</td>\n",
       "      <td>7</td>\n",
       "      <td>0.0</td>\n",
       "      <td>0.395788</td>\n",
       "      <td>2.0</td>\n",
       "      <td>0.0</td>\n",
       "      <td>0.0</td>\n",
       "    </tr>\n",
       "    <tr>\n",
       "      <th>2019-12959-8/07/2020</th>\n",
       "      <td>2</td>\n",
       "      <td>2</td>\n",
       "      <td>1</td>\n",
       "      <td>2</td>\n",
       "      <td>4</td>\n",
       "      <td>1</td>\n",
       "      <td>1</td>\n",
       "      <td>1</td>\n",
       "      <td>1</td>\n",
       "      <td>0</td>\n",
       "      <td>1</td>\n",
       "      <td>1</td>\n",
       "      <td>2</td>\n",
       "      <td>1</td>\n",
       "      <td>1</td>\n",
       "      <td>0.0</td>\n",
       "      <td>0.0</td>\n",
       "      <td>1</td>\n",
       "      <td>0.366998</td>\n",
       "      <td>1</td>\n",
       "      <td>1.0</td>\n",
       "      <td>0.369607</td>\n",
       "      <td>0</td>\n",
       "      <td>1.0</td>\n",
       "      <td>0.36522</td>\n",
       "      <td>8</td>\n",
       "      <td>0.0</td>\n",
       "      <td>0.395788</td>\n",
       "      <td>1.0</td>\n",
       "      <td>0.0</td>\n",
       "      <td>0.0</td>\n",
       "    </tr>\n",
       "  </tbody>\n",
       "</table>\n",
       "<p>1639 rows × 31 columns</p>\n",
       "</div>"
      ],
      "text/plain": [
       "                      Stats Area  Total Units  Casualty  Area Speed  \\\n",
       "REPORT_ID                                                             \n",
       "2019-14-8/07/2020              2            3         1           3   \n",
       "2019-34-8/07/2020              2            2         0           2   \n",
       "2019-55-8/07/2020              2            2         1           2   \n",
       "2019-70-8/07/2020              2            2         0           2   \n",
       "2019-76-8/07/2020              3            1         1           3   \n",
       "...                          ...          ...       ...         ...   \n",
       "2019-12899-8/07/2020           2            3         0           3   \n",
       "2019-12900-8/07/2020           2            2         0           3   \n",
       "2019-12924-8/07/2020           1            2         1           2   \n",
       "2019-12929-8/07/2020           2            2         1           2   \n",
       "2019-12959-8/07/2020           2            2         1           2   \n",
       "\n",
       "                      Position Type  Horizontal Align  Vertical Align  \\\n",
       "REPORT_ID                                                               \n",
       "2019-14-8/07/2020                 4                 1               1   \n",
       "2019-34-8/07/2020                 1                 1               1   \n",
       "2019-55-8/07/2020                 1                 2               1   \n",
       "2019-70-8/07/2020                 3                 1               1   \n",
       "2019-76-8/07/2020                 3                 1               1   \n",
       "...                             ...               ...             ...   \n",
       "2019-12899-8/07/2020              3                 2               1   \n",
       "2019-12900-8/07/2020              1                 2               1   \n",
       "2019-12924-8/07/2020              1                 1               1   \n",
       "2019-12929-8/07/2020              1                 1               1   \n",
       "2019-12959-8/07/2020              4                 1               1   \n",
       "\n",
       "                      Sealed Road  Dry Road  Raining  Daytime  Crash Type  \\\n",
       "REPORT_ID                                                                   \n",
       "2019-14-8/07/2020               0         1        0        0           1   \n",
       "2019-34-8/07/2020               1         1        0        1           1   \n",
       "2019-55-8/07/2020               1         1        0        1           1   \n",
       "2019-70-8/07/2020               1         1        0        1           1   \n",
       "2019-76-8/07/2020               0         1        0        1           3   \n",
       "...                           ...       ...      ...      ...         ...   \n",
       "2019-12899-8/07/2020            1         1        0        0           2   \n",
       "2019-12900-8/07/2020            1         1        0        1           1   \n",
       "2019-12924-8/07/2020            1         1        0        1           1   \n",
       "2019-12929-8/07/2020            1         1        0        1           1   \n",
       "2019-12959-8/07/2020            1         1        0        1           1   \n",
       "\n",
       "                      Unit Resp  Entity Code  Traffic Ctrls  DUI Involved  \\\n",
       "REPORT_ID                                                                   \n",
       "2019-14-8/07/2020             1            1              1           0.0   \n",
       "2019-34-8/07/2020             2            1              5           0.0   \n",
       "2019-55-8/07/2020             2            1              1           0.0   \n",
       "2019-70-8/07/2020             2            1              1           0.0   \n",
       "2019-76-8/07/2020             1            1              1           0.0   \n",
       "...                         ...          ...            ...           ...   \n",
       "2019-12899-8/07/2020          1            1              1           0.0   \n",
       "2019-12900-8/07/2020          2            1              3           0.0   \n",
       "2019-12924-8/07/2020          2            1              5           0.0   \n",
       "2019-12929-8/07/2020          2            1              5           0.0   \n",
       "2019-12959-8/07/2020          2            1              1           0.0   \n",
       "\n",
       "                      Drugs Involved  Unit No  Veh Reg State  Unit Type  \\\n",
       "REPORT_ID                                                                 \n",
       "2019-14-8/07/2020                0.0        1       0.366998          1   \n",
       "2019-34-8/07/2020                0.0        1       0.366998          1   \n",
       "2019-55-8/07/2020                0.0        1       0.366998          1   \n",
       "2019-70-8/07/2020                0.0        1       0.366998          1   \n",
       "2019-76-8/07/2020                0.0        1       0.366998          1   \n",
       "...                              ...      ...            ...        ...   \n",
       "2019-12899-8/07/2020             0.0        1       0.366998          1   \n",
       "2019-12900-8/07/2020             0.0        1       0.366998          1   \n",
       "2019-12924-8/07/2020             0.0        1       0.366998          1   \n",
       "2019-12929-8/07/2020             0.0        1       0.366998          1   \n",
       "2019-12959-8/07/2020             0.0        1       0.366998          1   \n",
       "\n",
       "                      Veh_Age  Direction Of Travel  Sex  Age  Lic State  \\\n",
       "REPORT_ID                                                                 \n",
       "2019-14-8/07/2020         1.0             0.386047    0  1.0    0.36522   \n",
       "2019-34-8/07/2020         1.0             0.373232    1  2.0    0.36522   \n",
       "2019-55-8/07/2020         1.0             0.372093    1  1.0    0.36522   \n",
       "2019-70-8/07/2020         1.0             0.369607    0  1.0    0.36522   \n",
       "2019-76-8/07/2020         1.0             0.382263    0  1.0    0.36522   \n",
       "...                       ...                  ...  ...  ...        ...   \n",
       "2019-12899-8/07/2020      1.0             0.373232    0  1.0    0.36522   \n",
       "2019-12900-8/07/2020      2.0             0.369607    1  2.0    0.36522   \n",
       "2019-12924-8/07/2020      1.0             0.382263    0  3.0    0.36522   \n",
       "2019-12929-8/07/2020      2.0             0.371064    1  1.0    0.36522   \n",
       "2019-12959-8/07/2020      1.0             0.369607    0  1.0    0.36522   \n",
       "\n",
       "                      Licence Type  Towing  Unit Movement  Number Occupants  \\\n",
       "REPORT_ID                                                                     \n",
       "2019-14-8/07/2020                8     0.0       0.377448               1.0   \n",
       "2019-34-8/07/2020                8     0.0       0.377448               1.0   \n",
       "2019-55-8/07/2020                8     0.0       0.395788               1.0   \n",
       "2019-70-8/07/2020                8     0.0       0.395788               1.0   \n",
       "2019-76-8/07/2020                6     0.0       0.377448               2.0   \n",
       "...                            ...     ...            ...               ...   \n",
       "2019-12899-8/07/2020             7     0.0       0.377448               1.0   \n",
       "2019-12900-8/07/2020             8     0.0       0.333984               1.0   \n",
       "2019-12924-8/07/2020             8     0.0       0.377448               1.0   \n",
       "2019-12929-8/07/2020             7     0.0       0.395788               2.0   \n",
       "2019-12959-8/07/2020             8     0.0       0.395788               1.0   \n",
       "\n",
       "                      Rollover  Fire  \n",
       "REPORT_ID                             \n",
       "2019-14-8/07/2020          0.0   0.0  \n",
       "2019-34-8/07/2020          0.0   0.0  \n",
       "2019-55-8/07/2020          0.0   0.0  \n",
       "2019-70-8/07/2020          0.0   0.0  \n",
       "2019-76-8/07/2020          1.0   0.0  \n",
       "...                        ...   ...  \n",
       "2019-12899-8/07/2020       0.0   0.0  \n",
       "2019-12900-8/07/2020       0.0   0.0  \n",
       "2019-12924-8/07/2020       0.0   0.0  \n",
       "2019-12929-8/07/2020       0.0   0.0  \n",
       "2019-12959-8/07/2020       0.0   0.0  \n",
       "\n",
       "[1639 rows x 31 columns]"
      ]
     },
     "execution_count": 273,
     "metadata": {},
     "output_type": "execute_result"
    }
   ],
   "source": [
    "df.loc[df['Age'] < 12]"
   ]
  },
  {
   "cell_type": "code",
   "execution_count": 100,
   "metadata": {},
   "outputs": [
    {
     "data": {
      "text/plain": [
       "REPORT_ID                0\n",
       "Stats Area               0\n",
       "Total Units              0\n",
       "Total Cas                0\n",
       "Total Fats               0\n",
       "Total SI                 0\n",
       "Total MI                 0\n",
       "Year                     0\n",
       "Month                    0\n",
       "Day                      0\n",
       "Time                     0\n",
       "Area Speed               0\n",
       "Position Type            0\n",
       "Horizontal Align         0\n",
       "Vertical Align           0\n",
       "Other Feat               0\n",
       "Road Surface             0\n",
       "Moisture Cond            0\n",
       "Weather Cond             0\n",
       "DayNight                 0\n",
       "Crash Type               0\n",
       "Unit Resp                0\n",
       "Entity Code              0\n",
       "CSEF Severity            0\n",
       "Traffic Ctrls            0\n",
       "DUI Involved             0\n",
       "Drugs Involved           0\n",
       "Unit No                  0\n",
       "No Of Cas                0\n",
       "Veh Reg State            0\n",
       "Unit Type                0\n",
       "Veh_Age                  0\n",
       "Direction Of Travel      0\n",
       "Sex                      0\n",
       "Age                      0\n",
       "Lic State              769\n",
       "Licence Class          747\n",
       "Licence Type           748\n",
       "Towing                 483\n",
       "Unit Movement            1\n",
       "Number Occupants        94\n",
       "Rollover                 0\n",
       "Fire                     0\n",
       "dtype: int64"
      ]
     },
     "execution_count": 100,
     "metadata": {},
     "output_type": "execute_result"
    }
   ],
   "source": [
    "df.isnull().sum()"
   ]
  },
  {
   "cell_type": "code",
   "execution_count": 101,
   "metadata": {},
   "outputs": [
    {
     "data": {
      "text/plain": [
       "SA         11330\n",
       "UNKNOWN      529\n",
       "VIC          137\n",
       "NSW           53\n",
       "QLD           46\n",
       "O/S           43\n",
       "WA            33\n",
       "NT            18\n",
       "TAS            4\n",
       "ACT            2\n",
       "Name: Lic State, dtype: int64"
      ]
     },
     "execution_count": 101,
     "metadata": {},
     "output_type": "execute_result"
    }
   ],
   "source": [
    "df['Lic State'].value_counts()"
   ]
  },
  {
   "cell_type": "markdown",
   "metadata": {},
   "source": [
    "I will make all unknown/NaN licence into SA licence by default"
   ]
  },
  {
   "cell_type": "code",
   "execution_count": 102,
   "metadata": {},
   "outputs": [],
   "source": [
    "df['Lic State'].fillna('SA', inplace=True)"
   ]
  },
  {
   "cell_type": "code",
   "execution_count": 103,
   "metadata": {},
   "outputs": [],
   "source": [
    "df['Lic State'].replace('UNKNOWN', 'SA', inplace=True)"
   ]
  },
  {
   "cell_type": "code",
   "execution_count": 104,
   "metadata": {},
   "outputs": [
    {
     "data": {
      "text/plain": [
       "SA     12628\n",
       "VIC      137\n",
       "NSW       53\n",
       "QLD       46\n",
       "O/S       43\n",
       "WA        33\n",
       "NT        18\n",
       "TAS        4\n",
       "ACT        2\n",
       "Name: Lic State, dtype: int64"
      ]
     },
     "execution_count": 104,
     "metadata": {},
     "output_type": "execute_result"
    }
   ],
   "source": [
    "df['Lic State'].value_counts()"
   ]
  },
  {
   "cell_type": "code",
   "execution_count": 105,
   "metadata": {},
   "outputs": [
    {
     "data": {
      "text/plain": [
       "REPORT_ID                0\n",
       "Stats Area               0\n",
       "Total Units              0\n",
       "Total Cas                0\n",
       "Total Fats               0\n",
       "Total SI                 0\n",
       "Total MI                 0\n",
       "Year                     0\n",
       "Month                    0\n",
       "Day                      0\n",
       "Time                     0\n",
       "Area Speed               0\n",
       "Position Type            0\n",
       "Horizontal Align         0\n",
       "Vertical Align           0\n",
       "Other Feat               0\n",
       "Road Surface             0\n",
       "Moisture Cond            0\n",
       "Weather Cond             0\n",
       "DayNight                 0\n",
       "Crash Type               0\n",
       "Unit Resp                0\n",
       "Entity Code              0\n",
       "CSEF Severity            0\n",
       "Traffic Ctrls            0\n",
       "DUI Involved             0\n",
       "Drugs Involved           0\n",
       "Unit No                  0\n",
       "No Of Cas                0\n",
       "Veh Reg State            0\n",
       "Unit Type                0\n",
       "Veh_Age                  0\n",
       "Direction Of Travel      0\n",
       "Sex                      0\n",
       "Age                      0\n",
       "Lic State                0\n",
       "Licence Class          747\n",
       "Licence Type           748\n",
       "Towing                 483\n",
       "Unit Movement            1\n",
       "Number Occupants        94\n",
       "Rollover                 0\n",
       "Fire                     0\n",
       "dtype: int64"
      ]
     },
     "execution_count": 105,
     "metadata": {},
     "output_type": "execute_result"
    }
   ],
   "source": [
    "df.isnull().sum()"
   ]
  },
  {
   "cell_type": "code",
   "execution_count": 106,
   "metadata": {},
   "outputs": [
    {
     "data": {
      "text/plain": [
       "C       9249\n",
       "HR       519\n",
       "C R      504\n",
       "XX       459\n",
       "HC       251\n",
       "MR       246\n",
       "MC       175\n",
       "HRR      151\n",
       "C RD     145\n",
       "HCR      137\n",
       "MRR       89\n",
       "MCR       85\n",
       "LR        60\n",
       "RD        46\n",
       "LRR       34\n",
       "R         30\n",
       "HRRD      14\n",
       "HCRD       7\n",
       "MRRD       7\n",
       "XXR        3\n",
       "MCRD       2\n",
       "XXXX       2\n",
       "C XX       1\n",
       "XXRD       1\n",
       "Name: Licence Class, dtype: int64"
      ]
     },
     "execution_count": 106,
     "metadata": {},
     "output_type": "execute_result"
    }
   ],
   "source": [
    "df['Licence Class'].value_counts()"
   ]
  },
  {
   "cell_type": "markdown",
   "metadata": {},
   "source": [
    "C Car\n",
    "\n",
    "LR Light Rigid\n",
    "\n",
    "MR Medium Rigid\n",
    "\n",
    "HR Heavy Rigid\n",
    "\n",
    "HC Heavy Combination\n",
    "\n",
    "MC Multi Combination\n",
    "\n",
    "R-DATE Motorcycle or trike with an engine capacity up to 660 ml and a power-to-weight ratio not exceeding 150 kw/tonne\n",
    "\n",
    "R Motorcycle\n",
    "\n",
    "https://www.sa.gov.au/topics/driving-and-transport/licences/licence-details/driver-s-licence-classes"
   ]
  },
  {
   "cell_type": "markdown",
   "metadata": {},
   "source": [
    "I would have preferred information on licence types to stratify into a level of experience for the driver, i.e learners, P plate etc. As it stands, this list of licence types doesn't indicate the driver's level of experience and for that reason I don't believe it to be informative for my model. I will drop this column."
   ]
  },
  {
   "cell_type": "code",
   "execution_count": 107,
   "metadata": {},
   "outputs": [],
   "source": [
    "df.drop(columns = 'Licence Class', inplace=True)"
   ]
  },
  {
   "cell_type": "code",
   "execution_count": 108,
   "metadata": {},
   "outputs": [
    {
     "data": {
      "text/plain": [
       "REPORT_ID                0\n",
       "Stats Area               0\n",
       "Total Units              0\n",
       "Total Cas                0\n",
       "Total Fats               0\n",
       "Total SI                 0\n",
       "Total MI                 0\n",
       "Year                     0\n",
       "Month                    0\n",
       "Day                      0\n",
       "Time                     0\n",
       "Area Speed               0\n",
       "Position Type            0\n",
       "Horizontal Align         0\n",
       "Vertical Align           0\n",
       "Other Feat               0\n",
       "Road Surface             0\n",
       "Moisture Cond            0\n",
       "Weather Cond             0\n",
       "DayNight                 0\n",
       "Crash Type               0\n",
       "Unit Resp                0\n",
       "Entity Code              0\n",
       "CSEF Severity            0\n",
       "Traffic Ctrls            0\n",
       "DUI Involved             0\n",
       "Drugs Involved           0\n",
       "Unit No                  0\n",
       "No Of Cas                0\n",
       "Veh Reg State            0\n",
       "Unit Type                0\n",
       "Veh_Age                  0\n",
       "Direction Of Travel      0\n",
       "Sex                      0\n",
       "Age                      0\n",
       "Lic State                0\n",
       "Licence Type           748\n",
       "Towing                 483\n",
       "Unit Movement            1\n",
       "Number Occupants        94\n",
       "Rollover                 0\n",
       "Fire                     0\n",
       "dtype: int64"
      ]
     },
     "execution_count": 108,
     "metadata": {},
     "output_type": "execute_result"
    }
   ],
   "source": [
    "df.isnull().sum()"
   ]
  },
  {
   "cell_type": "code",
   "execution_count": 109,
   "metadata": {},
   "outputs": [
    {
     "data": {
      "text/plain": [
       "Full              9624\n",
       "Provisional 2      911\n",
       "Provisional 1      629\n",
       "Unknown            422\n",
       "Unlicenced         326\n",
       "Learners           213\n",
       "Probationary        71\n",
       "Disqualified        19\n",
       "Conditional          1\n",
       "Name: Licence Type, dtype: int64"
      ]
     },
     "execution_count": 109,
     "metadata": {},
     "output_type": "execute_result"
    }
   ],
   "source": [
    "df['Licence Type'].value_counts()"
   ]
  },
  {
   "cell_type": "markdown",
   "metadata": {},
   "source": [
    "Without knowing the licence type, I will have to assume Full licence Type for drivers and will replace Unknown/NaN values as such."
   ]
  },
  {
   "cell_type": "code",
   "execution_count": 110,
   "metadata": {},
   "outputs": [],
   "source": [
    "df['Licence Type'].fillna('Full', inplace=True)"
   ]
  },
  {
   "cell_type": "code",
   "execution_count": 111,
   "metadata": {},
   "outputs": [],
   "source": [
    "df['Licence Type'].replace('Unknown', 'Full', inplace=True)"
   ]
  },
  {
   "cell_type": "code",
   "execution_count": 112,
   "metadata": {},
   "outputs": [
    {
     "data": {
      "text/plain": [
       "Full              10794\n",
       "Provisional 2       911\n",
       "Provisional 1       629\n",
       "Unlicenced          326\n",
       "Learners            213\n",
       "Probationary         71\n",
       "Disqualified         19\n",
       "Conditional           1\n",
       "Name: Licence Type, dtype: int64"
      ]
     },
     "execution_count": 112,
     "metadata": {},
     "output_type": "execute_result"
    }
   ],
   "source": [
    "df['Licence Type'].value_counts()"
   ]
  },
  {
   "cell_type": "code",
   "execution_count": 113,
   "metadata": {},
   "outputs": [],
   "source": [
    "lic_type_di = {'Unlicenced': 1, 'Disqualified': 2, 'Learners': 3, 'Conditional': 4, 'Probationary': 5, 'Provisional 1 ': 6, 'Provisional 2': 7, 'Full': 8}\n",
    "\n",
    "df['Licence Type'] = df['Licence Type'].replace(lic_type_di, inplace=False)"
   ]
  },
  {
   "cell_type": "code",
   "execution_count": 114,
   "metadata": {},
   "outputs": [
    {
     "data": {
      "text/plain": [
       "8    10794\n",
       "7      911\n",
       "6      629\n",
       "1      326\n",
       "3      213\n",
       "5       71\n",
       "2       19\n",
       "4        1\n",
       "Name: Licence Type, dtype: int64"
      ]
     },
     "execution_count": 114,
     "metadata": {},
     "output_type": "execute_result"
    }
   ],
   "source": [
    "df['Licence Type'].value_counts()"
   ]
  },
  {
   "cell_type": "code",
   "execution_count": 115,
   "metadata": {},
   "outputs": [
    {
     "name": "stdout",
     "output_type": "stream",
     "text": [
      "Not Towing                12000\n",
      "Trailer                     379\n",
      "Unknown                      83\n",
      "Caravan                      13\n",
      "Boat                          2\n",
      "Motor Vehicle                 1\n",
      "Agricultural Implement        1\n",
      "Horse Float                   1\n",
      "Other                         1\n",
      "Name: Towing, dtype: int64\n",
      "483\n"
     ]
    }
   ],
   "source": [
    "print(df['Towing'].value_counts())\n",
    "print(df['Towing'].isnull().sum())"
   ]
  },
  {
   "cell_type": "code",
   "execution_count": 116,
   "metadata": {},
   "outputs": [],
   "source": [
    "not_towing = ['Not Towing', 'Unknown']\n",
    "towing = ['Trailer', 'Caravan', 'Boat', 'Agricultural Implement', 'Horse Float', 'Other', 'Motor Vehicle']\n",
    "df['Towing'].replace(not_towing, 0, inplace=True)\n",
    "df['Towing'].replace(towing, 1, inplace=True)"
   ]
  },
  {
   "cell_type": "code",
   "execution_count": 117,
   "metadata": {},
   "outputs": [],
   "source": [
    "df['Towing'].fillna(0, inplace=True)"
   ]
  },
  {
   "cell_type": "code",
   "execution_count": 118,
   "metadata": {},
   "outputs": [
    {
     "name": "stdout",
     "output_type": "stream",
     "text": [
      "0.0    12566\n",
      "1.0      398\n",
      "Name: Towing, dtype: int64\n",
      "0\n"
     ]
    }
   ],
   "source": [
    "print(df['Towing'].value_counts())\n",
    "print(df['Towing'].isnull().sum())"
   ]
  },
  {
   "cell_type": "code",
   "execution_count": 119,
   "metadata": {},
   "outputs": [
    {
     "data": {
      "text/plain": [
       "REPORT_ID               0\n",
       "Stats Area              0\n",
       "Total Units             0\n",
       "Total Cas               0\n",
       "Total Fats              0\n",
       "Total SI                0\n",
       "Total MI                0\n",
       "Year                    0\n",
       "Month                   0\n",
       "Day                     0\n",
       "Time                    0\n",
       "Area Speed              0\n",
       "Position Type           0\n",
       "Horizontal Align        0\n",
       "Vertical Align          0\n",
       "Other Feat              0\n",
       "Road Surface            0\n",
       "Moisture Cond           0\n",
       "Weather Cond            0\n",
       "DayNight                0\n",
       "Crash Type              0\n",
       "Unit Resp               0\n",
       "Entity Code             0\n",
       "CSEF Severity           0\n",
       "Traffic Ctrls           0\n",
       "DUI Involved            0\n",
       "Drugs Involved          0\n",
       "Unit No                 0\n",
       "No Of Cas               0\n",
       "Veh Reg State           0\n",
       "Unit Type               0\n",
       "Veh_Age                 0\n",
       "Direction Of Travel     0\n",
       "Sex                     0\n",
       "Age                     0\n",
       "Lic State               0\n",
       "Licence Type            0\n",
       "Towing                  0\n",
       "Unit Movement           1\n",
       "Number Occupants       94\n",
       "Rollover                0\n",
       "Fire                    0\n",
       "dtype: int64"
      ]
     },
     "execution_count": 119,
     "metadata": {},
     "output_type": "execute_result"
    }
   ],
   "source": [
    "df.isnull().sum()"
   ]
  },
  {
   "cell_type": "code",
   "execution_count": 120,
   "metadata": {},
   "outputs": [
    {
     "name": "stdout",
     "output_type": "stream",
     "text": [
      "Straight Ahead                            7813\n",
      "Right Turn                                1429\n",
      "Stopped on Carriageway                    1377\n",
      "Swerving                                   538\n",
      "Left Turn                                  512\n",
      "Parked                                     403\n",
      "Leaving Private Driveway                   225\n",
      "U Turn                                     176\n",
      "Entering Private Driveway                  160\n",
      "Reversing                                   77\n",
      "Overtaking - on Right                       52\n",
      "UnParking - Parallel                        45\n",
      "Crossing without Control                    39\n",
      "Parking - Parallel                          26\n",
      "Walking on Road                             18\n",
      "Unparking -Angle                            15\n",
      "Walking on Footpath                         14\n",
      "Parking - Angle                             11\n",
      "Crossing with Traffic Signals               11\n",
      "Overtaking - on Left                        10\n",
      "Alighted from Parked Vehicle                 6\n",
      "On Pedestrian Crossing                       4\n",
      "Other                                        1\n",
      "Other (e.g. Police on Traffic Control)       1\n",
      "Name: Unit Movement, dtype: int64\n",
      "1\n"
     ]
    }
   ],
   "source": [
    "print(df['Unit Movement'].value_counts())\n",
    "print(df['Unit Movement'].isnull().sum())"
   ]
  },
  {
   "cell_type": "code",
   "execution_count": 121,
   "metadata": {},
   "outputs": [],
   "source": [
    "df['Unit Movement'].replace(['Other', 'Other (e.g. Police on Traffic Control)', 0], 'Miscellaneous', inplace=True)"
   ]
  },
  {
   "cell_type": "code",
   "execution_count": 122,
   "metadata": {
    "scrolled": true
   },
   "outputs": [],
   "source": [
    "df['Unit Movement'].fillna('Miscellaneous', inplace=True)"
   ]
  },
  {
   "cell_type": "code",
   "execution_count": 123,
   "metadata": {},
   "outputs": [
    {
     "name": "stdout",
     "output_type": "stream",
     "text": [
      "Straight Ahead                   7813\n",
      "Right Turn                       1429\n",
      "Stopped on Carriageway           1377\n",
      "Swerving                          538\n",
      "Left Turn                         512\n",
      "Parked                            403\n",
      "Leaving Private Driveway          225\n",
      "U Turn                            176\n",
      "Entering Private Driveway         160\n",
      "Reversing                          77\n",
      "Overtaking - on Right              52\n",
      "UnParking - Parallel               45\n",
      "Crossing without Control           39\n",
      "Parking - Parallel                 26\n",
      "Walking on Road                    18\n",
      "Unparking -Angle                   15\n",
      "Walking on Footpath                14\n",
      "Parking - Angle                    11\n",
      "Crossing with Traffic Signals      11\n",
      "Overtaking - on Left               10\n",
      "Alighted from Parked Vehicle        6\n",
      "On Pedestrian Crossing              4\n",
      "Miscellaneous                       3\n",
      "Name: Unit Movement, dtype: int64\n",
      "0\n"
     ]
    }
   ],
   "source": [
    "print(df['Unit Movement'].value_counts())\n",
    "print(df['Unit Movement'].isnull().sum())"
   ]
  },
  {
   "cell_type": "code",
   "execution_count": 124,
   "metadata": {},
   "outputs": [
    {
     "data": {
      "text/plain": [
       "REPORT_ID               0\n",
       "Stats Area              0\n",
       "Total Units             0\n",
       "Total Cas               0\n",
       "Total Fats              0\n",
       "Total SI                0\n",
       "Total MI                0\n",
       "Year                    0\n",
       "Month                   0\n",
       "Day                     0\n",
       "Time                    0\n",
       "Area Speed              0\n",
       "Position Type           0\n",
       "Horizontal Align        0\n",
       "Vertical Align          0\n",
       "Other Feat              0\n",
       "Road Surface            0\n",
       "Moisture Cond           0\n",
       "Weather Cond            0\n",
       "DayNight                0\n",
       "Crash Type              0\n",
       "Unit Resp               0\n",
       "Entity Code             0\n",
       "CSEF Severity           0\n",
       "Traffic Ctrls           0\n",
       "DUI Involved            0\n",
       "Drugs Involved          0\n",
       "Unit No                 0\n",
       "No Of Cas               0\n",
       "Veh Reg State           0\n",
       "Unit Type               0\n",
       "Veh_Age                 0\n",
       "Direction Of Travel     0\n",
       "Sex                     0\n",
       "Age                     0\n",
       "Lic State               0\n",
       "Licence Type            0\n",
       "Towing                  0\n",
       "Unit Movement           0\n",
       "Number Occupants       94\n",
       "Rollover                0\n",
       "Fire                    0\n",
       "dtype: int64"
      ]
     },
     "execution_count": 124,
     "metadata": {},
     "output_type": "execute_result"
    }
   ],
   "source": [
    "df.isnull().sum()"
   ]
  },
  {
   "cell_type": "code",
   "execution_count": 125,
   "metadata": {},
   "outputs": [
    {
     "name": "stdout",
     "output_type": "stream",
     "text": [
      "1.0     9414\n",
      "2.0     2123\n",
      "3.0      558\n",
      "0.0      342\n",
      "4.0      239\n",
      "5.0       83\n",
      "10.0      24\n",
      "6.0       19\n",
      "7.0        9\n",
      "15.0       8\n",
      "12.0       6\n",
      "8.0        6\n",
      "9.0        5\n",
      "25.0       5\n",
      "30.0       4\n",
      "20.0       3\n",
      "50.0       3\n",
      "21.0       3\n",
      "13.0       3\n",
      "16.0       2\n",
      "60.0       2\n",
      "11.0       2\n",
      "40.0       2\n",
      "48.0       1\n",
      "26.0       1\n",
      "41.0       1\n",
      "35.0       1\n",
      "75.0       1\n",
      "Name: Number Occupants, dtype: int64\n",
      "94\n"
     ]
    }
   ],
   "source": [
    "print(df['Number Occupants'].value_counts())\n",
    "print(df['Number Occupants'].isnull().sum())"
   ]
  },
  {
   "cell_type": "markdown",
   "metadata": {},
   "source": [
    "#0 occupants doesn't make any sense so I will change to 1 as someone has to be in control of a vehicle to cause an accident. Looking at the types of crashes that have number of occupants = 0, these all seem to be hitting stationery objects so I will impute them as 1 as the crash will be from the point of view of the person who crashed. I will also impute the NaN as 1 also."
   ]
  },
  {
   "cell_type": "code",
   "execution_count": 126,
   "metadata": {
    "scrolled": true
   },
   "outputs": [
    {
     "data": {
      "text/html": [
       "<div>\n",
       "<style scoped>\n",
       "    .dataframe tbody tr th:only-of-type {\n",
       "        vertical-align: middle;\n",
       "    }\n",
       "\n",
       "    .dataframe tbody tr th {\n",
       "        vertical-align: top;\n",
       "    }\n",
       "\n",
       "    .dataframe thead th {\n",
       "        text-align: right;\n",
       "    }\n",
       "</style>\n",
       "<table border=\"1\" class=\"dataframe\">\n",
       "  <thead>\n",
       "    <tr style=\"text-align: right;\">\n",
       "      <th></th>\n",
       "      <th>REPORT_ID</th>\n",
       "      <th>Stats Area</th>\n",
       "      <th>Total Units</th>\n",
       "      <th>Total Cas</th>\n",
       "      <th>Total Fats</th>\n",
       "      <th>Total SI</th>\n",
       "      <th>Total MI</th>\n",
       "      <th>Year</th>\n",
       "      <th>Month</th>\n",
       "      <th>Day</th>\n",
       "      <th>Time</th>\n",
       "      <th>Area Speed</th>\n",
       "      <th>Position Type</th>\n",
       "      <th>Horizontal Align</th>\n",
       "      <th>Vertical Align</th>\n",
       "      <th>Other Feat</th>\n",
       "      <th>Road Surface</th>\n",
       "      <th>Moisture Cond</th>\n",
       "      <th>Weather Cond</th>\n",
       "      <th>DayNight</th>\n",
       "      <th>Crash Type</th>\n",
       "      <th>Unit Resp</th>\n",
       "      <th>Entity Code</th>\n",
       "      <th>CSEF Severity</th>\n",
       "      <th>Traffic Ctrls</th>\n",
       "      <th>DUI Involved</th>\n",
       "      <th>Drugs Involved</th>\n",
       "      <th>Unit No</th>\n",
       "      <th>No Of Cas</th>\n",
       "      <th>Veh Reg State</th>\n",
       "      <th>Unit Type</th>\n",
       "      <th>Veh_Age</th>\n",
       "      <th>Direction Of Travel</th>\n",
       "      <th>Sex</th>\n",
       "      <th>Age</th>\n",
       "      <th>Lic State</th>\n",
       "      <th>Licence Type</th>\n",
       "      <th>Towing</th>\n",
       "      <th>Unit Movement</th>\n",
       "      <th>Number Occupants</th>\n",
       "      <th>Rollover</th>\n",
       "      <th>Fire</th>\n",
       "    </tr>\n",
       "  </thead>\n",
       "  <tbody>\n",
       "    <tr>\n",
       "      <th>21</th>\n",
       "      <td>2019-22-8/07/2020</td>\n",
       "      <td>2 Metropolitan</td>\n",
       "      <td>2</td>\n",
       "      <td>0</td>\n",
       "      <td>0</td>\n",
       "      <td>0</td>\n",
       "      <td>0</td>\n",
       "      <td>2019</td>\n",
       "      <td>January</td>\n",
       "      <td>Tuesday</td>\n",
       "      <td>06:00 pm</td>\n",
       "      <td>40</td>\n",
       "      <td>Not Divided</td>\n",
       "      <td>Straight road</td>\n",
       "      <td>Level</td>\n",
       "      <td>Driveway or Entrance</td>\n",
       "      <td>Sealed</td>\n",
       "      <td>Dry</td>\n",
       "      <td>Not Raining</td>\n",
       "      <td>Daylight</td>\n",
       "      <td>Hit Parked Vehicle</td>\n",
       "      <td>2</td>\n",
       "      <td>Driver Rider</td>\n",
       "      <td>1: PDO</td>\n",
       "      <td>No Control</td>\n",
       "      <td>0.0</td>\n",
       "      <td>0.0</td>\n",
       "      <td>1</td>\n",
       "      <td>0</td>\n",
       "      <td>SA</td>\n",
       "      <td>1</td>\n",
       "      <td>1.0</td>\n",
       "      <td>North</td>\n",
       "      <td>1</td>\n",
       "      <td>37.0</td>\n",
       "      <td>SA</td>\n",
       "      <td>8</td>\n",
       "      <td>0.0</td>\n",
       "      <td>Parked</td>\n",
       "      <td>0.0</td>\n",
       "      <td>0.0</td>\n",
       "      <td>0.0</td>\n",
       "    </tr>\n",
       "    <tr>\n",
       "      <th>98</th>\n",
       "      <td>2019-99-8/07/2020</td>\n",
       "      <td>2 Metropolitan</td>\n",
       "      <td>2</td>\n",
       "      <td>0</td>\n",
       "      <td>0</td>\n",
       "      <td>0</td>\n",
       "      <td>0</td>\n",
       "      <td>2019</td>\n",
       "      <td>January</td>\n",
       "      <td>Friday</td>\n",
       "      <td>08:30 pm</td>\n",
       "      <td>50</td>\n",
       "      <td>Not Divided</td>\n",
       "      <td>Straight road</td>\n",
       "      <td>Level</td>\n",
       "      <td>Not Applicable</td>\n",
       "      <td>Sealed</td>\n",
       "      <td>Dry</td>\n",
       "      <td>Not Raining</td>\n",
       "      <td>Daylight</td>\n",
       "      <td>Hit Parked Vehicle</td>\n",
       "      <td>2</td>\n",
       "      <td>Driver Rider</td>\n",
       "      <td>1: PDO</td>\n",
       "      <td>No Control</td>\n",
       "      <td>0.0</td>\n",
       "      <td>0.0</td>\n",
       "      <td>1</td>\n",
       "      <td>0</td>\n",
       "      <td>SA</td>\n",
       "      <td>1</td>\n",
       "      <td>1.0</td>\n",
       "      <td>North West</td>\n",
       "      <td>1</td>\n",
       "      <td>37.0</td>\n",
       "      <td>SA</td>\n",
       "      <td>8</td>\n",
       "      <td>0.0</td>\n",
       "      <td>Parked</td>\n",
       "      <td>0.0</td>\n",
       "      <td>0.0</td>\n",
       "      <td>0.0</td>\n",
       "    </tr>\n",
       "    <tr>\n",
       "      <th>103</th>\n",
       "      <td>2019-104-8/07/2020</td>\n",
       "      <td>2 Metropolitan</td>\n",
       "      <td>2</td>\n",
       "      <td>0</td>\n",
       "      <td>0</td>\n",
       "      <td>0</td>\n",
       "      <td>0</td>\n",
       "      <td>2019</td>\n",
       "      <td>January</td>\n",
       "      <td>Saturday</td>\n",
       "      <td>07:32 pm</td>\n",
       "      <td>50</td>\n",
       "      <td>Not Divided</td>\n",
       "      <td>CURVED, VIEW OPEN</td>\n",
       "      <td>Slope</td>\n",
       "      <td>Not Applicable</td>\n",
       "      <td>Sealed</td>\n",
       "      <td>Dry</td>\n",
       "      <td>Not Raining</td>\n",
       "      <td>Daylight</td>\n",
       "      <td>Hit Fixed Object</td>\n",
       "      <td>1</td>\n",
       "      <td>Driver Rider</td>\n",
       "      <td>1: PDO</td>\n",
       "      <td>No Control</td>\n",
       "      <td>0.0</td>\n",
       "      <td>0.0</td>\n",
       "      <td>1</td>\n",
       "      <td>0</td>\n",
       "      <td>SA</td>\n",
       "      <td>1</td>\n",
       "      <td>1.0</td>\n",
       "      <td>South</td>\n",
       "      <td>1</td>\n",
       "      <td>37.0</td>\n",
       "      <td>SA</td>\n",
       "      <td>8</td>\n",
       "      <td>0.0</td>\n",
       "      <td>UnParking - Parallel</td>\n",
       "      <td>0.0</td>\n",
       "      <td>0.0</td>\n",
       "      <td>0.0</td>\n",
       "    </tr>\n",
       "    <tr>\n",
       "      <th>105</th>\n",
       "      <td>2019-106-8/07/2020</td>\n",
       "      <td>2 Metropolitan</td>\n",
       "      <td>2</td>\n",
       "      <td>0</td>\n",
       "      <td>0</td>\n",
       "      <td>0</td>\n",
       "      <td>0</td>\n",
       "      <td>2019</td>\n",
       "      <td>January</td>\n",
       "      <td>Saturday</td>\n",
       "      <td>08:25 am</td>\n",
       "      <td>50</td>\n",
       "      <td>Not Divided</td>\n",
       "      <td>Straight road</td>\n",
       "      <td>Level</td>\n",
       "      <td>Not Applicable</td>\n",
       "      <td>Sealed</td>\n",
       "      <td>Dry</td>\n",
       "      <td>Not Raining</td>\n",
       "      <td>Daylight</td>\n",
       "      <td>Hit Parked Vehicle</td>\n",
       "      <td>2</td>\n",
       "      <td>Driver Rider</td>\n",
       "      <td>1: PDO</td>\n",
       "      <td>No Control</td>\n",
       "      <td>0.0</td>\n",
       "      <td>0.0</td>\n",
       "      <td>1</td>\n",
       "      <td>0</td>\n",
       "      <td>SA</td>\n",
       "      <td>1</td>\n",
       "      <td>1.0</td>\n",
       "      <td>South East</td>\n",
       "      <td>1</td>\n",
       "      <td>37.0</td>\n",
       "      <td>SA</td>\n",
       "      <td>8</td>\n",
       "      <td>0.0</td>\n",
       "      <td>Parked</td>\n",
       "      <td>0.0</td>\n",
       "      <td>0.0</td>\n",
       "      <td>0.0</td>\n",
       "    </tr>\n",
       "    <tr>\n",
       "      <th>113</th>\n",
       "      <td>2019-114-8/07/2020</td>\n",
       "      <td>2 Metropolitan</td>\n",
       "      <td>2</td>\n",
       "      <td>0</td>\n",
       "      <td>0</td>\n",
       "      <td>0</td>\n",
       "      <td>0</td>\n",
       "      <td>2019</td>\n",
       "      <td>January</td>\n",
       "      <td>Saturday</td>\n",
       "      <td>03:00 pm</td>\n",
       "      <td>50</td>\n",
       "      <td>Not Divided</td>\n",
       "      <td>Straight road</td>\n",
       "      <td>Level</td>\n",
       "      <td>Not Applicable</td>\n",
       "      <td>Sealed</td>\n",
       "      <td>Dry</td>\n",
       "      <td>Not Raining</td>\n",
       "      <td>Daylight</td>\n",
       "      <td>Hit Parked Vehicle</td>\n",
       "      <td>2</td>\n",
       "      <td>Driver Rider</td>\n",
       "      <td>1: PDO</td>\n",
       "      <td>No Control</td>\n",
       "      <td>0.0</td>\n",
       "      <td>0.0</td>\n",
       "      <td>1</td>\n",
       "      <td>0</td>\n",
       "      <td>SA</td>\n",
       "      <td>1</td>\n",
       "      <td>1.0</td>\n",
       "      <td>West</td>\n",
       "      <td>1</td>\n",
       "      <td>37.0</td>\n",
       "      <td>SA</td>\n",
       "      <td>8</td>\n",
       "      <td>0.0</td>\n",
       "      <td>Parked</td>\n",
       "      <td>0.0</td>\n",
       "      <td>0.0</td>\n",
       "      <td>0.0</td>\n",
       "    </tr>\n",
       "    <tr>\n",
       "      <th>...</th>\n",
       "      <td>...</td>\n",
       "      <td>...</td>\n",
       "      <td>...</td>\n",
       "      <td>...</td>\n",
       "      <td>...</td>\n",
       "      <td>...</td>\n",
       "      <td>...</td>\n",
       "      <td>...</td>\n",
       "      <td>...</td>\n",
       "      <td>...</td>\n",
       "      <td>...</td>\n",
       "      <td>...</td>\n",
       "      <td>...</td>\n",
       "      <td>...</td>\n",
       "      <td>...</td>\n",
       "      <td>...</td>\n",
       "      <td>...</td>\n",
       "      <td>...</td>\n",
       "      <td>...</td>\n",
       "      <td>...</td>\n",
       "      <td>...</td>\n",
       "      <td>...</td>\n",
       "      <td>...</td>\n",
       "      <td>...</td>\n",
       "      <td>...</td>\n",
       "      <td>...</td>\n",
       "      <td>...</td>\n",
       "      <td>...</td>\n",
       "      <td>...</td>\n",
       "      <td>...</td>\n",
       "      <td>...</td>\n",
       "      <td>...</td>\n",
       "      <td>...</td>\n",
       "      <td>...</td>\n",
       "      <td>...</td>\n",
       "      <td>...</td>\n",
       "      <td>...</td>\n",
       "      <td>...</td>\n",
       "      <td>...</td>\n",
       "      <td>...</td>\n",
       "      <td>...</td>\n",
       "      <td>...</td>\n",
       "    </tr>\n",
       "    <tr>\n",
       "      <th>12817</th>\n",
       "      <td>2019-12818-8/07/2020</td>\n",
       "      <td>2 Metropolitan</td>\n",
       "      <td>2</td>\n",
       "      <td>0</td>\n",
       "      <td>0</td>\n",
       "      <td>0</td>\n",
       "      <td>0</td>\n",
       "      <td>2019</td>\n",
       "      <td>December</td>\n",
       "      <td>Wednesday</td>\n",
       "      <td>09:45 pm</td>\n",
       "      <td>50</td>\n",
       "      <td>Not Divided</td>\n",
       "      <td>Straight road</td>\n",
       "      <td>Level</td>\n",
       "      <td>Not Applicable</td>\n",
       "      <td>Sealed</td>\n",
       "      <td>Dry</td>\n",
       "      <td>Not Raining</td>\n",
       "      <td>Night</td>\n",
       "      <td>Hit Parked Vehicle</td>\n",
       "      <td>2</td>\n",
       "      <td>Driver Rider</td>\n",
       "      <td>1: PDO</td>\n",
       "      <td>No Control</td>\n",
       "      <td>0.0</td>\n",
       "      <td>0.0</td>\n",
       "      <td>1</td>\n",
       "      <td>0</td>\n",
       "      <td>SA</td>\n",
       "      <td>1</td>\n",
       "      <td>1.0</td>\n",
       "      <td>North East</td>\n",
       "      <td>1</td>\n",
       "      <td>37.0</td>\n",
       "      <td>SA</td>\n",
       "      <td>8</td>\n",
       "      <td>0.0</td>\n",
       "      <td>Parked</td>\n",
       "      <td>0.0</td>\n",
       "      <td>0.0</td>\n",
       "      <td>0.0</td>\n",
       "    </tr>\n",
       "    <tr>\n",
       "      <th>12860</th>\n",
       "      <td>2019-12861-8/07/2020</td>\n",
       "      <td>2 Metropolitan</td>\n",
       "      <td>2</td>\n",
       "      <td>0</td>\n",
       "      <td>0</td>\n",
       "      <td>0</td>\n",
       "      <td>0</td>\n",
       "      <td>2019</td>\n",
       "      <td>December</td>\n",
       "      <td>Friday</td>\n",
       "      <td>04:30 pm</td>\n",
       "      <td>50</td>\n",
       "      <td>Not Divided</td>\n",
       "      <td>Straight road</td>\n",
       "      <td>Level</td>\n",
       "      <td>Not Applicable</td>\n",
       "      <td>Sealed</td>\n",
       "      <td>Dry</td>\n",
       "      <td>Not Raining</td>\n",
       "      <td>Daylight</td>\n",
       "      <td>Hit Parked Vehicle</td>\n",
       "      <td>2</td>\n",
       "      <td>Driver Rider</td>\n",
       "      <td>1: PDO</td>\n",
       "      <td>No Control</td>\n",
       "      <td>0.0</td>\n",
       "      <td>0.0</td>\n",
       "      <td>1</td>\n",
       "      <td>0</td>\n",
       "      <td>SA</td>\n",
       "      <td>1</td>\n",
       "      <td>1.0</td>\n",
       "      <td>North East</td>\n",
       "      <td>1</td>\n",
       "      <td>37.0</td>\n",
       "      <td>SA</td>\n",
       "      <td>8</td>\n",
       "      <td>0.0</td>\n",
       "      <td>Parked</td>\n",
       "      <td>0.0</td>\n",
       "      <td>0.0</td>\n",
       "      <td>0.0</td>\n",
       "    </tr>\n",
       "    <tr>\n",
       "      <th>12867</th>\n",
       "      <td>2019-12868-8/07/2020</td>\n",
       "      <td>2 Metropolitan</td>\n",
       "      <td>2</td>\n",
       "      <td>0</td>\n",
       "      <td>0</td>\n",
       "      <td>0</td>\n",
       "      <td>0</td>\n",
       "      <td>2019</td>\n",
       "      <td>December</td>\n",
       "      <td>Saturday</td>\n",
       "      <td>08:20 am</td>\n",
       "      <td>60</td>\n",
       "      <td>Not Divided</td>\n",
       "      <td>Straight road</td>\n",
       "      <td>Level</td>\n",
       "      <td>Not Applicable</td>\n",
       "      <td>Sealed</td>\n",
       "      <td>Dry</td>\n",
       "      <td>Not Raining</td>\n",
       "      <td>Daylight</td>\n",
       "      <td>Hit Parked Vehicle</td>\n",
       "      <td>2</td>\n",
       "      <td>Driver Rider</td>\n",
       "      <td>1: PDO</td>\n",
       "      <td>No Control</td>\n",
       "      <td>0.0</td>\n",
       "      <td>0.0</td>\n",
       "      <td>1</td>\n",
       "      <td>0</td>\n",
       "      <td>SA</td>\n",
       "      <td>1</td>\n",
       "      <td>1.0</td>\n",
       "      <td>South West</td>\n",
       "      <td>1</td>\n",
       "      <td>37.0</td>\n",
       "      <td>SA</td>\n",
       "      <td>8</td>\n",
       "      <td>0.0</td>\n",
       "      <td>Parked</td>\n",
       "      <td>0.0</td>\n",
       "      <td>0.0</td>\n",
       "      <td>0.0</td>\n",
       "    </tr>\n",
       "    <tr>\n",
       "      <th>12939</th>\n",
       "      <td>2019-12940-8/07/2020</td>\n",
       "      <td>2 Metropolitan</td>\n",
       "      <td>3</td>\n",
       "      <td>0</td>\n",
       "      <td>0</td>\n",
       "      <td>0</td>\n",
       "      <td>0</td>\n",
       "      <td>2019</td>\n",
       "      <td>December</td>\n",
       "      <td>Tuesday</td>\n",
       "      <td>05:30 pm</td>\n",
       "      <td>50</td>\n",
       "      <td>Not Divided</td>\n",
       "      <td>CURVED, VIEW OPEN</td>\n",
       "      <td>Slope</td>\n",
       "      <td>Driveway or Entrance</td>\n",
       "      <td>Sealed</td>\n",
       "      <td>Dry</td>\n",
       "      <td>Not Raining</td>\n",
       "      <td>Daylight</td>\n",
       "      <td>Hit Fixed Object</td>\n",
       "      <td>1</td>\n",
       "      <td>Driver Rider</td>\n",
       "      <td>1: PDO</td>\n",
       "      <td>No Control</td>\n",
       "      <td>0.0</td>\n",
       "      <td>0.0</td>\n",
       "      <td>1</td>\n",
       "      <td>0</td>\n",
       "      <td>SA</td>\n",
       "      <td>1</td>\n",
       "      <td>1.0</td>\n",
       "      <td>South East</td>\n",
       "      <td>1</td>\n",
       "      <td>37.0</td>\n",
       "      <td>SA</td>\n",
       "      <td>8</td>\n",
       "      <td>0.0</td>\n",
       "      <td>Straight Ahead</td>\n",
       "      <td>0.0</td>\n",
       "      <td>0.0</td>\n",
       "      <td>0.0</td>\n",
       "    </tr>\n",
       "    <tr>\n",
       "      <th>12949</th>\n",
       "      <td>2019-12950-8/07/2020</td>\n",
       "      <td>2 Metropolitan</td>\n",
       "      <td>2</td>\n",
       "      <td>0</td>\n",
       "      <td>0</td>\n",
       "      <td>0</td>\n",
       "      <td>0</td>\n",
       "      <td>2019</td>\n",
       "      <td>December</td>\n",
       "      <td>Tuesday</td>\n",
       "      <td>06:50 am</td>\n",
       "      <td>50</td>\n",
       "      <td>Not Divided</td>\n",
       "      <td>Straight road</td>\n",
       "      <td>Level</td>\n",
       "      <td>Not Applicable</td>\n",
       "      <td>Sealed</td>\n",
       "      <td>Dry</td>\n",
       "      <td>Not Raining</td>\n",
       "      <td>Daylight</td>\n",
       "      <td>Hit Parked Vehicle</td>\n",
       "      <td>2</td>\n",
       "      <td>Driver Rider</td>\n",
       "      <td>1: PDO</td>\n",
       "      <td>No Control</td>\n",
       "      <td>0.0</td>\n",
       "      <td>0.0</td>\n",
       "      <td>1</td>\n",
       "      <td>0</td>\n",
       "      <td>SA</td>\n",
       "      <td>1</td>\n",
       "      <td>1.0</td>\n",
       "      <td>East</td>\n",
       "      <td>1</td>\n",
       "      <td>37.0</td>\n",
       "      <td>SA</td>\n",
       "      <td>8</td>\n",
       "      <td>0.0</td>\n",
       "      <td>Parked</td>\n",
       "      <td>0.0</td>\n",
       "      <td>0.0</td>\n",
       "      <td>0.0</td>\n",
       "    </tr>\n",
       "  </tbody>\n",
       "</table>\n",
       "<p>342 rows × 42 columns</p>\n",
       "</div>"
      ],
      "text/plain": [
       "                  REPORT_ID      Stats Area  Total Units  Total Cas  \\\n",
       "21        2019-22-8/07/2020  2 Metropolitan            2          0   \n",
       "98        2019-99-8/07/2020  2 Metropolitan            2          0   \n",
       "103      2019-104-8/07/2020  2 Metropolitan            2          0   \n",
       "105      2019-106-8/07/2020  2 Metropolitan            2          0   \n",
       "113      2019-114-8/07/2020  2 Metropolitan            2          0   \n",
       "...                     ...             ...          ...        ...   \n",
       "12817  2019-12818-8/07/2020  2 Metropolitan            2          0   \n",
       "12860  2019-12861-8/07/2020  2 Metropolitan            2          0   \n",
       "12867  2019-12868-8/07/2020  2 Metropolitan            2          0   \n",
       "12939  2019-12940-8/07/2020  2 Metropolitan            3          0   \n",
       "12949  2019-12950-8/07/2020  2 Metropolitan            2          0   \n",
       "\n",
       "       Total Fats  Total SI  Total MI  Year     Month        Day      Time  \\\n",
       "21              0         0         0  2019   January    Tuesday  06:00 pm   \n",
       "98              0         0         0  2019   January     Friday  08:30 pm   \n",
       "103             0         0         0  2019   January   Saturday  07:32 pm   \n",
       "105             0         0         0  2019   January   Saturday  08:25 am   \n",
       "113             0         0         0  2019   January   Saturday  03:00 pm   \n",
       "...           ...       ...       ...   ...       ...        ...       ...   \n",
       "12817           0         0         0  2019  December  Wednesday  09:45 pm   \n",
       "12860           0         0         0  2019  December     Friday  04:30 pm   \n",
       "12867           0         0         0  2019  December   Saturday  08:20 am   \n",
       "12939           0         0         0  2019  December    Tuesday  05:30 pm   \n",
       "12949           0         0         0  2019  December    Tuesday  06:50 am   \n",
       "\n",
       "       Area Speed Position Type   Horizontal Align Vertical Align  \\\n",
       "21             40   Not Divided      Straight road          Level   \n",
       "98             50   Not Divided      Straight road          Level   \n",
       "103            50   Not Divided  CURVED, VIEW OPEN          Slope   \n",
       "105            50   Not Divided      Straight road          Level   \n",
       "113            50   Not Divided      Straight road          Level   \n",
       "...           ...           ...                ...            ...   \n",
       "12817          50   Not Divided      Straight road          Level   \n",
       "12860          50   Not Divided      Straight road          Level   \n",
       "12867          60   Not Divided      Straight road          Level   \n",
       "12939          50   Not Divided  CURVED, VIEW OPEN          Slope   \n",
       "12949          50   Not Divided      Straight road          Level   \n",
       "\n",
       "                 Other Feat Road Surface Moisture Cond Weather Cond  DayNight  \\\n",
       "21     Driveway or Entrance       Sealed           Dry  Not Raining  Daylight   \n",
       "98           Not Applicable       Sealed           Dry  Not Raining  Daylight   \n",
       "103          Not Applicable       Sealed           Dry  Not Raining  Daylight   \n",
       "105          Not Applicable       Sealed           Dry  Not Raining  Daylight   \n",
       "113          Not Applicable       Sealed           Dry  Not Raining  Daylight   \n",
       "...                     ...          ...           ...          ...       ...   \n",
       "12817        Not Applicable       Sealed           Dry  Not Raining     Night   \n",
       "12860        Not Applicable       Sealed           Dry  Not Raining  Daylight   \n",
       "12867        Not Applicable       Sealed           Dry  Not Raining  Daylight   \n",
       "12939  Driveway or Entrance       Sealed           Dry  Not Raining  Daylight   \n",
       "12949        Not Applicable       Sealed           Dry  Not Raining  Daylight   \n",
       "\n",
       "               Crash Type  Unit Resp   Entity Code CSEF Severity  \\\n",
       "21     Hit Parked Vehicle          2  Driver Rider        1: PDO   \n",
       "98     Hit Parked Vehicle          2  Driver Rider        1: PDO   \n",
       "103      Hit Fixed Object          1  Driver Rider        1: PDO   \n",
       "105    Hit Parked Vehicle          2  Driver Rider        1: PDO   \n",
       "113    Hit Parked Vehicle          2  Driver Rider        1: PDO   \n",
       "...                   ...        ...           ...           ...   \n",
       "12817  Hit Parked Vehicle          2  Driver Rider        1: PDO   \n",
       "12860  Hit Parked Vehicle          2  Driver Rider        1: PDO   \n",
       "12867  Hit Parked Vehicle          2  Driver Rider        1: PDO   \n",
       "12939    Hit Fixed Object          1  Driver Rider        1: PDO   \n",
       "12949  Hit Parked Vehicle          2  Driver Rider        1: PDO   \n",
       "\n",
       "      Traffic Ctrls  DUI Involved  Drugs Involved  Unit No  No Of Cas  \\\n",
       "21       No Control           0.0             0.0        1          0   \n",
       "98       No Control           0.0             0.0        1          0   \n",
       "103      No Control           0.0             0.0        1          0   \n",
       "105      No Control           0.0             0.0        1          0   \n",
       "113      No Control           0.0             0.0        1          0   \n",
       "...             ...           ...             ...      ...        ...   \n",
       "12817    No Control           0.0             0.0        1          0   \n",
       "12860    No Control           0.0             0.0        1          0   \n",
       "12867    No Control           0.0             0.0        1          0   \n",
       "12939    No Control           0.0             0.0        1          0   \n",
       "12949    No Control           0.0             0.0        1          0   \n",
       "\n",
       "      Veh Reg State  Unit Type  Veh_Age Direction Of Travel  Sex   Age  \\\n",
       "21               SA          1      1.0               North    1  37.0   \n",
       "98               SA          1      1.0          North West    1  37.0   \n",
       "103              SA          1      1.0               South    1  37.0   \n",
       "105              SA          1      1.0          South East    1  37.0   \n",
       "113              SA          1      1.0                West    1  37.0   \n",
       "...             ...        ...      ...                 ...  ...   ...   \n",
       "12817            SA          1      1.0          North East    1  37.0   \n",
       "12860            SA          1      1.0          North East    1  37.0   \n",
       "12867            SA          1      1.0          South West    1  37.0   \n",
       "12939            SA          1      1.0          South East    1  37.0   \n",
       "12949            SA          1      1.0                East    1  37.0   \n",
       "\n",
       "      Lic State  Licence Type  Towing         Unit Movement  Number Occupants  \\\n",
       "21           SA             8     0.0                Parked               0.0   \n",
       "98           SA             8     0.0                Parked               0.0   \n",
       "103          SA             8     0.0  UnParking - Parallel               0.0   \n",
       "105          SA             8     0.0                Parked               0.0   \n",
       "113          SA             8     0.0                Parked               0.0   \n",
       "...         ...           ...     ...                   ...               ...   \n",
       "12817        SA             8     0.0                Parked               0.0   \n",
       "12860        SA             8     0.0                Parked               0.0   \n",
       "12867        SA             8     0.0                Parked               0.0   \n",
       "12939        SA             8     0.0        Straight Ahead               0.0   \n",
       "12949        SA             8     0.0                Parked               0.0   \n",
       "\n",
       "       Rollover  Fire  \n",
       "21          0.0   0.0  \n",
       "98          0.0   0.0  \n",
       "103         0.0   0.0  \n",
       "105         0.0   0.0  \n",
       "113         0.0   0.0  \n",
       "...         ...   ...  \n",
       "12817       0.0   0.0  \n",
       "12860       0.0   0.0  \n",
       "12867       0.0   0.0  \n",
       "12939       0.0   0.0  \n",
       "12949       0.0   0.0  \n",
       "\n",
       "[342 rows x 42 columns]"
      ]
     },
     "execution_count": 126,
     "metadata": {},
     "output_type": "execute_result"
    }
   ],
   "source": [
    "df.loc[df['Number Occupants'] == 0]"
   ]
  },
  {
   "cell_type": "code",
   "execution_count": 127,
   "metadata": {},
   "outputs": [
    {
     "data": {
      "text/plain": [
       "Rear End                      3346\n",
       "Right Angle                   2469\n",
       "Hit Fixed Object              2012\n",
       "Side Swipe                    1433\n",
       "Right Turn                    1050\n",
       "Hit Parked Vehicle             983\n",
       "Roll Over                      544\n",
       "Hit Pedestrian                 439\n",
       "Head On                        244\n",
       "Hit Animal                     186\n",
       "Other                           96\n",
       "Left Road - Out of Control      94\n",
       "Hit Object on Road              68\n",
       "Name: Crash Type, dtype: int64"
      ]
     },
     "execution_count": 127,
     "metadata": {},
     "output_type": "execute_result"
    }
   ],
   "source": [
    "df['Crash Type'].value_counts()"
   ]
  },
  {
   "cell_type": "code",
   "execution_count": 128,
   "metadata": {},
   "outputs": [
    {
     "name": "stdout",
     "output_type": "stream",
     "text": [
      "1.0     9756\n",
      "2.0     2123\n",
      "3.0      558\n",
      "4.0      239\n",
      "5.0       83\n",
      "10.0      24\n",
      "6.0       19\n",
      "7.0        9\n",
      "15.0       8\n",
      "8.0        6\n",
      "12.0       6\n",
      "9.0        5\n",
      "25.0       5\n",
      "30.0       4\n",
      "20.0       3\n",
      "50.0       3\n",
      "21.0       3\n",
      "13.0       3\n",
      "40.0       2\n",
      "60.0       2\n",
      "11.0       2\n",
      "16.0       2\n",
      "48.0       1\n",
      "26.0       1\n",
      "41.0       1\n",
      "35.0       1\n",
      "75.0       1\n",
      "Name: Number Occupants, dtype: int64\n"
     ]
    }
   ],
   "source": [
    "df['Number Occupants'].replace(0, 1, inplace=True)\n",
    "print(df['Number Occupants'].value_counts())"
   ]
  },
  {
   "cell_type": "code",
   "execution_count": 129,
   "metadata": {
    "scrolled": true
   },
   "outputs": [
    {
     "data": {
      "text/html": [
       "<div>\n",
       "<style scoped>\n",
       "    .dataframe tbody tr th:only-of-type {\n",
       "        vertical-align: middle;\n",
       "    }\n",
       "\n",
       "    .dataframe tbody tr th {\n",
       "        vertical-align: top;\n",
       "    }\n",
       "\n",
       "    .dataframe thead th {\n",
       "        text-align: right;\n",
       "    }\n",
       "</style>\n",
       "<table border=\"1\" class=\"dataframe\">\n",
       "  <thead>\n",
       "    <tr style=\"text-align: right;\">\n",
       "      <th></th>\n",
       "      <th>REPORT_ID</th>\n",
       "      <th>Stats Area</th>\n",
       "      <th>Total Units</th>\n",
       "      <th>Total Cas</th>\n",
       "      <th>Total Fats</th>\n",
       "      <th>Total SI</th>\n",
       "      <th>Total MI</th>\n",
       "      <th>Year</th>\n",
       "      <th>Month</th>\n",
       "      <th>Day</th>\n",
       "      <th>Time</th>\n",
       "      <th>Area Speed</th>\n",
       "      <th>Position Type</th>\n",
       "      <th>Horizontal Align</th>\n",
       "      <th>Vertical Align</th>\n",
       "      <th>Other Feat</th>\n",
       "      <th>Road Surface</th>\n",
       "      <th>Moisture Cond</th>\n",
       "      <th>Weather Cond</th>\n",
       "      <th>DayNight</th>\n",
       "      <th>Crash Type</th>\n",
       "      <th>Unit Resp</th>\n",
       "      <th>Entity Code</th>\n",
       "      <th>CSEF Severity</th>\n",
       "      <th>Traffic Ctrls</th>\n",
       "      <th>DUI Involved</th>\n",
       "      <th>Drugs Involved</th>\n",
       "      <th>Unit No</th>\n",
       "      <th>No Of Cas</th>\n",
       "      <th>Veh Reg State</th>\n",
       "      <th>Unit Type</th>\n",
       "      <th>Veh_Age</th>\n",
       "      <th>Direction Of Travel</th>\n",
       "      <th>Sex</th>\n",
       "      <th>Age</th>\n",
       "      <th>Lic State</th>\n",
       "      <th>Licence Type</th>\n",
       "      <th>Towing</th>\n",
       "      <th>Unit Movement</th>\n",
       "      <th>Number Occupants</th>\n",
       "      <th>Rollover</th>\n",
       "      <th>Fire</th>\n",
       "    </tr>\n",
       "  </thead>\n",
       "  <tbody>\n",
       "    <tr>\n",
       "      <th>168</th>\n",
       "      <td>2019-169-8/07/2020</td>\n",
       "      <td>2 Metropolitan</td>\n",
       "      <td>2</td>\n",
       "      <td>0</td>\n",
       "      <td>0</td>\n",
       "      <td>0</td>\n",
       "      <td>0</td>\n",
       "      <td>2019</td>\n",
       "      <td>January</td>\n",
       "      <td>Saturday</td>\n",
       "      <td>03:30 pm</td>\n",
       "      <td>60</td>\n",
       "      <td>Divided Road</td>\n",
       "      <td>Straight road</td>\n",
       "      <td>Level</td>\n",
       "      <td>Driveway or Entrance</td>\n",
       "      <td>Sealed</td>\n",
       "      <td>Dry</td>\n",
       "      <td>Not Raining</td>\n",
       "      <td>Daylight</td>\n",
       "      <td>Hit Pedestrian</td>\n",
       "      <td>2</td>\n",
       "      <td>Driver Rider</td>\n",
       "      <td>1: PDO</td>\n",
       "      <td>No Control</td>\n",
       "      <td>0.0</td>\n",
       "      <td>0.0</td>\n",
       "      <td>1</td>\n",
       "      <td>0</td>\n",
       "      <td>SA</td>\n",
       "      <td>7</td>\n",
       "      <td>1.0</td>\n",
       "      <td>West</td>\n",
       "      <td>0</td>\n",
       "      <td>68.0</td>\n",
       "      <td>SA</td>\n",
       "      <td>8</td>\n",
       "      <td>0.0</td>\n",
       "      <td>Walking on Footpath</td>\n",
       "      <td>NaN</td>\n",
       "      <td>0.0</td>\n",
       "      <td>0.0</td>\n",
       "    </tr>\n",
       "    <tr>\n",
       "      <th>258</th>\n",
       "      <td>2019-259-8/07/2020</td>\n",
       "      <td>2 Metropolitan</td>\n",
       "      <td>3</td>\n",
       "      <td>1</td>\n",
       "      <td>0</td>\n",
       "      <td>1</td>\n",
       "      <td>0</td>\n",
       "      <td>2019</td>\n",
       "      <td>January</td>\n",
       "      <td>Thursday</td>\n",
       "      <td>11:51 pm</td>\n",
       "      <td>50</td>\n",
       "      <td>Not Divided</td>\n",
       "      <td>Straight road</td>\n",
       "      <td>Level</td>\n",
       "      <td>Not Applicable</td>\n",
       "      <td>Sealed</td>\n",
       "      <td>Dry</td>\n",
       "      <td>Not Raining</td>\n",
       "      <td>Night</td>\n",
       "      <td>Hit Pedestrian</td>\n",
       "      <td>1</td>\n",
       "      <td>Pedestrian</td>\n",
       "      <td>3: SI</td>\n",
       "      <td>No Control</td>\n",
       "      <td>0.0</td>\n",
       "      <td>1.0</td>\n",
       "      <td>1</td>\n",
       "      <td>1</td>\n",
       "      <td>SA</td>\n",
       "      <td>7</td>\n",
       "      <td>1.0</td>\n",
       "      <td>East</td>\n",
       "      <td>1</td>\n",
       "      <td>49.0</td>\n",
       "      <td>SA</td>\n",
       "      <td>8</td>\n",
       "      <td>0.0</td>\n",
       "      <td>Alighted from Parked Vehicle</td>\n",
       "      <td>NaN</td>\n",
       "      <td>0.0</td>\n",
       "      <td>0.0</td>\n",
       "    </tr>\n",
       "    <tr>\n",
       "      <th>413</th>\n",
       "      <td>2019-414-8/07/2020</td>\n",
       "      <td>1 City</td>\n",
       "      <td>2</td>\n",
       "      <td>1</td>\n",
       "      <td>0</td>\n",
       "      <td>0</td>\n",
       "      <td>1</td>\n",
       "      <td>2019</td>\n",
       "      <td>January</td>\n",
       "      <td>Wednesday</td>\n",
       "      <td>08:15 am</td>\n",
       "      <td>50</td>\n",
       "      <td>Not Divided</td>\n",
       "      <td>Straight road</td>\n",
       "      <td>Level</td>\n",
       "      <td>Driveway or Entrance</td>\n",
       "      <td>Sealed</td>\n",
       "      <td>Dry</td>\n",
       "      <td>Not Raining</td>\n",
       "      <td>Daylight</td>\n",
       "      <td>Hit Pedestrian</td>\n",
       "      <td>2</td>\n",
       "      <td>Driver Rider</td>\n",
       "      <td>2: MI</td>\n",
       "      <td>No Control</td>\n",
       "      <td>0.0</td>\n",
       "      <td>0.0</td>\n",
       "      <td>1</td>\n",
       "      <td>1</td>\n",
       "      <td>SA</td>\n",
       "      <td>7</td>\n",
       "      <td>1.0</td>\n",
       "      <td>East</td>\n",
       "      <td>0</td>\n",
       "      <td>70.0</td>\n",
       "      <td>SA</td>\n",
       "      <td>8</td>\n",
       "      <td>0.0</td>\n",
       "      <td>Walking on Footpath</td>\n",
       "      <td>NaN</td>\n",
       "      <td>0.0</td>\n",
       "      <td>0.0</td>\n",
       "    </tr>\n",
       "    <tr>\n",
       "      <th>423</th>\n",
       "      <td>2019-424-8/07/2020</td>\n",
       "      <td>1 City</td>\n",
       "      <td>2</td>\n",
       "      <td>1</td>\n",
       "      <td>0</td>\n",
       "      <td>0</td>\n",
       "      <td>1</td>\n",
       "      <td>2019</td>\n",
       "      <td>January</td>\n",
       "      <td>Sunday</td>\n",
       "      <td>04:50 am</td>\n",
       "      <td>50</td>\n",
       "      <td>Not Divided</td>\n",
       "      <td>Straight road</td>\n",
       "      <td>Level</td>\n",
       "      <td>Not Applicable</td>\n",
       "      <td>Sealed</td>\n",
       "      <td>Dry</td>\n",
       "      <td>Not Raining</td>\n",
       "      <td>Night</td>\n",
       "      <td>Hit Pedestrian</td>\n",
       "      <td>1</td>\n",
       "      <td>Pedestrian</td>\n",
       "      <td>2: MI</td>\n",
       "      <td>No Control</td>\n",
       "      <td>0.0</td>\n",
       "      <td>0.0</td>\n",
       "      <td>1</td>\n",
       "      <td>1</td>\n",
       "      <td>SA</td>\n",
       "      <td>7</td>\n",
       "      <td>1.0</td>\n",
       "      <td>North</td>\n",
       "      <td>0</td>\n",
       "      <td>37.0</td>\n",
       "      <td>SA</td>\n",
       "      <td>8</td>\n",
       "      <td>0.0</td>\n",
       "      <td>Crossing without Control</td>\n",
       "      <td>NaN</td>\n",
       "      <td>0.0</td>\n",
       "      <td>0.0</td>\n",
       "    </tr>\n",
       "    <tr>\n",
       "      <th>510</th>\n",
       "      <td>2019-511-8/07/2020</td>\n",
       "      <td>3 Country</td>\n",
       "      <td>2</td>\n",
       "      <td>1</td>\n",
       "      <td>0</td>\n",
       "      <td>0</td>\n",
       "      <td>1</td>\n",
       "      <td>2019</td>\n",
       "      <td>January</td>\n",
       "      <td>Saturday</td>\n",
       "      <td>02:43 am</td>\n",
       "      <td>50</td>\n",
       "      <td>Not Divided</td>\n",
       "      <td>Straight road</td>\n",
       "      <td>Level</td>\n",
       "      <td>Not Applicable</td>\n",
       "      <td>Sealed</td>\n",
       "      <td>Dry</td>\n",
       "      <td>Not Raining</td>\n",
       "      <td>Night</td>\n",
       "      <td>Hit Pedestrian</td>\n",
       "      <td>1</td>\n",
       "      <td>Pedestrian</td>\n",
       "      <td>2: MI</td>\n",
       "      <td>No Control</td>\n",
       "      <td>0.0</td>\n",
       "      <td>0.0</td>\n",
       "      <td>1</td>\n",
       "      <td>1</td>\n",
       "      <td>SA</td>\n",
       "      <td>7</td>\n",
       "      <td>1.0</td>\n",
       "      <td>North East</td>\n",
       "      <td>0</td>\n",
       "      <td>20.0</td>\n",
       "      <td>SA</td>\n",
       "      <td>8</td>\n",
       "      <td>0.0</td>\n",
       "      <td>Walking on Road</td>\n",
       "      <td>NaN</td>\n",
       "      <td>0.0</td>\n",
       "      <td>0.0</td>\n",
       "    </tr>\n",
       "    <tr>\n",
       "      <th>...</th>\n",
       "      <td>...</td>\n",
       "      <td>...</td>\n",
       "      <td>...</td>\n",
       "      <td>...</td>\n",
       "      <td>...</td>\n",
       "      <td>...</td>\n",
       "      <td>...</td>\n",
       "      <td>...</td>\n",
       "      <td>...</td>\n",
       "      <td>...</td>\n",
       "      <td>...</td>\n",
       "      <td>...</td>\n",
       "      <td>...</td>\n",
       "      <td>...</td>\n",
       "      <td>...</td>\n",
       "      <td>...</td>\n",
       "      <td>...</td>\n",
       "      <td>...</td>\n",
       "      <td>...</td>\n",
       "      <td>...</td>\n",
       "      <td>...</td>\n",
       "      <td>...</td>\n",
       "      <td>...</td>\n",
       "      <td>...</td>\n",
       "      <td>...</td>\n",
       "      <td>...</td>\n",
       "      <td>...</td>\n",
       "      <td>...</td>\n",
       "      <td>...</td>\n",
       "      <td>...</td>\n",
       "      <td>...</td>\n",
       "      <td>...</td>\n",
       "      <td>...</td>\n",
       "      <td>...</td>\n",
       "      <td>...</td>\n",
       "      <td>...</td>\n",
       "      <td>...</td>\n",
       "      <td>...</td>\n",
       "      <td>...</td>\n",
       "      <td>...</td>\n",
       "      <td>...</td>\n",
       "      <td>...</td>\n",
       "    </tr>\n",
       "    <tr>\n",
       "      <th>12398</th>\n",
       "      <td>2019-12399-8/07/2020</td>\n",
       "      <td>2 Metropolitan</td>\n",
       "      <td>2</td>\n",
       "      <td>0</td>\n",
       "      <td>0</td>\n",
       "      <td>0</td>\n",
       "      <td>0</td>\n",
       "      <td>2019</td>\n",
       "      <td>December</td>\n",
       "      <td>Monday</td>\n",
       "      <td>03:15 pm</td>\n",
       "      <td>25</td>\n",
       "      <td>Not Divided</td>\n",
       "      <td>Straight road</td>\n",
       "      <td>Level</td>\n",
       "      <td>Not Applicable</td>\n",
       "      <td>Sealed</td>\n",
       "      <td>Dry</td>\n",
       "      <td>Not Raining</td>\n",
       "      <td>Daylight</td>\n",
       "      <td>Hit Pedestrian</td>\n",
       "      <td>2</td>\n",
       "      <td>Driver Rider</td>\n",
       "      <td>1: PDO</td>\n",
       "      <td>No Control</td>\n",
       "      <td>0.0</td>\n",
       "      <td>0.0</td>\n",
       "      <td>1</td>\n",
       "      <td>0</td>\n",
       "      <td>SA</td>\n",
       "      <td>7</td>\n",
       "      <td>1.0</td>\n",
       "      <td>North East</td>\n",
       "      <td>1</td>\n",
       "      <td>66.0</td>\n",
       "      <td>SA</td>\n",
       "      <td>8</td>\n",
       "      <td>0.0</td>\n",
       "      <td>Walking on Road</td>\n",
       "      <td>NaN</td>\n",
       "      <td>0.0</td>\n",
       "      <td>0.0</td>\n",
       "    </tr>\n",
       "    <tr>\n",
       "      <th>12435</th>\n",
       "      <td>2019-12436-8/07/2020</td>\n",
       "      <td>1 City</td>\n",
       "      <td>2</td>\n",
       "      <td>0</td>\n",
       "      <td>0</td>\n",
       "      <td>0</td>\n",
       "      <td>0</td>\n",
       "      <td>2019</td>\n",
       "      <td>December</td>\n",
       "      <td>Friday</td>\n",
       "      <td>11:50 pm</td>\n",
       "      <td>50</td>\n",
       "      <td>Divided Road</td>\n",
       "      <td>Straight road</td>\n",
       "      <td>Level</td>\n",
       "      <td>Not Applicable</td>\n",
       "      <td>Sealed</td>\n",
       "      <td>Dry</td>\n",
       "      <td>Not Raining</td>\n",
       "      <td>Night</td>\n",
       "      <td>Hit Pedestrian</td>\n",
       "      <td>1</td>\n",
       "      <td>Pedestrian</td>\n",
       "      <td>1: PDO</td>\n",
       "      <td>No Control</td>\n",
       "      <td>0.0</td>\n",
       "      <td>0.0</td>\n",
       "      <td>1</td>\n",
       "      <td>0</td>\n",
       "      <td>SA</td>\n",
       "      <td>5</td>\n",
       "      <td>1.0</td>\n",
       "      <td>East</td>\n",
       "      <td>1</td>\n",
       "      <td>26.0</td>\n",
       "      <td>SA</td>\n",
       "      <td>8</td>\n",
       "      <td>0.0</td>\n",
       "      <td>Walking on Road</td>\n",
       "      <td>NaN</td>\n",
       "      <td>0.0</td>\n",
       "      <td>0.0</td>\n",
       "    </tr>\n",
       "    <tr>\n",
       "      <th>12561</th>\n",
       "      <td>2019-12562-8/07/2020</td>\n",
       "      <td>2 Metropolitan</td>\n",
       "      <td>2</td>\n",
       "      <td>0</td>\n",
       "      <td>0</td>\n",
       "      <td>0</td>\n",
       "      <td>0</td>\n",
       "      <td>2019</td>\n",
       "      <td>December</td>\n",
       "      <td>Tuesday</td>\n",
       "      <td>01:15 pm</td>\n",
       "      <td>60</td>\n",
       "      <td>T-Junction</td>\n",
       "      <td>Straight road</td>\n",
       "      <td>Level</td>\n",
       "      <td>Driveway or Entrance</td>\n",
       "      <td>Sealed</td>\n",
       "      <td>Dry</td>\n",
       "      <td>Not Raining</td>\n",
       "      <td>Daylight</td>\n",
       "      <td>Hit Pedestrian</td>\n",
       "      <td>2</td>\n",
       "      <td>Driver Rider</td>\n",
       "      <td>1: PDO</td>\n",
       "      <td>Traffic Signals</td>\n",
       "      <td>0.0</td>\n",
       "      <td>0.0</td>\n",
       "      <td>1</td>\n",
       "      <td>0</td>\n",
       "      <td>SA</td>\n",
       "      <td>7</td>\n",
       "      <td>1.0</td>\n",
       "      <td>South East</td>\n",
       "      <td>1</td>\n",
       "      <td>30.0</td>\n",
       "      <td>SA</td>\n",
       "      <td>8</td>\n",
       "      <td>0.0</td>\n",
       "      <td>Crossing without Control</td>\n",
       "      <td>NaN</td>\n",
       "      <td>0.0</td>\n",
       "      <td>0.0</td>\n",
       "    </tr>\n",
       "    <tr>\n",
       "      <th>12859</th>\n",
       "      <td>2019-12860-8/07/2020</td>\n",
       "      <td>2 Metropolitan</td>\n",
       "      <td>2</td>\n",
       "      <td>0</td>\n",
       "      <td>0</td>\n",
       "      <td>0</td>\n",
       "      <td>0</td>\n",
       "      <td>2019</td>\n",
       "      <td>December</td>\n",
       "      <td>Friday</td>\n",
       "      <td>07:00 pm</td>\n",
       "      <td>60</td>\n",
       "      <td>Not Divided</td>\n",
       "      <td>Straight road</td>\n",
       "      <td>Level</td>\n",
       "      <td>Not Applicable</td>\n",
       "      <td>Sealed</td>\n",
       "      <td>Dry</td>\n",
       "      <td>Not Raining</td>\n",
       "      <td>Daylight</td>\n",
       "      <td>Hit Pedestrian</td>\n",
       "      <td>1</td>\n",
       "      <td>Pedestrian</td>\n",
       "      <td>1: PDO</td>\n",
       "      <td>No Control</td>\n",
       "      <td>0.0</td>\n",
       "      <td>0.0</td>\n",
       "      <td>1</td>\n",
       "      <td>0</td>\n",
       "      <td>SA</td>\n",
       "      <td>7</td>\n",
       "      <td>1.0</td>\n",
       "      <td>East</td>\n",
       "      <td>0</td>\n",
       "      <td>19.0</td>\n",
       "      <td>SA</td>\n",
       "      <td>8</td>\n",
       "      <td>0.0</td>\n",
       "      <td>Crossing without Control</td>\n",
       "      <td>NaN</td>\n",
       "      <td>0.0</td>\n",
       "      <td>0.0</td>\n",
       "    </tr>\n",
       "    <tr>\n",
       "      <th>12922</th>\n",
       "      <td>2019-12923-8/07/2020</td>\n",
       "      <td>2 Metropolitan</td>\n",
       "      <td>2</td>\n",
       "      <td>1</td>\n",
       "      <td>0</td>\n",
       "      <td>0</td>\n",
       "      <td>1</td>\n",
       "      <td>2019</td>\n",
       "      <td>December</td>\n",
       "      <td>Tuesday</td>\n",
       "      <td>08:50 am</td>\n",
       "      <td>50</td>\n",
       "      <td>Not Divided</td>\n",
       "      <td>Straight road</td>\n",
       "      <td>Level</td>\n",
       "      <td>Not Applicable</td>\n",
       "      <td>Sealed</td>\n",
       "      <td>Dry</td>\n",
       "      <td>Not Raining</td>\n",
       "      <td>Daylight</td>\n",
       "      <td>Hit Pedestrian</td>\n",
       "      <td>1</td>\n",
       "      <td>Pedestrian</td>\n",
       "      <td>2: MI</td>\n",
       "      <td>No Control</td>\n",
       "      <td>0.0</td>\n",
       "      <td>0.0</td>\n",
       "      <td>1</td>\n",
       "      <td>1</td>\n",
       "      <td>SA</td>\n",
       "      <td>7</td>\n",
       "      <td>1.0</td>\n",
       "      <td>East</td>\n",
       "      <td>0</td>\n",
       "      <td>89.0</td>\n",
       "      <td>SA</td>\n",
       "      <td>8</td>\n",
       "      <td>0.0</td>\n",
       "      <td>Crossing without Control</td>\n",
       "      <td>NaN</td>\n",
       "      <td>0.0</td>\n",
       "      <td>0.0</td>\n",
       "    </tr>\n",
       "  </tbody>\n",
       "</table>\n",
       "<p>94 rows × 42 columns</p>\n",
       "</div>"
      ],
      "text/plain": [
       "                  REPORT_ID      Stats Area  Total Units  Total Cas  \\\n",
       "168      2019-169-8/07/2020  2 Metropolitan            2          0   \n",
       "258      2019-259-8/07/2020  2 Metropolitan            3          1   \n",
       "413      2019-414-8/07/2020          1 City            2          1   \n",
       "423      2019-424-8/07/2020          1 City            2          1   \n",
       "510      2019-511-8/07/2020       3 Country            2          1   \n",
       "...                     ...             ...          ...        ...   \n",
       "12398  2019-12399-8/07/2020  2 Metropolitan            2          0   \n",
       "12435  2019-12436-8/07/2020          1 City            2          0   \n",
       "12561  2019-12562-8/07/2020  2 Metropolitan            2          0   \n",
       "12859  2019-12860-8/07/2020  2 Metropolitan            2          0   \n",
       "12922  2019-12923-8/07/2020  2 Metropolitan            2          1   \n",
       "\n",
       "       Total Fats  Total SI  Total MI  Year     Month        Day      Time  \\\n",
       "168             0         0         0  2019   January   Saturday  03:30 pm   \n",
       "258             0         1         0  2019   January   Thursday  11:51 pm   \n",
       "413             0         0         1  2019   January  Wednesday  08:15 am   \n",
       "423             0         0         1  2019   January     Sunday  04:50 am   \n",
       "510             0         0         1  2019   January   Saturday  02:43 am   \n",
       "...           ...       ...       ...   ...       ...        ...       ...   \n",
       "12398           0         0         0  2019  December     Monday  03:15 pm   \n",
       "12435           0         0         0  2019  December     Friday  11:50 pm   \n",
       "12561           0         0         0  2019  December    Tuesday  01:15 pm   \n",
       "12859           0         0         0  2019  December     Friday  07:00 pm   \n",
       "12922           0         0         1  2019  December    Tuesday  08:50 am   \n",
       "\n",
       "       Area Speed Position Type Horizontal Align Vertical Align  \\\n",
       "168            60  Divided Road    Straight road          Level   \n",
       "258            50   Not Divided    Straight road          Level   \n",
       "413            50   Not Divided    Straight road          Level   \n",
       "423            50   Not Divided    Straight road          Level   \n",
       "510            50   Not Divided    Straight road          Level   \n",
       "...           ...           ...              ...            ...   \n",
       "12398          25   Not Divided    Straight road          Level   \n",
       "12435          50  Divided Road    Straight road          Level   \n",
       "12561          60    T-Junction    Straight road          Level   \n",
       "12859          60   Not Divided    Straight road          Level   \n",
       "12922          50   Not Divided    Straight road          Level   \n",
       "\n",
       "                 Other Feat Road Surface Moisture Cond Weather Cond  DayNight  \\\n",
       "168    Driveway or Entrance       Sealed           Dry  Not Raining  Daylight   \n",
       "258          Not Applicable       Sealed           Dry  Not Raining     Night   \n",
       "413    Driveway or Entrance       Sealed           Dry  Not Raining  Daylight   \n",
       "423          Not Applicable       Sealed           Dry  Not Raining     Night   \n",
       "510          Not Applicable       Sealed           Dry  Not Raining     Night   \n",
       "...                     ...          ...           ...          ...       ...   \n",
       "12398        Not Applicable       Sealed           Dry  Not Raining  Daylight   \n",
       "12435        Not Applicable       Sealed           Dry  Not Raining     Night   \n",
       "12561  Driveway or Entrance       Sealed           Dry  Not Raining  Daylight   \n",
       "12859        Not Applicable       Sealed           Dry  Not Raining  Daylight   \n",
       "12922        Not Applicable       Sealed           Dry  Not Raining  Daylight   \n",
       "\n",
       "           Crash Type  Unit Resp   Entity Code CSEF Severity    Traffic Ctrls  \\\n",
       "168    Hit Pedestrian          2  Driver Rider        1: PDO       No Control   \n",
       "258    Hit Pedestrian          1    Pedestrian         3: SI       No Control   \n",
       "413    Hit Pedestrian          2  Driver Rider         2: MI       No Control   \n",
       "423    Hit Pedestrian          1    Pedestrian         2: MI       No Control   \n",
       "510    Hit Pedestrian          1    Pedestrian         2: MI       No Control   \n",
       "...               ...        ...           ...           ...              ...   \n",
       "12398  Hit Pedestrian          2  Driver Rider        1: PDO       No Control   \n",
       "12435  Hit Pedestrian          1    Pedestrian        1: PDO       No Control   \n",
       "12561  Hit Pedestrian          2  Driver Rider        1: PDO  Traffic Signals   \n",
       "12859  Hit Pedestrian          1    Pedestrian        1: PDO       No Control   \n",
       "12922  Hit Pedestrian          1    Pedestrian         2: MI       No Control   \n",
       "\n",
       "       DUI Involved  Drugs Involved  Unit No  No Of Cas Veh Reg State  \\\n",
       "168             0.0             0.0        1          0            SA   \n",
       "258             0.0             1.0        1          1            SA   \n",
       "413             0.0             0.0        1          1            SA   \n",
       "423             0.0             0.0        1          1            SA   \n",
       "510             0.0             0.0        1          1            SA   \n",
       "...             ...             ...      ...        ...           ...   \n",
       "12398           0.0             0.0        1          0            SA   \n",
       "12435           0.0             0.0        1          0            SA   \n",
       "12561           0.0             0.0        1          0            SA   \n",
       "12859           0.0             0.0        1          0            SA   \n",
       "12922           0.0             0.0        1          1            SA   \n",
       "\n",
       "       Unit Type  Veh_Age Direction Of Travel  Sex   Age Lic State  \\\n",
       "168            7      1.0                West    0  68.0        SA   \n",
       "258            7      1.0                East    1  49.0        SA   \n",
       "413            7      1.0                East    0  70.0        SA   \n",
       "423            7      1.0               North    0  37.0        SA   \n",
       "510            7      1.0          North East    0  20.0        SA   \n",
       "...          ...      ...                 ...  ...   ...       ...   \n",
       "12398          7      1.0          North East    1  66.0        SA   \n",
       "12435          5      1.0                East    1  26.0        SA   \n",
       "12561          7      1.0          South East    1  30.0        SA   \n",
       "12859          7      1.0                East    0  19.0        SA   \n",
       "12922          7      1.0                East    0  89.0        SA   \n",
       "\n",
       "       Licence Type  Towing                 Unit Movement  Number Occupants  \\\n",
       "168               8     0.0           Walking on Footpath               NaN   \n",
       "258               8     0.0  Alighted from Parked Vehicle               NaN   \n",
       "413               8     0.0           Walking on Footpath               NaN   \n",
       "423               8     0.0      Crossing without Control               NaN   \n",
       "510               8     0.0               Walking on Road               NaN   \n",
       "...             ...     ...                           ...               ...   \n",
       "12398             8     0.0               Walking on Road               NaN   \n",
       "12435             8     0.0               Walking on Road               NaN   \n",
       "12561             8     0.0      Crossing without Control               NaN   \n",
       "12859             8     0.0      Crossing without Control               NaN   \n",
       "12922             8     0.0      Crossing without Control               NaN   \n",
       "\n",
       "       Rollover  Fire  \n",
       "168         0.0   0.0  \n",
       "258         0.0   0.0  \n",
       "413         0.0   0.0  \n",
       "423         0.0   0.0  \n",
       "510         0.0   0.0  \n",
       "...         ...   ...  \n",
       "12398       0.0   0.0  \n",
       "12435       0.0   0.0  \n",
       "12561       0.0   0.0  \n",
       "12859       0.0   0.0  \n",
       "12922       0.0   0.0  \n",
       "\n",
       "[94 rows x 42 columns]"
      ]
     },
     "execution_count": 129,
     "metadata": {},
     "output_type": "execute_result"
    }
   ],
   "source": [
    "df[df.filter(like='Number Occupants').isnull().any(1)]"
   ]
  },
  {
   "cell_type": "code",
   "execution_count": 130,
   "metadata": {},
   "outputs": [
    {
     "name": "stdout",
     "output_type": "stream",
     "text": [
      "94\n"
     ]
    }
   ],
   "source": [
    "print(df['Number Occupants'].isnull().sum())"
   ]
  },
  {
   "cell_type": "code",
   "execution_count": 131,
   "metadata": {},
   "outputs": [],
   "source": [
    "df['Number Occupants'].fillna(1, inplace=True)"
   ]
  },
  {
   "cell_type": "code",
   "execution_count": 132,
   "metadata": {},
   "outputs": [
    {
     "name": "stdout",
     "output_type": "stream",
     "text": [
      "1.0     9850\n",
      "2.0     2123\n",
      "3.0      558\n",
      "4.0      239\n",
      "5.0       83\n",
      "10.0      24\n",
      "6.0       19\n",
      "7.0        9\n",
      "15.0       8\n",
      "8.0        6\n",
      "12.0       6\n",
      "9.0        5\n",
      "25.0       5\n",
      "30.0       4\n",
      "20.0       3\n",
      "50.0       3\n",
      "21.0       3\n",
      "13.0       3\n",
      "40.0       2\n",
      "60.0       2\n",
      "11.0       2\n",
      "16.0       2\n",
      "48.0       1\n",
      "26.0       1\n",
      "41.0       1\n",
      "35.0       1\n",
      "75.0       1\n",
      "Name: Number Occupants, dtype: int64\n",
      "0\n"
     ]
    }
   ],
   "source": [
    "print(df['Number Occupants'].value_counts())\n",
    "print(df['Number Occupants'].isnull().sum())"
   ]
  },
  {
   "cell_type": "code",
   "execution_count": 133,
   "metadata": {},
   "outputs": [
    {
     "data": {
      "text/plain": [
       "REPORT_ID              0\n",
       "Stats Area             0\n",
       "Total Units            0\n",
       "Total Cas              0\n",
       "Total Fats             0\n",
       "Total SI               0\n",
       "Total MI               0\n",
       "Year                   0\n",
       "Month                  0\n",
       "Day                    0\n",
       "Time                   0\n",
       "Area Speed             0\n",
       "Position Type          0\n",
       "Horizontal Align       0\n",
       "Vertical Align         0\n",
       "Other Feat             0\n",
       "Road Surface           0\n",
       "Moisture Cond          0\n",
       "Weather Cond           0\n",
       "DayNight               0\n",
       "Crash Type             0\n",
       "Unit Resp              0\n",
       "Entity Code            0\n",
       "CSEF Severity          0\n",
       "Traffic Ctrls          0\n",
       "DUI Involved           0\n",
       "Drugs Involved         0\n",
       "Unit No                0\n",
       "No Of Cas              0\n",
       "Veh Reg State          0\n",
       "Unit Type              0\n",
       "Veh_Age                0\n",
       "Direction Of Travel    0\n",
       "Sex                    0\n",
       "Age                    0\n",
       "Lic State              0\n",
       "Licence Type           0\n",
       "Towing                 0\n",
       "Unit Movement          0\n",
       "Number Occupants       0\n",
       "Rollover               0\n",
       "Fire                   0\n",
       "dtype: int64"
      ]
     },
     "execution_count": 133,
     "metadata": {},
     "output_type": "execute_result"
    }
   ],
   "source": [
    "df.isnull().sum()"
   ]
  },
  {
   "cell_type": "markdown",
   "metadata": {},
   "source": [
    "Finished reducing null values to zero."
   ]
  },
  {
   "cell_type": "markdown",
   "metadata": {},
   "source": [
    "# Pre-processing of columns including one-hot encoding, target encoding, scaling etc."
   ]
  },
  {
   "cell_type": "code",
   "execution_count": 134,
   "metadata": {
    "scrolled": true
   },
   "outputs": [
    {
     "data": {
      "text/plain": [
       "1    7494\n",
       "2    5405\n",
       "9      64\n",
       "4       1\n",
       "Name: Unit Resp, dtype: int64"
      ]
     },
     "execution_count": 134,
     "metadata": {},
     "output_type": "execute_result"
    }
   ],
   "source": [
    "df['Unit Resp'].value_counts()"
   ]
  },
  {
   "cell_type": "code",
   "execution_count": 135,
   "metadata": {},
   "outputs": [
    {
     "data": {
      "text/plain": [
       "REPORT_ID               object\n",
       "Stats Area              object\n",
       "Total Units              int64\n",
       "Total Cas                int64\n",
       "Total Fats               int64\n",
       "Total SI                 int64\n",
       "Total MI                 int64\n",
       "Year                     int64\n",
       "Month                   object\n",
       "Day                     object\n",
       "Time                    object\n",
       "Area Speed               int64\n",
       "Position Type           object\n",
       "Horizontal Align        object\n",
       "Vertical Align          object\n",
       "Other Feat              object\n",
       "Road Surface            object\n",
       "Moisture Cond           object\n",
       "Weather Cond            object\n",
       "DayNight                object\n",
       "Crash Type              object\n",
       "Unit Resp                int64\n",
       "Entity Code             object\n",
       "CSEF Severity           object\n",
       "Traffic Ctrls           object\n",
       "DUI Involved           float64\n",
       "Drugs Involved         float64\n",
       "Unit No                  int64\n",
       "No Of Cas                int64\n",
       "Veh Reg State           object\n",
       "Unit Type                int64\n",
       "Veh_Age                float64\n",
       "Direction Of Travel     object\n",
       "Sex                      int64\n",
       "Age                    float64\n",
       "Lic State               object\n",
       "Licence Type             int64\n",
       "Towing                 float64\n",
       "Unit Movement           object\n",
       "Number Occupants       float64\n",
       "Rollover               float64\n",
       "Fire                   float64\n",
       "dtype: object"
      ]
     },
     "execution_count": 135,
     "metadata": {},
     "output_type": "execute_result"
    }
   ],
   "source": [
    "df.dtypes"
   ]
  },
  {
   "cell_type": "code",
   "execution_count": 136,
   "metadata": {},
   "outputs": [
    {
     "data": {
      "text/html": [
       "<div>\n",
       "<style scoped>\n",
       "    .dataframe tbody tr th:only-of-type {\n",
       "        vertical-align: middle;\n",
       "    }\n",
       "\n",
       "    .dataframe tbody tr th {\n",
       "        vertical-align: top;\n",
       "    }\n",
       "\n",
       "    .dataframe thead th {\n",
       "        text-align: right;\n",
       "    }\n",
       "</style>\n",
       "<table border=\"1\" class=\"dataframe\">\n",
       "  <thead>\n",
       "    <tr style=\"text-align: right;\">\n",
       "      <th></th>\n",
       "      <th>Stats Area</th>\n",
       "      <th>Total Units</th>\n",
       "      <th>Total Cas</th>\n",
       "      <th>Total Fats</th>\n",
       "      <th>Total SI</th>\n",
       "      <th>Total MI</th>\n",
       "      <th>Year</th>\n",
       "      <th>Month</th>\n",
       "      <th>Day</th>\n",
       "      <th>Time</th>\n",
       "      <th>Area Speed</th>\n",
       "      <th>Position Type</th>\n",
       "      <th>Horizontal Align</th>\n",
       "      <th>Vertical Align</th>\n",
       "      <th>Other Feat</th>\n",
       "      <th>Road Surface</th>\n",
       "      <th>Moisture Cond</th>\n",
       "      <th>Weather Cond</th>\n",
       "      <th>DayNight</th>\n",
       "      <th>Crash Type</th>\n",
       "      <th>Unit Resp</th>\n",
       "      <th>Entity Code</th>\n",
       "      <th>CSEF Severity</th>\n",
       "      <th>Traffic Ctrls</th>\n",
       "      <th>DUI Involved</th>\n",
       "      <th>Drugs Involved</th>\n",
       "      <th>Unit No</th>\n",
       "      <th>No Of Cas</th>\n",
       "      <th>Veh Reg State</th>\n",
       "      <th>Unit Type</th>\n",
       "      <th>Veh_Age</th>\n",
       "      <th>Direction Of Travel</th>\n",
       "      <th>Sex</th>\n",
       "      <th>Age</th>\n",
       "      <th>Lic State</th>\n",
       "      <th>Licence Type</th>\n",
       "      <th>Towing</th>\n",
       "      <th>Unit Movement</th>\n",
       "      <th>Number Occupants</th>\n",
       "      <th>Rollover</th>\n",
       "      <th>Fire</th>\n",
       "    </tr>\n",
       "    <tr>\n",
       "      <th>REPORT_ID</th>\n",
       "      <th></th>\n",
       "      <th></th>\n",
       "      <th></th>\n",
       "      <th></th>\n",
       "      <th></th>\n",
       "      <th></th>\n",
       "      <th></th>\n",
       "      <th></th>\n",
       "      <th></th>\n",
       "      <th></th>\n",
       "      <th></th>\n",
       "      <th></th>\n",
       "      <th></th>\n",
       "      <th></th>\n",
       "      <th></th>\n",
       "      <th></th>\n",
       "      <th></th>\n",
       "      <th></th>\n",
       "      <th></th>\n",
       "      <th></th>\n",
       "      <th></th>\n",
       "      <th></th>\n",
       "      <th></th>\n",
       "      <th></th>\n",
       "      <th></th>\n",
       "      <th></th>\n",
       "      <th></th>\n",
       "      <th></th>\n",
       "      <th></th>\n",
       "      <th></th>\n",
       "      <th></th>\n",
       "      <th></th>\n",
       "      <th></th>\n",
       "      <th></th>\n",
       "      <th></th>\n",
       "      <th></th>\n",
       "      <th></th>\n",
       "      <th></th>\n",
       "      <th></th>\n",
       "      <th></th>\n",
       "      <th></th>\n",
       "    </tr>\n",
       "  </thead>\n",
       "  <tbody>\n",
       "    <tr>\n",
       "      <th>2019-1-8/07/2020</th>\n",
       "      <td>2 Metropolitan</td>\n",
       "      <td>2</td>\n",
       "      <td>0</td>\n",
       "      <td>0</td>\n",
       "      <td>0</td>\n",
       "      <td>0</td>\n",
       "      <td>2019</td>\n",
       "      <td>June</td>\n",
       "      <td>Wednesday</td>\n",
       "      <td>11:15 am</td>\n",
       "      <td>60</td>\n",
       "      <td>Cross Road</td>\n",
       "      <td>Straight road</td>\n",
       "      <td>Level</td>\n",
       "      <td>Not Applicable</td>\n",
       "      <td>Sealed</td>\n",
       "      <td>Dry</td>\n",
       "      <td>Not Raining</td>\n",
       "      <td>Daylight</td>\n",
       "      <td>Right Angle</td>\n",
       "      <td>1</td>\n",
       "      <td>Driver Rider</td>\n",
       "      <td>1: PDO</td>\n",
       "      <td>Give Way Sign</td>\n",
       "      <td>0.0</td>\n",
       "      <td>0.0</td>\n",
       "      <td>1</td>\n",
       "      <td>0</td>\n",
       "      <td>SA</td>\n",
       "      <td>1</td>\n",
       "      <td>2.0</td>\n",
       "      <td>South</td>\n",
       "      <td>0</td>\n",
       "      <td>85.0</td>\n",
       "      <td>SA</td>\n",
       "      <td>8</td>\n",
       "      <td>0.0</td>\n",
       "      <td>Right Turn</td>\n",
       "      <td>1.0</td>\n",
       "      <td>0.0</td>\n",
       "      <td>0.0</td>\n",
       "    </tr>\n",
       "    <tr>\n",
       "      <th>2019-2-8/07/2020</th>\n",
       "      <td>2 Metropolitan</td>\n",
       "      <td>2</td>\n",
       "      <td>0</td>\n",
       "      <td>0</td>\n",
       "      <td>0</td>\n",
       "      <td>0</td>\n",
       "      <td>2019</td>\n",
       "      <td>January</td>\n",
       "      <td>Tuesday</td>\n",
       "      <td>12:49 am</td>\n",
       "      <td>90</td>\n",
       "      <td>Divided Road</td>\n",
       "      <td>Straight road</td>\n",
       "      <td>Level</td>\n",
       "      <td>Not Applicable</td>\n",
       "      <td>Sealed</td>\n",
       "      <td>Dry</td>\n",
       "      <td>Not Raining</td>\n",
       "      <td>Night</td>\n",
       "      <td>Rear End</td>\n",
       "      <td>2</td>\n",
       "      <td>Driver Rider</td>\n",
       "      <td>1: PDO</td>\n",
       "      <td>No Control</td>\n",
       "      <td>0.0</td>\n",
       "      <td>0.0</td>\n",
       "      <td>1</td>\n",
       "      <td>0</td>\n",
       "      <td>SA</td>\n",
       "      <td>1</td>\n",
       "      <td>1.0</td>\n",
       "      <td>North East</td>\n",
       "      <td>1</td>\n",
       "      <td>21.0</td>\n",
       "      <td>SA</td>\n",
       "      <td>7</td>\n",
       "      <td>0.0</td>\n",
       "      <td>Straight Ahead</td>\n",
       "      <td>4.0</td>\n",
       "      <td>0.0</td>\n",
       "      <td>0.0</td>\n",
       "    </tr>\n",
       "    <tr>\n",
       "      <th>2019-3-8/07/2020</th>\n",
       "      <td>2 Metropolitan</td>\n",
       "      <td>2</td>\n",
       "      <td>1</td>\n",
       "      <td>0</td>\n",
       "      <td>0</td>\n",
       "      <td>1</td>\n",
       "      <td>2019</td>\n",
       "      <td>January</td>\n",
       "      <td>Tuesday</td>\n",
       "      <td>12:00 am</td>\n",
       "      <td>60</td>\n",
       "      <td>Divided Road</td>\n",
       "      <td>Straight road</td>\n",
       "      <td>Level</td>\n",
       "      <td>Not Applicable</td>\n",
       "      <td>Sealed</td>\n",
       "      <td>Dry</td>\n",
       "      <td>Not Raining</td>\n",
       "      <td>Night</td>\n",
       "      <td>Hit Pedestrian</td>\n",
       "      <td>1</td>\n",
       "      <td>Driver Rider</td>\n",
       "      <td>2: MI</td>\n",
       "      <td>No Control</td>\n",
       "      <td>0.0</td>\n",
       "      <td>0.0</td>\n",
       "      <td>1</td>\n",
       "      <td>0</td>\n",
       "      <td>SA</td>\n",
       "      <td>1</td>\n",
       "      <td>1.0</td>\n",
       "      <td>East</td>\n",
       "      <td>0</td>\n",
       "      <td>37.0</td>\n",
       "      <td>SA</td>\n",
       "      <td>8</td>\n",
       "      <td>0.0</td>\n",
       "      <td>Straight Ahead</td>\n",
       "      <td>1.0</td>\n",
       "      <td>0.0</td>\n",
       "      <td>0.0</td>\n",
       "    </tr>\n",
       "    <tr>\n",
       "      <th>2019-4-8/07/2020</th>\n",
       "      <td>2 Metropolitan</td>\n",
       "      <td>2</td>\n",
       "      <td>1</td>\n",
       "      <td>0</td>\n",
       "      <td>1</td>\n",
       "      <td>0</td>\n",
       "      <td>2019</td>\n",
       "      <td>January</td>\n",
       "      <td>Tuesday</td>\n",
       "      <td>12:05 am</td>\n",
       "      <td>50</td>\n",
       "      <td>Not Divided</td>\n",
       "      <td>CURVED, VIEW OPEN</td>\n",
       "      <td>Level</td>\n",
       "      <td>Not Applicable</td>\n",
       "      <td>Sealed</td>\n",
       "      <td>Dry</td>\n",
       "      <td>Not Raining</td>\n",
       "      <td>Night</td>\n",
       "      <td>Hit Fixed Object</td>\n",
       "      <td>1</td>\n",
       "      <td>Driver Rider</td>\n",
       "      <td>3: SI</td>\n",
       "      <td>No Control</td>\n",
       "      <td>0.0</td>\n",
       "      <td>0.0</td>\n",
       "      <td>1</td>\n",
       "      <td>1</td>\n",
       "      <td>SA</td>\n",
       "      <td>4</td>\n",
       "      <td>1.0</td>\n",
       "      <td>North West</td>\n",
       "      <td>1</td>\n",
       "      <td>21.0</td>\n",
       "      <td>SA</td>\n",
       "      <td>3</td>\n",
       "      <td>0.0</td>\n",
       "      <td>Straight Ahead</td>\n",
       "      <td>1.0</td>\n",
       "      <td>0.0</td>\n",
       "      <td>0.0</td>\n",
       "    </tr>\n",
       "    <tr>\n",
       "      <th>2019-5-8/07/2020</th>\n",
       "      <td>2 Metropolitan</td>\n",
       "      <td>2</td>\n",
       "      <td>0</td>\n",
       "      <td>0</td>\n",
       "      <td>0</td>\n",
       "      <td>0</td>\n",
       "      <td>2019</td>\n",
       "      <td>January</td>\n",
       "      <td>Tuesday</td>\n",
       "      <td>05:15 am</td>\n",
       "      <td>110</td>\n",
       "      <td>Divided Road</td>\n",
       "      <td>Straight road</td>\n",
       "      <td>Slope</td>\n",
       "      <td>Not Applicable</td>\n",
       "      <td>Sealed</td>\n",
       "      <td>Dry</td>\n",
       "      <td>Not Raining</td>\n",
       "      <td>Night</td>\n",
       "      <td>Hit Animal</td>\n",
       "      <td>2</td>\n",
       "      <td>Animal</td>\n",
       "      <td>1: PDO</td>\n",
       "      <td>No Control</td>\n",
       "      <td>0.0</td>\n",
       "      <td>0.0</td>\n",
       "      <td>1</td>\n",
       "      <td>0</td>\n",
       "      <td>SA</td>\n",
       "      <td>1</td>\n",
       "      <td>1.0</td>\n",
       "      <td>West</td>\n",
       "      <td>1</td>\n",
       "      <td>31.0</td>\n",
       "      <td>SA</td>\n",
       "      <td>8</td>\n",
       "      <td>0.0</td>\n",
       "      <td>Straight Ahead</td>\n",
       "      <td>1.0</td>\n",
       "      <td>0.0</td>\n",
       "      <td>0.0</td>\n",
       "    </tr>\n",
       "    <tr>\n",
       "      <th>...</th>\n",
       "      <td>...</td>\n",
       "      <td>...</td>\n",
       "      <td>...</td>\n",
       "      <td>...</td>\n",
       "      <td>...</td>\n",
       "      <td>...</td>\n",
       "      <td>...</td>\n",
       "      <td>...</td>\n",
       "      <td>...</td>\n",
       "      <td>...</td>\n",
       "      <td>...</td>\n",
       "      <td>...</td>\n",
       "      <td>...</td>\n",
       "      <td>...</td>\n",
       "      <td>...</td>\n",
       "      <td>...</td>\n",
       "      <td>...</td>\n",
       "      <td>...</td>\n",
       "      <td>...</td>\n",
       "      <td>...</td>\n",
       "      <td>...</td>\n",
       "      <td>...</td>\n",
       "      <td>...</td>\n",
       "      <td>...</td>\n",
       "      <td>...</td>\n",
       "      <td>...</td>\n",
       "      <td>...</td>\n",
       "      <td>...</td>\n",
       "      <td>...</td>\n",
       "      <td>...</td>\n",
       "      <td>...</td>\n",
       "      <td>...</td>\n",
       "      <td>...</td>\n",
       "      <td>...</td>\n",
       "      <td>...</td>\n",
       "      <td>...</td>\n",
       "      <td>...</td>\n",
       "      <td>...</td>\n",
       "      <td>...</td>\n",
       "      <td>...</td>\n",
       "      <td>...</td>\n",
       "    </tr>\n",
       "    <tr>\n",
       "      <th>2019-12960-8/07/2020</th>\n",
       "      <td>2 Metropolitan</td>\n",
       "      <td>2</td>\n",
       "      <td>1</td>\n",
       "      <td>0</td>\n",
       "      <td>0</td>\n",
       "      <td>1</td>\n",
       "      <td>2019</td>\n",
       "      <td>November</td>\n",
       "      <td>Thursday</td>\n",
       "      <td>12:30 pm</td>\n",
       "      <td>60</td>\n",
       "      <td>Cross Road</td>\n",
       "      <td>Straight road</td>\n",
       "      <td>Level</td>\n",
       "      <td>Not Applicable</td>\n",
       "      <td>Sealed</td>\n",
       "      <td>Dry</td>\n",
       "      <td>Not Raining</td>\n",
       "      <td>Daylight</td>\n",
       "      <td>Rear End</td>\n",
       "      <td>2</td>\n",
       "      <td>Driver Rider</td>\n",
       "      <td>2: MI</td>\n",
       "      <td>Traffic Signals</td>\n",
       "      <td>0.0</td>\n",
       "      <td>0.0</td>\n",
       "      <td>1</td>\n",
       "      <td>1</td>\n",
       "      <td>SA</td>\n",
       "      <td>1</td>\n",
       "      <td>1.0</td>\n",
       "      <td>North</td>\n",
       "      <td>1</td>\n",
       "      <td>59.0</td>\n",
       "      <td>SA</td>\n",
       "      <td>8</td>\n",
       "      <td>0.0</td>\n",
       "      <td>Stopped on Carriageway</td>\n",
       "      <td>1.0</td>\n",
       "      <td>0.0</td>\n",
       "      <td>0.0</td>\n",
       "    </tr>\n",
       "    <tr>\n",
       "      <th>2019-12961-8/07/2020</th>\n",
       "      <td>2 Metropolitan</td>\n",
       "      <td>2</td>\n",
       "      <td>0</td>\n",
       "      <td>0</td>\n",
       "      <td>0</td>\n",
       "      <td>0</td>\n",
       "      <td>2019</td>\n",
       "      <td>December</td>\n",
       "      <td>Tuesday</td>\n",
       "      <td>11:45 pm</td>\n",
       "      <td>50</td>\n",
       "      <td>Not Divided</td>\n",
       "      <td>Straight road</td>\n",
       "      <td>Level</td>\n",
       "      <td>Not Applicable</td>\n",
       "      <td>Sealed</td>\n",
       "      <td>Dry</td>\n",
       "      <td>Not Raining</td>\n",
       "      <td>Night</td>\n",
       "      <td>Hit Parked Vehicle</td>\n",
       "      <td>1</td>\n",
       "      <td>Driver Rider</td>\n",
       "      <td>1: PDO</td>\n",
       "      <td>No Control</td>\n",
       "      <td>0.0</td>\n",
       "      <td>0.0</td>\n",
       "      <td>1</td>\n",
       "      <td>0</td>\n",
       "      <td>SA</td>\n",
       "      <td>1</td>\n",
       "      <td>1.0</td>\n",
       "      <td>North East</td>\n",
       "      <td>1</td>\n",
       "      <td>38.0</td>\n",
       "      <td>SA</td>\n",
       "      <td>6</td>\n",
       "      <td>0.0</td>\n",
       "      <td>Straight Ahead</td>\n",
       "      <td>3.0</td>\n",
       "      <td>0.0</td>\n",
       "      <td>0.0</td>\n",
       "    </tr>\n",
       "    <tr>\n",
       "      <th>2019-12962-8/07/2020</th>\n",
       "      <td>3 Country</td>\n",
       "      <td>2</td>\n",
       "      <td>1</td>\n",
       "      <td>0</td>\n",
       "      <td>0</td>\n",
       "      <td>1</td>\n",
       "      <td>2019</td>\n",
       "      <td>December</td>\n",
       "      <td>Friday</td>\n",
       "      <td>03:30 pm</td>\n",
       "      <td>50</td>\n",
       "      <td>Not Divided</td>\n",
       "      <td>Straight road</td>\n",
       "      <td>Slope</td>\n",
       "      <td>Driveway or Entrance</td>\n",
       "      <td>Sealed</td>\n",
       "      <td>Dry</td>\n",
       "      <td>Not Raining</td>\n",
       "      <td>Daylight</td>\n",
       "      <td>Side Swipe</td>\n",
       "      <td>2</td>\n",
       "      <td>Driver Rider</td>\n",
       "      <td>2: MI</td>\n",
       "      <td>No Control</td>\n",
       "      <td>0.0</td>\n",
       "      <td>0.0</td>\n",
       "      <td>1</td>\n",
       "      <td>1</td>\n",
       "      <td>SA</td>\n",
       "      <td>5</td>\n",
       "      <td>1.0</td>\n",
       "      <td>North East</td>\n",
       "      <td>1</td>\n",
       "      <td>47.0</td>\n",
       "      <td>SA</td>\n",
       "      <td>8</td>\n",
       "      <td>0.0</td>\n",
       "      <td>Straight Ahead</td>\n",
       "      <td>1.0</td>\n",
       "      <td>0.0</td>\n",
       "      <td>0.0</td>\n",
       "    </tr>\n",
       "    <tr>\n",
       "      <th>2019-12963-8/07/2020</th>\n",
       "      <td>2 Metropolitan</td>\n",
       "      <td>2</td>\n",
       "      <td>0</td>\n",
       "      <td>0</td>\n",
       "      <td>0</td>\n",
       "      <td>0</td>\n",
       "      <td>2019</td>\n",
       "      <td>December</td>\n",
       "      <td>Saturday</td>\n",
       "      <td>06:05 am</td>\n",
       "      <td>50</td>\n",
       "      <td>Not Divided</td>\n",
       "      <td>Straight road</td>\n",
       "      <td>Level</td>\n",
       "      <td>Not Applicable</td>\n",
       "      <td>Sealed</td>\n",
       "      <td>Dry</td>\n",
       "      <td>Not Raining</td>\n",
       "      <td>Daylight</td>\n",
       "      <td>Other</td>\n",
       "      <td>1</td>\n",
       "      <td>Driver Rider</td>\n",
       "      <td>1: PDO</td>\n",
       "      <td>No Control</td>\n",
       "      <td>0.0</td>\n",
       "      <td>0.0</td>\n",
       "      <td>1</td>\n",
       "      <td>0</td>\n",
       "      <td>SA</td>\n",
       "      <td>4</td>\n",
       "      <td>1.0</td>\n",
       "      <td>North West</td>\n",
       "      <td>1</td>\n",
       "      <td>58.0</td>\n",
       "      <td>SA</td>\n",
       "      <td>8</td>\n",
       "      <td>0.0</td>\n",
       "      <td>Straight Ahead</td>\n",
       "      <td>1.0</td>\n",
       "      <td>0.0</td>\n",
       "      <td>0.0</td>\n",
       "    </tr>\n",
       "    <tr>\n",
       "      <th>2019-12964-8/07/2020</th>\n",
       "      <td>2 Metropolitan</td>\n",
       "      <td>1</td>\n",
       "      <td>1</td>\n",
       "      <td>0</td>\n",
       "      <td>1</td>\n",
       "      <td>0</td>\n",
       "      <td>2019</td>\n",
       "      <td>December</td>\n",
       "      <td>Monday</td>\n",
       "      <td>03:30 pm</td>\n",
       "      <td>50</td>\n",
       "      <td>Not Divided</td>\n",
       "      <td>Straight road</td>\n",
       "      <td>Level</td>\n",
       "      <td>Not Applicable</td>\n",
       "      <td>Sealed</td>\n",
       "      <td>Dry</td>\n",
       "      <td>Not Raining</td>\n",
       "      <td>Daylight</td>\n",
       "      <td>Roll Over</td>\n",
       "      <td>1</td>\n",
       "      <td>Driver Rider</td>\n",
       "      <td>3: SI</td>\n",
       "      <td>No Control</td>\n",
       "      <td>1.0</td>\n",
       "      <td>0.0</td>\n",
       "      <td>1</td>\n",
       "      <td>1</td>\n",
       "      <td>SA</td>\n",
       "      <td>5</td>\n",
       "      <td>1.0</td>\n",
       "      <td>North</td>\n",
       "      <td>1</td>\n",
       "      <td>56.0</td>\n",
       "      <td>SA</td>\n",
       "      <td>8</td>\n",
       "      <td>0.0</td>\n",
       "      <td>Straight Ahead</td>\n",
       "      <td>1.0</td>\n",
       "      <td>1.0</td>\n",
       "      <td>0.0</td>\n",
       "    </tr>\n",
       "  </tbody>\n",
       "</table>\n",
       "<p>12964 rows × 41 columns</p>\n",
       "</div>"
      ],
      "text/plain": [
       "                          Stats Area  Total Units  Total Cas  Total Fats  \\\n",
       "REPORT_ID                                                                  \n",
       "2019-1-8/07/2020      2 Metropolitan            2          0           0   \n",
       "2019-2-8/07/2020      2 Metropolitan            2          0           0   \n",
       "2019-3-8/07/2020      2 Metropolitan            2          1           0   \n",
       "2019-4-8/07/2020      2 Metropolitan            2          1           0   \n",
       "2019-5-8/07/2020      2 Metropolitan            2          0           0   \n",
       "...                              ...          ...        ...         ...   \n",
       "2019-12960-8/07/2020  2 Metropolitan            2          1           0   \n",
       "2019-12961-8/07/2020  2 Metropolitan            2          0           0   \n",
       "2019-12962-8/07/2020       3 Country            2          1           0   \n",
       "2019-12963-8/07/2020  2 Metropolitan            2          0           0   \n",
       "2019-12964-8/07/2020  2 Metropolitan            1          1           0   \n",
       "\n",
       "                      Total SI  Total MI  Year     Month        Day      Time  \\\n",
       "REPORT_ID                                                                       \n",
       "2019-1-8/07/2020             0         0  2019      June  Wednesday  11:15 am   \n",
       "2019-2-8/07/2020             0         0  2019   January    Tuesday  12:49 am   \n",
       "2019-3-8/07/2020             0         1  2019   January    Tuesday  12:00 am   \n",
       "2019-4-8/07/2020             1         0  2019   January    Tuesday  12:05 am   \n",
       "2019-5-8/07/2020             0         0  2019   January    Tuesday  05:15 am   \n",
       "...                        ...       ...   ...       ...        ...       ...   \n",
       "2019-12960-8/07/2020         0         1  2019  November   Thursday  12:30 pm   \n",
       "2019-12961-8/07/2020         0         0  2019  December    Tuesday  11:45 pm   \n",
       "2019-12962-8/07/2020         0         1  2019  December     Friday  03:30 pm   \n",
       "2019-12963-8/07/2020         0         0  2019  December   Saturday  06:05 am   \n",
       "2019-12964-8/07/2020         1         0  2019  December     Monday  03:30 pm   \n",
       "\n",
       "                      Area Speed Position Type   Horizontal Align  \\\n",
       "REPORT_ID                                                           \n",
       "2019-1-8/07/2020              60    Cross Road      Straight road   \n",
       "2019-2-8/07/2020              90  Divided Road      Straight road   \n",
       "2019-3-8/07/2020              60  Divided Road      Straight road   \n",
       "2019-4-8/07/2020              50   Not Divided  CURVED, VIEW OPEN   \n",
       "2019-5-8/07/2020             110  Divided Road      Straight road   \n",
       "...                          ...           ...                ...   \n",
       "2019-12960-8/07/2020          60    Cross Road      Straight road   \n",
       "2019-12961-8/07/2020          50   Not Divided      Straight road   \n",
       "2019-12962-8/07/2020          50   Not Divided      Straight road   \n",
       "2019-12963-8/07/2020          50   Not Divided      Straight road   \n",
       "2019-12964-8/07/2020          50   Not Divided      Straight road   \n",
       "\n",
       "                     Vertical Align            Other Feat Road Surface  \\\n",
       "REPORT_ID                                                                \n",
       "2019-1-8/07/2020              Level        Not Applicable       Sealed   \n",
       "2019-2-8/07/2020              Level        Not Applicable       Sealed   \n",
       "2019-3-8/07/2020              Level        Not Applicable       Sealed   \n",
       "2019-4-8/07/2020              Level        Not Applicable       Sealed   \n",
       "2019-5-8/07/2020              Slope        Not Applicable       Sealed   \n",
       "...                             ...                   ...          ...   \n",
       "2019-12960-8/07/2020          Level        Not Applicable       Sealed   \n",
       "2019-12961-8/07/2020          Level        Not Applicable       Sealed   \n",
       "2019-12962-8/07/2020          Slope  Driveway or Entrance       Sealed   \n",
       "2019-12963-8/07/2020          Level        Not Applicable       Sealed   \n",
       "2019-12964-8/07/2020          Level        Not Applicable       Sealed   \n",
       "\n",
       "                     Moisture Cond Weather Cond  DayNight          Crash Type  \\\n",
       "REPORT_ID                                                                       \n",
       "2019-1-8/07/2020               Dry  Not Raining  Daylight         Right Angle   \n",
       "2019-2-8/07/2020               Dry  Not Raining     Night            Rear End   \n",
       "2019-3-8/07/2020               Dry  Not Raining     Night      Hit Pedestrian   \n",
       "2019-4-8/07/2020               Dry  Not Raining     Night    Hit Fixed Object   \n",
       "2019-5-8/07/2020               Dry  Not Raining     Night          Hit Animal   \n",
       "...                            ...          ...       ...                 ...   \n",
       "2019-12960-8/07/2020           Dry  Not Raining  Daylight            Rear End   \n",
       "2019-12961-8/07/2020           Dry  Not Raining     Night  Hit Parked Vehicle   \n",
       "2019-12962-8/07/2020           Dry  Not Raining  Daylight          Side Swipe   \n",
       "2019-12963-8/07/2020           Dry  Not Raining  Daylight               Other   \n",
       "2019-12964-8/07/2020           Dry  Not Raining  Daylight           Roll Over   \n",
       "\n",
       "                      Unit Resp   Entity Code CSEF Severity    Traffic Ctrls  \\\n",
       "REPORT_ID                                                                      \n",
       "2019-1-8/07/2020              1  Driver Rider        1: PDO    Give Way Sign   \n",
       "2019-2-8/07/2020              2  Driver Rider        1: PDO       No Control   \n",
       "2019-3-8/07/2020              1  Driver Rider         2: MI       No Control   \n",
       "2019-4-8/07/2020              1  Driver Rider         3: SI       No Control   \n",
       "2019-5-8/07/2020              2        Animal        1: PDO       No Control   \n",
       "...                         ...           ...           ...              ...   \n",
       "2019-12960-8/07/2020          2  Driver Rider         2: MI  Traffic Signals   \n",
       "2019-12961-8/07/2020          1  Driver Rider        1: PDO       No Control   \n",
       "2019-12962-8/07/2020          2  Driver Rider         2: MI       No Control   \n",
       "2019-12963-8/07/2020          1  Driver Rider        1: PDO       No Control   \n",
       "2019-12964-8/07/2020          1  Driver Rider         3: SI       No Control   \n",
       "\n",
       "                      DUI Involved  Drugs Involved  Unit No  No Of Cas  \\\n",
       "REPORT_ID                                                                \n",
       "2019-1-8/07/2020               0.0             0.0        1          0   \n",
       "2019-2-8/07/2020               0.0             0.0        1          0   \n",
       "2019-3-8/07/2020               0.0             0.0        1          0   \n",
       "2019-4-8/07/2020               0.0             0.0        1          1   \n",
       "2019-5-8/07/2020               0.0             0.0        1          0   \n",
       "...                            ...             ...      ...        ...   \n",
       "2019-12960-8/07/2020           0.0             0.0        1          1   \n",
       "2019-12961-8/07/2020           0.0             0.0        1          0   \n",
       "2019-12962-8/07/2020           0.0             0.0        1          1   \n",
       "2019-12963-8/07/2020           0.0             0.0        1          0   \n",
       "2019-12964-8/07/2020           1.0             0.0        1          1   \n",
       "\n",
       "                     Veh Reg State  Unit Type  Veh_Age Direction Of Travel  \\\n",
       "REPORT_ID                                                                    \n",
       "2019-1-8/07/2020                SA          1      2.0               South   \n",
       "2019-2-8/07/2020                SA          1      1.0          North East   \n",
       "2019-3-8/07/2020                SA          1      1.0                East   \n",
       "2019-4-8/07/2020                SA          4      1.0          North West   \n",
       "2019-5-8/07/2020                SA          1      1.0                West   \n",
       "...                            ...        ...      ...                 ...   \n",
       "2019-12960-8/07/2020            SA          1      1.0               North   \n",
       "2019-12961-8/07/2020            SA          1      1.0          North East   \n",
       "2019-12962-8/07/2020            SA          5      1.0          North East   \n",
       "2019-12963-8/07/2020            SA          4      1.0          North West   \n",
       "2019-12964-8/07/2020            SA          5      1.0               North   \n",
       "\n",
       "                      Sex   Age Lic State  Licence Type  Towing  \\\n",
       "REPORT_ID                                                         \n",
       "2019-1-8/07/2020        0  85.0        SA             8     0.0   \n",
       "2019-2-8/07/2020        1  21.0        SA             7     0.0   \n",
       "2019-3-8/07/2020        0  37.0        SA             8     0.0   \n",
       "2019-4-8/07/2020        1  21.0        SA             3     0.0   \n",
       "2019-5-8/07/2020        1  31.0        SA             8     0.0   \n",
       "...                   ...   ...       ...           ...     ...   \n",
       "2019-12960-8/07/2020    1  59.0        SA             8     0.0   \n",
       "2019-12961-8/07/2020    1  38.0        SA             6     0.0   \n",
       "2019-12962-8/07/2020    1  47.0        SA             8     0.0   \n",
       "2019-12963-8/07/2020    1  58.0        SA             8     0.0   \n",
       "2019-12964-8/07/2020    1  56.0        SA             8     0.0   \n",
       "\n",
       "                               Unit Movement  Number Occupants  Rollover  Fire  \n",
       "REPORT_ID                                                                       \n",
       "2019-1-8/07/2020                  Right Turn               1.0       0.0   0.0  \n",
       "2019-2-8/07/2020              Straight Ahead               4.0       0.0   0.0  \n",
       "2019-3-8/07/2020              Straight Ahead               1.0       0.0   0.0  \n",
       "2019-4-8/07/2020              Straight Ahead               1.0       0.0   0.0  \n",
       "2019-5-8/07/2020              Straight Ahead               1.0       0.0   0.0  \n",
       "...                                      ...               ...       ...   ...  \n",
       "2019-12960-8/07/2020  Stopped on Carriageway               1.0       0.0   0.0  \n",
       "2019-12961-8/07/2020          Straight Ahead               3.0       0.0   0.0  \n",
       "2019-12962-8/07/2020          Straight Ahead               1.0       0.0   0.0  \n",
       "2019-12963-8/07/2020          Straight Ahead               1.0       0.0   0.0  \n",
       "2019-12964-8/07/2020          Straight Ahead               1.0       1.0   0.0  \n",
       "\n",
       "[12964 rows x 41 columns]"
      ]
     },
     "execution_count": 136,
     "metadata": {},
     "output_type": "execute_result"
    }
   ],
   "source": [
    "df.set_index('REPORT_ID')"
   ]
  },
  {
   "cell_type": "code",
   "execution_count": 137,
   "metadata": {},
   "outputs": [
    {
     "data": {
      "text/plain": [
       "2 Metropolitan    10402\n",
       "3 Country          1897\n",
       "1 City              665\n",
       "Name: Stats Area, dtype: int64"
      ]
     },
     "execution_count": 137,
     "metadata": {},
     "output_type": "execute_result"
    }
   ],
   "source": [
    "df['Stats Area'].value_counts()"
   ]
  },
  {
   "cell_type": "code",
   "execution_count": 138,
   "metadata": {},
   "outputs": [],
   "source": [
    "statsdi = {'1 City': 1, '2 Metropolitan': 2, '3 Country': 3}"
   ]
  },
  {
   "cell_type": "code",
   "execution_count": 139,
   "metadata": {},
   "outputs": [],
   "source": [
    "df['Stats Area'] = df['Stats Area'].replace(statsdi, inplace=False)"
   ]
  },
  {
   "cell_type": "code",
   "execution_count": 140,
   "metadata": {},
   "outputs": [
    {
     "data": {
      "text/plain": [
       "2    10402\n",
       "3     1897\n",
       "1      665\n",
       "Name: Stats Area, dtype: int64"
      ]
     },
     "execution_count": 140,
     "metadata": {},
     "output_type": "execute_result"
    }
   ],
   "source": [
    "df['Stats Area'].value_counts()"
   ]
  },
  {
   "cell_type": "code",
   "execution_count": 141,
   "metadata": {},
   "outputs": [
    {
     "data": {
      "text/plain": [
       "2    10399\n",
       "3     1582\n",
       "1      620\n",
       "4      298\n",
       "5       42\n",
       "6       16\n",
       "7        5\n",
       "8        2\n",
       "Name: Total Units, dtype: int64"
      ]
     },
     "execution_count": 141,
     "metadata": {},
     "output_type": "execute_result"
    }
   ],
   "source": [
    "df['Total Units'].value_counts()\n",
    "#Doesn't require encoding"
   ]
  },
  {
   "cell_type": "code",
   "execution_count": 142,
   "metadata": {},
   "outputs": [
    {
     "data": {
      "text/plain": [
       "Index(['REPORT_ID', 'Stats Area', 'Total Units', 'Total Cas', 'Total Fats',\n",
       "       'Total SI', 'Total MI', 'Year', 'Month', 'Day', 'Time', 'Area Speed',\n",
       "       'Position Type', 'Horizontal Align', 'Vertical Align', 'Other Feat',\n",
       "       'Road Surface', 'Moisture Cond', 'Weather Cond', 'DayNight',\n",
       "       'Crash Type', 'Unit Resp', 'Entity Code', 'CSEF Severity',\n",
       "       'Traffic Ctrls', 'DUI Involved', 'Drugs Involved', 'Unit No',\n",
       "       'No Of Cas', 'Veh Reg State', 'Unit Type', 'Veh_Age',\n",
       "       'Direction Of Travel', 'Sex', 'Age', 'Lic State', 'Licence Type',\n",
       "       'Towing', 'Unit Movement', 'Number Occupants', 'Rollover', 'Fire'],\n",
       "      dtype='object')"
      ]
     },
     "execution_count": 142,
     "metadata": {},
     "output_type": "execute_result"
    }
   ],
   "source": [
    "df.columns"
   ]
  },
  {
   "cell_type": "code",
   "execution_count": 143,
   "metadata": {},
   "outputs": [],
   "source": [
    "#I would like to do some visualisations with timeseries information but due to time constraints, I will drop the time information and use the day/night information in the modelling. \n",
    "droptime = ['Year', 'Month', 'Day', 'Time']\n",
    "df = df.drop(droptime, axis=1)"
   ]
  },
  {
   "cell_type": "code",
   "execution_count": 144,
   "metadata": {},
   "outputs": [
    {
     "data": {
      "text/plain": [
       "Index(['REPORT_ID', 'Stats Area', 'Total Units', 'Total Cas', 'Total Fats',\n",
       "       'Total SI', 'Total MI', 'Area Speed', 'Position Type',\n",
       "       'Horizontal Align', 'Vertical Align', 'Other Feat', 'Road Surface',\n",
       "       'Moisture Cond', 'Weather Cond', 'DayNight', 'Crash Type', 'Unit Resp',\n",
       "       'Entity Code', 'CSEF Severity', 'Traffic Ctrls', 'DUI Involved',\n",
       "       'Drugs Involved', 'Unit No', 'No Of Cas', 'Veh Reg State', 'Unit Type',\n",
       "       'Veh_Age', 'Direction Of Travel', 'Sex', 'Age', 'Lic State',\n",
       "       'Licence Type', 'Towing', 'Unit Movement', 'Number Occupants',\n",
       "       'Rollover', 'Fire'],\n",
       "      dtype='object')"
      ]
     },
     "execution_count": 144,
     "metadata": {},
     "output_type": "execute_result"
    }
   ],
   "source": [
    "df.columns"
   ]
  },
  {
   "cell_type": "markdown",
   "metadata": {},
   "source": [
    "Going to transform the target column into binary - confirmation of casualty or not"
   ]
  },
  {
   "cell_type": "code",
   "execution_count": 145,
   "metadata": {},
   "outputs": [
    {
     "name": "stdout",
     "output_type": "stream",
     "text": [
      "0    8188\n",
      "1    3909\n",
      "2     625\n",
      "3     147\n",
      "4      61\n",
      "5      22\n",
      "6       9\n",
      "7       2\n",
      "9       1\n",
      "Name: Total Cas, dtype: int64\n"
     ]
    },
    {
     "data": {
      "text/plain": [
       "<AxesSubplot:>"
      ]
     },
     "execution_count": 145,
     "metadata": {},
     "output_type": "execute_result"
    },
    {
     "data": {
      "image/png": "[encoded data removed]",
      "text/plain": [
       "<Figure size 432x288 with 1 Axes>"
      ]
     },
     "metadata": {
      "needs_background": "light"
     },
     "output_type": "display_data"
    }
   ],
   "source": [
    "print(dfcrash['Total Cas'].value_counts(normalize=False))\n",
    "\n",
    "dfcrash['Total Cas'].value_counts().plot(kind='bar')"
   ]
  },
  {
   "cell_type": "code",
   "execution_count": 146,
   "metadata": {},
   "outputs": [],
   "source": [
    "mask_cas = dfcrash['Total Cas'] >= 1\n",
    "df.loc[mask_cas, 'Total Cas'] = 1"
   ]
  },
  {
   "cell_type": "code",
   "execution_count": 147,
   "metadata": {
    "scrolled": true
   },
   "outputs": [
    {
     "name": "stdout",
     "output_type": "stream",
     "text": [
      "0    0.631595\n",
      "1    0.368405\n",
      "Name: Total Cas, dtype: float64\n",
      "0    8188\n",
      "1    4776\n",
      "Name: Total Cas, dtype: int64\n"
     ]
    }
   ],
   "source": [
    "print(df['Total Cas'].value_counts(normalize=True))\n",
    "print(df['Total Cas'].value_counts())"
   ]
  },
  {
   "cell_type": "code",
   "execution_count": 148,
   "metadata": {},
   "outputs": [],
   "source": [
    "df.rename(columns = {'Total Cas': 'Casualty'}, inplace=True)"
   ]
  },
  {
   "cell_type": "code",
   "execution_count": 149,
   "metadata": {},
   "outputs": [
    {
     "data": {
      "text/plain": [
       "1    12964\n",
       "Name: Unit No, dtype: int64"
      ]
     },
     "execution_count": 149,
     "metadata": {},
     "output_type": "execute_result"
    }
   ],
   "source": [
    "df['Unit No'].value_counts()"
   ]
  },
  {
   "cell_type": "code",
   "execution_count": 150,
   "metadata": {},
   "outputs": [
    {
     "data": {
      "text/plain": [
       "Driver Rider                   12454\n",
       "Pedestrian                       227\n",
       "Animal                           186\n",
       "Other                             74\n",
       "Passenger                         21\n",
       "No Unit or User Responsible        2\n",
       "Name: Entity Code, dtype: int64"
      ]
     },
     "execution_count": 150,
     "metadata": {},
     "output_type": "execute_result"
    }
   ],
   "source": [
    "df['Entity Code'].value_counts()"
   ]
  },
  {
   "cell_type": "code",
   "execution_count": 151,
   "metadata": {},
   "outputs": [
    {
     "data": {
      "text/plain": [
       "0    9730\n",
       "1    2887\n",
       "2     275\n",
       "3      47\n",
       "4      18\n",
       "5       4\n",
       "6       2\n",
       "7       1\n",
       "Name: No Of Cas, dtype: int64"
      ]
     },
     "execution_count": 151,
     "metadata": {},
     "output_type": "execute_result"
    }
   ],
   "source": [
    "df['No Of Cas'].value_counts()"
   ]
  },
  {
   "cell_type": "code",
   "execution_count": 152,
   "metadata": {},
   "outputs": [],
   "source": [
    "#I will have to also delete the number of casualties column and the total casualties/fatalities columns as these will confirm the presence of casualties on my unseen data. \n",
    "dropcas = ['No Of Cas', 'Total Fats', 'Total SI', 'Total MI']\n",
    "df.drop(columns=dropcas, inplace=True)"
   ]
  },
  {
   "cell_type": "code",
   "execution_count": 153,
   "metadata": {
    "scrolled": true
   },
   "outputs": [
    {
     "data": {
      "text/plain": [
       "Index(['REPORT_ID', 'Stats Area', 'Total Units', 'Casualty', 'Area Speed',\n",
       "       'Position Type', 'Horizontal Align', 'Vertical Align', 'Other Feat',\n",
       "       'Road Surface', 'Moisture Cond', 'Weather Cond', 'DayNight',\n",
       "       'Crash Type', 'Unit Resp', 'Entity Code', 'CSEF Severity',\n",
       "       'Traffic Ctrls', 'DUI Involved', 'Drugs Involved', 'Unit No',\n",
       "       'Veh Reg State', 'Unit Type', 'Veh_Age', 'Direction Of Travel', 'Sex',\n",
       "       'Age', 'Lic State', 'Licence Type', 'Towing', 'Unit Movement',\n",
       "       'Number Occupants', 'Rollover', 'Fire'],\n",
       "      dtype='object')"
      ]
     },
     "execution_count": 153,
     "metadata": {},
     "output_type": "execute_result"
    }
   ],
   "source": [
    "df.columns"
   ]
  },
  {
   "cell_type": "code",
   "execution_count": 154,
   "metadata": {},
   "outputs": [
    {
     "data": {
      "text/plain": [
       "34"
      ]
     },
     "execution_count": 154,
     "metadata": {},
     "output_type": "execute_result"
    }
   ],
   "source": [
    "len(df.columns)"
   ]
  },
  {
   "cell_type": "code",
   "execution_count": 155,
   "metadata": {},
   "outputs": [],
   "source": [
    "df.set_index('REPORT_ID', inplace=True)"
   ]
  },
  {
   "cell_type": "code",
   "execution_count": 156,
   "metadata": {},
   "outputs": [
    {
     "data": {
      "text/plain": [
       "33"
      ]
     },
     "execution_count": 156,
     "metadata": {},
     "output_type": "execute_result"
    }
   ],
   "source": [
    "len(df.columns)"
   ]
  },
  {
   "cell_type": "code",
   "execution_count": 157,
   "metadata": {},
   "outputs": [
    {
     "data": {
      "text/html": [
       "<div>\n",
       "<style scoped>\n",
       "    .dataframe tbody tr th:only-of-type {\n",
       "        vertical-align: middle;\n",
       "    }\n",
       "\n",
       "    .dataframe tbody tr th {\n",
       "        vertical-align: top;\n",
       "    }\n",
       "\n",
       "    .dataframe thead th {\n",
       "        text-align: right;\n",
       "    }\n",
       "</style>\n",
       "<table border=\"1\" class=\"dataframe\">\n",
       "  <thead>\n",
       "    <tr style=\"text-align: right;\">\n",
       "      <th></th>\n",
       "      <th>Stats Area</th>\n",
       "      <th>Total Units</th>\n",
       "      <th>Casualty</th>\n",
       "      <th>Area Speed</th>\n",
       "      <th>Position Type</th>\n",
       "      <th>Horizontal Align</th>\n",
       "      <th>Vertical Align</th>\n",
       "      <th>Other Feat</th>\n",
       "      <th>Road Surface</th>\n",
       "      <th>Moisture Cond</th>\n",
       "      <th>Weather Cond</th>\n",
       "      <th>DayNight</th>\n",
       "      <th>Crash Type</th>\n",
       "      <th>Unit Resp</th>\n",
       "      <th>Entity Code</th>\n",
       "      <th>CSEF Severity</th>\n",
       "      <th>Traffic Ctrls</th>\n",
       "      <th>DUI Involved</th>\n",
       "      <th>Drugs Involved</th>\n",
       "      <th>Unit No</th>\n",
       "      <th>Veh Reg State</th>\n",
       "      <th>Unit Type</th>\n",
       "      <th>Veh_Age</th>\n",
       "      <th>Direction Of Travel</th>\n",
       "      <th>Sex</th>\n",
       "      <th>Age</th>\n",
       "      <th>Lic State</th>\n",
       "      <th>Licence Type</th>\n",
       "      <th>Towing</th>\n",
       "      <th>Unit Movement</th>\n",
       "      <th>Number Occupants</th>\n",
       "      <th>Rollover</th>\n",
       "      <th>Fire</th>\n",
       "    </tr>\n",
       "    <tr>\n",
       "      <th>REPORT_ID</th>\n",
       "      <th></th>\n",
       "      <th></th>\n",
       "      <th></th>\n",
       "      <th></th>\n",
       "      <th></th>\n",
       "      <th></th>\n",
       "      <th></th>\n",
       "      <th></th>\n",
       "      <th></th>\n",
       "      <th></th>\n",
       "      <th></th>\n",
       "      <th></th>\n",
       "      <th></th>\n",
       "      <th></th>\n",
       "      <th></th>\n",
       "      <th></th>\n",
       "      <th></th>\n",
       "      <th></th>\n",
       "      <th></th>\n",
       "      <th></th>\n",
       "      <th></th>\n",
       "      <th></th>\n",
       "      <th></th>\n",
       "      <th></th>\n",
       "      <th></th>\n",
       "      <th></th>\n",
       "      <th></th>\n",
       "      <th></th>\n",
       "      <th></th>\n",
       "      <th></th>\n",
       "      <th></th>\n",
       "      <th></th>\n",
       "      <th></th>\n",
       "    </tr>\n",
       "  </thead>\n",
       "  <tbody>\n",
       "    <tr>\n",
       "      <th>2019-1-8/07/2020</th>\n",
       "      <td>2</td>\n",
       "      <td>2</td>\n",
       "      <td>0</td>\n",
       "      <td>60</td>\n",
       "      <td>Cross Road</td>\n",
       "      <td>Straight road</td>\n",
       "      <td>Level</td>\n",
       "      <td>Not Applicable</td>\n",
       "      <td>Sealed</td>\n",
       "      <td>Dry</td>\n",
       "      <td>Not Raining</td>\n",
       "      <td>Daylight</td>\n",
       "      <td>Right Angle</td>\n",
       "      <td>1</td>\n",
       "      <td>Driver Rider</td>\n",
       "      <td>1: PDO</td>\n",
       "      <td>Give Way Sign</td>\n",
       "      <td>0.0</td>\n",
       "      <td>0.0</td>\n",
       "      <td>1</td>\n",
       "      <td>SA</td>\n",
       "      <td>1</td>\n",
       "      <td>2.0</td>\n",
       "      <td>South</td>\n",
       "      <td>0</td>\n",
       "      <td>85.0</td>\n",
       "      <td>SA</td>\n",
       "      <td>8</td>\n",
       "      <td>0.0</td>\n",
       "      <td>Right Turn</td>\n",
       "      <td>1.0</td>\n",
       "      <td>0.0</td>\n",
       "      <td>0.0</td>\n",
       "    </tr>\n",
       "    <tr>\n",
       "      <th>2019-2-8/07/2020</th>\n",
       "      <td>2</td>\n",
       "      <td>2</td>\n",
       "      <td>0</td>\n",
       "      <td>90</td>\n",
       "      <td>Divided Road</td>\n",
       "      <td>Straight road</td>\n",
       "      <td>Level</td>\n",
       "      <td>Not Applicable</td>\n",
       "      <td>Sealed</td>\n",
       "      <td>Dry</td>\n",
       "      <td>Not Raining</td>\n",
       "      <td>Night</td>\n",
       "      <td>Rear End</td>\n",
       "      <td>2</td>\n",
       "      <td>Driver Rider</td>\n",
       "      <td>1: PDO</td>\n",
       "      <td>No Control</td>\n",
       "      <td>0.0</td>\n",
       "      <td>0.0</td>\n",
       "      <td>1</td>\n",
       "      <td>SA</td>\n",
       "      <td>1</td>\n",
       "      <td>1.0</td>\n",
       "      <td>North East</td>\n",
       "      <td>1</td>\n",
       "      <td>21.0</td>\n",
       "      <td>SA</td>\n",
       "      <td>7</td>\n",
       "      <td>0.0</td>\n",
       "      <td>Straight Ahead</td>\n",
       "      <td>4.0</td>\n",
       "      <td>0.0</td>\n",
       "      <td>0.0</td>\n",
       "    </tr>\n",
       "    <tr>\n",
       "      <th>2019-3-8/07/2020</th>\n",
       "      <td>2</td>\n",
       "      <td>2</td>\n",
       "      <td>1</td>\n",
       "      <td>60</td>\n",
       "      <td>Divided Road</td>\n",
       "      <td>Straight road</td>\n",
       "      <td>Level</td>\n",
       "      <td>Not Applicable</td>\n",
       "      <td>Sealed</td>\n",
       "      <td>Dry</td>\n",
       "      <td>Not Raining</td>\n",
       "      <td>Night</td>\n",
       "      <td>Hit Pedestrian</td>\n",
       "      <td>1</td>\n",
       "      <td>Driver Rider</td>\n",
       "      <td>2: MI</td>\n",
       "      <td>No Control</td>\n",
       "      <td>0.0</td>\n",
       "      <td>0.0</td>\n",
       "      <td>1</td>\n",
       "      <td>SA</td>\n",
       "      <td>1</td>\n",
       "      <td>1.0</td>\n",
       "      <td>East</td>\n",
       "      <td>0</td>\n",
       "      <td>37.0</td>\n",
       "      <td>SA</td>\n",
       "      <td>8</td>\n",
       "      <td>0.0</td>\n",
       "      <td>Straight Ahead</td>\n",
       "      <td>1.0</td>\n",
       "      <td>0.0</td>\n",
       "      <td>0.0</td>\n",
       "    </tr>\n",
       "    <tr>\n",
       "      <th>2019-4-8/07/2020</th>\n",
       "      <td>2</td>\n",
       "      <td>2</td>\n",
       "      <td>1</td>\n",
       "      <td>50</td>\n",
       "      <td>Not Divided</td>\n",
       "      <td>CURVED, VIEW OPEN</td>\n",
       "      <td>Level</td>\n",
       "      <td>Not Applicable</td>\n",
       "      <td>Sealed</td>\n",
       "      <td>Dry</td>\n",
       "      <td>Not Raining</td>\n",
       "      <td>Night</td>\n",
       "      <td>Hit Fixed Object</td>\n",
       "      <td>1</td>\n",
       "      <td>Driver Rider</td>\n",
       "      <td>3: SI</td>\n",
       "      <td>No Control</td>\n",
       "      <td>0.0</td>\n",
       "      <td>0.0</td>\n",
       "      <td>1</td>\n",
       "      <td>SA</td>\n",
       "      <td>4</td>\n",
       "      <td>1.0</td>\n",
       "      <td>North West</td>\n",
       "      <td>1</td>\n",
       "      <td>21.0</td>\n",
       "      <td>SA</td>\n",
       "      <td>3</td>\n",
       "      <td>0.0</td>\n",
       "      <td>Straight Ahead</td>\n",
       "      <td>1.0</td>\n",
       "      <td>0.0</td>\n",
       "      <td>0.0</td>\n",
       "    </tr>\n",
       "    <tr>\n",
       "      <th>2019-5-8/07/2020</th>\n",
       "      <td>2</td>\n",
       "      <td>2</td>\n",
       "      <td>0</td>\n",
       "      <td>110</td>\n",
       "      <td>Divided Road</td>\n",
       "      <td>Straight road</td>\n",
       "      <td>Slope</td>\n",
       "      <td>Not Applicable</td>\n",
       "      <td>Sealed</td>\n",
       "      <td>Dry</td>\n",
       "      <td>Not Raining</td>\n",
       "      <td>Night</td>\n",
       "      <td>Hit Animal</td>\n",
       "      <td>2</td>\n",
       "      <td>Animal</td>\n",
       "      <td>1: PDO</td>\n",
       "      <td>No Control</td>\n",
       "      <td>0.0</td>\n",
       "      <td>0.0</td>\n",
       "      <td>1</td>\n",
       "      <td>SA</td>\n",
       "      <td>1</td>\n",
       "      <td>1.0</td>\n",
       "      <td>West</td>\n",
       "      <td>1</td>\n",
       "      <td>31.0</td>\n",
       "      <td>SA</td>\n",
       "      <td>8</td>\n",
       "      <td>0.0</td>\n",
       "      <td>Straight Ahead</td>\n",
       "      <td>1.0</td>\n",
       "      <td>0.0</td>\n",
       "      <td>0.0</td>\n",
       "    </tr>\n",
       "  </tbody>\n",
       "</table>\n",
       "</div>"
      ],
      "text/plain": [
       "                  Stats Area  Total Units  Casualty  Area Speed Position Type  \\\n",
       "REPORT_ID                                                                       \n",
       "2019-1-8/07/2020           2            2         0          60    Cross Road   \n",
       "2019-2-8/07/2020           2            2         0          90  Divided Road   \n",
       "2019-3-8/07/2020           2            2         1          60  Divided Road   \n",
       "2019-4-8/07/2020           2            2         1          50   Not Divided   \n",
       "2019-5-8/07/2020           2            2         0         110  Divided Road   \n",
       "\n",
       "                   Horizontal Align Vertical Align      Other Feat  \\\n",
       "REPORT_ID                                                            \n",
       "2019-1-8/07/2020      Straight road          Level  Not Applicable   \n",
       "2019-2-8/07/2020      Straight road          Level  Not Applicable   \n",
       "2019-3-8/07/2020      Straight road          Level  Not Applicable   \n",
       "2019-4-8/07/2020  CURVED, VIEW OPEN          Level  Not Applicable   \n",
       "2019-5-8/07/2020      Straight road          Slope  Not Applicable   \n",
       "\n",
       "                 Road Surface Moisture Cond Weather Cond  DayNight  \\\n",
       "REPORT_ID                                                            \n",
       "2019-1-8/07/2020       Sealed           Dry  Not Raining  Daylight   \n",
       "2019-2-8/07/2020       Sealed           Dry  Not Raining     Night   \n",
       "2019-3-8/07/2020       Sealed           Dry  Not Raining     Night   \n",
       "2019-4-8/07/2020       Sealed           Dry  Not Raining     Night   \n",
       "2019-5-8/07/2020       Sealed           Dry  Not Raining     Night   \n",
       "\n",
       "                        Crash Type  Unit Resp   Entity Code CSEF Severity  \\\n",
       "REPORT_ID                                                                   \n",
       "2019-1-8/07/2020       Right Angle          1  Driver Rider        1: PDO   \n",
       "2019-2-8/07/2020          Rear End          2  Driver Rider        1: PDO   \n",
       "2019-3-8/07/2020    Hit Pedestrian          1  Driver Rider         2: MI   \n",
       "2019-4-8/07/2020  Hit Fixed Object          1  Driver Rider         3: SI   \n",
       "2019-5-8/07/2020        Hit Animal          2        Animal        1: PDO   \n",
       "\n",
       "                  Traffic Ctrls  DUI Involved  Drugs Involved  Unit No  \\\n",
       "REPORT_ID                                                                \n",
       "2019-1-8/07/2020  Give Way Sign           0.0             0.0        1   \n",
       "2019-2-8/07/2020     No Control           0.0             0.0        1   \n",
       "2019-3-8/07/2020     No Control           0.0             0.0        1   \n",
       "2019-4-8/07/2020     No Control           0.0             0.0        1   \n",
       "2019-5-8/07/2020     No Control           0.0             0.0        1   \n",
       "\n",
       "                 Veh Reg State  Unit Type  Veh_Age Direction Of Travel  Sex  \\\n",
       "REPORT_ID                                                                     \n",
       "2019-1-8/07/2020            SA          1      2.0               South    0   \n",
       "2019-2-8/07/2020            SA          1      1.0          North East    1   \n",
       "2019-3-8/07/2020            SA          1      1.0                East    0   \n",
       "2019-4-8/07/2020            SA          4      1.0          North West    1   \n",
       "2019-5-8/07/2020            SA          1      1.0                West    1   \n",
       "\n",
       "                   Age Lic State  Licence Type  Towing   Unit Movement  \\\n",
       "REPORT_ID                                                                \n",
       "2019-1-8/07/2020  85.0        SA             8     0.0      Right Turn   \n",
       "2019-2-8/07/2020  21.0        SA             7     0.0  Straight Ahead   \n",
       "2019-3-8/07/2020  37.0        SA             8     0.0  Straight Ahead   \n",
       "2019-4-8/07/2020  21.0        SA             3     0.0  Straight Ahead   \n",
       "2019-5-8/07/2020  31.0        SA             8     0.0  Straight Ahead   \n",
       "\n",
       "                  Number Occupants  Rollover  Fire  \n",
       "REPORT_ID                                           \n",
       "2019-1-8/07/2020               1.0       0.0   0.0  \n",
       "2019-2-8/07/2020               4.0       0.0   0.0  \n",
       "2019-3-8/07/2020               1.0       0.0   0.0  \n",
       "2019-4-8/07/2020               1.0       0.0   0.0  \n",
       "2019-5-8/07/2020               1.0       0.0   0.0  "
      ]
     },
     "execution_count": 157,
     "metadata": {},
     "output_type": "execute_result"
    }
   ],
   "source": [
    "df.head()"
   ]
  },
  {
   "cell_type": "code",
   "execution_count": 158,
   "metadata": {},
   "outputs": [
    {
     "data": {
      "text/plain": [
       "60     6136\n",
       "50     3365\n",
       "80     1171\n",
       "100     740\n",
       "110     547\n",
       "70      424\n",
       "90      259\n",
       "40      249\n",
       "25       39\n",
       "10       14\n",
       "20       11\n",
       "30        5\n",
       "5         3\n",
       "15        1\n",
       "Name: Area Speed, dtype: int64"
      ]
     },
     "execution_count": 158,
     "metadata": {},
     "output_type": "execute_result"
    }
   ],
   "source": [
    "dfcrash['Area Speed'].value_counts()"
   ]
  },
  {
   "cell_type": "code",
   "execution_count": 159,
   "metadata": {
    "scrolled": true
   },
   "outputs": [
    {
     "data": {
      "image/png": "[encoded data removed]",
      "text/plain": [
       "<Figure size 432x288 with 1 Axes>"
      ]
     },
     "metadata": {
      "needs_background": "light"
     },
     "output_type": "display_data"
    }
   ],
   "source": [
    "df.groupby(\"CSEF Severity\")[\"Area Speed\"].mean().plot(kind='bar', color='red', ec='black')\n",
    "plt.xlabel('Crash Severity')\n",
    "plt.ylabel('Average Speed of Crash')\n",
    "plt.title(\"Crash Severity vs Speed of Crash\")\n",
    "fig = plt.gcf()\n",
    "fig.savefig('Crash Severity vs Speed of Crash.png')"
   ]
  },
  {
   "cell_type": "code",
   "execution_count": 160,
   "metadata": {},
   "outputs": [
    {
     "data": {
      "image/png": "[encoded data removed]",
      "text/plain": [
       "<Figure size 432x288 with 1 Axes>"
      ]
     },
     "metadata": {
      "needs_background": "light"
     },
     "output_type": "display_data"
    }
   ],
   "source": [
    "sns.boxplot(x= \"CSEF Severity\", y=\"Area Speed\", data=df)\n",
    "plt.xlabel('Crash Severity')\n",
    "plt.ylabel('Area Speed of Crash')\n",
    "plt.title(\"Crash Severity vs Area Speed of Crash\")\n",
    "fig = plt.gcf()\n",
    "fig.savefig('Crash Severity vs Area Speed of Crash Box.png')"
   ]
  },
  {
   "cell_type": "code",
   "execution_count": 161,
   "metadata": {},
   "outputs": [],
   "source": [
    "slow_speed = [5, 10, 15, 20, 25, 30, 40]\n",
    "med_speed = [50, 60]\n",
    "high_speed = [70, 80, 90, 100, 110]"
   ]
  },
  {
   "cell_type": "code",
   "execution_count": 162,
   "metadata": {},
   "outputs": [],
   "source": [
    "df.replace(to_replace = slow_speed, value = 1, inplace=True)\n",
    "df.replace(to_replace = med_speed, value = 2, inplace=True)\n",
    "df.replace(to_replace = high_speed, value = 3, inplace = True)"
   ]
  },
  {
   "cell_type": "code",
   "execution_count": 163,
   "metadata": {},
   "outputs": [
    {
     "data": {
      "text/plain": [
       "2    9501\n",
       "3    3141\n",
       "1     322\n",
       "Name: Area Speed, dtype: int64"
      ]
     },
     "execution_count": 163,
     "metadata": {},
     "output_type": "execute_result"
    }
   ],
   "source": [
    "df['Area Speed'].value_counts()"
   ]
  },
  {
   "cell_type": "code",
   "execution_count": 164,
   "metadata": {},
   "outputs": [
    {
     "data": {
      "text/plain": [
       "Index(['Stats Area', 'Total Units', 'Casualty', 'Area Speed', 'Position Type',\n",
       "       'Horizontal Align', 'Vertical Align', 'Other Feat', 'Road Surface',\n",
       "       'Moisture Cond', 'Weather Cond', 'DayNight', 'Crash Type', 'Unit Resp',\n",
       "       'Entity Code', 'CSEF Severity', 'Traffic Ctrls', 'DUI Involved',\n",
       "       'Drugs Involved', 'Unit No', 'Veh Reg State', 'Unit Type', 'Veh_Age',\n",
       "       'Direction Of Travel', 'Sex', 'Age', 'Lic State', 'Licence Type',\n",
       "       'Towing', 'Unit Movement', 'Number Occupants', 'Rollover', 'Fire'],\n",
       "      dtype='object')"
      ]
     },
     "execution_count": 164,
     "metadata": {},
     "output_type": "execute_result"
    }
   ],
   "source": [
    "df.columns"
   ]
  },
  {
   "cell_type": "code",
   "execution_count": 165,
   "metadata": {},
   "outputs": [
    {
     "data": {
      "text/plain": [
       "Not Divided            4166\n",
       "T-Junction             3011\n",
       "Cross Road             2737\n",
       "Divided Road           2608\n",
       "Freeway                 160\n",
       "Multiple                109\n",
       "Pedestrian Crossing      41\n",
       "One Way                  32\n",
       "Other                    22\n",
       "Rail Crossing            21\n",
       "Rail Xing                14\n",
       "Interchange              12\n",
       "Ramp Off                 12\n",
       "Ramp On                   8\n",
       "Y-Junction                8\n",
       "Crossover                 3\n",
       "Name: Position Type, dtype: int64"
      ]
     },
     "execution_count": 165,
     "metadata": {},
     "output_type": "execute_result"
    }
   ],
   "source": [
    "df['Position Type'].value_counts()"
   ]
  },
  {
   "cell_type": "markdown",
   "metadata": {},
   "source": [
    "I'm going to group position types into high speed/divided roads, residential/slow speed road, intersections"
   ]
  },
  {
   "cell_type": "code",
   "execution_count": 166,
   "metadata": {},
   "outputs": [],
   "source": [
    "intersections = ['T-Junction', 'Cross Road', 'Rail Crossing', 'Rail Xing', 'Y-Junction']\n",
    "slowroad = ['Pedestrian Crossing', 'One Way', 'Other', 'Crossover']\n",
    "normalroad = ['Not Divided']\n",
    "highspeed = ['Divided Road', 'Freeway', 'Multiple', 'Interchange', 'Ramp Off', 'Ramp On']"
   ]
  },
  {
   "cell_type": "code",
   "execution_count": 167,
   "metadata": {},
   "outputs": [],
   "source": [
    "df.replace(to_replace = intersections, value = 1, inplace=True)\n",
    "df.replace(to_replace = slowroad, value = 2, inplace=True)\n",
    "df.replace(to_replace = normalroad, value = 3, inplace = True)\n",
    "df.replace(to_replace = highspeed, value = 4, inplace = True)"
   ]
  },
  {
   "cell_type": "code",
   "execution_count": 168,
   "metadata": {},
   "outputs": [
    {
     "data": {
      "text/plain": [
       "1    5791\n",
       "3    4166\n",
       "4    2909\n",
       "2      98\n",
       "Name: Position Type, dtype: int64"
      ]
     },
     "execution_count": 168,
     "metadata": {},
     "output_type": "execute_result"
    }
   ],
   "source": [
    "df['Position Type'].value_counts()"
   ]
  },
  {
   "cell_type": "markdown",
   "metadata": {},
   "source": [
    "I will include the slowroad values in with the normalroad - chances are some of those are within a normal, undivided, 60km/h zones anyway."
   ]
  },
  {
   "cell_type": "code",
   "execution_count": 169,
   "metadata": {},
   "outputs": [],
   "source": [
    "df['Position Type'].replace(2, 3, inplace=True)"
   ]
  },
  {
   "cell_type": "code",
   "execution_count": 170,
   "metadata": {},
   "outputs": [
    {
     "data": {
      "text/plain": [
       "1    5791\n",
       "3    4264\n",
       "4    2909\n",
       "Name: Position Type, dtype: int64"
      ]
     },
     "execution_count": 170,
     "metadata": {},
     "output_type": "execute_result"
    }
   ],
   "source": [
    "df['Position Type'].value_counts()"
   ]
  },
  {
   "cell_type": "code",
   "execution_count": 171,
   "metadata": {},
   "outputs": [
    {
     "data": {
      "text/plain": [
       "Index(['Stats Area', 'Total Units', 'Casualty', 'Area Speed', 'Position Type',\n",
       "       'Horizontal Align', 'Vertical Align', 'Other Feat', 'Road Surface',\n",
       "       'Moisture Cond', 'Weather Cond', 'DayNight', 'Crash Type', 'Unit Resp',\n",
       "       'Entity Code', 'CSEF Severity', 'Traffic Ctrls', 'DUI Involved',\n",
       "       'Drugs Involved', 'Unit No', 'Veh Reg State', 'Unit Type', 'Veh_Age',\n",
       "       'Direction Of Travel', 'Sex', 'Age', 'Lic State', 'Licence Type',\n",
       "       'Towing', 'Unit Movement', 'Number Occupants', 'Rollover', 'Fire'],\n",
       "      dtype='object')"
      ]
     },
     "execution_count": 171,
     "metadata": {},
     "output_type": "execute_result"
    }
   ],
   "source": [
    "df.columns"
   ]
  },
  {
   "cell_type": "code",
   "execution_count": 172,
   "metadata": {},
   "outputs": [
    {
     "data": {
      "text/plain": [
       "Straight road            11308\n",
       "CURVED, VIEW OPEN         1175\n",
       "CURVED, VIEW OBSCURED      475\n",
       "Unknown                      6\n",
       "Name: Horizontal Align, dtype: int64"
      ]
     },
     "execution_count": 172,
     "metadata": {},
     "output_type": "execute_result"
    }
   ],
   "source": [
    "df['Horizontal Align'].value_counts()"
   ]
  },
  {
   "cell_type": "code",
   "execution_count": 173,
   "metadata": {},
   "outputs": [],
   "source": [
    "df['Horizontal Align'].replace('Unknown', 1, inplace=True)\n",
    "df['Horizontal Align'].replace('Straight road', 1, inplace=True)\n",
    "df['Horizontal Align'].replace('CURVED, VIEW OPEN', 2, inplace=True)\n",
    "df['Horizontal Align'].replace('CURVED, VIEW OBSCURED', 3, inplace=True)"
   ]
  },
  {
   "cell_type": "code",
   "execution_count": 174,
   "metadata": {},
   "outputs": [
    {
     "data": {
      "text/plain": [
       "1    11314\n",
       "2     1175\n",
       "3      475\n",
       "Name: Horizontal Align, dtype: int64"
      ]
     },
     "execution_count": 174,
     "metadata": {},
     "output_type": "execute_result"
    }
   ],
   "source": [
    "df['Horizontal Align'].value_counts()"
   ]
  },
  {
   "cell_type": "code",
   "execution_count": 175,
   "metadata": {},
   "outputs": [
    {
     "data": {
      "text/plain": [
       "Level             10995\n",
       "Slope              1564\n",
       "Crest of Hill       205\n",
       "Bottom of Hill      164\n",
       "Unknown              36\n",
       "Name: Vertical Align, dtype: int64"
      ]
     },
     "execution_count": 175,
     "metadata": {},
     "output_type": "execute_result"
    }
   ],
   "source": [
    "df['Vertical Align'].value_counts()"
   ]
  },
  {
   "cell_type": "code",
   "execution_count": 176,
   "metadata": {},
   "outputs": [
    {
     "name": "stdout",
     "output_type": "stream",
     "text": [
      "1    11031\n",
      "2     1564\n",
      "4      205\n",
      "3      164\n",
      "Name: Vertical Align, dtype: int64\n"
     ]
    }
   ],
   "source": [
    "df['Vertical Align'].replace('Unknown', 1, inplace=True)\n",
    "df['Vertical Align'].replace('Level', 1, inplace=True)\n",
    "df['Vertical Align'].replace('Slope', 2, inplace=True)\n",
    "df['Vertical Align'].replace('Bottom of Hill', 3, inplace=True)\n",
    "df['Vertical Align'].replace('Crest of Hill', 4, inplace=True)\n",
    "\n",
    "print(df['Vertical Align'].value_counts())"
   ]
  },
  {
   "cell_type": "code",
   "execution_count": 177,
   "metadata": {},
   "outputs": [
    {
     "data": {
      "text/plain": [
       "Not Applicable                  0.908516\n",
       "Driveway or Entrance            0.065335\n",
       "Roadworks                       0.009951\n",
       "Bridge, Culvert, Causeway       0.006325\n",
       "Median Opening (not at I/S)     0.004937\n",
       "Unknown                         0.003008\n",
       "Road hump or Slow point         0.001466\n",
       "Additional Control Operating    0.000386\n",
       "Control Not Operational         0.000077\n",
       "Name: Other Feat, dtype: float64"
      ]
     },
     "execution_count": 177,
     "metadata": {},
     "output_type": "execute_result"
    }
   ],
   "source": [
    "df['Other Feat'].value_counts(normalize=True)"
   ]
  },
  {
   "cell_type": "markdown",
   "metadata": {},
   "source": [
    "As such a large majority of the Other Feats are not applicable, I am going to drop this column - I imagine that majority of the information is included in the other features. I imagine the 90% of this might be due to police not documenting any further information and is less related to physical factors that have contributed to the crash."
   ]
  },
  {
   "cell_type": "code",
   "execution_count": 178,
   "metadata": {},
   "outputs": [],
   "source": [
    "df.drop(columns='Other Feat', inplace=True)"
   ]
  },
  {
   "cell_type": "code",
   "execution_count": 179,
   "metadata": {},
   "outputs": [
    {
     "data": {
      "text/plain": [
       "Index(['Stats Area', 'Total Units', 'Casualty', 'Area Speed', 'Position Type',\n",
       "       'Horizontal Align', 'Vertical Align', 'Road Surface', 'Moisture Cond',\n",
       "       'Weather Cond', 'DayNight', 'Crash Type', 'Unit Resp', 'Entity Code',\n",
       "       'CSEF Severity', 'Traffic Ctrls', 'DUI Involved', 'Drugs Involved',\n",
       "       'Unit No', 'Veh Reg State', 'Unit Type', 'Veh_Age',\n",
       "       'Direction Of Travel', 'Sex', 'Age', 'Lic State', 'Licence Type',\n",
       "       'Towing', 'Unit Movement', 'Number Occupants', 'Rollover', 'Fire'],\n",
       "      dtype='object')"
      ]
     },
     "execution_count": 179,
     "metadata": {},
     "output_type": "execute_result"
    }
   ],
   "source": [
    "df.columns"
   ]
  },
  {
   "cell_type": "code",
   "execution_count": 180,
   "metadata": {},
   "outputs": [
    {
     "data": {
      "text/plain": [
       "Sealed      12591\n",
       "Unsealed      372\n",
       "Unknown         1\n",
       "Name: Road Surface, dtype: int64"
      ]
     },
     "execution_count": 180,
     "metadata": {},
     "output_type": "execute_result"
    }
   ],
   "source": [
    "df['Road Surface'].value_counts()"
   ]
  },
  {
   "cell_type": "code",
   "execution_count": 181,
   "metadata": {},
   "outputs": [
    {
     "name": "stdout",
     "output_type": "stream",
     "text": [
      "1    12592\n",
      "0      372\n",
      "Name: Road Surface, dtype: int64\n"
     ]
    }
   ],
   "source": [
    "df['Road Surface'].replace('Unknown', 1, inplace=True)\n",
    "df['Road Surface'].replace('Sealed', 1, inplace=True)\n",
    "df['Road Surface'].replace('Unsealed', 0, inplace=True)\n",
    "\n",
    "print(df['Road Surface'].value_counts())"
   ]
  },
  {
   "cell_type": "code",
   "execution_count": 182,
   "metadata": {},
   "outputs": [],
   "source": [
    "df.rename(columns = {'Road Surface': 'Sealed Road'}, inplace=True)"
   ]
  },
  {
   "cell_type": "code",
   "execution_count": 183,
   "metadata": {},
   "outputs": [
    {
     "data": {
      "text/plain": [
       "Index(['Stats Area', 'Total Units', 'Casualty', 'Area Speed', 'Position Type',\n",
       "       'Horizontal Align', 'Vertical Align', 'Sealed Road', 'Moisture Cond',\n",
       "       'Weather Cond', 'DayNight', 'Crash Type', 'Unit Resp', 'Entity Code',\n",
       "       'CSEF Severity', 'Traffic Ctrls', 'DUI Involved', 'Drugs Involved',\n",
       "       'Unit No', 'Veh Reg State', 'Unit Type', 'Veh_Age',\n",
       "       'Direction Of Travel', 'Sex', 'Age', 'Lic State', 'Licence Type',\n",
       "       'Towing', 'Unit Movement', 'Number Occupants', 'Rollover', 'Fire'],\n",
       "      dtype='object')"
      ]
     },
     "execution_count": 183,
     "metadata": {},
     "output_type": "execute_result"
    }
   ],
   "source": [
    "df.columns"
   ]
  },
  {
   "cell_type": "code",
   "execution_count": 184,
   "metadata": {},
   "outputs": [
    {
     "data": {
      "text/plain": [
       "Dry        11614\n",
       "Wet         1327\n",
       "Unknown       23\n",
       "Name: Moisture Cond, dtype: int64"
      ]
     },
     "execution_count": 184,
     "metadata": {},
     "output_type": "execute_result"
    }
   ],
   "source": [
    "df['Moisture Cond'].value_counts()"
   ]
  },
  {
   "cell_type": "code",
   "execution_count": 185,
   "metadata": {},
   "outputs": [
    {
     "name": "stdout",
     "output_type": "stream",
     "text": [
      "1    11637\n",
      "0     1327\n",
      "Name: Moisture Cond, dtype: int64\n"
     ]
    }
   ],
   "source": [
    "df['Moisture Cond'].replace('Unknown', 1, inplace=True)\n",
    "df['Moisture Cond'].replace('Dry', 1, inplace=True)\n",
    "df['Moisture Cond'].replace('Wet', 0, inplace=True)\n",
    "\n",
    "print(df['Moisture Cond'].value_counts())"
   ]
  },
  {
   "cell_type": "code",
   "execution_count": 186,
   "metadata": {},
   "outputs": [],
   "source": [
    "df.rename(columns = {'Moisture Cond': 'Dry Road'}, inplace=True)"
   ]
  },
  {
   "cell_type": "code",
   "execution_count": 187,
   "metadata": {},
   "outputs": [
    {
     "data": {
      "text/plain": [
       "Index(['Stats Area', 'Total Units', 'Casualty', 'Area Speed', 'Position Type',\n",
       "       'Horizontal Align', 'Vertical Align', 'Sealed Road', 'Dry Road',\n",
       "       'Weather Cond', 'DayNight', 'Crash Type', 'Unit Resp', 'Entity Code',\n",
       "       'CSEF Severity', 'Traffic Ctrls', 'DUI Involved', 'Drugs Involved',\n",
       "       'Unit No', 'Veh Reg State', 'Unit Type', 'Veh_Age',\n",
       "       'Direction Of Travel', 'Sex', 'Age', 'Lic State', 'Licence Type',\n",
       "       'Towing', 'Unit Movement', 'Number Occupants', 'Rollover', 'Fire'],\n",
       "      dtype='object')"
      ]
     },
     "execution_count": 187,
     "metadata": {},
     "output_type": "execute_result"
    }
   ],
   "source": [
    "df.columns"
   ]
  },
  {
   "cell_type": "code",
   "execution_count": 188,
   "metadata": {},
   "outputs": [
    {
     "data": {
      "text/plain": [
       "Not Raining    12050\n",
       "Raining          866\n",
       "Unknown           48\n",
       "Name: Weather Cond, dtype: int64"
      ]
     },
     "execution_count": 188,
     "metadata": {},
     "output_type": "execute_result"
    }
   ],
   "source": [
    "df['Weather Cond'].value_counts()"
   ]
  },
  {
   "cell_type": "code",
   "execution_count": 189,
   "metadata": {},
   "outputs": [
    {
     "name": "stdout",
     "output_type": "stream",
     "text": [
      "0    12098\n",
      "1      866\n",
      "Name: Weather Cond, dtype: int64\n"
     ]
    }
   ],
   "source": [
    "df['Weather Cond'].replace('Unknown', 0, inplace=True)\n",
    "df['Weather Cond'].replace('Raining', 1, inplace=True)\n",
    "df['Weather Cond'].replace('Not Raining', 0, inplace=True)\n",
    "\n",
    "print(df['Weather Cond'].value_counts())\n",
    "\n",
    "df.rename(columns = {'Weather Cond': 'Raining'}, inplace=True)"
   ]
  },
  {
   "cell_type": "code",
   "execution_count": 190,
   "metadata": {},
   "outputs": [
    {
     "data": {
      "text/plain": [
       "Index(['Stats Area', 'Total Units', 'Casualty', 'Area Speed', 'Position Type',\n",
       "       'Horizontal Align', 'Vertical Align', 'Sealed Road', 'Dry Road',\n",
       "       'Raining', 'DayNight', 'Crash Type', 'Unit Resp', 'Entity Code',\n",
       "       'CSEF Severity', 'Traffic Ctrls', 'DUI Involved', 'Drugs Involved',\n",
       "       'Unit No', 'Veh Reg State', 'Unit Type', 'Veh_Age',\n",
       "       'Direction Of Travel', 'Sex', 'Age', 'Lic State', 'Licence Type',\n",
       "       'Towing', 'Unit Movement', 'Number Occupants', 'Rollover', 'Fire'],\n",
       "      dtype='object')"
      ]
     },
     "execution_count": 190,
     "metadata": {},
     "output_type": "execute_result"
    }
   ],
   "source": [
    "df.columns"
   ]
  },
  {
   "cell_type": "code",
   "execution_count": 191,
   "metadata": {},
   "outputs": [
    {
     "name": "stdout",
     "output_type": "stream",
     "text": [
      "Daylight    9930\n",
      "Night       3034\n",
      "Name: DayNight, dtype: int64\n"
     ]
    }
   ],
   "source": [
    "print(df['DayNight'].value_counts())"
   ]
  },
  {
   "cell_type": "code",
   "execution_count": 192,
   "metadata": {},
   "outputs": [
    {
     "name": "stdout",
     "output_type": "stream",
     "text": [
      "1    9930\n",
      "0    3034\n",
      "Name: DayNight, dtype: int64\n"
     ]
    }
   ],
   "source": [
    "df['DayNight'].replace('Daylight', 1, inplace=True)\n",
    "df['DayNight'].replace('Night', 0, inplace=True)\n",
    "\n",
    "print(df['DayNight'].value_counts())\n",
    "\n",
    "df.rename(columns = {'DayNight': 'Daytime'}, inplace=True)"
   ]
  },
  {
   "cell_type": "code",
   "execution_count": 193,
   "metadata": {},
   "outputs": [
    {
     "data": {
      "text/plain": [
       "Index(['Stats Area', 'Total Units', 'Casualty', 'Area Speed', 'Position Type',\n",
       "       'Horizontal Align', 'Vertical Align', 'Sealed Road', 'Dry Road',\n",
       "       'Raining', 'Daytime', 'Crash Type', 'Unit Resp', 'Entity Code',\n",
       "       'CSEF Severity', 'Traffic Ctrls', 'DUI Involved', 'Drugs Involved',\n",
       "       'Unit No', 'Veh Reg State', 'Unit Type', 'Veh_Age',\n",
       "       'Direction Of Travel', 'Sex', 'Age', 'Lic State', 'Licence Type',\n",
       "       'Towing', 'Unit Movement', 'Number Occupants', 'Rollover', 'Fire'],\n",
       "      dtype='object')"
      ]
     },
     "execution_count": 193,
     "metadata": {},
     "output_type": "execute_result"
    }
   ],
   "source": [
    "df.columns"
   ]
  },
  {
   "cell_type": "code",
   "execution_count": 194,
   "metadata": {},
   "outputs": [
    {
     "data": {
      "text/plain": [
       "Rear End                      3346\n",
       "Right Angle                   2469\n",
       "Hit Fixed Object              2012\n",
       "Side Swipe                    1433\n",
       "Right Turn                    1050\n",
       "Hit Parked Vehicle             983\n",
       "Roll Over                      544\n",
       "Hit Pedestrian                 439\n",
       "Head On                        244\n",
       "Hit Animal                     186\n",
       "2                               96\n",
       "Left Road - Out of Control      94\n",
       "Hit Object on Road              68\n",
       "Name: Crash Type, dtype: int64"
      ]
     },
     "execution_count": 194,
     "metadata": {},
     "output_type": "execute_result"
    }
   ],
   "source": [
    "df['Crash Type'].value_counts()"
   ]
  },
  {
   "cell_type": "markdown",
   "metadata": {},
   "source": [
    "I believe I changed my 'other' values while I was making the lists for the Position Type feature engineering. \n",
    "\n",
    "I will classify Crash Types into: two+ cars hitting each other, car hitting something that shouldn't be on the road, car hitting stationary object, loss of control. 'Other' will go into loss of control and I believe not having it classified into an existing category shows it can be simply described as loss of control."
   ]
  },
  {
   "cell_type": "code",
   "execution_count": 195,
   "metadata": {},
   "outputs": [],
   "source": [
    "df['Crash Type'].replace(2, 'Other', inplace=True)"
   ]
  },
  {
   "cell_type": "code",
   "execution_count": 196,
   "metadata": {},
   "outputs": [
    {
     "name": "stdout",
     "output_type": "stream",
     "text": [
      "1    8542\n",
      "2    3063\n",
      "3    1359\n",
      "Name: Crash Type, dtype: int64\n"
     ]
    }
   ],
   "source": [
    "df['Crash Type'].replace(['Rear End', 'Right Angle', 'Side Swipe', 'Head On', 'Right Turn'], 1, inplace=True)\n",
    "df['Crash Type'].replace(['Hit Fixed Object', 'Hit Parked Vehicle', 'Hit Object on Road'], 2, inplace=True)\n",
    "df['Crash Type'].replace(['Hit Pedestrian', 'Hit Animal', 'Hit Object on Road'], 3, inplace=True)\n",
    "df['Crash Type'].replace(['Roll Over', 'Left Road - Out of Control', 'Other'], 3, inplace=True)\n",
    "\n",
    "print(df['Crash Type'].value_counts())"
   ]
  },
  {
   "cell_type": "code",
   "execution_count": 197,
   "metadata": {},
   "outputs": [
    {
     "data": {
      "text/html": [
       "<div>\n",
       "<style scoped>\n",
       "    .dataframe tbody tr th:only-of-type {\n",
       "        vertical-align: middle;\n",
       "    }\n",
       "\n",
       "    .dataframe tbody tr th {\n",
       "        vertical-align: top;\n",
       "    }\n",
       "\n",
       "    .dataframe thead th {\n",
       "        text-align: right;\n",
       "    }\n",
       "</style>\n",
       "<table border=\"1\" class=\"dataframe\">\n",
       "  <thead>\n",
       "    <tr style=\"text-align: right;\">\n",
       "      <th></th>\n",
       "      <th>Stats Area</th>\n",
       "      <th>Total Units</th>\n",
       "      <th>Casualty</th>\n",
       "      <th>Area Speed</th>\n",
       "      <th>Position Type</th>\n",
       "      <th>Horizontal Align</th>\n",
       "      <th>Vertical Align</th>\n",
       "      <th>Sealed Road</th>\n",
       "      <th>Dry Road</th>\n",
       "      <th>Raining</th>\n",
       "      <th>Daytime</th>\n",
       "      <th>Crash Type</th>\n",
       "      <th>Unit Resp</th>\n",
       "      <th>Entity Code</th>\n",
       "      <th>CSEF Severity</th>\n",
       "      <th>Traffic Ctrls</th>\n",
       "      <th>DUI Involved</th>\n",
       "      <th>Drugs Involved</th>\n",
       "      <th>Unit No</th>\n",
       "      <th>Veh Reg State</th>\n",
       "      <th>Unit Type</th>\n",
       "      <th>Veh_Age</th>\n",
       "      <th>Direction Of Travel</th>\n",
       "      <th>Sex</th>\n",
       "      <th>Age</th>\n",
       "      <th>Lic State</th>\n",
       "      <th>Licence Type</th>\n",
       "      <th>Towing</th>\n",
       "      <th>Unit Movement</th>\n",
       "      <th>Number Occupants</th>\n",
       "      <th>Rollover</th>\n",
       "      <th>Fire</th>\n",
       "    </tr>\n",
       "    <tr>\n",
       "      <th>REPORT_ID</th>\n",
       "      <th></th>\n",
       "      <th></th>\n",
       "      <th></th>\n",
       "      <th></th>\n",
       "      <th></th>\n",
       "      <th></th>\n",
       "      <th></th>\n",
       "      <th></th>\n",
       "      <th></th>\n",
       "      <th></th>\n",
       "      <th></th>\n",
       "      <th></th>\n",
       "      <th></th>\n",
       "      <th></th>\n",
       "      <th></th>\n",
       "      <th></th>\n",
       "      <th></th>\n",
       "      <th></th>\n",
       "      <th></th>\n",
       "      <th></th>\n",
       "      <th></th>\n",
       "      <th></th>\n",
       "      <th></th>\n",
       "      <th></th>\n",
       "      <th></th>\n",
       "      <th></th>\n",
       "      <th></th>\n",
       "      <th></th>\n",
       "      <th></th>\n",
       "      <th></th>\n",
       "      <th></th>\n",
       "      <th></th>\n",
       "    </tr>\n",
       "  </thead>\n",
       "  <tbody>\n",
       "    <tr>\n",
       "      <th>2019-1-8/07/2020</th>\n",
       "      <td>2</td>\n",
       "      <td>2</td>\n",
       "      <td>0</td>\n",
       "      <td>2</td>\n",
       "      <td>1</td>\n",
       "      <td>1</td>\n",
       "      <td>1</td>\n",
       "      <td>1</td>\n",
       "      <td>1</td>\n",
       "      <td>0</td>\n",
       "      <td>1</td>\n",
       "      <td>1</td>\n",
       "      <td>1</td>\n",
       "      <td>Driver Rider</td>\n",
       "      <td>1: PDO</td>\n",
       "      <td>Give Way Sign</td>\n",
       "      <td>0.0</td>\n",
       "      <td>0.0</td>\n",
       "      <td>1</td>\n",
       "      <td>SA</td>\n",
       "      <td>1</td>\n",
       "      <td>2.0</td>\n",
       "      <td>South</td>\n",
       "      <td>0</td>\n",
       "      <td>85.0</td>\n",
       "      <td>SA</td>\n",
       "      <td>8</td>\n",
       "      <td>0.0</td>\n",
       "      <td>Right Turn</td>\n",
       "      <td>1.0</td>\n",
       "      <td>0.0</td>\n",
       "      <td>0.0</td>\n",
       "    </tr>\n",
       "    <tr>\n",
       "      <th>2019-2-8/07/2020</th>\n",
       "      <td>2</td>\n",
       "      <td>2</td>\n",
       "      <td>0</td>\n",
       "      <td>3</td>\n",
       "      <td>4</td>\n",
       "      <td>1</td>\n",
       "      <td>1</td>\n",
       "      <td>1</td>\n",
       "      <td>1</td>\n",
       "      <td>0</td>\n",
       "      <td>0</td>\n",
       "      <td>1</td>\n",
       "      <td>2</td>\n",
       "      <td>Driver Rider</td>\n",
       "      <td>1: PDO</td>\n",
       "      <td>No Control</td>\n",
       "      <td>0.0</td>\n",
       "      <td>0.0</td>\n",
       "      <td>1</td>\n",
       "      <td>SA</td>\n",
       "      <td>1</td>\n",
       "      <td>1.0</td>\n",
       "      <td>North East</td>\n",
       "      <td>1</td>\n",
       "      <td>21.0</td>\n",
       "      <td>SA</td>\n",
       "      <td>7</td>\n",
       "      <td>0.0</td>\n",
       "      <td>Straight Ahead</td>\n",
       "      <td>4.0</td>\n",
       "      <td>0.0</td>\n",
       "      <td>0.0</td>\n",
       "    </tr>\n",
       "    <tr>\n",
       "      <th>2019-3-8/07/2020</th>\n",
       "      <td>2</td>\n",
       "      <td>2</td>\n",
       "      <td>1</td>\n",
       "      <td>2</td>\n",
       "      <td>4</td>\n",
       "      <td>1</td>\n",
       "      <td>1</td>\n",
       "      <td>1</td>\n",
       "      <td>1</td>\n",
       "      <td>0</td>\n",
       "      <td>0</td>\n",
       "      <td>3</td>\n",
       "      <td>1</td>\n",
       "      <td>Driver Rider</td>\n",
       "      <td>2: MI</td>\n",
       "      <td>No Control</td>\n",
       "      <td>0.0</td>\n",
       "      <td>0.0</td>\n",
       "      <td>1</td>\n",
       "      <td>SA</td>\n",
       "      <td>1</td>\n",
       "      <td>1.0</td>\n",
       "      <td>East</td>\n",
       "      <td>0</td>\n",
       "      <td>37.0</td>\n",
       "      <td>SA</td>\n",
       "      <td>8</td>\n",
       "      <td>0.0</td>\n",
       "      <td>Straight Ahead</td>\n",
       "      <td>1.0</td>\n",
       "      <td>0.0</td>\n",
       "      <td>0.0</td>\n",
       "    </tr>\n",
       "    <tr>\n",
       "      <th>2019-4-8/07/2020</th>\n",
       "      <td>2</td>\n",
       "      <td>2</td>\n",
       "      <td>1</td>\n",
       "      <td>2</td>\n",
       "      <td>3</td>\n",
       "      <td>2</td>\n",
       "      <td>1</td>\n",
       "      <td>1</td>\n",
       "      <td>1</td>\n",
       "      <td>0</td>\n",
       "      <td>0</td>\n",
       "      <td>2</td>\n",
       "      <td>1</td>\n",
       "      <td>Driver Rider</td>\n",
       "      <td>3: SI</td>\n",
       "      <td>No Control</td>\n",
       "      <td>0.0</td>\n",
       "      <td>0.0</td>\n",
       "      <td>1</td>\n",
       "      <td>SA</td>\n",
       "      <td>4</td>\n",
       "      <td>1.0</td>\n",
       "      <td>North West</td>\n",
       "      <td>1</td>\n",
       "      <td>21.0</td>\n",
       "      <td>SA</td>\n",
       "      <td>3</td>\n",
       "      <td>0.0</td>\n",
       "      <td>Straight Ahead</td>\n",
       "      <td>1.0</td>\n",
       "      <td>0.0</td>\n",
       "      <td>0.0</td>\n",
       "    </tr>\n",
       "    <tr>\n",
       "      <th>2019-5-8/07/2020</th>\n",
       "      <td>2</td>\n",
       "      <td>2</td>\n",
       "      <td>0</td>\n",
       "      <td>3</td>\n",
       "      <td>4</td>\n",
       "      <td>1</td>\n",
       "      <td>2</td>\n",
       "      <td>1</td>\n",
       "      <td>1</td>\n",
       "      <td>0</td>\n",
       "      <td>0</td>\n",
       "      <td>3</td>\n",
       "      <td>2</td>\n",
       "      <td>Animal</td>\n",
       "      <td>1: PDO</td>\n",
       "      <td>No Control</td>\n",
       "      <td>0.0</td>\n",
       "      <td>0.0</td>\n",
       "      <td>1</td>\n",
       "      <td>SA</td>\n",
       "      <td>1</td>\n",
       "      <td>1.0</td>\n",
       "      <td>West</td>\n",
       "      <td>1</td>\n",
       "      <td>31.0</td>\n",
       "      <td>SA</td>\n",
       "      <td>8</td>\n",
       "      <td>0.0</td>\n",
       "      <td>Straight Ahead</td>\n",
       "      <td>1.0</td>\n",
       "      <td>0.0</td>\n",
       "      <td>0.0</td>\n",
       "    </tr>\n",
       "  </tbody>\n",
       "</table>\n",
       "</div>"
      ],
      "text/plain": [
       "                  Stats Area  Total Units  Casualty  Area Speed  \\\n",
       "REPORT_ID                                                         \n",
       "2019-1-8/07/2020           2            2         0           2   \n",
       "2019-2-8/07/2020           2            2         0           3   \n",
       "2019-3-8/07/2020           2            2         1           2   \n",
       "2019-4-8/07/2020           2            2         1           2   \n",
       "2019-5-8/07/2020           2            2         0           3   \n",
       "\n",
       "                  Position Type  Horizontal Align  Vertical Align  \\\n",
       "REPORT_ID                                                           \n",
       "2019-1-8/07/2020              1                 1               1   \n",
       "2019-2-8/07/2020              4                 1               1   \n",
       "2019-3-8/07/2020              4                 1               1   \n",
       "2019-4-8/07/2020              3                 2               1   \n",
       "2019-5-8/07/2020              4                 1               2   \n",
       "\n",
       "                  Sealed Road  Dry Road  Raining  Daytime  Crash Type  \\\n",
       "REPORT_ID                                                               \n",
       "2019-1-8/07/2020            1         1        0        1           1   \n",
       "2019-2-8/07/2020            1         1        0        0           1   \n",
       "2019-3-8/07/2020            1         1        0        0           3   \n",
       "2019-4-8/07/2020            1         1        0        0           2   \n",
       "2019-5-8/07/2020            1         1        0        0           3   \n",
       "\n",
       "                  Unit Resp   Entity Code CSEF Severity  Traffic Ctrls  \\\n",
       "REPORT_ID                                                                \n",
       "2019-1-8/07/2020          1  Driver Rider        1: PDO  Give Way Sign   \n",
       "2019-2-8/07/2020          2  Driver Rider        1: PDO     No Control   \n",
       "2019-3-8/07/2020          1  Driver Rider         2: MI     No Control   \n",
       "2019-4-8/07/2020          1  Driver Rider         3: SI     No Control   \n",
       "2019-5-8/07/2020          2        Animal        1: PDO     No Control   \n",
       "\n",
       "                  DUI Involved  Drugs Involved  Unit No Veh Reg State  \\\n",
       "REPORT_ID                                                               \n",
       "2019-1-8/07/2020           0.0             0.0        1            SA   \n",
       "2019-2-8/07/2020           0.0             0.0        1            SA   \n",
       "2019-3-8/07/2020           0.0             0.0        1            SA   \n",
       "2019-4-8/07/2020           0.0             0.0        1            SA   \n",
       "2019-5-8/07/2020           0.0             0.0        1            SA   \n",
       "\n",
       "                  Unit Type  Veh_Age Direction Of Travel  Sex   Age Lic State  \\\n",
       "REPORT_ID                                                                       \n",
       "2019-1-8/07/2020          1      2.0               South    0  85.0        SA   \n",
       "2019-2-8/07/2020          1      1.0          North East    1  21.0        SA   \n",
       "2019-3-8/07/2020          1      1.0                East    0  37.0        SA   \n",
       "2019-4-8/07/2020          4      1.0          North West    1  21.0        SA   \n",
       "2019-5-8/07/2020          1      1.0                West    1  31.0        SA   \n",
       "\n",
       "                  Licence Type  Towing   Unit Movement  Number Occupants  \\\n",
       "REPORT_ID                                                                  \n",
       "2019-1-8/07/2020             8     0.0      Right Turn               1.0   \n",
       "2019-2-8/07/2020             7     0.0  Straight Ahead               4.0   \n",
       "2019-3-8/07/2020             8     0.0  Straight Ahead               1.0   \n",
       "2019-4-8/07/2020             3     0.0  Straight Ahead               1.0   \n",
       "2019-5-8/07/2020             8     0.0  Straight Ahead               1.0   \n",
       "\n",
       "                  Rollover  Fire  \n",
       "REPORT_ID                         \n",
       "2019-1-8/07/2020       0.0   0.0  \n",
       "2019-2-8/07/2020       0.0   0.0  \n",
       "2019-3-8/07/2020       0.0   0.0  \n",
       "2019-4-8/07/2020       0.0   0.0  \n",
       "2019-5-8/07/2020       0.0   0.0  "
      ]
     },
     "execution_count": 197,
     "metadata": {},
     "output_type": "execute_result"
    }
   ],
   "source": [
    "df.head()"
   ]
  },
  {
   "cell_type": "code",
   "execution_count": 198,
   "metadata": {},
   "outputs": [
    {
     "data": {
      "text/plain": [
       "Driver Rider                   12454\n",
       "Pedestrian                       227\n",
       "Animal                           186\n",
       "2                                 74\n",
       "Passenger                         21\n",
       "No Unit or User Responsible        2\n",
       "Name: Entity Code, dtype: int64"
      ]
     },
     "execution_count": 198,
     "metadata": {},
     "output_type": "execute_result"
    }
   ],
   "source": [
    "df['Entity Code'].value_counts()"
   ]
  },
  {
   "cell_type": "code",
   "execution_count": 199,
   "metadata": {},
   "outputs": [
    {
     "name": "stdout",
     "output_type": "stream",
     "text": [
      "Driver Rider                   12454\n",
      "Pedestrian                       227\n",
      "Animal                           186\n",
      "Other                             74\n",
      "Passenger                         21\n",
      "No Unit or User Responsible        2\n",
      "Name: Entity Code, dtype: int64\n"
     ]
    }
   ],
   "source": [
    "df['Entity Code'].replace(2, 'Other', inplace=True)\n",
    "print(df['Entity Code'].value_counts())"
   ]
  },
  {
   "cell_type": "code",
   "execution_count": 200,
   "metadata": {},
   "outputs": [
    {
     "name": "stdout",
     "output_type": "stream",
     "text": [
      "1    12454\n",
      "2      227\n",
      "3      186\n",
      "4       74\n",
      "5       21\n",
      "6        2\n",
      "Name: Entity Code, dtype: int64\n"
     ]
    }
   ],
   "source": [
    "df['Entity Code'].replace(['Driver Rider'], 1, inplace=True)\n",
    "df['Entity Code'].replace(['Pedestrian'], 2, inplace=True)\n",
    "df['Entity Code'].replace(['Animal'], 3, inplace=True)\n",
    "df['Entity Code'].replace(['Other'], 4, inplace=True)\n",
    "df['Entity Code'].replace(['Passenger'], 5, inplace=True)\n",
    "df['Entity Code'].replace(['No Unit or User Responsible'], 6, inplace=True)\n",
    "\n",
    "print(df['Entity Code'].value_counts())"
   ]
  },
  {
   "cell_type": "code",
   "execution_count": 201,
   "metadata": {},
   "outputs": [
    {
     "data": {
      "text/html": [
       "<div>\n",
       "<style scoped>\n",
       "    .dataframe tbody tr th:only-of-type {\n",
       "        vertical-align: middle;\n",
       "    }\n",
       "\n",
       "    .dataframe tbody tr th {\n",
       "        vertical-align: top;\n",
       "    }\n",
       "\n",
       "    .dataframe thead th {\n",
       "        text-align: right;\n",
       "    }\n",
       "</style>\n",
       "<table border=\"1\" class=\"dataframe\">\n",
       "  <thead>\n",
       "    <tr style=\"text-align: right;\">\n",
       "      <th></th>\n",
       "      <th>Stats Area</th>\n",
       "      <th>Total Units</th>\n",
       "      <th>Casualty</th>\n",
       "      <th>Area Speed</th>\n",
       "      <th>Position Type</th>\n",
       "      <th>Horizontal Align</th>\n",
       "      <th>Vertical Align</th>\n",
       "      <th>Sealed Road</th>\n",
       "      <th>Dry Road</th>\n",
       "      <th>Raining</th>\n",
       "      <th>Daytime</th>\n",
       "      <th>Crash Type</th>\n",
       "      <th>Unit Resp</th>\n",
       "      <th>Entity Code</th>\n",
       "      <th>CSEF Severity</th>\n",
       "      <th>Traffic Ctrls</th>\n",
       "      <th>DUI Involved</th>\n",
       "      <th>Drugs Involved</th>\n",
       "      <th>Unit No</th>\n",
       "      <th>Veh Reg State</th>\n",
       "      <th>Unit Type</th>\n",
       "      <th>Veh_Age</th>\n",
       "      <th>Direction Of Travel</th>\n",
       "      <th>Sex</th>\n",
       "      <th>Age</th>\n",
       "      <th>Lic State</th>\n",
       "      <th>Licence Type</th>\n",
       "      <th>Towing</th>\n",
       "      <th>Unit Movement</th>\n",
       "      <th>Number Occupants</th>\n",
       "      <th>Rollover</th>\n",
       "      <th>Fire</th>\n",
       "    </tr>\n",
       "    <tr>\n",
       "      <th>REPORT_ID</th>\n",
       "      <th></th>\n",
       "      <th></th>\n",
       "      <th></th>\n",
       "      <th></th>\n",
       "      <th></th>\n",
       "      <th></th>\n",
       "      <th></th>\n",
       "      <th></th>\n",
       "      <th></th>\n",
       "      <th></th>\n",
       "      <th></th>\n",
       "      <th></th>\n",
       "      <th></th>\n",
       "      <th></th>\n",
       "      <th></th>\n",
       "      <th></th>\n",
       "      <th></th>\n",
       "      <th></th>\n",
       "      <th></th>\n",
       "      <th></th>\n",
       "      <th></th>\n",
       "      <th></th>\n",
       "      <th></th>\n",
       "      <th></th>\n",
       "      <th></th>\n",
       "      <th></th>\n",
       "      <th></th>\n",
       "      <th></th>\n",
       "      <th></th>\n",
       "      <th></th>\n",
       "      <th></th>\n",
       "      <th></th>\n",
       "    </tr>\n",
       "  </thead>\n",
       "  <tbody>\n",
       "    <tr>\n",
       "      <th>2019-1-8/07/2020</th>\n",
       "      <td>2</td>\n",
       "      <td>2</td>\n",
       "      <td>0</td>\n",
       "      <td>2</td>\n",
       "      <td>1</td>\n",
       "      <td>1</td>\n",
       "      <td>1</td>\n",
       "      <td>1</td>\n",
       "      <td>1</td>\n",
       "      <td>0</td>\n",
       "      <td>1</td>\n",
       "      <td>1</td>\n",
       "      <td>1</td>\n",
       "      <td>1</td>\n",
       "      <td>1: PDO</td>\n",
       "      <td>Give Way Sign</td>\n",
       "      <td>0.0</td>\n",
       "      <td>0.0</td>\n",
       "      <td>1</td>\n",
       "      <td>SA</td>\n",
       "      <td>1</td>\n",
       "      <td>2.0</td>\n",
       "      <td>South</td>\n",
       "      <td>0</td>\n",
       "      <td>85.0</td>\n",
       "      <td>SA</td>\n",
       "      <td>8</td>\n",
       "      <td>0.0</td>\n",
       "      <td>Right Turn</td>\n",
       "      <td>1.0</td>\n",
       "      <td>0.0</td>\n",
       "      <td>0.0</td>\n",
       "    </tr>\n",
       "    <tr>\n",
       "      <th>2019-2-8/07/2020</th>\n",
       "      <td>2</td>\n",
       "      <td>2</td>\n",
       "      <td>0</td>\n",
       "      <td>3</td>\n",
       "      <td>4</td>\n",
       "      <td>1</td>\n",
       "      <td>1</td>\n",
       "      <td>1</td>\n",
       "      <td>1</td>\n",
       "      <td>0</td>\n",
       "      <td>0</td>\n",
       "      <td>1</td>\n",
       "      <td>2</td>\n",
       "      <td>1</td>\n",
       "      <td>1: PDO</td>\n",
       "      <td>No Control</td>\n",
       "      <td>0.0</td>\n",
       "      <td>0.0</td>\n",
       "      <td>1</td>\n",
       "      <td>SA</td>\n",
       "      <td>1</td>\n",
       "      <td>1.0</td>\n",
       "      <td>North East</td>\n",
       "      <td>1</td>\n",
       "      <td>21.0</td>\n",
       "      <td>SA</td>\n",
       "      <td>7</td>\n",
       "      <td>0.0</td>\n",
       "      <td>Straight Ahead</td>\n",
       "      <td>4.0</td>\n",
       "      <td>0.0</td>\n",
       "      <td>0.0</td>\n",
       "    </tr>\n",
       "    <tr>\n",
       "      <th>2019-3-8/07/2020</th>\n",
       "      <td>2</td>\n",
       "      <td>2</td>\n",
       "      <td>1</td>\n",
       "      <td>2</td>\n",
       "      <td>4</td>\n",
       "      <td>1</td>\n",
       "      <td>1</td>\n",
       "      <td>1</td>\n",
       "      <td>1</td>\n",
       "      <td>0</td>\n",
       "      <td>0</td>\n",
       "      <td>3</td>\n",
       "      <td>1</td>\n",
       "      <td>1</td>\n",
       "      <td>2: MI</td>\n",
       "      <td>No Control</td>\n",
       "      <td>0.0</td>\n",
       "      <td>0.0</td>\n",
       "      <td>1</td>\n",
       "      <td>SA</td>\n",
       "      <td>1</td>\n",
       "      <td>1.0</td>\n",
       "      <td>East</td>\n",
       "      <td>0</td>\n",
       "      <td>37.0</td>\n",
       "      <td>SA</td>\n",
       "      <td>8</td>\n",
       "      <td>0.0</td>\n",
       "      <td>Straight Ahead</td>\n",
       "      <td>1.0</td>\n",
       "      <td>0.0</td>\n",
       "      <td>0.0</td>\n",
       "    </tr>\n",
       "  </tbody>\n",
       "</table>\n",
       "</div>"
      ],
      "text/plain": [
       "                  Stats Area  Total Units  Casualty  Area Speed  \\\n",
       "REPORT_ID                                                         \n",
       "2019-1-8/07/2020           2            2         0           2   \n",
       "2019-2-8/07/2020           2            2         0           3   \n",
       "2019-3-8/07/2020           2            2         1           2   \n",
       "\n",
       "                  Position Type  Horizontal Align  Vertical Align  \\\n",
       "REPORT_ID                                                           \n",
       "2019-1-8/07/2020              1                 1               1   \n",
       "2019-2-8/07/2020              4                 1               1   \n",
       "2019-3-8/07/2020              4                 1               1   \n",
       "\n",
       "                  Sealed Road  Dry Road  Raining  Daytime  Crash Type  \\\n",
       "REPORT_ID                                                               \n",
       "2019-1-8/07/2020            1         1        0        1           1   \n",
       "2019-2-8/07/2020            1         1        0        0           1   \n",
       "2019-3-8/07/2020            1         1        0        0           3   \n",
       "\n",
       "                  Unit Resp  Entity Code CSEF Severity  Traffic Ctrls  \\\n",
       "REPORT_ID                                                               \n",
       "2019-1-8/07/2020          1            1        1: PDO  Give Way Sign   \n",
       "2019-2-8/07/2020          2            1        1: PDO     No Control   \n",
       "2019-3-8/07/2020          1            1         2: MI     No Control   \n",
       "\n",
       "                  DUI Involved  Drugs Involved  Unit No Veh Reg State  \\\n",
       "REPORT_ID                                                               \n",
       "2019-1-8/07/2020           0.0             0.0        1            SA   \n",
       "2019-2-8/07/2020           0.0             0.0        1            SA   \n",
       "2019-3-8/07/2020           0.0             0.0        1            SA   \n",
       "\n",
       "                  Unit Type  Veh_Age Direction Of Travel  Sex   Age Lic State  \\\n",
       "REPORT_ID                                                                       \n",
       "2019-1-8/07/2020          1      2.0               South    0  85.0        SA   \n",
       "2019-2-8/07/2020          1      1.0          North East    1  21.0        SA   \n",
       "2019-3-8/07/2020          1      1.0                East    0  37.0        SA   \n",
       "\n",
       "                  Licence Type  Towing   Unit Movement  Number Occupants  \\\n",
       "REPORT_ID                                                                  \n",
       "2019-1-8/07/2020             8     0.0      Right Turn               1.0   \n",
       "2019-2-8/07/2020             7     0.0  Straight Ahead               4.0   \n",
       "2019-3-8/07/2020             8     0.0  Straight Ahead               1.0   \n",
       "\n",
       "                  Rollover  Fire  \n",
       "REPORT_ID                         \n",
       "2019-1-8/07/2020       0.0   0.0  \n",
       "2019-2-8/07/2020       0.0   0.0  \n",
       "2019-3-8/07/2020       0.0   0.0  "
      ]
     },
     "execution_count": 201,
     "metadata": {},
     "output_type": "execute_result"
    }
   ],
   "source": [
    "df.head(3)"
   ]
  },
  {
   "cell_type": "code",
   "execution_count": 202,
   "metadata": {},
   "outputs": [
    {
     "data": {
      "text/plain": [
       "1: PDO      8188\n",
       "2: MI       3937\n",
       "3: SI        729\n",
       "4: Fatal     110\n",
       "Name: CSEF Severity, dtype: int64"
      ]
     },
     "execution_count": 202,
     "metadata": {},
     "output_type": "execute_result"
    }
   ],
   "source": [
    "df[\"CSEF Severity\"].value_counts()"
   ]
  },
  {
   "cell_type": "code",
   "execution_count": 203,
   "metadata": {},
   "outputs": [],
   "source": [
    "df.drop(columns='CSEF Severity', inplace=True)"
   ]
  },
  {
   "cell_type": "code",
   "execution_count": 204,
   "metadata": {},
   "outputs": [
    {
     "data": {
      "text/html": [
       "<div>\n",
       "<style scoped>\n",
       "    .dataframe tbody tr th:only-of-type {\n",
       "        vertical-align: middle;\n",
       "    }\n",
       "\n",
       "    .dataframe tbody tr th {\n",
       "        vertical-align: top;\n",
       "    }\n",
       "\n",
       "    .dataframe thead th {\n",
       "        text-align: right;\n",
       "    }\n",
       "</style>\n",
       "<table border=\"1\" class=\"dataframe\">\n",
       "  <thead>\n",
       "    <tr style=\"text-align: right;\">\n",
       "      <th></th>\n",
       "      <th>Stats Area</th>\n",
       "      <th>Total Units</th>\n",
       "      <th>Casualty</th>\n",
       "      <th>Area Speed</th>\n",
       "      <th>Position Type</th>\n",
       "      <th>Horizontal Align</th>\n",
       "      <th>Vertical Align</th>\n",
       "      <th>Sealed Road</th>\n",
       "      <th>Dry Road</th>\n",
       "      <th>Raining</th>\n",
       "      <th>Daytime</th>\n",
       "      <th>Crash Type</th>\n",
       "      <th>Unit Resp</th>\n",
       "      <th>Entity Code</th>\n",
       "      <th>Traffic Ctrls</th>\n",
       "      <th>DUI Involved</th>\n",
       "      <th>Drugs Involved</th>\n",
       "      <th>Unit No</th>\n",
       "      <th>Veh Reg State</th>\n",
       "      <th>Unit Type</th>\n",
       "      <th>Veh_Age</th>\n",
       "      <th>Direction Of Travel</th>\n",
       "      <th>Sex</th>\n",
       "      <th>Age</th>\n",
       "      <th>Lic State</th>\n",
       "      <th>Licence Type</th>\n",
       "      <th>Towing</th>\n",
       "      <th>Unit Movement</th>\n",
       "      <th>Number Occupants</th>\n",
       "      <th>Rollover</th>\n",
       "      <th>Fire</th>\n",
       "    </tr>\n",
       "    <tr>\n",
       "      <th>REPORT_ID</th>\n",
       "      <th></th>\n",
       "      <th></th>\n",
       "      <th></th>\n",
       "      <th></th>\n",
       "      <th></th>\n",
       "      <th></th>\n",
       "      <th></th>\n",
       "      <th></th>\n",
       "      <th></th>\n",
       "      <th></th>\n",
       "      <th></th>\n",
       "      <th></th>\n",
       "      <th></th>\n",
       "      <th></th>\n",
       "      <th></th>\n",
       "      <th></th>\n",
       "      <th></th>\n",
       "      <th></th>\n",
       "      <th></th>\n",
       "      <th></th>\n",
       "      <th></th>\n",
       "      <th></th>\n",
       "      <th></th>\n",
       "      <th></th>\n",
       "      <th></th>\n",
       "      <th></th>\n",
       "      <th></th>\n",
       "      <th></th>\n",
       "      <th></th>\n",
       "      <th></th>\n",
       "      <th></th>\n",
       "    </tr>\n",
       "  </thead>\n",
       "  <tbody>\n",
       "    <tr>\n",
       "      <th>2019-1-8/07/2020</th>\n",
       "      <td>2</td>\n",
       "      <td>2</td>\n",
       "      <td>0</td>\n",
       "      <td>2</td>\n",
       "      <td>1</td>\n",
       "      <td>1</td>\n",
       "      <td>1</td>\n",
       "      <td>1</td>\n",
       "      <td>1</td>\n",
       "      <td>0</td>\n",
       "      <td>1</td>\n",
       "      <td>1</td>\n",
       "      <td>1</td>\n",
       "      <td>1</td>\n",
       "      <td>Give Way Sign</td>\n",
       "      <td>0.0</td>\n",
       "      <td>0.0</td>\n",
       "      <td>1</td>\n",
       "      <td>SA</td>\n",
       "      <td>1</td>\n",
       "      <td>2.0</td>\n",
       "      <td>South</td>\n",
       "      <td>0</td>\n",
       "      <td>85.0</td>\n",
       "      <td>SA</td>\n",
       "      <td>8</td>\n",
       "      <td>0.0</td>\n",
       "      <td>Right Turn</td>\n",
       "      <td>1.0</td>\n",
       "      <td>0.0</td>\n",
       "      <td>0.0</td>\n",
       "    </tr>\n",
       "    <tr>\n",
       "      <th>2019-2-8/07/2020</th>\n",
       "      <td>2</td>\n",
       "      <td>2</td>\n",
       "      <td>0</td>\n",
       "      <td>3</td>\n",
       "      <td>4</td>\n",
       "      <td>1</td>\n",
       "      <td>1</td>\n",
       "      <td>1</td>\n",
       "      <td>1</td>\n",
       "      <td>0</td>\n",
       "      <td>0</td>\n",
       "      <td>1</td>\n",
       "      <td>2</td>\n",
       "      <td>1</td>\n",
       "      <td>No Control</td>\n",
       "      <td>0.0</td>\n",
       "      <td>0.0</td>\n",
       "      <td>1</td>\n",
       "      <td>SA</td>\n",
       "      <td>1</td>\n",
       "      <td>1.0</td>\n",
       "      <td>North East</td>\n",
       "      <td>1</td>\n",
       "      <td>21.0</td>\n",
       "      <td>SA</td>\n",
       "      <td>7</td>\n",
       "      <td>0.0</td>\n",
       "      <td>Straight Ahead</td>\n",
       "      <td>4.0</td>\n",
       "      <td>0.0</td>\n",
       "      <td>0.0</td>\n",
       "    </tr>\n",
       "    <tr>\n",
       "      <th>2019-3-8/07/2020</th>\n",
       "      <td>2</td>\n",
       "      <td>2</td>\n",
       "      <td>1</td>\n",
       "      <td>2</td>\n",
       "      <td>4</td>\n",
       "      <td>1</td>\n",
       "      <td>1</td>\n",
       "      <td>1</td>\n",
       "      <td>1</td>\n",
       "      <td>0</td>\n",
       "      <td>0</td>\n",
       "      <td>3</td>\n",
       "      <td>1</td>\n",
       "      <td>1</td>\n",
       "      <td>No Control</td>\n",
       "      <td>0.0</td>\n",
       "      <td>0.0</td>\n",
       "      <td>1</td>\n",
       "      <td>SA</td>\n",
       "      <td>1</td>\n",
       "      <td>1.0</td>\n",
       "      <td>East</td>\n",
       "      <td>0</td>\n",
       "      <td>37.0</td>\n",
       "      <td>SA</td>\n",
       "      <td>8</td>\n",
       "      <td>0.0</td>\n",
       "      <td>Straight Ahead</td>\n",
       "      <td>1.0</td>\n",
       "      <td>0.0</td>\n",
       "      <td>0.0</td>\n",
       "    </tr>\n",
       "  </tbody>\n",
       "</table>\n",
       "</div>"
      ],
      "text/plain": [
       "                  Stats Area  Total Units  Casualty  Area Speed  \\\n",
       "REPORT_ID                                                         \n",
       "2019-1-8/07/2020           2            2         0           2   \n",
       "2019-2-8/07/2020           2            2         0           3   \n",
       "2019-3-8/07/2020           2            2         1           2   \n",
       "\n",
       "                  Position Type  Horizontal Align  Vertical Align  \\\n",
       "REPORT_ID                                                           \n",
       "2019-1-8/07/2020              1                 1               1   \n",
       "2019-2-8/07/2020              4                 1               1   \n",
       "2019-3-8/07/2020              4                 1               1   \n",
       "\n",
       "                  Sealed Road  Dry Road  Raining  Daytime  Crash Type  \\\n",
       "REPORT_ID                                                               \n",
       "2019-1-8/07/2020            1         1        0        1           1   \n",
       "2019-2-8/07/2020            1         1        0        0           1   \n",
       "2019-3-8/07/2020            1         1        0        0           3   \n",
       "\n",
       "                  Unit Resp  Entity Code  Traffic Ctrls  DUI Involved  \\\n",
       "REPORT_ID                                                               \n",
       "2019-1-8/07/2020          1            1  Give Way Sign           0.0   \n",
       "2019-2-8/07/2020          2            1     No Control           0.0   \n",
       "2019-3-8/07/2020          1            1     No Control           0.0   \n",
       "\n",
       "                  Drugs Involved  Unit No Veh Reg State  Unit Type  Veh_Age  \\\n",
       "REPORT_ID                                                                     \n",
       "2019-1-8/07/2020             0.0        1            SA          1      2.0   \n",
       "2019-2-8/07/2020             0.0        1            SA          1      1.0   \n",
       "2019-3-8/07/2020             0.0        1            SA          1      1.0   \n",
       "\n",
       "                 Direction Of Travel  Sex   Age Lic State  Licence Type  \\\n",
       "REPORT_ID                                                                 \n",
       "2019-1-8/07/2020               South    0  85.0        SA             8   \n",
       "2019-2-8/07/2020          North East    1  21.0        SA             7   \n",
       "2019-3-8/07/2020                East    0  37.0        SA             8   \n",
       "\n",
       "                  Towing   Unit Movement  Number Occupants  Rollover  Fire  \n",
       "REPORT_ID                                                                   \n",
       "2019-1-8/07/2020     0.0      Right Turn               1.0       0.0   0.0  \n",
       "2019-2-8/07/2020     0.0  Straight Ahead               4.0       0.0   0.0  \n",
       "2019-3-8/07/2020     0.0  Straight Ahead               1.0       0.0   0.0  "
      ]
     },
     "execution_count": 204,
     "metadata": {},
     "output_type": "execute_result"
    }
   ],
   "source": [
    "df.head(3)"
   ]
  },
  {
   "cell_type": "code",
   "execution_count": 205,
   "metadata": {},
   "outputs": [
    {
     "data": {
      "text/plain": [
       "No Control                   8807\n",
       "Traffic Signals              2232\n",
       "Give Way Sign                 908\n",
       "Stop Sign                     506\n",
       "Roundabout                    484\n",
       "Rail Xing - Boom               10\n",
       "Rail Xing - Flashing            6\n",
       "Rail Xing-Traffic Signals       6\n",
       "2                               5\n",
       "Name: Traffic Ctrls, dtype: int64"
      ]
     },
     "execution_count": 205,
     "metadata": {},
     "output_type": "execute_result"
    }
   ],
   "source": [
    "df['Traffic Ctrls'].value_counts()"
   ]
  },
  {
   "cell_type": "markdown",
   "metadata": {},
   "source": [
    "These will be ordered on how free-flowing the traffic is.  Other will be placed with 'no control'."
   ]
  },
  {
   "cell_type": "code",
   "execution_count": 206,
   "metadata": {},
   "outputs": [
    {
     "name": "stdout",
     "output_type": "stream",
     "text": [
      "No Control                   8807\n",
      "Traffic Signals              2232\n",
      "Give Way Sign                 908\n",
      "Stop Sign                     506\n",
      "Roundabout                    484\n",
      "Rail Xing - Boom               10\n",
      "Rail Xing - Flashing            6\n",
      "Rail Xing-Traffic Signals       6\n",
      "Other                           5\n",
      "Name: Traffic Ctrls, dtype: int64\n"
     ]
    }
   ],
   "source": [
    "df['Traffic Ctrls'].replace(2, 'Other', inplace=True)\n",
    "print(df['Traffic Ctrls'].value_counts())"
   ]
  },
  {
   "cell_type": "code",
   "execution_count": 207,
   "metadata": {},
   "outputs": [
    {
     "name": "stdout",
     "output_type": "stream",
     "text": [
      "1    8812\n",
      "5    2232\n",
      "3     908\n",
      "4     506\n",
      "2     484\n",
      "6      22\n",
      "Name: Traffic Ctrls, dtype: int64\n"
     ]
    }
   ],
   "source": [
    "df['Traffic Ctrls'].replace(['No Control', 'Other'], 1, inplace=True)\n",
    "df['Traffic Ctrls'].replace('Roundabout', 2, inplace=True)\n",
    "df['Traffic Ctrls'].replace('Give Way Sign', 3, inplace=True)\n",
    "df['Traffic Ctrls'].replace('Stop Sign', 4, inplace=True)\n",
    "df['Traffic Ctrls'].replace(['Traffic Signals'], 5, inplace=True)\n",
    "df['Traffic Ctrls'].replace(['Rail Xing - Boom', 'Rail Xing-Traffic Signals', 'Rail Xing - Flashing'], 6, inplace=True)\n",
    "\n",
    "print(df['Traffic Ctrls'].value_counts())"
   ]
  },
  {
   "cell_type": "code",
   "execution_count": 208,
   "metadata": {},
   "outputs": [
    {
     "data": {
      "text/html": [
       "<div>\n",
       "<style scoped>\n",
       "    .dataframe tbody tr th:only-of-type {\n",
       "        vertical-align: middle;\n",
       "    }\n",
       "\n",
       "    .dataframe tbody tr th {\n",
       "        vertical-align: top;\n",
       "    }\n",
       "\n",
       "    .dataframe thead th {\n",
       "        text-align: right;\n",
       "    }\n",
       "</style>\n",
       "<table border=\"1\" class=\"dataframe\">\n",
       "  <thead>\n",
       "    <tr style=\"text-align: right;\">\n",
       "      <th></th>\n",
       "      <th>Stats Area</th>\n",
       "      <th>Total Units</th>\n",
       "      <th>Casualty</th>\n",
       "      <th>Area Speed</th>\n",
       "      <th>Position Type</th>\n",
       "      <th>Horizontal Align</th>\n",
       "      <th>Vertical Align</th>\n",
       "      <th>Sealed Road</th>\n",
       "      <th>Dry Road</th>\n",
       "      <th>Raining</th>\n",
       "      <th>Daytime</th>\n",
       "      <th>Crash Type</th>\n",
       "      <th>Unit Resp</th>\n",
       "      <th>Entity Code</th>\n",
       "      <th>Traffic Ctrls</th>\n",
       "      <th>DUI Involved</th>\n",
       "      <th>Drugs Involved</th>\n",
       "      <th>Unit No</th>\n",
       "      <th>Veh Reg State</th>\n",
       "      <th>Unit Type</th>\n",
       "      <th>Veh_Age</th>\n",
       "      <th>Direction Of Travel</th>\n",
       "      <th>Sex</th>\n",
       "      <th>Age</th>\n",
       "      <th>Lic State</th>\n",
       "      <th>Licence Type</th>\n",
       "      <th>Towing</th>\n",
       "      <th>Unit Movement</th>\n",
       "      <th>Number Occupants</th>\n",
       "      <th>Rollover</th>\n",
       "      <th>Fire</th>\n",
       "    </tr>\n",
       "    <tr>\n",
       "      <th>REPORT_ID</th>\n",
       "      <th></th>\n",
       "      <th></th>\n",
       "      <th></th>\n",
       "      <th></th>\n",
       "      <th></th>\n",
       "      <th></th>\n",
       "      <th></th>\n",
       "      <th></th>\n",
       "      <th></th>\n",
       "      <th></th>\n",
       "      <th></th>\n",
       "      <th></th>\n",
       "      <th></th>\n",
       "      <th></th>\n",
       "      <th></th>\n",
       "      <th></th>\n",
       "      <th></th>\n",
       "      <th></th>\n",
       "      <th></th>\n",
       "      <th></th>\n",
       "      <th></th>\n",
       "      <th></th>\n",
       "      <th></th>\n",
       "      <th></th>\n",
       "      <th></th>\n",
       "      <th></th>\n",
       "      <th></th>\n",
       "      <th></th>\n",
       "      <th></th>\n",
       "      <th></th>\n",
       "      <th></th>\n",
       "    </tr>\n",
       "  </thead>\n",
       "  <tbody>\n",
       "    <tr>\n",
       "      <th>2019-1-8/07/2020</th>\n",
       "      <td>2</td>\n",
       "      <td>2</td>\n",
       "      <td>0</td>\n",
       "      <td>2</td>\n",
       "      <td>1</td>\n",
       "      <td>1</td>\n",
       "      <td>1</td>\n",
       "      <td>1</td>\n",
       "      <td>1</td>\n",
       "      <td>0</td>\n",
       "      <td>1</td>\n",
       "      <td>1</td>\n",
       "      <td>1</td>\n",
       "      <td>1</td>\n",
       "      <td>3</td>\n",
       "      <td>0.0</td>\n",
       "      <td>0.0</td>\n",
       "      <td>1</td>\n",
       "      <td>SA</td>\n",
       "      <td>1</td>\n",
       "      <td>2.0</td>\n",
       "      <td>South</td>\n",
       "      <td>0</td>\n",
       "      <td>85.0</td>\n",
       "      <td>SA</td>\n",
       "      <td>8</td>\n",
       "      <td>0.0</td>\n",
       "      <td>Right Turn</td>\n",
       "      <td>1.0</td>\n",
       "      <td>0.0</td>\n",
       "      <td>0.0</td>\n",
       "    </tr>\n",
       "    <tr>\n",
       "      <th>2019-2-8/07/2020</th>\n",
       "      <td>2</td>\n",
       "      <td>2</td>\n",
       "      <td>0</td>\n",
       "      <td>3</td>\n",
       "      <td>4</td>\n",
       "      <td>1</td>\n",
       "      <td>1</td>\n",
       "      <td>1</td>\n",
       "      <td>1</td>\n",
       "      <td>0</td>\n",
       "      <td>0</td>\n",
       "      <td>1</td>\n",
       "      <td>2</td>\n",
       "      <td>1</td>\n",
       "      <td>1</td>\n",
       "      <td>0.0</td>\n",
       "      <td>0.0</td>\n",
       "      <td>1</td>\n",
       "      <td>SA</td>\n",
       "      <td>1</td>\n",
       "      <td>1.0</td>\n",
       "      <td>North East</td>\n",
       "      <td>1</td>\n",
       "      <td>21.0</td>\n",
       "      <td>SA</td>\n",
       "      <td>7</td>\n",
       "      <td>0.0</td>\n",
       "      <td>Straight Ahead</td>\n",
       "      <td>4.0</td>\n",
       "      <td>0.0</td>\n",
       "      <td>0.0</td>\n",
       "    </tr>\n",
       "    <tr>\n",
       "      <th>2019-3-8/07/2020</th>\n",
       "      <td>2</td>\n",
       "      <td>2</td>\n",
       "      <td>1</td>\n",
       "      <td>2</td>\n",
       "      <td>4</td>\n",
       "      <td>1</td>\n",
       "      <td>1</td>\n",
       "      <td>1</td>\n",
       "      <td>1</td>\n",
       "      <td>0</td>\n",
       "      <td>0</td>\n",
       "      <td>3</td>\n",
       "      <td>1</td>\n",
       "      <td>1</td>\n",
       "      <td>1</td>\n",
       "      <td>0.0</td>\n",
       "      <td>0.0</td>\n",
       "      <td>1</td>\n",
       "      <td>SA</td>\n",
       "      <td>1</td>\n",
       "      <td>1.0</td>\n",
       "      <td>East</td>\n",
       "      <td>0</td>\n",
       "      <td>37.0</td>\n",
       "      <td>SA</td>\n",
       "      <td>8</td>\n",
       "      <td>0.0</td>\n",
       "      <td>Straight Ahead</td>\n",
       "      <td>1.0</td>\n",
       "      <td>0.0</td>\n",
       "      <td>0.0</td>\n",
       "    </tr>\n",
       "    <tr>\n",
       "      <th>2019-4-8/07/2020</th>\n",
       "      <td>2</td>\n",
       "      <td>2</td>\n",
       "      <td>1</td>\n",
       "      <td>2</td>\n",
       "      <td>3</td>\n",
       "      <td>2</td>\n",
       "      <td>1</td>\n",
       "      <td>1</td>\n",
       "      <td>1</td>\n",
       "      <td>0</td>\n",
       "      <td>0</td>\n",
       "      <td>2</td>\n",
       "      <td>1</td>\n",
       "      <td>1</td>\n",
       "      <td>1</td>\n",
       "      <td>0.0</td>\n",
       "      <td>0.0</td>\n",
       "      <td>1</td>\n",
       "      <td>SA</td>\n",
       "      <td>4</td>\n",
       "      <td>1.0</td>\n",
       "      <td>North West</td>\n",
       "      <td>1</td>\n",
       "      <td>21.0</td>\n",
       "      <td>SA</td>\n",
       "      <td>3</td>\n",
       "      <td>0.0</td>\n",
       "      <td>Straight Ahead</td>\n",
       "      <td>1.0</td>\n",
       "      <td>0.0</td>\n",
       "      <td>0.0</td>\n",
       "    </tr>\n",
       "    <tr>\n",
       "      <th>2019-5-8/07/2020</th>\n",
       "      <td>2</td>\n",
       "      <td>2</td>\n",
       "      <td>0</td>\n",
       "      <td>3</td>\n",
       "      <td>4</td>\n",
       "      <td>1</td>\n",
       "      <td>2</td>\n",
       "      <td>1</td>\n",
       "      <td>1</td>\n",
       "      <td>0</td>\n",
       "      <td>0</td>\n",
       "      <td>3</td>\n",
       "      <td>2</td>\n",
       "      <td>3</td>\n",
       "      <td>1</td>\n",
       "      <td>0.0</td>\n",
       "      <td>0.0</td>\n",
       "      <td>1</td>\n",
       "      <td>SA</td>\n",
       "      <td>1</td>\n",
       "      <td>1.0</td>\n",
       "      <td>West</td>\n",
       "      <td>1</td>\n",
       "      <td>31.0</td>\n",
       "      <td>SA</td>\n",
       "      <td>8</td>\n",
       "      <td>0.0</td>\n",
       "      <td>Straight Ahead</td>\n",
       "      <td>1.0</td>\n",
       "      <td>0.0</td>\n",
       "      <td>0.0</td>\n",
       "    </tr>\n",
       "  </tbody>\n",
       "</table>\n",
       "</div>"
      ],
      "text/plain": [
       "                  Stats Area  Total Units  Casualty  Area Speed  \\\n",
       "REPORT_ID                                                         \n",
       "2019-1-8/07/2020           2            2         0           2   \n",
       "2019-2-8/07/2020           2            2         0           3   \n",
       "2019-3-8/07/2020           2            2         1           2   \n",
       "2019-4-8/07/2020           2            2         1           2   \n",
       "2019-5-8/07/2020           2            2         0           3   \n",
       "\n",
       "                  Position Type  Horizontal Align  Vertical Align  \\\n",
       "REPORT_ID                                                           \n",
       "2019-1-8/07/2020              1                 1               1   \n",
       "2019-2-8/07/2020              4                 1               1   \n",
       "2019-3-8/07/2020              4                 1               1   \n",
       "2019-4-8/07/2020              3                 2               1   \n",
       "2019-5-8/07/2020              4                 1               2   \n",
       "\n",
       "                  Sealed Road  Dry Road  Raining  Daytime  Crash Type  \\\n",
       "REPORT_ID                                                               \n",
       "2019-1-8/07/2020            1         1        0        1           1   \n",
       "2019-2-8/07/2020            1         1        0        0           1   \n",
       "2019-3-8/07/2020            1         1        0        0           3   \n",
       "2019-4-8/07/2020            1         1        0        0           2   \n",
       "2019-5-8/07/2020            1         1        0        0           3   \n",
       "\n",
       "                  Unit Resp  Entity Code  Traffic Ctrls  DUI Involved  \\\n",
       "REPORT_ID                                                               \n",
       "2019-1-8/07/2020          1            1              3           0.0   \n",
       "2019-2-8/07/2020          2            1              1           0.0   \n",
       "2019-3-8/07/2020          1            1              1           0.0   \n",
       "2019-4-8/07/2020          1            1              1           0.0   \n",
       "2019-5-8/07/2020          2            3              1           0.0   \n",
       "\n",
       "                  Drugs Involved  Unit No Veh Reg State  Unit Type  Veh_Age  \\\n",
       "REPORT_ID                                                                     \n",
       "2019-1-8/07/2020             0.0        1            SA          1      2.0   \n",
       "2019-2-8/07/2020             0.0        1            SA          1      1.0   \n",
       "2019-3-8/07/2020             0.0        1            SA          1      1.0   \n",
       "2019-4-8/07/2020             0.0        1            SA          4      1.0   \n",
       "2019-5-8/07/2020             0.0        1            SA          1      1.0   \n",
       "\n",
       "                 Direction Of Travel  Sex   Age Lic State  Licence Type  \\\n",
       "REPORT_ID                                                                 \n",
       "2019-1-8/07/2020               South    0  85.0        SA             8   \n",
       "2019-2-8/07/2020          North East    1  21.0        SA             7   \n",
       "2019-3-8/07/2020                East    0  37.0        SA             8   \n",
       "2019-4-8/07/2020          North West    1  21.0        SA             3   \n",
       "2019-5-8/07/2020                West    1  31.0        SA             8   \n",
       "\n",
       "                  Towing   Unit Movement  Number Occupants  Rollover  Fire  \n",
       "REPORT_ID                                                                   \n",
       "2019-1-8/07/2020     0.0      Right Turn               1.0       0.0   0.0  \n",
       "2019-2-8/07/2020     0.0  Straight Ahead               4.0       0.0   0.0  \n",
       "2019-3-8/07/2020     0.0  Straight Ahead               1.0       0.0   0.0  \n",
       "2019-4-8/07/2020     0.0  Straight Ahead               1.0       0.0   0.0  \n",
       "2019-5-8/07/2020     0.0  Straight Ahead               1.0       0.0   0.0  "
      ]
     },
     "execution_count": 208,
     "metadata": {},
     "output_type": "execute_result"
    }
   ],
   "source": [
    "df.head()"
   ]
  },
  {
   "cell_type": "code",
   "execution_count": 209,
   "metadata": {},
   "outputs": [
    {
     "data": {
      "text/plain": [
       "SA         12575\n",
       "VIC          202\n",
       "NSW           61\n",
       "QLD           51\n",
       "WA            42\n",
       "NT            17\n",
       "FEDERAL        9\n",
       "TAS            5\n",
       "ACT            2\n",
       "Name: Veh Reg State, dtype: int64"
      ]
     },
     "execution_count": 209,
     "metadata": {},
     "output_type": "execute_result"
    }
   ],
   "source": [
    "df['Veh Reg State'].value_counts()"
   ]
  },
  {
   "cell_type": "code",
   "execution_count": 210,
   "metadata": {},
   "outputs": [
    {
     "data": {
      "text/html": [
       "<div>\n",
       "<style scoped>\n",
       "    .dataframe tbody tr th:only-of-type {\n",
       "        vertical-align: middle;\n",
       "    }\n",
       "\n",
       "    .dataframe tbody tr th {\n",
       "        vertical-align: top;\n",
       "    }\n",
       "\n",
       "    .dataframe thead th {\n",
       "        text-align: right;\n",
       "    }\n",
       "</style>\n",
       "<table border=\"1\" class=\"dataframe\">\n",
       "  <thead>\n",
       "    <tr style=\"text-align: right;\">\n",
       "      <th></th>\n",
       "      <th>Veh Reg State</th>\n",
       "      <th>Direction Of Travel</th>\n",
       "      <th>Lic State</th>\n",
       "      <th>Unit Movement</th>\n",
       "    </tr>\n",
       "    <tr>\n",
       "      <th>REPORT_ID</th>\n",
       "      <th></th>\n",
       "      <th></th>\n",
       "      <th></th>\n",
       "      <th></th>\n",
       "    </tr>\n",
       "  </thead>\n",
       "  <tbody>\n",
       "    <tr>\n",
       "      <th>2019-1-8/07/2020</th>\n",
       "      <td>SA</td>\n",
       "      <td>South</td>\n",
       "      <td>SA</td>\n",
       "      <td>Right Turn</td>\n",
       "    </tr>\n",
       "    <tr>\n",
       "      <th>2019-2-8/07/2020</th>\n",
       "      <td>SA</td>\n",
       "      <td>North East</td>\n",
       "      <td>SA</td>\n",
       "      <td>Straight Ahead</td>\n",
       "    </tr>\n",
       "    <tr>\n",
       "      <th>2019-3-8/07/2020</th>\n",
       "      <td>SA</td>\n",
       "      <td>East</td>\n",
       "      <td>SA</td>\n",
       "      <td>Straight Ahead</td>\n",
       "    </tr>\n",
       "    <tr>\n",
       "      <th>2019-4-8/07/2020</th>\n",
       "      <td>SA</td>\n",
       "      <td>North West</td>\n",
       "      <td>SA</td>\n",
       "      <td>Straight Ahead</td>\n",
       "    </tr>\n",
       "    <tr>\n",
       "      <th>2019-5-8/07/2020</th>\n",
       "      <td>SA</td>\n",
       "      <td>West</td>\n",
       "      <td>SA</td>\n",
       "      <td>Straight Ahead</td>\n",
       "    </tr>\n",
       "    <tr>\n",
       "      <th>...</th>\n",
       "      <td>...</td>\n",
       "      <td>...</td>\n",
       "      <td>...</td>\n",
       "      <td>...</td>\n",
       "    </tr>\n",
       "    <tr>\n",
       "      <th>2019-12960-8/07/2020</th>\n",
       "      <td>SA</td>\n",
       "      <td>North</td>\n",
       "      <td>SA</td>\n",
       "      <td>Stopped on Carriageway</td>\n",
       "    </tr>\n",
       "    <tr>\n",
       "      <th>2019-12961-8/07/2020</th>\n",
       "      <td>SA</td>\n",
       "      <td>North East</td>\n",
       "      <td>SA</td>\n",
       "      <td>Straight Ahead</td>\n",
       "    </tr>\n",
       "    <tr>\n",
       "      <th>2019-12962-8/07/2020</th>\n",
       "      <td>SA</td>\n",
       "      <td>North East</td>\n",
       "      <td>SA</td>\n",
       "      <td>Straight Ahead</td>\n",
       "    </tr>\n",
       "    <tr>\n",
       "      <th>2019-12963-8/07/2020</th>\n",
       "      <td>SA</td>\n",
       "      <td>North West</td>\n",
       "      <td>SA</td>\n",
       "      <td>Straight Ahead</td>\n",
       "    </tr>\n",
       "    <tr>\n",
       "      <th>2019-12964-8/07/2020</th>\n",
       "      <td>SA</td>\n",
       "      <td>North</td>\n",
       "      <td>SA</td>\n",
       "      <td>Straight Ahead</td>\n",
       "    </tr>\n",
       "  </tbody>\n",
       "</table>\n",
       "<p>12964 rows × 4 columns</p>\n",
       "</div>"
      ],
      "text/plain": [
       "                     Veh Reg State Direction Of Travel Lic State  \\\n",
       "REPORT_ID                                                          \n",
       "2019-1-8/07/2020                SA               South        SA   \n",
       "2019-2-8/07/2020                SA          North East        SA   \n",
       "2019-3-8/07/2020                SA                East        SA   \n",
       "2019-4-8/07/2020                SA          North West        SA   \n",
       "2019-5-8/07/2020                SA                West        SA   \n",
       "...                            ...                 ...       ...   \n",
       "2019-12960-8/07/2020            SA               North        SA   \n",
       "2019-12961-8/07/2020            SA          North East        SA   \n",
       "2019-12962-8/07/2020            SA          North East        SA   \n",
       "2019-12963-8/07/2020            SA          North West        SA   \n",
       "2019-12964-8/07/2020            SA               North        SA   \n",
       "\n",
       "                               Unit Movement  \n",
       "REPORT_ID                                     \n",
       "2019-1-8/07/2020                  Right Turn  \n",
       "2019-2-8/07/2020              Straight Ahead  \n",
       "2019-3-8/07/2020              Straight Ahead  \n",
       "2019-4-8/07/2020              Straight Ahead  \n",
       "2019-5-8/07/2020              Straight Ahead  \n",
       "...                                      ...  \n",
       "2019-12960-8/07/2020  Stopped on Carriageway  \n",
       "2019-12961-8/07/2020          Straight Ahead  \n",
       "2019-12962-8/07/2020          Straight Ahead  \n",
       "2019-12963-8/07/2020          Straight Ahead  \n",
       "2019-12964-8/07/2020          Straight Ahead  \n",
       "\n",
       "[12964 rows x 4 columns]"
      ]
     },
     "execution_count": 210,
     "metadata": {},
     "output_type": "execute_result"
    }
   ],
   "source": [
    "df[['Veh Reg State', 'Direction Of Travel', 'Lic State', 'Unit Movement']]"
   ]
  },
  {
   "cell_type": "code",
   "execution_count": 211,
   "metadata": {},
   "outputs": [
    {
     "data": {
      "text/plain": [
       "Straight Ahead                   7813\n",
       "Right Turn                       1429\n",
       "Stopped on Carriageway           1377\n",
       "Swerving                          538\n",
       "Left Turn                         512\n",
       "Parked                            403\n",
       "Leaving Private Driveway          225\n",
       "U Turn                            176\n",
       "Entering Private Driveway         160\n",
       "Reversing                          77\n",
       "Overtaking - on Right              52\n",
       "UnParking - Parallel               45\n",
       "Crossing without Control           39\n",
       "Parking - Parallel                 26\n",
       "Walking on Road                    18\n",
       "Unparking -Angle                   15\n",
       "Walking on Footpath                14\n",
       "Parking - Angle                    11\n",
       "Crossing with Traffic Signals      11\n",
       "Overtaking - on Left               10\n",
       "Alighted from Parked Vehicle        6\n",
       "On Pedestrian Crossing              4\n",
       "Miscellaneous                       3\n",
       "Name: Unit Movement, dtype: int64"
      ]
     },
     "execution_count": 211,
     "metadata": {},
     "output_type": "execute_result"
    }
   ],
   "source": [
    "df['Unit Movement'].value_counts()"
   ]
  },
  {
   "cell_type": "code",
   "execution_count": 212,
   "metadata": {
    "scrolled": false
   },
   "outputs": [
    {
     "data": {
      "text/plain": [
       "North         1942\n",
       "South         1838\n",
       "North East    1720\n",
       "South West    1635\n",
       "West          1553\n",
       "East          1523\n",
       "North West    1419\n",
       "South East    1334\n",
       "Name: Direction Of Travel, dtype: int64"
      ]
     },
     "execution_count": 212,
     "metadata": {},
     "output_type": "execute_result"
    }
   ],
   "source": [
    "df['Direction Of Travel'].value_counts()"
   ]
  },
  {
   "cell_type": "code",
   "execution_count": 213,
   "metadata": {},
   "outputs": [],
   "source": [
    "target_col = 'Casualty'\n",
    "feature_cols = ['Veh Reg State', 'Direction Of Travel', 'Lic State', 'Unit Movement']\n",
    "\n",
    "X = df[feature_cols]\n",
    "y = df[target_col]"
   ]
  },
  {
   "cell_type": "code",
   "execution_count": 214,
   "metadata": {},
   "outputs": [
    {
     "data": {
      "text/plain": [
       "['Veh Reg State', 'Direction Of Travel', 'Lic State', 'Unit Movement']"
      ]
     },
     "execution_count": 214,
     "metadata": {},
     "output_type": "execute_result"
    }
   ],
   "source": [
    "\n",
    "feature_cols"
   ]
  },
  {
   "cell_type": "code",
   "execution_count": 215,
   "metadata": {
    "scrolled": true
   },
   "outputs": [
    {
     "name": "stderr",
     "output_type": "stream",
     "text": [
      "C:\\Users\\matt\\.conda\\envs\\Python 38\\lib\\site-packages\\category_encoders\\utils.py:21: FutureWarning: is_categorical is deprecated and will be removed in a future version.  Use is_categorical_dtype instead\n",
      "  elif pd.api.types.is_categorical(cols):\n"
     ]
    }
   ],
   "source": [
    "encoder = ce.TargetEncoder(cols=X)\n",
    "df_enc = encoder.fit_transform(X, y)\n"
   ]
  },
  {
   "cell_type": "code",
   "execution_count": 216,
   "metadata": {},
   "outputs": [],
   "source": [
    "df['Veh Reg State'] = df_enc['Veh Reg State']\n",
    "df['Direction Of Travel'] = df_enc['Direction Of Travel']\n",
    "df['Lic State'] = df_enc['Lic State']\n",
    "df['Unit Movement'] = df_enc['Unit Movement']"
   ]
  },
  {
   "cell_type": "code",
   "execution_count": 217,
   "metadata": {},
   "outputs": [
    {
     "data": {
      "text/html": [
       "<div>\n",
       "<style scoped>\n",
       "    .dataframe tbody tr th:only-of-type {\n",
       "        vertical-align: middle;\n",
       "    }\n",
       "\n",
       "    .dataframe tbody tr th {\n",
       "        vertical-align: top;\n",
       "    }\n",
       "\n",
       "    .dataframe thead th {\n",
       "        text-align: right;\n",
       "    }\n",
       "</style>\n",
       "<table border=\"1\" class=\"dataframe\">\n",
       "  <thead>\n",
       "    <tr style=\"text-align: right;\">\n",
       "      <th></th>\n",
       "      <th>Stats Area</th>\n",
       "      <th>Total Units</th>\n",
       "      <th>Casualty</th>\n",
       "      <th>Area Speed</th>\n",
       "      <th>Position Type</th>\n",
       "      <th>Horizontal Align</th>\n",
       "      <th>Vertical Align</th>\n",
       "      <th>Sealed Road</th>\n",
       "      <th>Dry Road</th>\n",
       "      <th>Raining</th>\n",
       "      <th>Daytime</th>\n",
       "      <th>Crash Type</th>\n",
       "      <th>Unit Resp</th>\n",
       "      <th>Entity Code</th>\n",
       "      <th>Traffic Ctrls</th>\n",
       "      <th>DUI Involved</th>\n",
       "      <th>Drugs Involved</th>\n",
       "      <th>Unit No</th>\n",
       "      <th>Veh Reg State</th>\n",
       "      <th>Unit Type</th>\n",
       "      <th>Veh_Age</th>\n",
       "      <th>Direction Of Travel</th>\n",
       "      <th>Sex</th>\n",
       "      <th>Age</th>\n",
       "      <th>Lic State</th>\n",
       "      <th>Licence Type</th>\n",
       "      <th>Towing</th>\n",
       "      <th>Unit Movement</th>\n",
       "      <th>Number Occupants</th>\n",
       "      <th>Rollover</th>\n",
       "      <th>Fire</th>\n",
       "    </tr>\n",
       "    <tr>\n",
       "      <th>REPORT_ID</th>\n",
       "      <th></th>\n",
       "      <th></th>\n",
       "      <th></th>\n",
       "      <th></th>\n",
       "      <th></th>\n",
       "      <th></th>\n",
       "      <th></th>\n",
       "      <th></th>\n",
       "      <th></th>\n",
       "      <th></th>\n",
       "      <th></th>\n",
       "      <th></th>\n",
       "      <th></th>\n",
       "      <th></th>\n",
       "      <th></th>\n",
       "      <th></th>\n",
       "      <th></th>\n",
       "      <th></th>\n",
       "      <th></th>\n",
       "      <th></th>\n",
       "      <th></th>\n",
       "      <th></th>\n",
       "      <th></th>\n",
       "      <th></th>\n",
       "      <th></th>\n",
       "      <th></th>\n",
       "      <th></th>\n",
       "      <th></th>\n",
       "      <th></th>\n",
       "      <th></th>\n",
       "      <th></th>\n",
       "    </tr>\n",
       "  </thead>\n",
       "  <tbody>\n",
       "    <tr>\n",
       "      <th>2019-1-8/07/2020</th>\n",
       "      <td>2</td>\n",
       "      <td>2</td>\n",
       "      <td>0</td>\n",
       "      <td>2</td>\n",
       "      <td>1</td>\n",
       "      <td>1</td>\n",
       "      <td>1</td>\n",
       "      <td>1</td>\n",
       "      <td>1</td>\n",
       "      <td>0</td>\n",
       "      <td>1</td>\n",
       "      <td>1</td>\n",
       "      <td>1</td>\n",
       "      <td>1</td>\n",
       "      <td>3</td>\n",
       "      <td>0.0</td>\n",
       "      <td>0.0</td>\n",
       "      <td>1</td>\n",
       "      <td>0.366998</td>\n",
       "      <td>1</td>\n",
       "      <td>2.0</td>\n",
       "      <td>0.373232</td>\n",
       "      <td>0</td>\n",
       "      <td>85.0</td>\n",
       "      <td>0.36522</td>\n",
       "      <td>8</td>\n",
       "      <td>0.0</td>\n",
       "      <td>0.385584</td>\n",
       "      <td>1.0</td>\n",
       "      <td>0.0</td>\n",
       "      <td>0.0</td>\n",
       "    </tr>\n",
       "    <tr>\n",
       "      <th>2019-2-8/07/2020</th>\n",
       "      <td>2</td>\n",
       "      <td>2</td>\n",
       "      <td>0</td>\n",
       "      <td>3</td>\n",
       "      <td>4</td>\n",
       "      <td>1</td>\n",
       "      <td>1</td>\n",
       "      <td>1</td>\n",
       "      <td>1</td>\n",
       "      <td>0</td>\n",
       "      <td>0</td>\n",
       "      <td>1</td>\n",
       "      <td>2</td>\n",
       "      <td>1</td>\n",
       "      <td>1</td>\n",
       "      <td>0.0</td>\n",
       "      <td>0.0</td>\n",
       "      <td>1</td>\n",
       "      <td>0.366998</td>\n",
       "      <td>1</td>\n",
       "      <td>1.0</td>\n",
       "      <td>0.386047</td>\n",
       "      <td>1</td>\n",
       "      <td>21.0</td>\n",
       "      <td>0.36522</td>\n",
       "      <td>7</td>\n",
       "      <td>0.0</td>\n",
       "      <td>0.377448</td>\n",
       "      <td>4.0</td>\n",
       "      <td>0.0</td>\n",
       "      <td>0.0</td>\n",
       "    </tr>\n",
       "    <tr>\n",
       "      <th>2019-3-8/07/2020</th>\n",
       "      <td>2</td>\n",
       "      <td>2</td>\n",
       "      <td>1</td>\n",
       "      <td>2</td>\n",
       "      <td>4</td>\n",
       "      <td>1</td>\n",
       "      <td>1</td>\n",
       "      <td>1</td>\n",
       "      <td>1</td>\n",
       "      <td>0</td>\n",
       "      <td>0</td>\n",
       "      <td>3</td>\n",
       "      <td>1</td>\n",
       "      <td>1</td>\n",
       "      <td>1</td>\n",
       "      <td>0.0</td>\n",
       "      <td>0.0</td>\n",
       "      <td>1</td>\n",
       "      <td>0.366998</td>\n",
       "      <td>1</td>\n",
       "      <td>1.0</td>\n",
       "      <td>0.349967</td>\n",
       "      <td>0</td>\n",
       "      <td>37.0</td>\n",
       "      <td>0.36522</td>\n",
       "      <td>8</td>\n",
       "      <td>0.0</td>\n",
       "      <td>0.377448</td>\n",
       "      <td>1.0</td>\n",
       "      <td>0.0</td>\n",
       "      <td>0.0</td>\n",
       "    </tr>\n",
       "    <tr>\n",
       "      <th>2019-4-8/07/2020</th>\n",
       "      <td>2</td>\n",
       "      <td>2</td>\n",
       "      <td>1</td>\n",
       "      <td>2</td>\n",
       "      <td>3</td>\n",
       "      <td>2</td>\n",
       "      <td>1</td>\n",
       "      <td>1</td>\n",
       "      <td>1</td>\n",
       "      <td>0</td>\n",
       "      <td>0</td>\n",
       "      <td>2</td>\n",
       "      <td>1</td>\n",
       "      <td>1</td>\n",
       "      <td>1</td>\n",
       "      <td>0.0</td>\n",
       "      <td>0.0</td>\n",
       "      <td>1</td>\n",
       "      <td>0.366998</td>\n",
       "      <td>4</td>\n",
       "      <td>1.0</td>\n",
       "      <td>0.372093</td>\n",
       "      <td>1</td>\n",
       "      <td>21.0</td>\n",
       "      <td>0.36522</td>\n",
       "      <td>3</td>\n",
       "      <td>0.0</td>\n",
       "      <td>0.377448</td>\n",
       "      <td>1.0</td>\n",
       "      <td>0.0</td>\n",
       "      <td>0.0</td>\n",
       "    </tr>\n",
       "    <tr>\n",
       "      <th>2019-5-8/07/2020</th>\n",
       "      <td>2</td>\n",
       "      <td>2</td>\n",
       "      <td>0</td>\n",
       "      <td>3</td>\n",
       "      <td>4</td>\n",
       "      <td>1</td>\n",
       "      <td>2</td>\n",
       "      <td>1</td>\n",
       "      <td>1</td>\n",
       "      <td>0</td>\n",
       "      <td>0</td>\n",
       "      <td>3</td>\n",
       "      <td>2</td>\n",
       "      <td>3</td>\n",
       "      <td>1</td>\n",
       "      <td>0.0</td>\n",
       "      <td>0.0</td>\n",
       "      <td>1</td>\n",
       "      <td>0.366998</td>\n",
       "      <td>1</td>\n",
       "      <td>1.0</td>\n",
       "      <td>0.369607</td>\n",
       "      <td>1</td>\n",
       "      <td>31.0</td>\n",
       "      <td>0.36522</td>\n",
       "      <td>8</td>\n",
       "      <td>0.0</td>\n",
       "      <td>0.377448</td>\n",
       "      <td>1.0</td>\n",
       "      <td>0.0</td>\n",
       "      <td>0.0</td>\n",
       "    </tr>\n",
       "  </tbody>\n",
       "</table>\n",
       "</div>"
      ],
      "text/plain": [
       "                  Stats Area  Total Units  Casualty  Area Speed  \\\n",
       "REPORT_ID                                                         \n",
       "2019-1-8/07/2020           2            2         0           2   \n",
       "2019-2-8/07/2020           2            2         0           3   \n",
       "2019-3-8/07/2020           2            2         1           2   \n",
       "2019-4-8/07/2020           2            2         1           2   \n",
       "2019-5-8/07/2020           2            2         0           3   \n",
       "\n",
       "                  Position Type  Horizontal Align  Vertical Align  \\\n",
       "REPORT_ID                                                           \n",
       "2019-1-8/07/2020              1                 1               1   \n",
       "2019-2-8/07/2020              4                 1               1   \n",
       "2019-3-8/07/2020              4                 1               1   \n",
       "2019-4-8/07/2020              3                 2               1   \n",
       "2019-5-8/07/2020              4                 1               2   \n",
       "\n",
       "                  Sealed Road  Dry Road  Raining  Daytime  Crash Type  \\\n",
       "REPORT_ID                                                               \n",
       "2019-1-8/07/2020            1         1        0        1           1   \n",
       "2019-2-8/07/2020            1         1        0        0           1   \n",
       "2019-3-8/07/2020            1         1        0        0           3   \n",
       "2019-4-8/07/2020            1         1        0        0           2   \n",
       "2019-5-8/07/2020            1         1        0        0           3   \n",
       "\n",
       "                  Unit Resp  Entity Code  Traffic Ctrls  DUI Involved  \\\n",
       "REPORT_ID                                                               \n",
       "2019-1-8/07/2020          1            1              3           0.0   \n",
       "2019-2-8/07/2020          2            1              1           0.0   \n",
       "2019-3-8/07/2020          1            1              1           0.0   \n",
       "2019-4-8/07/2020          1            1              1           0.0   \n",
       "2019-5-8/07/2020          2            3              1           0.0   \n",
       "\n",
       "                  Drugs Involved  Unit No  Veh Reg State  Unit Type  Veh_Age  \\\n",
       "REPORT_ID                                                                      \n",
       "2019-1-8/07/2020             0.0        1       0.366998          1      2.0   \n",
       "2019-2-8/07/2020             0.0        1       0.366998          1      1.0   \n",
       "2019-3-8/07/2020             0.0        1       0.366998          1      1.0   \n",
       "2019-4-8/07/2020             0.0        1       0.366998          4      1.0   \n",
       "2019-5-8/07/2020             0.0        1       0.366998          1      1.0   \n",
       "\n",
       "                  Direction Of Travel  Sex   Age  Lic State  Licence Type  \\\n",
       "REPORT_ID                                                                   \n",
       "2019-1-8/07/2020             0.373232    0  85.0    0.36522             8   \n",
       "2019-2-8/07/2020             0.386047    1  21.0    0.36522             7   \n",
       "2019-3-8/07/2020             0.349967    0  37.0    0.36522             8   \n",
       "2019-4-8/07/2020             0.372093    1  21.0    0.36522             3   \n",
       "2019-5-8/07/2020             0.369607    1  31.0    0.36522             8   \n",
       "\n",
       "                  Towing  Unit Movement  Number Occupants  Rollover  Fire  \n",
       "REPORT_ID                                                                  \n",
       "2019-1-8/07/2020     0.0       0.385584               1.0       0.0   0.0  \n",
       "2019-2-8/07/2020     0.0       0.377448               4.0       0.0   0.0  \n",
       "2019-3-8/07/2020     0.0       0.377448               1.0       0.0   0.0  \n",
       "2019-4-8/07/2020     0.0       0.377448               1.0       0.0   0.0  \n",
       "2019-5-8/07/2020     0.0       0.377448               1.0       0.0   0.0  "
      ]
     },
     "execution_count": 217,
     "metadata": {},
     "output_type": "execute_result"
    }
   ],
   "source": [
    "df.head()"
   ]
  },
  {
   "cell_type": "code",
   "execution_count": 218,
   "metadata": {},
   "outputs": [
    {
     "data": {
      "text/plain": [
       "Stats Area               int64\n",
       "Total Units              int64\n",
       "Casualty                 int64\n",
       "Area Speed               int64\n",
       "Position Type            int64\n",
       "Horizontal Align         int64\n",
       "Vertical Align           int64\n",
       "Sealed Road              int64\n",
       "Dry Road                 int64\n",
       "Raining                  int64\n",
       "Daytime                  int64\n",
       "Crash Type               int64\n",
       "Unit Resp                int64\n",
       "Entity Code              int64\n",
       "Traffic Ctrls            int64\n",
       "DUI Involved           float64\n",
       "Drugs Involved         float64\n",
       "Unit No                  int64\n",
       "Veh Reg State          float64\n",
       "Unit Type                int64\n",
       "Veh_Age                float64\n",
       "Direction Of Travel    float64\n",
       "Sex                      int64\n",
       "Age                    float64\n",
       "Lic State              float64\n",
       "Licence Type             int64\n",
       "Towing                 float64\n",
       "Unit Movement          float64\n",
       "Number Occupants       float64\n",
       "Rollover               float64\n",
       "Fire                   float64\n",
       "dtype: object"
      ]
     },
     "execution_count": 218,
     "metadata": {},
     "output_type": "execute_result"
    }
   ],
   "source": [
    "df.dtypes"
   ]
  },
  {
   "cell_type": "markdown",
   "metadata": {},
   "source": [
    "# StandardScaler()"
   ]
  },
  {
   "cell_type": "code",
   "execution_count": 219,
   "metadata": {},
   "outputs": [],
   "source": [
    "target_col = 'Casualty'\n",
    "feature_cols = [c for c in df.columns if c != 'Casualty']"
   ]
  },
  {
   "cell_type": "code",
   "execution_count": 220,
   "metadata": {},
   "outputs": [],
   "source": [
    "X = df[feature_cols]\n",
    "y = df[target_col]"
   ]
  },
  {
   "cell_type": "code",
   "execution_count": 221,
   "metadata": {},
   "outputs": [
    {
     "name": "stdout",
     "output_type": "stream",
     "text": [
      "30\n"
     ]
    }
   ],
   "source": [
    "print(len(feature_cols))"
   ]
  },
  {
   "cell_type": "code",
   "execution_count": null,
   "metadata": {},
   "outputs": [],
   "source": [
    "#X_train_std=scaler.fit_transform(X_train)\n",
    "#X_validation_std=scaler.transform(X_validation)"
   ]
  },
  {
   "cell_type": "code",
   "execution_count": null,
   "metadata": {
    "scrolled": true
   },
   "outputs": [],
   "source": [
    "#scaler.fit_transform(X, y)\n"
   ]
  },
  {
   "cell_type": "code",
   "execution_count": null,
   "metadata": {},
   "outputs": [],
   "source": [
    "print((scaled))"
   ]
  },
  {
   "cell_type": "code",
   "execution_count": null,
   "metadata": {},
   "outputs": [],
   "source": [
    "df.sample(20)"
   ]
  },
  {
   "cell_type": "code",
   "execution_count": null,
   "metadata": {},
   "outputs": [],
   "source": [
    "df.describe().T"
   ]
  },
  {
   "cell_type": "code",
   "execution_count": 225,
   "metadata": {},
   "outputs": [
    {
     "name": "stderr",
     "output_type": "stream",
     "text": [
      "C:\\Users\\matt\\.conda\\envs\\Python 38\\lib\\site-packages\\sklearn\\linear_model\\_logistic.py:763: ConvergenceWarning: lbfgs failed to converge (status=1):\n",
      "STOP: TOTAL NO. of ITERATIONS REACHED LIMIT.\n",
      "\n",
      "Increase the number of iterations (max_iter) or scale the data as shown in:\n",
      "    https://scikit-learn.org/stable/modules/preprocessing.html\n",
      "Please also refer to the documentation for alternative solver options:\n",
      "    https://scikit-learn.org/stable/modules/linear_model.html#logistic-regression\n",
      "  n_iter_i = _check_optimize_result(\n"
     ]
    },
    {
     "data": {
      "text/plain": [
       "LogisticRegression()"
      ]
     },
     "execution_count": 225,
     "metadata": {},
     "output_type": "execute_result"
    }
   ],
   "source": [
    "X_train, X_test, y_train, y_test = train_test_split(X, y, test_size = 0.2, random_state = 1)\n",
    "\n",
    "logreg = LogisticRegression()\n",
    "\n",
    "logreg.fit(X_train, y_train)\n",
    "\n"
   ]
  },
  {
   "cell_type": "code",
   "execution_count": 226,
   "metadata": {},
   "outputs": [
    {
     "name": "stdout",
     "output_type": "stream",
     "text": [
      "Training score:  0.6649310577572076\n",
      "Test score:  0.6656382568453528\n"
     ]
    }
   ],
   "source": [
    "train_score = logreg.score(X_train, y_train)\n",
    "test_score = logreg.score(X_test, y_test)\n",
    "\n",
    "print(\"Training score: \", train_score)\n",
    "print(\"Test score: \", test_score)"
   ]
  },
  {
   "cell_type": "code",
   "execution_count": 227,
   "metadata": {},
   "outputs": [
    {
     "name": "stdout",
     "output_type": "stream",
     "text": [
      "Accuracy:  0.6656382568453528\n",
      "              precision    recall  f1-score   support\n",
      "\n",
      "           0       0.66      0.95      0.78      1642\n",
      "           1       0.68      0.17      0.27       951\n",
      "\n",
      "    accuracy                           0.67      2593\n",
      "   macro avg       0.67      0.56      0.53      2593\n",
      "weighted avg       0.67      0.67      0.59      2593\n",
      "\n"
     ]
    },
    {
     "data": {
      "image/png": "[encoded data removed]",
      "text/plain": [
       "<Figure size 432x288 with 2 Axes>"
      ]
     },
     "metadata": {
      "needs_background": "light"
     },
     "output_type": "display_data"
    }
   ],
   "source": [
    "y_pred = logreg.predict(X_test)\n",
    "\n",
    "ac = accuracy_score(y_test, y_pred)\n",
    "print(\"Accuracy: \", ac)\n",
    "\n",
    "cm = confusion_matrix(y_test, y_pred, labels=None)\n",
    "sns.heatmap(cm, annot=True, fmt=\"d\")\n",
    "print(classification_report(y_test, y_pred))"
   ]
  },
  {
   "cell_type": "code",
   "execution_count": 228,
   "metadata": {},
   "outputs": [],
   "source": [
    "scaler = StandardScaler()\n",
    "\n",
    "X_train_scaled = scaler.fit_transform(X_train)\n",
    "X_test_scaled = scaler.transform(X_test)"
   ]
  },
  {
   "cell_type": "code",
   "execution_count": 229,
   "metadata": {},
   "outputs": [
    {
     "name": "stdout",
     "output_type": "stream",
     "text": [
      "Training score:  0.6603991900491756\n",
      "Test score:  0.6637099884303895\n"
     ]
    }
   ],
   "source": [
    "train_score = logreg.score(X_train_scaled, y_train)\n",
    "test_score = logreg.score(X_test_scaled, y_test)\n",
    "\n",
    "print(\"Training score: \", train_score)\n",
    "print(\"Test score: \", test_score)"
   ]
  },
  {
   "cell_type": "code",
   "execution_count": 230,
   "metadata": {},
   "outputs": [
    {
     "name": "stdout",
     "output_type": "stream",
     "text": [
      "Accuracy:  0.6637099884303895\n",
      "              precision    recall  f1-score   support\n",
      "\n",
      "           0       0.67      0.93      0.78      1642\n",
      "           1       0.63      0.20      0.30       951\n",
      "\n",
      "    accuracy                           0.66      2593\n",
      "   macro avg       0.65      0.57      0.54      2593\n",
      "weighted avg       0.65      0.66      0.60      2593\n",
      "\n"
     ]
    },
    {
     "data": {
      "image/png": "[encoded data removed]",
      "text/plain": [
       "<Figure size 432x288 with 2 Axes>"
      ]
     },
     "metadata": {
      "needs_background": "light"
     },
     "output_type": "display_data"
    }
   ],
   "source": [
    "y_pred = logreg.predict(X_test_scaled)\n",
    "\n",
    "ac = accuracy_score(y_test, y_pred)\n",
    "print(\"Accuracy: \", ac)\n",
    "\n",
    "cm = confusion_matrix(y_test, y_pred, labels=None)\n",
    "sns.heatmap(cm, annot=True, fmt=\"d\")\n",
    "print(classification_report(y_test, y_pred))"
   ]
  },
  {
   "cell_type": "markdown",
   "metadata": {},
   "source": [
    "# Support Vector Machine"
   ]
  },
  {
   "cell_type": "code",
   "execution_count": 231,
   "metadata": {},
   "outputs": [
    {
     "data": {
      "text/plain": [
       "0.6644812957963748"
      ]
     },
     "execution_count": 231,
     "metadata": {},
     "output_type": "execute_result"
    }
   ],
   "source": [
    "X_train, X_test, y_train, y_test = train_test_split(X, y, test_size = 0.2, random_state = 1)\n",
    "\n",
    "svc_model = SVC(kernel='linear', probability=True)\n",
    "\n",
    "svc_model.fit(X_train, y_train)\n",
    "svc_model.score(X_test, y_test)"
   ]
  },
  {
   "cell_type": "code",
   "execution_count": 249,
   "metadata": {},
   "outputs": [
    {
     "name": "stdout",
     "output_type": "stream",
     "text": [
      "Training score:  0.6626169125445955\n",
      "Test score:  0.6644812957963748\n"
     ]
    }
   ],
   "source": [
    "train_score = svc_model.score(X_train_scaled, y_train)\n",
    "test_score = svc_model.score(X_test_scaled, y_test)\n",
    "\n",
    "print(\"Training score: \", train_score)\n",
    "print(\"Test score: \", test_score)"
   ]
  },
  {
   "cell_type": "code",
   "execution_count": 233,
   "metadata": {
    "scrolled": true
   },
   "outputs": [
    {
     "name": "stdout",
     "output_type": "stream",
     "text": [
      "Accuracy:  0.6644812957963748\n",
      "              precision    recall  f1-score   support\n",
      "\n",
      "           0       0.66      0.95      0.78      1642\n",
      "           1       0.67      0.17      0.27       951\n",
      "\n",
      "    accuracy                           0.66      2593\n",
      "   macro avg       0.67      0.56      0.53      2593\n",
      "weighted avg       0.67      0.66      0.59      2593\n",
      "\n"
     ]
    },
    {
     "data": {
      "image/png": "[encoded data removed]",
      "text/plain": [
       "<Figure size 432x288 with 2 Axes>"
      ]
     },
     "metadata": {
      "needs_background": "light"
     },
     "output_type": "display_data"
    }
   ],
   "source": [
    "y_pred_svc = svc_model.predict(X_test)\n",
    "\n",
    "ac = accuracy_score(y_test, y_pred_svc)\n",
    "print(\"Accuracy: \", ac)\n",
    "\n",
    "cm = confusion_matrix(y_test, y_pred_svc, labels=None)\n",
    "sns.heatmap(cm, annot=True, fmt=\"d\")\n",
    "print(classification_report(y_test, y_pred_svc))"
   ]
  },
  {
   "cell_type": "code",
   "execution_count": null,
   "metadata": {},
   "outputs": [],
   "source": [
    "X_train, X_test, y_train, y_test = train_test_split(X, y, random_state = 1)\n",
    "\n",
    "svc_model = SVC(kernel='linear', probability=True)\n",
    "\n",
    "svc_model.fit(X_train_scaled, y_train)\n",
    "svc_model.score(X_test, y_test)"
   ]
  },
  {
   "cell_type": "markdown",
   "metadata": {},
   "source": [
    "# Naive Bayes"
   ]
  },
  {
   "cell_type": "code",
   "execution_count": 244,
   "metadata": {},
   "outputs": [
    {
     "data": {
      "text/html": [
       "<div>\n",
       "<style scoped>\n",
       "    .dataframe tbody tr th:only-of-type {\n",
       "        vertical-align: middle;\n",
       "    }\n",
       "\n",
       "    .dataframe tbody tr th {\n",
       "        vertical-align: top;\n",
       "    }\n",
       "\n",
       "    .dataframe thead th {\n",
       "        text-align: right;\n",
       "    }\n",
       "</style>\n",
       "<table border=\"1\" class=\"dataframe\">\n",
       "  <thead>\n",
       "    <tr style=\"text-align: right;\">\n",
       "      <th></th>\n",
       "      <th>Stats Area</th>\n",
       "      <th>Total Units</th>\n",
       "      <th>Casualty</th>\n",
       "      <th>Area Speed</th>\n",
       "      <th>Position Type</th>\n",
       "      <th>Horizontal Align</th>\n",
       "      <th>Vertical Align</th>\n",
       "      <th>Sealed Road</th>\n",
       "      <th>Dry Road</th>\n",
       "      <th>Raining</th>\n",
       "      <th>Daytime</th>\n",
       "      <th>Crash Type</th>\n",
       "      <th>Unit Resp</th>\n",
       "      <th>Entity Code</th>\n",
       "      <th>Traffic Ctrls</th>\n",
       "      <th>DUI Involved</th>\n",
       "      <th>Drugs Involved</th>\n",
       "      <th>Unit No</th>\n",
       "      <th>Veh Reg State</th>\n",
       "      <th>Unit Type</th>\n",
       "      <th>Veh_Age</th>\n",
       "      <th>Direction Of Travel</th>\n",
       "      <th>Sex</th>\n",
       "      <th>Age</th>\n",
       "      <th>Lic State</th>\n",
       "      <th>Licence Type</th>\n",
       "      <th>Towing</th>\n",
       "      <th>Unit Movement</th>\n",
       "      <th>Number Occupants</th>\n",
       "      <th>Rollover</th>\n",
       "      <th>Fire</th>\n",
       "    </tr>\n",
       "    <tr>\n",
       "      <th>REPORT_ID</th>\n",
       "      <th></th>\n",
       "      <th></th>\n",
       "      <th></th>\n",
       "      <th></th>\n",
       "      <th></th>\n",
       "      <th></th>\n",
       "      <th></th>\n",
       "      <th></th>\n",
       "      <th></th>\n",
       "      <th></th>\n",
       "      <th></th>\n",
       "      <th></th>\n",
       "      <th></th>\n",
       "      <th></th>\n",
       "      <th></th>\n",
       "      <th></th>\n",
       "      <th></th>\n",
       "      <th></th>\n",
       "      <th></th>\n",
       "      <th></th>\n",
       "      <th></th>\n",
       "      <th></th>\n",
       "      <th></th>\n",
       "      <th></th>\n",
       "      <th></th>\n",
       "      <th></th>\n",
       "      <th></th>\n",
       "      <th></th>\n",
       "      <th></th>\n",
       "      <th></th>\n",
       "      <th></th>\n",
       "    </tr>\n",
       "  </thead>\n",
       "  <tbody>\n",
       "    <tr>\n",
       "      <th>2019-1-8/07/2020</th>\n",
       "      <td>2</td>\n",
       "      <td>2</td>\n",
       "      <td>0</td>\n",
       "      <td>2</td>\n",
       "      <td>1</td>\n",
       "      <td>1</td>\n",
       "      <td>1</td>\n",
       "      <td>1</td>\n",
       "      <td>1</td>\n",
       "      <td>0</td>\n",
       "      <td>1</td>\n",
       "      <td>1</td>\n",
       "      <td>1</td>\n",
       "      <td>1</td>\n",
       "      <td>3</td>\n",
       "      <td>0.0</td>\n",
       "      <td>0.0</td>\n",
       "      <td>1</td>\n",
       "      <td>0.366998</td>\n",
       "      <td>1</td>\n",
       "      <td>2.0</td>\n",
       "      <td>0.373232</td>\n",
       "      <td>0</td>\n",
       "      <td>85.0</td>\n",
       "      <td>0.36522</td>\n",
       "      <td>8</td>\n",
       "      <td>0.0</td>\n",
       "      <td>0.385584</td>\n",
       "      <td>1.0</td>\n",
       "      <td>0.0</td>\n",
       "      <td>0.0</td>\n",
       "    </tr>\n",
       "    <tr>\n",
       "      <th>2019-2-8/07/2020</th>\n",
       "      <td>2</td>\n",
       "      <td>2</td>\n",
       "      <td>0</td>\n",
       "      <td>3</td>\n",
       "      <td>4</td>\n",
       "      <td>1</td>\n",
       "      <td>1</td>\n",
       "      <td>1</td>\n",
       "      <td>1</td>\n",
       "      <td>0</td>\n",
       "      <td>0</td>\n",
       "      <td>1</td>\n",
       "      <td>2</td>\n",
       "      <td>1</td>\n",
       "      <td>1</td>\n",
       "      <td>0.0</td>\n",
       "      <td>0.0</td>\n",
       "      <td>1</td>\n",
       "      <td>0.366998</td>\n",
       "      <td>1</td>\n",
       "      <td>1.0</td>\n",
       "      <td>0.386047</td>\n",
       "      <td>1</td>\n",
       "      <td>21.0</td>\n",
       "      <td>0.36522</td>\n",
       "      <td>7</td>\n",
       "      <td>0.0</td>\n",
       "      <td>0.377448</td>\n",
       "      <td>4.0</td>\n",
       "      <td>0.0</td>\n",
       "      <td>0.0</td>\n",
       "    </tr>\n",
       "    <tr>\n",
       "      <th>2019-3-8/07/2020</th>\n",
       "      <td>2</td>\n",
       "      <td>2</td>\n",
       "      <td>1</td>\n",
       "      <td>2</td>\n",
       "      <td>4</td>\n",
       "      <td>1</td>\n",
       "      <td>1</td>\n",
       "      <td>1</td>\n",
       "      <td>1</td>\n",
       "      <td>0</td>\n",
       "      <td>0</td>\n",
       "      <td>3</td>\n",
       "      <td>1</td>\n",
       "      <td>1</td>\n",
       "      <td>1</td>\n",
       "      <td>0.0</td>\n",
       "      <td>0.0</td>\n",
       "      <td>1</td>\n",
       "      <td>0.366998</td>\n",
       "      <td>1</td>\n",
       "      <td>1.0</td>\n",
       "      <td>0.349967</td>\n",
       "      <td>0</td>\n",
       "      <td>37.0</td>\n",
       "      <td>0.36522</td>\n",
       "      <td>8</td>\n",
       "      <td>0.0</td>\n",
       "      <td>0.377448</td>\n",
       "      <td>1.0</td>\n",
       "      <td>0.0</td>\n",
       "      <td>0.0</td>\n",
       "    </tr>\n",
       "    <tr>\n",
       "      <th>2019-4-8/07/2020</th>\n",
       "      <td>2</td>\n",
       "      <td>2</td>\n",
       "      <td>1</td>\n",
       "      <td>2</td>\n",
       "      <td>3</td>\n",
       "      <td>2</td>\n",
       "      <td>1</td>\n",
       "      <td>1</td>\n",
       "      <td>1</td>\n",
       "      <td>0</td>\n",
       "      <td>0</td>\n",
       "      <td>2</td>\n",
       "      <td>1</td>\n",
       "      <td>1</td>\n",
       "      <td>1</td>\n",
       "      <td>0.0</td>\n",
       "      <td>0.0</td>\n",
       "      <td>1</td>\n",
       "      <td>0.366998</td>\n",
       "      <td>4</td>\n",
       "      <td>1.0</td>\n",
       "      <td>0.372093</td>\n",
       "      <td>1</td>\n",
       "      <td>21.0</td>\n",
       "      <td>0.36522</td>\n",
       "      <td>3</td>\n",
       "      <td>0.0</td>\n",
       "      <td>0.377448</td>\n",
       "      <td>1.0</td>\n",
       "      <td>0.0</td>\n",
       "      <td>0.0</td>\n",
       "    </tr>\n",
       "    <tr>\n",
       "      <th>2019-5-8/07/2020</th>\n",
       "      <td>2</td>\n",
       "      <td>2</td>\n",
       "      <td>0</td>\n",
       "      <td>3</td>\n",
       "      <td>4</td>\n",
       "      <td>1</td>\n",
       "      <td>2</td>\n",
       "      <td>1</td>\n",
       "      <td>1</td>\n",
       "      <td>0</td>\n",
       "      <td>0</td>\n",
       "      <td>3</td>\n",
       "      <td>2</td>\n",
       "      <td>3</td>\n",
       "      <td>1</td>\n",
       "      <td>0.0</td>\n",
       "      <td>0.0</td>\n",
       "      <td>1</td>\n",
       "      <td>0.366998</td>\n",
       "      <td>1</td>\n",
       "      <td>1.0</td>\n",
       "      <td>0.369607</td>\n",
       "      <td>1</td>\n",
       "      <td>31.0</td>\n",
       "      <td>0.36522</td>\n",
       "      <td>8</td>\n",
       "      <td>0.0</td>\n",
       "      <td>0.377448</td>\n",
       "      <td>1.0</td>\n",
       "      <td>0.0</td>\n",
       "      <td>0.0</td>\n",
       "    </tr>\n",
       "  </tbody>\n",
       "</table>\n",
       "</div>"
      ],
      "text/plain": [
       "                  Stats Area  Total Units  Casualty  Area Speed  \\\n",
       "REPORT_ID                                                         \n",
       "2019-1-8/07/2020           2            2         0           2   \n",
       "2019-2-8/07/2020           2            2         0           3   \n",
       "2019-3-8/07/2020           2            2         1           2   \n",
       "2019-4-8/07/2020           2            2         1           2   \n",
       "2019-5-8/07/2020           2            2         0           3   \n",
       "\n",
       "                  Position Type  Horizontal Align  Vertical Align  \\\n",
       "REPORT_ID                                                           \n",
       "2019-1-8/07/2020              1                 1               1   \n",
       "2019-2-8/07/2020              4                 1               1   \n",
       "2019-3-8/07/2020              4                 1               1   \n",
       "2019-4-8/07/2020              3                 2               1   \n",
       "2019-5-8/07/2020              4                 1               2   \n",
       "\n",
       "                  Sealed Road  Dry Road  Raining  Daytime  Crash Type  \\\n",
       "REPORT_ID                                                               \n",
       "2019-1-8/07/2020            1         1        0        1           1   \n",
       "2019-2-8/07/2020            1         1        0        0           1   \n",
       "2019-3-8/07/2020            1         1        0        0           3   \n",
       "2019-4-8/07/2020            1         1        0        0           2   \n",
       "2019-5-8/07/2020            1         1        0        0           3   \n",
       "\n",
       "                  Unit Resp  Entity Code  Traffic Ctrls  DUI Involved  \\\n",
       "REPORT_ID                                                               \n",
       "2019-1-8/07/2020          1            1              3           0.0   \n",
       "2019-2-8/07/2020          2            1              1           0.0   \n",
       "2019-3-8/07/2020          1            1              1           0.0   \n",
       "2019-4-8/07/2020          1            1              1           0.0   \n",
       "2019-5-8/07/2020          2            3              1           0.0   \n",
       "\n",
       "                  Drugs Involved  Unit No  Veh Reg State  Unit Type  Veh_Age  \\\n",
       "REPORT_ID                                                                      \n",
       "2019-1-8/07/2020             0.0        1       0.366998          1      2.0   \n",
       "2019-2-8/07/2020             0.0        1       0.366998          1      1.0   \n",
       "2019-3-8/07/2020             0.0        1       0.366998          1      1.0   \n",
       "2019-4-8/07/2020             0.0        1       0.366998          4      1.0   \n",
       "2019-5-8/07/2020             0.0        1       0.366998          1      1.0   \n",
       "\n",
       "                  Direction Of Travel  Sex   Age  Lic State  Licence Type  \\\n",
       "REPORT_ID                                                                   \n",
       "2019-1-8/07/2020             0.373232    0  85.0    0.36522             8   \n",
       "2019-2-8/07/2020             0.386047    1  21.0    0.36522             7   \n",
       "2019-3-8/07/2020             0.349967    0  37.0    0.36522             8   \n",
       "2019-4-8/07/2020             0.372093    1  21.0    0.36522             3   \n",
       "2019-5-8/07/2020             0.369607    1  31.0    0.36522             8   \n",
       "\n",
       "                  Towing  Unit Movement  Number Occupants  Rollover  Fire  \n",
       "REPORT_ID                                                                  \n",
       "2019-1-8/07/2020     0.0       0.385584               1.0       0.0   0.0  \n",
       "2019-2-8/07/2020     0.0       0.377448               4.0       0.0   0.0  \n",
       "2019-3-8/07/2020     0.0       0.377448               1.0       0.0   0.0  \n",
       "2019-4-8/07/2020     0.0       0.377448               1.0       0.0   0.0  \n",
       "2019-5-8/07/2020     0.0       0.377448               1.0       0.0   0.0  "
      ]
     },
     "execution_count": 244,
     "metadata": {},
     "output_type": "execute_result"
    }
   ],
   "source": [
    "df.head()"
   ]
  },
  {
   "cell_type": "code",
   "execution_count": 234,
   "metadata": {},
   "outputs": [
    {
     "name": "stdout",
     "output_type": "stream",
     "text": [
      "Training score:  0.649889113875229\n",
      "Test score:  0.6556112610875434\n"
     ]
    }
   ],
   "source": [
    "X_train, X_test, y_train, y_test = train_test_split(X, y, test_size = 0.2, random_state = 1)\n",
    "\n",
    "modelNB = GaussianNB()\n",
    "\n",
    "modelNB.fit(X_train, y_train)\n",
    "\n",
    "train_score = modelNB.score(X_train, y_train)\n",
    "test_score = modelNB.score(X_test, y_test)\n",
    "\n",
    "print(\"Training score: \", train_score)\n",
    "print(\"Test score: \", test_score)"
   ]
  },
  {
   "cell_type": "code",
   "execution_count": 235,
   "metadata": {
    "scrolled": true
   },
   "outputs": [
    {
     "name": "stdout",
     "output_type": "stream",
     "text": [
      "Accuracy:  0.6556112610875434\n",
      "              precision    recall  f1-score   support\n",
      "\n",
      "           0       0.67      0.89      0.77      1642\n",
      "           1       0.57      0.25      0.35       951\n",
      "\n",
      "    accuracy                           0.66      2593\n",
      "   macro avg       0.62      0.57      0.56      2593\n",
      "weighted avg       0.63      0.66      0.61      2593\n",
      "\n"
     ]
    },
    {
     "data": {
      "image/png": "[encoded data removed]",
      "text/plain": [
       "<Figure size 432x288 with 2 Axes>"
      ]
     },
     "metadata": {
      "needs_background": "light"
     },
     "output_type": "display_data"
    }
   ],
   "source": [
    "y_predNB = modelNB.predict(X_test)\n",
    "\n",
    "ac = accuracy_score(y_test, y_predNB)\n",
    "print(\"Accuracy: \", ac)\n",
    "\n",
    "cm = confusion_matrix(y_test, y_predNB)\n",
    "sns.heatmap(cm, annot=True, fmt=\"d\")\n",
    "print(classification_report(y_test, y_predNB))"
   ]
  },
  {
   "cell_type": "code",
   "execution_count": 236,
   "metadata": {},
   "outputs": [],
   "source": [
    "scaler = StandardScaler()\n",
    "\n",
    "X_train_scaled = scaler.fit_transform(X_train)\n",
    "X_test_scaled = scaler.transform(X_test)"
   ]
  },
  {
   "cell_type": "code",
   "execution_count": 237,
   "metadata": {},
   "outputs": [
    {
     "name": "stdout",
     "output_type": "stream",
     "text": [
      "Training score:  0.649889113875229\n",
      "Test score:  0.6556112610875434\n"
     ]
    }
   ],
   "source": [
    "X_train, X_test, y_train, y_test = train_test_split(X, y, test_size = 0.2, random_state = 1)\n",
    "\n",
    "modelNB = GaussianNB()\n",
    "\n",
    "modelNB.fit(X_train_scaled, y_train)\n",
    "\n",
    "train_score = modelNB.score(X_train_scaled, y_train)\n",
    "test_score = modelNB.score(X_test_scaled, y_test)\n",
    "\n",
    "print(\"Training score: \", train_score)\n",
    "print(\"Test score: \", test_score)"
   ]
  },
  {
   "cell_type": "code",
   "execution_count": 238,
   "metadata": {},
   "outputs": [
    {
     "name": "stdout",
     "output_type": "stream",
     "text": [
      "Accuracy:  0.6556112610875434\n",
      "              precision    recall  f1-score   support\n",
      "\n",
      "           0       0.67      0.89      0.77      1642\n",
      "           1       0.57      0.25      0.35       951\n",
      "\n",
      "    accuracy                           0.66      2593\n",
      "   macro avg       0.62      0.57      0.56      2593\n",
      "weighted avg       0.63      0.66      0.61      2593\n",
      "\n"
     ]
    },
    {
     "data": {
      "image/png": "[encoded data removed]",
      "text/plain": [
       "<Figure size 432x288 with 2 Axes>"
      ]
     },
     "metadata": {
      "needs_background": "light"
     },
     "output_type": "display_data"
    }
   ],
   "source": [
    "y_predNB = modelNB.predict(X_test_scaled)\n",
    "\n",
    "ac = accuracy_score(y_test, y_predNB)\n",
    "print(\"Accuracy: \", ac)\n",
    "\n",
    "cm = confusion_matrix(y_test, y_predNB)\n",
    "sns.heatmap(cm, annot=True, fmt=\"d\")\n",
    "print(classification_report(y_test, y_predNB))"
   ]
  },
  {
   "cell_type": "code",
   "execution_count": 263,
   "metadata": {},
   "outputs": [
    {
     "name": "stdout",
     "output_type": "stream",
     "text": [
      "Fitting 5 folds for each of 6 candidates, totalling 30 fits\n"
     ]
    },
    {
     "name": "stderr",
     "output_type": "stream",
     "text": [
      "C:\\Users\\matt\\.conda\\envs\\Python 38\\lib\\site-packages\\sklearn\\model_selection\\_search.py:918: UserWarning: One or more of the test scores are non-finite: [       nan 0.66422473        nan 0.66437899        nan 0.66399319]\n",
      "  warnings.warn(\n",
      "C:\\Users\\matt\\.conda\\envs\\Python 38\\lib\\site-packages\\sklearn\\linear_model\\_logistic.py:763: ConvergenceWarning: lbfgs failed to converge (status=1):\n",
      "STOP: TOTAL NO. of ITERATIONS REACHED LIMIT.\n",
      "\n",
      "Increase the number of iterations (max_iter) or scale the data as shown in:\n",
      "    https://scikit-learn.org/stable/modules/preprocessing.html\n",
      "Please also refer to the documentation for alternative solver options:\n",
      "    https://scikit-learn.org/stable/modules/linear_model.html#logistic-regression\n",
      "  n_iter_i = _check_optimize_result(\n"
     ]
    },
    {
     "data": {
      "text/plain": [
       "GridSearchCV(cv=5, estimator=LogisticRegression(), n_jobs=-1,\n",
       "             param_grid={'C': [1, 10, 100], 'penalty': ['l1', 'l2']},\n",
       "             verbose=1)"
      ]
     },
     "execution_count": 263,
     "metadata": {},
     "output_type": "execute_result"
    }
   ],
   "source": [
    "lr_params = {\n",
    "    'penalty': ['l1','l2'],\n",
    "    'C': [1, 10, 100]\n",
    "}\n",
    "lr_gs = GridSearchCV(estimator = LogisticRegression(), param_grid = lr_params, cv=5, verbose=1, n_jobs=-1)\n",
    "lr_gs.fit(X, y)\n"
   ]
  },
  {
   "cell_type": "code",
   "execution_count": 264,
   "metadata": {},
   "outputs": [
    {
     "name": "stdout",
     "output_type": "stream",
     "text": [
      "{'C': 10, 'penalty': 'l2'}\n",
      "0.6643789904443588\n"
     ]
    }
   ],
   "source": [
    "best_lr = lr_gs.best_estimator_\n",
    "print(lr_gs.best_params_)\n",
    "print(lr_gs.best_score_)"
   ]
  },
  {
   "cell_type": "code",
   "execution_count": 267,
   "metadata": {},
   "outputs": [],
   "source": [
    "svc_params = {\n",
    "    'C': [1, 10, 100],\n",
    "    'gamma': [0.001, 0.0001],\n",
    "    'kernel': ['linear','rbf']\n",
    "}"
   ]
  },
  {
   "cell_type": "code",
   "execution_count": null,
   "metadata": {},
   "outputs": [
    {
     "name": "stdout",
     "output_type": "stream",
     "text": [
      "Fitting 5 folds for each of 12 candidates, totalling 60 fits\n"
     ]
    }
   ],
   "source": [
    "svc_gs = GridSearchCV(SVC(probability=True), svc_params, cv=5, verbose=1, n_jobs=-1)\n",
    "svc_gs.fit(X, y)"
   ]
  },
  {
   "cell_type": "code",
   "execution_count": null,
   "metadata": {},
   "outputs": [],
   "source": [
    "best_svc = svc_gs.best_estimator_\n",
    "print(svc_gs.best_params_)\n",
    "print(svc_gs.best_score_)\n"
   ]
  },
  {
   "cell_type": "code",
   "execution_count": 239,
   "metadata": {},
   "outputs": [],
   "source": [
    "from sklearn.metrics import roc_curve, auc"
   ]
  },
  {
   "cell_type": "code",
   "execution_count": 240,
   "metadata": {},
   "outputs": [
    {
     "data": {
      "text/html": [
       "<div>\n",
       "<style scoped>\n",
       "    .dataframe tbody tr th:only-of-type {\n",
       "        vertical-align: middle;\n",
       "    }\n",
       "\n",
       "    .dataframe tbody tr th {\n",
       "        vertical-align: top;\n",
       "    }\n",
       "\n",
       "    .dataframe thead th {\n",
       "        text-align: right;\n",
       "    }\n",
       "</style>\n",
       "<table border=\"1\" class=\"dataframe\">\n",
       "  <thead>\n",
       "    <tr style=\"text-align: right;\">\n",
       "      <th></th>\n",
       "      <th>class_0_pp</th>\n",
       "      <th>class_C_pp</th>\n",
       "    </tr>\n",
       "  </thead>\n",
       "  <tbody>\n",
       "    <tr>\n",
       "      <th>0</th>\n",
       "      <td>0.215324</td>\n",
       "      <td>0.784676</td>\n",
       "    </tr>\n",
       "    <tr>\n",
       "      <th>1</th>\n",
       "      <td>0.721622</td>\n",
       "      <td>0.278378</td>\n",
       "    </tr>\n",
       "    <tr>\n",
       "      <th>2</th>\n",
       "      <td>0.642691</td>\n",
       "      <td>0.357309</td>\n",
       "    </tr>\n",
       "    <tr>\n",
       "      <th>3</th>\n",
       "      <td>0.444023</td>\n",
       "      <td>0.555977</td>\n",
       "    </tr>\n",
       "    <tr>\n",
       "      <th>4</th>\n",
       "      <td>0.709728</td>\n",
       "      <td>0.290272</td>\n",
       "    </tr>\n",
       "    <tr>\n",
       "      <th>5</th>\n",
       "      <td>0.566359</td>\n",
       "      <td>0.433641</td>\n",
       "    </tr>\n",
       "    <tr>\n",
       "      <th>6</th>\n",
       "      <td>0.575145</td>\n",
       "      <td>0.424855</td>\n",
       "    </tr>\n",
       "    <tr>\n",
       "      <th>7</th>\n",
       "      <td>0.675604</td>\n",
       "      <td>0.324396</td>\n",
       "    </tr>\n",
       "    <tr>\n",
       "      <th>8</th>\n",
       "      <td>0.663517</td>\n",
       "      <td>0.336483</td>\n",
       "    </tr>\n",
       "    <tr>\n",
       "      <th>9</th>\n",
       "      <td>0.665102</td>\n",
       "      <td>0.334898</td>\n",
       "    </tr>\n",
       "  </tbody>\n",
       "</table>\n",
       "</div>"
      ],
      "text/plain": [
       "   class_0_pp  class_C_pp\n",
       "0    0.215324    0.784676\n",
       "1    0.721622    0.278378\n",
       "2    0.642691    0.357309\n",
       "3    0.444023    0.555977\n",
       "4    0.709728    0.290272\n",
       "5    0.566359    0.433641\n",
       "6    0.575145    0.424855\n",
       "7    0.675604    0.324396\n",
       "8    0.663517    0.336483\n",
       "9    0.665102    0.334898"
      ]
     },
     "execution_count": 240,
     "metadata": {},
     "output_type": "execute_result"
    }
   ],
   "source": [
    "Y_pp = pd.DataFrame(logreg.predict_proba(X_test), columns=['class_0_pp','class_C_pp'])\n",
    "Y_pp.head(10)"
   ]
  },
  {
   "cell_type": "code",
   "execution_count": 241,
   "metadata": {
    "scrolled": true
   },
   "outputs": [
    {
     "data": {
      "text/html": [
       "<div>\n",
       "<style scoped>\n",
       "    .dataframe tbody tr th:only-of-type {\n",
       "        vertical-align: middle;\n",
       "    }\n",
       "\n",
       "    .dataframe tbody tr th {\n",
       "        vertical-align: top;\n",
       "    }\n",
       "\n",
       "    .dataframe thead th {\n",
       "        text-align: right;\n",
       "    }\n",
       "</style>\n",
       "<table border=\"1\" class=\"dataframe\">\n",
       "  <thead>\n",
       "    <tr style=\"text-align: right;\">\n",
       "      <th></th>\n",
       "      <th>class_0_pp</th>\n",
       "      <th>class_C_pp</th>\n",
       "    </tr>\n",
       "  </thead>\n",
       "  <tbody>\n",
       "    <tr>\n",
       "      <th>0</th>\n",
       "      <td>0.339747</td>\n",
       "      <td>0.660253</td>\n",
       "    </tr>\n",
       "    <tr>\n",
       "      <th>1</th>\n",
       "      <td>0.658880</td>\n",
       "      <td>0.341120</td>\n",
       "    </tr>\n",
       "    <tr>\n",
       "      <th>2</th>\n",
       "      <td>0.655831</td>\n",
       "      <td>0.344169</td>\n",
       "    </tr>\n",
       "    <tr>\n",
       "      <th>3</th>\n",
       "      <td>0.353200</td>\n",
       "      <td>0.646800</td>\n",
       "    </tr>\n",
       "    <tr>\n",
       "      <th>4</th>\n",
       "      <td>0.657937</td>\n",
       "      <td>0.342063</td>\n",
       "    </tr>\n",
       "    <tr>\n",
       "      <th>5</th>\n",
       "      <td>0.657049</td>\n",
       "      <td>0.342951</td>\n",
       "    </tr>\n",
       "    <tr>\n",
       "      <th>6</th>\n",
       "      <td>0.656837</td>\n",
       "      <td>0.343163</td>\n",
       "    </tr>\n",
       "    <tr>\n",
       "      <th>7</th>\n",
       "      <td>0.658201</td>\n",
       "      <td>0.341799</td>\n",
       "    </tr>\n",
       "    <tr>\n",
       "      <th>8</th>\n",
       "      <td>0.658115</td>\n",
       "      <td>0.341885</td>\n",
       "    </tr>\n",
       "    <tr>\n",
       "      <th>9</th>\n",
       "      <td>0.658118</td>\n",
       "      <td>0.341882</td>\n",
       "    </tr>\n",
       "  </tbody>\n",
       "</table>\n",
       "</div>"
      ],
      "text/plain": [
       "   class_0_pp  class_C_pp\n",
       "0    0.339747    0.660253\n",
       "1    0.658880    0.341120\n",
       "2    0.655831    0.344169\n",
       "3    0.353200    0.646800\n",
       "4    0.657937    0.342063\n",
       "5    0.657049    0.342951\n",
       "6    0.656837    0.343163\n",
       "7    0.658201    0.341799\n",
       "8    0.658115    0.341885\n",
       "9    0.658118    0.341882"
      ]
     },
     "execution_count": 241,
     "metadata": {},
     "output_type": "execute_result"
    }
   ],
   "source": [
    "Y_svc = pd.DataFrame(svc_model.predict_proba(X_test), columns=['class_0_pp','class_C_pp'])\n",
    "Y_svc.head(10)"
   ]
  },
  {
   "cell_type": "code",
   "execution_count": 242,
   "metadata": {
    "scrolled": true
   },
   "outputs": [
    {
     "data": {
      "text/html": [
       "<div>\n",
       "<style scoped>\n",
       "    .dataframe tbody tr th:only-of-type {\n",
       "        vertical-align: middle;\n",
       "    }\n",
       "\n",
       "    .dataframe tbody tr th {\n",
       "        vertical-align: top;\n",
       "    }\n",
       "\n",
       "    .dataframe thead th {\n",
       "        text-align: right;\n",
       "    }\n",
       "</style>\n",
       "<table border=\"1\" class=\"dataframe\">\n",
       "  <thead>\n",
       "    <tr style=\"text-align: right;\">\n",
       "      <th></th>\n",
       "      <th>class_0_pp</th>\n",
       "      <th>class_C_pp</th>\n",
       "    </tr>\n",
       "  </thead>\n",
       "  <tbody>\n",
       "    <tr>\n",
       "      <th>0</th>\n",
       "      <td>7.980908e-61</td>\n",
       "      <td>1.000000</td>\n",
       "    </tr>\n",
       "    <tr>\n",
       "      <th>1</th>\n",
       "      <td>5.130742e-34</td>\n",
       "      <td>1.000000</td>\n",
       "    </tr>\n",
       "    <tr>\n",
       "      <th>2</th>\n",
       "      <td>1.062333e-04</td>\n",
       "      <td>0.999894</td>\n",
       "    </tr>\n",
       "    <tr>\n",
       "      <th>3</th>\n",
       "      <td>1.535072e-54</td>\n",
       "      <td>1.000000</td>\n",
       "    </tr>\n",
       "    <tr>\n",
       "      <th>4</th>\n",
       "      <td>4.412963e-56</td>\n",
       "      <td>1.000000</td>\n",
       "    </tr>\n",
       "    <tr>\n",
       "      <th>5</th>\n",
       "      <td>2.973383e-17</td>\n",
       "      <td>1.000000</td>\n",
       "    </tr>\n",
       "    <tr>\n",
       "      <th>6</th>\n",
       "      <td>6.835964e-82</td>\n",
       "      <td>1.000000</td>\n",
       "    </tr>\n",
       "    <tr>\n",
       "      <th>7</th>\n",
       "      <td>6.476267e-23</td>\n",
       "      <td>1.000000</td>\n",
       "    </tr>\n",
       "    <tr>\n",
       "      <th>8</th>\n",
       "      <td>4.592838e-49</td>\n",
       "      <td>1.000000</td>\n",
       "    </tr>\n",
       "    <tr>\n",
       "      <th>9</th>\n",
       "      <td>1.371755e-68</td>\n",
       "      <td>1.000000</td>\n",
       "    </tr>\n",
       "  </tbody>\n",
       "</table>\n",
       "</div>"
      ],
      "text/plain": [
       "     class_0_pp  class_C_pp\n",
       "0  7.980908e-61    1.000000\n",
       "1  5.130742e-34    1.000000\n",
       "2  1.062333e-04    0.999894\n",
       "3  1.535072e-54    1.000000\n",
       "4  4.412963e-56    1.000000\n",
       "5  2.973383e-17    1.000000\n",
       "6  6.835964e-82    1.000000\n",
       "7  6.476267e-23    1.000000\n",
       "8  4.592838e-49    1.000000\n",
       "9  1.371755e-68    1.000000"
      ]
     },
     "execution_count": 242,
     "metadata": {},
     "output_type": "execute_result"
    }
   ],
   "source": [
    "Y_NB = pd.DataFrame(modelNB.predict_proba(X_test), columns=['class_0_pp','class_C_pp'])\n",
    "Y_NB.head(10)"
   ]
  },
  {
   "cell_type": "code",
   "execution_count": 243,
   "metadata": {},
   "outputs": [],
   "source": [
    "fpr, tpr, _ = roc_curve(y_test, Y_pp['class_C_pp'])\n",
    "roc_auc = auc(fpr, tpr)"
   ]
  },
  {
   "cell_type": "code",
   "execution_count": 244,
   "metadata": {},
   "outputs": [],
   "source": [
    "fpr_svc, tpr_svc, _ = roc_curve(y_test, Y_svc['class_C_pp'])\n",
    "roc_aucsvc = auc(fpr_svc, tpr_svc)"
   ]
  },
  {
   "cell_type": "code",
   "execution_count": 245,
   "metadata": {},
   "outputs": [],
   "source": [
    "fpr_NB, tpr_NB, _ = roc_curve(y_test, Y_NB['class_C_pp'])\n",
    "roc_aucNB = auc(fpr_NB, tpr_NB)"
   ]
  },
  {
   "cell_type": "code",
   "execution_count": 256,
   "metadata": {},
   "outputs": [
    {
     "data": {
      "image/png": "[encoded data removed]",
      "text/plain": [
       "<Figure size 576x576 with 1 Axes>"
      ]
     },
     "metadata": {
      "needs_background": "light"
     },
     "output_type": "display_data"
    },
    {
     "data": {
      "text/plain": [
       "<Figure size 432x288 with 0 Axes>"
      ]
     },
     "metadata": {},
     "output_type": "display_data"
    }
   ],
   "source": [
    "plt.figure(figsize=[8,8])\n",
    "plt.plot(fpr, tpr, label='ROC curve LogReg(area = %0.2f)' % roc_auc, linewidth=4)\n",
    "plt.plot(fpr_svc, tpr_svc, label='ROC curve SVC(area = %0.2f)' % roc_aucsvc, linewidth=4)\n",
    "plt.plot(fpr_NB, tpr_NB, label='ROC curve NB(area = %0.2f)' % roc_aucNB, linewidth=4)\n",
    "plt.plot([0, 1], [0, 1], 'k--', linewidth=4)\n",
    "plt.xlim([-0.05, 1.0])\n",
    "plt.ylim([-0.05, 1.05])\n",
    "plt.xlabel('False Positive Rate', fontsize=18)\n",
    "plt.ylabel('True Positive Rate', fontsize=18)\n",
    "plt.title('Receiver Operating Characteristic: Casualty', fontsize=18)\n",
    "plt.legend(loc=\"lower right\")\n",
    "plt.show()\n",
    "fig = plt.gcf()\n",
    "fig.savefig('Receiver Operating Characteristic_Casualty.png')"
   ]
  },
  {
   "cell_type": "markdown",
   "metadata": {},
   "source": [
    "# Stratifying models"
   ]
  },
  {
   "cell_type": "code",
   "execution_count": 251,
   "metadata": {},
   "outputs": [
    {
     "name": "stderr",
     "output_type": "stream",
     "text": [
      "C:\\Users\\matt\\.conda\\envs\\Python 38\\lib\\site-packages\\sklearn\\linear_model\\_logistic.py:763: ConvergenceWarning: lbfgs failed to converge (status=1):\n",
      "STOP: TOTAL NO. of ITERATIONS REACHED LIMIT.\n",
      "\n",
      "Increase the number of iterations (max_iter) or scale the data as shown in:\n",
      "    https://scikit-learn.org/stable/modules/preprocessing.html\n",
      "Please also refer to the documentation for alternative solver options:\n",
      "    https://scikit-learn.org/stable/modules/linear_model.html#logistic-regression\n",
      "  n_iter_i = _check_optimize_result(\n"
     ]
    },
    {
     "name": "stdout",
     "output_type": "stream",
     "text": [
      "Training score:  0.6655095940603606\n",
      "Test score:  0.6621673736984188\n",
      "Accuracy:  0.6621673736984188\n",
      "              precision    recall  f1-score   support\n",
      "\n",
      "           0       0.66      0.96      0.78      1638\n",
      "           1       0.68      0.16      0.26       955\n",
      "\n",
      "    accuracy                           0.66      2593\n",
      "   macro avg       0.67      0.56      0.52      2593\n",
      "weighted avg       0.67      0.66      0.59      2593\n",
      "\n"
     ]
    },
    {
     "data": {
      "image/png": "[encoded data removed]",
      "text/plain": [
       "<Figure size 432x288 with 2 Axes>"
      ]
     },
     "metadata": {
      "needs_background": "light"
     },
     "output_type": "display_data"
    }
   ],
   "source": [
    "X_train, X_test, y_train, y_test = train_test_split(X, y, test_size = 0.2, random_state = 1, stratify=y)\n",
    "\n",
    "logreg = LogisticRegression()\n",
    "\n",
    "logreg.fit(X_train, y_train)\n",
    "\n",
    "\n",
    "\n",
    "train_score = logreg.score(X_train, y_train)\n",
    "test_score = logreg.score(X_test, y_test)\n",
    "\n",
    "print(\"Training score: \", train_score)\n",
    "print(\"Test score: \", test_score)\n",
    "\n",
    "y_pred = logreg.predict(X_test)\n",
    "\n",
    "ac = accuracy_score(y_test, y_pred)\n",
    "print(\"Accuracy: \", ac)\n",
    "\n",
    "cm = confusion_matrix(y_test, y_pred, labels=None)\n",
    "sns.heatmap(cm, annot=True, fmt=\"d\")\n",
    "print(classification_report(y_test, y_pred))"
   ]
  },
  {
   "cell_type": "code",
   "execution_count": 252,
   "metadata": {},
   "outputs": [
    {
     "ename": "KeyboardInterrupt",
     "evalue": "",
     "output_type": "error",
     "traceback": [
      "\u001b[1;31m---------------------------------------------------------------------------\u001b[0m",
      "\u001b[1;31mKeyboardInterrupt\u001b[0m                         Traceback (most recent call last)",
      "\u001b[1;32m<ipython-input-252-be52690a47d1>\u001b[0m in \u001b[0;36m<module>\u001b[1;34m\u001b[0m\n\u001b[0;32m      3\u001b[0m \u001b[0msvc_model\u001b[0m \u001b[1;33m=\u001b[0m \u001b[0mSVC\u001b[0m\u001b[1;33m(\u001b[0m\u001b[0mkernel\u001b[0m\u001b[1;33m=\u001b[0m\u001b[1;34m'linear'\u001b[0m\u001b[1;33m,\u001b[0m \u001b[0mprobability\u001b[0m\u001b[1;33m=\u001b[0m\u001b[1;32mTrue\u001b[0m\u001b[1;33m)\u001b[0m\u001b[1;33m\u001b[0m\u001b[1;33m\u001b[0m\u001b[0m\n\u001b[0;32m      4\u001b[0m \u001b[1;33m\u001b[0m\u001b[0m\n\u001b[1;32m----> 5\u001b[1;33m \u001b[0msvc_model\u001b[0m\u001b[1;33m.\u001b[0m\u001b[0mfit\u001b[0m\u001b[1;33m(\u001b[0m\u001b[0mX_train\u001b[0m\u001b[1;33m,\u001b[0m \u001b[0my_train\u001b[0m\u001b[1;33m)\u001b[0m\u001b[1;33m\u001b[0m\u001b[1;33m\u001b[0m\u001b[0m\n\u001b[0m\u001b[0;32m      6\u001b[0m \u001b[0msvc_model\u001b[0m\u001b[1;33m.\u001b[0m\u001b[0mscore\u001b[0m\u001b[1;33m(\u001b[0m\u001b[0mX_test\u001b[0m\u001b[1;33m,\u001b[0m \u001b[0my_test\u001b[0m\u001b[1;33m)\u001b[0m\u001b[1;33m\u001b[0m\u001b[1;33m\u001b[0m\u001b[0m\n\u001b[0;32m      7\u001b[0m \u001b[1;33m\u001b[0m\u001b[0m\n",
      "\u001b[1;32m~\\.conda\\envs\\Python 38\\lib\\site-packages\\sklearn\\svm\\_base.py\u001b[0m in \u001b[0;36mfit\u001b[1;34m(self, X, y, sample_weight)\u001b[0m\n\u001b[0;32m    224\u001b[0m \u001b[1;33m\u001b[0m\u001b[0m\n\u001b[0;32m    225\u001b[0m         \u001b[0mseed\u001b[0m \u001b[1;33m=\u001b[0m \u001b[0mrnd\u001b[0m\u001b[1;33m.\u001b[0m\u001b[0mrandint\u001b[0m\u001b[1;33m(\u001b[0m\u001b[0mnp\u001b[0m\u001b[1;33m.\u001b[0m\u001b[0miinfo\u001b[0m\u001b[1;33m(\u001b[0m\u001b[1;34m'i'\u001b[0m\u001b[1;33m)\u001b[0m\u001b[1;33m.\u001b[0m\u001b[0mmax\u001b[0m\u001b[1;33m)\u001b[0m\u001b[1;33m\u001b[0m\u001b[1;33m\u001b[0m\u001b[0m\n\u001b[1;32m--> 226\u001b[1;33m         \u001b[0mfit\u001b[0m\u001b[1;33m(\u001b[0m\u001b[0mX\u001b[0m\u001b[1;33m,\u001b[0m \u001b[0my\u001b[0m\u001b[1;33m,\u001b[0m \u001b[0msample_weight\u001b[0m\u001b[1;33m,\u001b[0m \u001b[0msolver_type\u001b[0m\u001b[1;33m,\u001b[0m \u001b[0mkernel\u001b[0m\u001b[1;33m,\u001b[0m \u001b[0mrandom_seed\u001b[0m\u001b[1;33m=\u001b[0m\u001b[0mseed\u001b[0m\u001b[1;33m)\u001b[0m\u001b[1;33m\u001b[0m\u001b[1;33m\u001b[0m\u001b[0m\n\u001b[0m\u001b[0;32m    227\u001b[0m         \u001b[1;31m# see comment on the other call to np.iinfo in this file\u001b[0m\u001b[1;33m\u001b[0m\u001b[1;33m\u001b[0m\u001b[1;33m\u001b[0m\u001b[0m\n\u001b[0;32m    228\u001b[0m \u001b[1;33m\u001b[0m\u001b[0m\n",
      "\u001b[1;32m~\\.conda\\envs\\Python 38\\lib\\site-packages\\sklearn\\svm\\_base.py\u001b[0m in \u001b[0;36m_dense_fit\u001b[1;34m(self, X, y, sample_weight, solver_type, kernel, random_seed)\u001b[0m\n\u001b[0;32m    275\u001b[0m         \u001b[0mself\u001b[0m\u001b[1;33m.\u001b[0m\u001b[0msupport_\u001b[0m\u001b[1;33m,\u001b[0m \u001b[0mself\u001b[0m\u001b[1;33m.\u001b[0m\u001b[0msupport_vectors_\u001b[0m\u001b[1;33m,\u001b[0m \u001b[0mself\u001b[0m\u001b[1;33m.\u001b[0m\u001b[0m_n_support\u001b[0m\u001b[1;33m,\u001b[0m\u001b[0;31m \u001b[0m\u001b[0;31m\\\u001b[0m\u001b[1;33m\u001b[0m\u001b[1;33m\u001b[0m\u001b[0m\n\u001b[0;32m    276\u001b[0m             \u001b[0mself\u001b[0m\u001b[1;33m.\u001b[0m\u001b[0mdual_coef_\u001b[0m\u001b[1;33m,\u001b[0m \u001b[0mself\u001b[0m\u001b[1;33m.\u001b[0m\u001b[0mintercept_\u001b[0m\u001b[1;33m,\u001b[0m \u001b[0mself\u001b[0m\u001b[1;33m.\u001b[0m\u001b[0m_probA\u001b[0m\u001b[1;33m,\u001b[0m\u001b[0;31m \u001b[0m\u001b[0;31m\\\u001b[0m\u001b[1;33m\u001b[0m\u001b[1;33m\u001b[0m\u001b[0m\n\u001b[1;32m--> 277\u001b[1;33m             self._probB, self.fit_status_ = libsvm.fit(\n\u001b[0m\u001b[0;32m    278\u001b[0m                 \u001b[0mX\u001b[0m\u001b[1;33m,\u001b[0m \u001b[0my\u001b[0m\u001b[1;33m,\u001b[0m\u001b[1;33m\u001b[0m\u001b[1;33m\u001b[0m\u001b[0m\n\u001b[0;32m    279\u001b[0m                 \u001b[0msvm_type\u001b[0m\u001b[1;33m=\u001b[0m\u001b[0msolver_type\u001b[0m\u001b[1;33m,\u001b[0m \u001b[0msample_weight\u001b[0m\u001b[1;33m=\u001b[0m\u001b[0msample_weight\u001b[0m\u001b[1;33m,\u001b[0m\u001b[1;33m\u001b[0m\u001b[1;33m\u001b[0m\u001b[0m\n",
      "\u001b[1;31mKeyboardInterrupt\u001b[0m: "
     ]
    }
   ],
   "source": [
    "X_train, X_test, y_train, y_test = train_test_split(X, y, test_size = 0.2, random_state = 1, stratify=y)\n",
    "\n",
    "svc_model = SVC(kernel='linear', probability=True)\n",
    "\n",
    "svc_model.fit(X_train, y_train)\n",
    "svc_model.score(X_test, y_test)\n",
    "\n",
    "train_score = svc_model.score(X_train, y_train)\n",
    "test_score = svc_model.score(X_test, y_test)\n",
    "\n",
    "print(\"Training score: \", train_score)\n",
    "print(\"Test score: \", test_score)\n",
    "\n",
    "y_pred_svc = svc_model.predict(X_test)\n",
    "\n",
    "ac = accuracy_score(y_test, y_pred_svc)\n",
    "print(\"Accuracy: \", ac)\n",
    "\n",
    "cm = confusion_matrix(y_test, y_pred_svc, labels=None)\n",
    "sns.heatmap(cm, annot=True, fmt=\"d\")\n",
    "print(classification_report(y_test, y_pred_svc))"
   ]
  },
  {
   "cell_type": "code",
   "execution_count": 253,
   "metadata": {},
   "outputs": [
    {
     "name": "stdout",
     "output_type": "stream",
     "text": [
      "Training score:  0.6534567544113393\n",
      "Test score:  0.6409564211338218\n",
      "Accuracy:  0.6409564211338218\n",
      "              precision    recall  f1-score   support\n",
      "\n",
      "           0       0.66      0.89      0.76      1638\n",
      "           1       0.53      0.21      0.30       955\n",
      "\n",
      "    accuracy                           0.64      2593\n",
      "   macro avg       0.60      0.55      0.53      2593\n",
      "weighted avg       0.61      0.64      0.59      2593\n",
      "\n"
     ]
    },
    {
     "data": {
      "image/png": "[encoded data removed]",
      "text/plain": [
       "<Figure size 432x288 with 2 Axes>"
      ]
     },
     "metadata": {
      "needs_background": "light"
     },
     "output_type": "display_data"
    }
   ],
   "source": [
    "X_train, X_test, y_train, y_test = train_test_split(X, y, test_size = 0.2, random_state = 1, stratify=y)\n",
    "\n",
    "modelNB = GaussianNB()\n",
    "\n",
    "modelNB.fit(X_train, y_train)\n",
    "\n",
    "train_score = modelNB.score(X_train, y_train)\n",
    "test_score = modelNB.score(X_test, y_test)\n",
    "\n",
    "print(\"Training score: \", train_score)\n",
    "print(\"Test score: \", test_score)\n",
    "\n",
    "y_predNB = modelNB.predict(X_test)\n",
    "\n",
    "ac = accuracy_score(y_test, y_predNB)\n",
    "print(\"Accuracy: \", ac)\n",
    "\n",
    "cm = confusion_matrix(y_test, y_predNB)\n",
    "sns.heatmap(cm, annot=True, fmt=\"d\")\n",
    "print(classification_report(y_test, y_predNB))"
   ]
  },
  {
   "cell_type": "code",
   "execution_count": 255,
   "metadata": {
    "scrolled": false
   },
   "outputs": [
    {
     "data": {
      "image/png": "[encoded data removed]",
      "text/plain": [
       "<Figure size 576x576 with 1 Axes>"
      ]
     },
     "metadata": {
      "needs_background": "light"
     },
     "output_type": "display_data"
    },
    {
     "data": {
      "text/plain": [
       "<Figure size 432x288 with 0 Axes>"
      ]
     },
     "metadata": {},
     "output_type": "display_data"
    }
   ],
   "source": [
    "Y_pp_strat = pd.DataFrame(logreg.predict_proba(X_test), columns=['class_0_pp','class_C_pp'])\n",
    "\n",
    "#Y_svc_strat = pd.DataFrame(svc_model.predict_proba(X_test), columns=['class_0_pp','class_C_pp'])\n",
    "\n",
    "Y_NB_strat = pd.DataFrame(modelNB.predict_proba(X_test), columns=['class_0_pp','class_C_pp'])\n",
    "\n",
    "fpr_strat, tpr_strat, _ = roc_curve(y_test, Y_pp_strat['class_C_pp'])\n",
    "roc_auc_strat = auc(fpr_strat, tpr_strat)\n",
    "\n",
    "#fpr_svc_strat, tpr_svc_strat, _ = roc_curve(y_test, Y_svc_strat['class_C_pp'])\n",
    "#roc_aucsvc_strat = auc(fpr_sv_stratc, tpr_svc_strat)\n",
    "\n",
    "fpr_NB_strat, tpr_NB_strat, _ = roc_curve(y_test, Y_NB_strat['class_C_pp'])\n",
    "roc_aucNB_strat = auc(fpr_NB_strat, tpr_NB_strat)\n",
    "\n",
    "plt.figure(figsize=[8,8])\n",
    "plt.plot(fpr_strat, tpr_strat, label='ROC curve LogReg(area = %0.2f)' % roc_auc_strat, linewidth=4)\n",
    "#plt.plot(fpr_svc_strat, tpr_svc_strat, label='ROC curve SVC(area = %0.2f)' % roc_aucsvc_strat, linewidth=4)\n",
    "plt.plot(fpr_NB_strat, tpr_NB_strat, label='ROC curve NB(area = %0.2f)' % roc_aucNB_strat, linewidth=4)\n",
    "plt.plot([0, 1], [0, 1], 'k--', linewidth=4)\n",
    "plt.xlim([-0.05, 1.0])\n",
    "plt.ylim([-0.05, 1.05])\n",
    "plt.xlabel('False Positive Rate', fontsize=18)\n",
    "plt.ylabel('True Positive Rate', fontsize=18)\n",
    "plt.title('Receiver Operating Characteristic: Casualty', fontsize=18)\n",
    "plt.legend(loc=\"lower right\")\n",
    "plt.show()\n",
    "#fig = plt.gcf()\n",
    "#fig.savefig('Receiver Operating Characteristic_Casualty_strat.png')"
   ]
  },
  {
   "cell_type": "markdown",
   "metadata": {},
   "source": [
    "# SMOTENC oversampling to even out the data balance."
   ]
  },
  {
   "cell_type": "code",
   "execution_count": 232,
   "metadata": {},
   "outputs": [
    {
     "data": {
      "text/plain": [
       "0    0.631595\n",
       "1    0.368405\n",
       "Name: Casualty, dtype: float64"
      ]
     },
     "execution_count": 232,
     "metadata": {},
     "output_type": "execute_result"
    }
   ],
   "source": [
    "#df.Casualty.value_counts(normalize=True)"
   ]
  },
  {
   "cell_type": "code",
   "execution_count": null,
   "metadata": {},
   "outputs": [],
   "source": [
    "#smote_nc = SMOTENC(categorical_features=[0, 2], random_state=0)\n",
    "#X_resampled, y_resampled = smote_nc.fit_resample(X, y)"
   ]
  }
 ],
 "metadata": {
  "kernelspec": {
   "display_name": "Python 3",
   "language": "python",
   "name": "python3"
  },
  "language_info": {
   "codemirror_mode": {
    "name": "ipython",
    "version": 3
   },
   "file_extension": ".py",
   "mimetype": "text/x-python",
   "name": "python",
   "nbconvert_exporter": "python",
   "pygments_lexer": "ipython3",
   "version": "3.8.5"
  }
 },
 "nbformat": 4,
 "nbformat_minor": 4
}
