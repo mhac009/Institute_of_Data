{
 "cells": [
  {
   "cell_type": "markdown",
   "id": "d0790a20",
   "metadata": {},
   "source": [
    "## Investigation into Fatal Motor Vehicle Accidents in Australia - 1989-2021 - Pre-Processing"
   ]
  },
  {
   "cell_type": "markdown",
   "id": "1c0d4eb0",
   "metadata": {},
   "source": [
    "** This notebook was going to include all of the pre-processing to prepare the data for modelling. I found out halfway through that I don't need such a complex dataframe, I might still use this in the future. **"
   ]
  },
  {
   "cell_type": "code",
   "execution_count": 1,
   "id": "27fa4713",
   "metadata": {},
   "outputs": [],
   "source": [
    "import pandas as pd\n",
    "import numpy as np\n",
    "import seaborn as sns\n",
    "import matplotlib.pyplot as plt\n",
    "\n",
    "pd.set_option('display.max_columns', None)"
   ]
  },
  {
   "cell_type": "code",
   "execution_count": 2,
   "id": "1bd0fde9",
   "metadata": {},
   "outputs": [],
   "source": [
    "df = pd.read_csv('df_pp.csv', sep=',', low_memory=False, index_col='Crash ID')"
   ]
  },
  {
   "cell_type": "code",
   "execution_count": 3,
   "id": "de9bd956",
   "metadata": {},
   "outputs": [
    {
     "data": {
      "text/html": [
       "<div>\n",
       "<style scoped>\n",
       "    .dataframe tbody tr th:only-of-type {\n",
       "        vertical-align: middle;\n",
       "    }\n",
       "\n",
       "    .dataframe tbody tr th {\n",
       "        vertical-align: top;\n",
       "    }\n",
       "\n",
       "    .dataframe thead th {\n",
       "        text-align: right;\n",
       "    }\n",
       "</style>\n",
       "<table border=\"1\" class=\"dataframe\">\n",
       "  <thead>\n",
       "    <tr style=\"text-align: right;\">\n",
       "      <th></th>\n",
       "      <th>state</th>\n",
       "      <th>month</th>\n",
       "      <th>year</th>\n",
       "      <th>dayweek</th>\n",
       "      <th>time</th>\n",
       "      <th>crash_type</th>\n",
       "      <th>bus_involvement</th>\n",
       "      <th>articulated_truck_involvement</th>\n",
       "      <th>speed_limit</th>\n",
       "      <th>road_user</th>\n",
       "      <th>gender</th>\n",
       "      <th>age</th>\n",
       "      <th>christmas_period</th>\n",
       "      <th>easter_period</th>\n",
       "      <th>age_group</th>\n",
       "      <th>day_of_week</th>\n",
       "      <th>time_of_day</th>\n",
       "      <th>day</th>\n",
       "      <th>datetime</th>\n",
       "      <th>month_year</th>\n",
       "    </tr>\n",
       "    <tr>\n",
       "      <th>Crash ID</th>\n",
       "      <th></th>\n",
       "      <th></th>\n",
       "      <th></th>\n",
       "      <th></th>\n",
       "      <th></th>\n",
       "      <th></th>\n",
       "      <th></th>\n",
       "      <th></th>\n",
       "      <th></th>\n",
       "      <th></th>\n",
       "      <th></th>\n",
       "      <th></th>\n",
       "      <th></th>\n",
       "      <th></th>\n",
       "      <th></th>\n",
       "      <th></th>\n",
       "      <th></th>\n",
       "      <th></th>\n",
       "      <th></th>\n",
       "      <th></th>\n",
       "    </tr>\n",
       "  </thead>\n",
       "  <tbody>\n",
       "    <tr>\n",
       "      <th>20215020</th>\n",
       "      <td>WA</td>\n",
       "      <td>4</td>\n",
       "      <td>2021</td>\n",
       "      <td>Tuesday</td>\n",
       "      <td>16:00:00</td>\n",
       "      <td>Single</td>\n",
       "      <td>No</td>\n",
       "      <td>No</td>\n",
       "      <td>80</td>\n",
       "      <td>Pedestrian</td>\n",
       "      <td>Male</td>\n",
       "      <td>3</td>\n",
       "      <td>No</td>\n",
       "      <td>No</td>\n",
       "      <td>0_to_16</td>\n",
       "      <td>Weekday</td>\n",
       "      <td>Day</td>\n",
       "      <td>1</td>\n",
       "      <td>1/04/2021 16:00</td>\n",
       "      <td>2021-04</td>\n",
       "    </tr>\n",
       "    <tr>\n",
       "      <th>20212067</th>\n",
       "      <td>Vic</td>\n",
       "      <td>4</td>\n",
       "      <td>2021</td>\n",
       "      <td>Thursday</td>\n",
       "      <td>18:00:00</td>\n",
       "      <td>Multiple</td>\n",
       "      <td>No</td>\n",
       "      <td>No</td>\n",
       "      <td>80</td>\n",
       "      <td>Motorcycle rider</td>\n",
       "      <td>Male</td>\n",
       "      <td>55</td>\n",
       "      <td>No</td>\n",
       "      <td>No</td>\n",
       "      <td>40_to_64</td>\n",
       "      <td>Weekday</td>\n",
       "      <td>Night</td>\n",
       "      <td>1</td>\n",
       "      <td>1/04/2021 18:00</td>\n",
       "      <td>2021-04</td>\n",
       "    </tr>\n",
       "    <tr>\n",
       "      <th>20213015</th>\n",
       "      <td>Qld</td>\n",
       "      <td>4</td>\n",
       "      <td>2021</td>\n",
       "      <td>Sunday</td>\n",
       "      <td>23:00:00</td>\n",
       "      <td>Single</td>\n",
       "      <td>No</td>\n",
       "      <td>No</td>\n",
       "      <td>70</td>\n",
       "      <td>Driver</td>\n",
       "      <td>Male</td>\n",
       "      <td>21</td>\n",
       "      <td>No</td>\n",
       "      <td>No</td>\n",
       "      <td>17_to_25</td>\n",
       "      <td>Weekend</td>\n",
       "      <td>Night</td>\n",
       "      <td>1</td>\n",
       "      <td>1/04/2021 23:00</td>\n",
       "      <td>2021-04</td>\n",
       "    </tr>\n",
       "    <tr>\n",
       "      <th>20211009</th>\n",
       "      <td>NSW</td>\n",
       "      <td>4</td>\n",
       "      <td>2021</td>\n",
       "      <td>Thursday</td>\n",
       "      <td>21:05:00</td>\n",
       "      <td>Single</td>\n",
       "      <td>No</td>\n",
       "      <td>No</td>\n",
       "      <td>110</td>\n",
       "      <td>Pedestrian</td>\n",
       "      <td>Female</td>\n",
       "      <td>21</td>\n",
       "      <td>No</td>\n",
       "      <td>No</td>\n",
       "      <td>17_to_25</td>\n",
       "      <td>Weekday</td>\n",
       "      <td>Night</td>\n",
       "      <td>1</td>\n",
       "      <td>1/04/2021 21:05</td>\n",
       "      <td>2021-04</td>\n",
       "    </tr>\n",
       "    <tr>\n",
       "      <th>20211054</th>\n",
       "      <td>NSW</td>\n",
       "      <td>4</td>\n",
       "      <td>2021</td>\n",
       "      <td>Saturday</td>\n",
       "      <td>4:25:00</td>\n",
       "      <td>Single</td>\n",
       "      <td>No</td>\n",
       "      <td>No</td>\n",
       "      <td>80</td>\n",
       "      <td>Passenger</td>\n",
       "      <td>Male</td>\n",
       "      <td>5</td>\n",
       "      <td>No</td>\n",
       "      <td>No</td>\n",
       "      <td>0_to_16</td>\n",
       "      <td>Weekend</td>\n",
       "      <td>Night</td>\n",
       "      <td>1</td>\n",
       "      <td>1/04/2021 4:25</td>\n",
       "      <td>2021-04</td>\n",
       "    </tr>\n",
       "  </tbody>\n",
       "</table>\n",
       "</div>"
      ],
      "text/plain": [
       "         state  month  year   dayweek      time crash_type bus_involvement  \\\n",
       "Crash ID                                                                     \n",
       "20215020    WA      4  2021   Tuesday  16:00:00     Single              No   \n",
       "20212067   Vic      4  2021  Thursday  18:00:00   Multiple              No   \n",
       "20213015   Qld      4  2021    Sunday  23:00:00     Single              No   \n",
       "20211009   NSW      4  2021  Thursday  21:05:00     Single              No   \n",
       "20211054   NSW      4  2021  Saturday   4:25:00     Single              No   \n",
       "\n",
       "         articulated_truck_involvement  speed_limit         road_user  gender  \\\n",
       "Crash ID                                                                        \n",
       "20215020                            No           80        Pedestrian    Male   \n",
       "20212067                            No           80  Motorcycle rider    Male   \n",
       "20213015                            No           70            Driver    Male   \n",
       "20211009                            No          110        Pedestrian  Female   \n",
       "20211054                            No           80         Passenger    Male   \n",
       "\n",
       "          age christmas_period easter_period age_group day_of_week  \\\n",
       "Crash ID                                                             \n",
       "20215020    3               No            No   0_to_16     Weekday   \n",
       "20212067   55               No            No  40_to_64     Weekday   \n",
       "20213015   21               No            No  17_to_25     Weekend   \n",
       "20211009   21               No            No  17_to_25     Weekday   \n",
       "20211054    5               No            No   0_to_16     Weekend   \n",
       "\n",
       "         time_of_day  day         datetime month_year  \n",
       "Crash ID                                               \n",
       "20215020         Day    1  1/04/2021 16:00    2021-04  \n",
       "20212067       Night    1  1/04/2021 18:00    2021-04  \n",
       "20213015       Night    1  1/04/2021 23:00    2021-04  \n",
       "20211009       Night    1  1/04/2021 21:05    2021-04  \n",
       "20211054       Night    1   1/04/2021 4:25    2021-04  "
      ]
     },
     "execution_count": 3,
     "metadata": {},
     "output_type": "execute_result"
    }
   ],
   "source": [
    "df.head()"
   ]
  },
  {
   "cell_type": "markdown",
   "id": "cee6aa9d",
   "metadata": {},
   "source": [
    "## Changing datatypes into numeric for modelling"
   ]
  },
  {
   "cell_type": "code",
   "execution_count": 4,
   "id": "ccd663cc",
   "metadata": {
    "scrolled": true
   },
   "outputs": [
    {
     "data": {
      "text/plain": [
       "state                            object\n",
       "month                             int64\n",
       "year                              int64\n",
       "dayweek                          object\n",
       "time                             object\n",
       "crash_type                       object\n",
       "bus_involvement                  object\n",
       "articulated_truck_involvement    object\n",
       "speed_limit                       int64\n",
       "road_user                        object\n",
       "gender                           object\n",
       "age                               int64\n",
       "christmas_period                 object\n",
       "easter_period                    object\n",
       "age_group                        object\n",
       "day_of_week                      object\n",
       "time_of_day                      object\n",
       "day                               int64\n",
       "datetime                         object\n",
       "month_year                       object\n",
       "dtype: object"
      ]
     },
     "execution_count": 4,
     "metadata": {},
     "output_type": "execute_result"
    }
   ],
   "source": [
    "df.dtypes"
   ]
  },
  {
   "cell_type": "code",
   "execution_count": 5,
   "id": "0307ef24",
   "metadata": {},
   "outputs": [
    {
     "data": {
      "text/plain": [
       "(52397, 20)"
      ]
     },
     "execution_count": 5,
     "metadata": {},
     "output_type": "execute_result"
    }
   ],
   "source": [
    "df.shape"
   ]
  },
  {
   "cell_type": "markdown",
   "id": "802ab768",
   "metadata": {},
   "source": [
    "### State"
   ]
  },
  {
   "cell_type": "code",
   "execution_count": 6,
   "id": "853b7e37",
   "metadata": {},
   "outputs": [
    {
     "data": {
      "text/plain": [
       "NSW    16200\n",
       "Vic    11467\n",
       "Qld    10380\n",
       "WA      6209\n",
       "SA      4515\n",
       "NT      1623\n",
       "Tas     1529\n",
       "ACT      474\n",
       "Name: state, dtype: int64"
      ]
     },
     "execution_count": 6,
     "metadata": {},
     "output_type": "execute_result"
    }
   ],
   "source": [
    "df.state.value_counts()"
   ]
  },
  {
   "cell_type": "code",
   "execution_count": 7,
   "id": "885ffbf1",
   "metadata": {},
   "outputs": [
    {
     "data": {
      "text/plain": [
       "1    16200\n",
       "2    11467\n",
       "3    10380\n",
       "4     6209\n",
       "5     4515\n",
       "6     1623\n",
       "7     1529\n",
       "8      474\n",
       "Name: state, dtype: int64"
      ]
     },
     "execution_count": 7,
     "metadata": {},
     "output_type": "execute_result"
    }
   ],
   "source": [
    "df.state.replace({'NSW': 1, 'Vic': 2, 'Qld': 3, 'WA': 4, 'SA': 5, 'NT': 6, 'Tas': 7, 'ACT': 8}, inplace=True)\n",
    "df.state.value_counts()"
   ]
  },
  {
   "cell_type": "markdown",
   "id": "df434529",
   "metadata": {},
   "source": [
    "### Day of the week"
   ]
  },
  {
   "cell_type": "code",
   "execution_count": 8,
   "id": "301ccb81",
   "metadata": {
    "scrolled": true
   },
   "outputs": [
    {
     "data": {
      "text/plain": [
       "Saturday     9625\n",
       "Friday       8590\n",
       "Sunday       8402\n",
       "Thursday     7028\n",
       "Wednesday    6590\n",
       "Tuesday      6099\n",
       "Monday       6063\n",
       "Name: dayweek, dtype: int64"
      ]
     },
     "execution_count": 8,
     "metadata": {},
     "output_type": "execute_result"
    }
   ],
   "source": [
    "df.dayweek.value_counts()"
   ]
  },
  {
   "cell_type": "code",
   "execution_count": 9,
   "id": "79ae6409",
   "metadata": {},
   "outputs": [],
   "source": [
    "dayweek_dict = {'Monday': 1, 'Tuesday': 2,'Wednesday': 3,'Thursday': 4,'Friday':5,'Saturday': 6,'Sunday': 7}\n",
    "df.dayweek = df.dayweek.replace(dayweek_dict, inplace=False)"
   ]
  },
  {
   "cell_type": "code",
   "execution_count": 10,
   "id": "c7b47c3c",
   "metadata": {},
   "outputs": [
    {
     "data": {
      "text/plain": [
       "6    9625\n",
       "5    8590\n",
       "7    8402\n",
       "4    7028\n",
       "3    6590\n",
       "2    6099\n",
       "1    6063\n",
       "Name: dayweek, dtype: int64"
      ]
     },
     "execution_count": 10,
     "metadata": {},
     "output_type": "execute_result"
    }
   ],
   "source": [
    "df.dayweek.value_counts()"
   ]
  },
  {
   "cell_type": "markdown",
   "id": "984dcac4",
   "metadata": {},
   "source": [
    "### Crash Type"
   ]
  },
  {
   "cell_type": "code",
   "execution_count": 11,
   "id": "362c4c42",
   "metadata": {},
   "outputs": [
    {
     "data": {
      "text/plain": [
       "Single      28984\n",
       "Multiple    23413\n",
       "Name: crash_type, dtype: int64"
      ]
     },
     "execution_count": 11,
     "metadata": {},
     "output_type": "execute_result"
    }
   ],
   "source": [
    "df.crash_type.value_counts()"
   ]
  },
  {
   "cell_type": "code",
   "execution_count": 12,
   "id": "75bda358",
   "metadata": {},
   "outputs": [
    {
     "data": {
      "text/plain": [
       "0    28984\n",
       "1    23413\n",
       "Name: multiple, dtype: int64"
      ]
     },
     "execution_count": 12,
     "metadata": {},
     "output_type": "execute_result"
    }
   ],
   "source": [
    "df.crash_type.replace('Single', 0, inplace=True)\n",
    "df.crash_type.replace('Multiple', 1, inplace=True)\n",
    "df.rename(columns = {'crash_type': 'multiple'}, inplace=True)\n",
    "df.multiple.value_counts()"
   ]
  },
  {
   "cell_type": "code",
   "execution_count": 13,
   "id": "d80e674d",
   "metadata": {},
   "outputs": [
    {
     "data": {
      "text/plain": [
       "Crash ID\n",
       "20215020    0\n",
       "20212067    1\n",
       "20213015    0\n",
       "20211009    0\n",
       "20211054    0\n",
       "Name: multiple, dtype: int64"
      ]
     },
     "execution_count": 13,
     "metadata": {},
     "output_type": "execute_result"
    }
   ],
   "source": [
    "df.multiple.head()"
   ]
  },
  {
   "cell_type": "markdown",
   "id": "0a98c020",
   "metadata": {},
   "source": [
    "### Bus Involvement"
   ]
  },
  {
   "cell_type": "code",
   "execution_count": 14,
   "id": "095463bc",
   "metadata": {},
   "outputs": [
    {
     "data": {
      "text/plain": [
       "No     51418\n",
       "Yes      979\n",
       "Name: bus_involvement, dtype: int64"
      ]
     },
     "execution_count": 14,
     "metadata": {},
     "output_type": "execute_result"
    }
   ],
   "source": [
    "df.bus_involvement.value_counts()"
   ]
  },
  {
   "cell_type": "code",
   "execution_count": 15,
   "id": "bad35057",
   "metadata": {},
   "outputs": [
    {
     "data": {
      "text/plain": [
       "0    51418\n",
       "1      979\n",
       "Name: bus, dtype: int64"
      ]
     },
     "execution_count": 15,
     "metadata": {},
     "output_type": "execute_result"
    }
   ],
   "source": [
    "df.bus_involvement.replace('No', 0, inplace=True)\n",
    "df.bus_involvement.replace('Yes', 1, inplace=True)\n",
    "df.rename(columns = {'bus_involvement': 'bus'}, inplace=True)\n",
    "df.bus.value_counts()"
   ]
  },
  {
   "cell_type": "markdown",
   "id": "3f7d58ef",
   "metadata": {},
   "source": [
    "### Articulated Truck Involvement"
   ]
  },
  {
   "cell_type": "code",
   "execution_count": 16,
   "id": "47a052f9",
   "metadata": {},
   "outputs": [
    {
     "data": {
      "text/plain": [
       "No     47090\n",
       "Yes     5307\n",
       "Name: articulated_truck_involvement, dtype: int64"
      ]
     },
     "execution_count": 16,
     "metadata": {},
     "output_type": "execute_result"
    }
   ],
   "source": [
    "df.articulated_truck_involvement.value_counts()"
   ]
  },
  {
   "cell_type": "code",
   "execution_count": 17,
   "id": "68b6d17d",
   "metadata": {},
   "outputs": [
    {
     "data": {
      "text/plain": [
       "0    47090\n",
       "1     5307\n",
       "Name: truck, dtype: int64"
      ]
     },
     "execution_count": 17,
     "metadata": {},
     "output_type": "execute_result"
    }
   ],
   "source": [
    "df.articulated_truck_involvement.replace('No', 0, inplace=True)\n",
    "df.articulated_truck_involvement.replace('Yes', 1, inplace=True)\n",
    "df.rename(columns = {'articulated_truck_involvement': 'truck'}, inplace=True)\n",
    "df.truck.value_counts()"
   ]
  },
  {
   "cell_type": "markdown",
   "id": "1735a9b2",
   "metadata": {},
   "source": [
    "### Speed Limit"
   ]
  },
  {
   "cell_type": "code",
   "execution_count": 18,
   "id": "aae82cf4",
   "metadata": {},
   "outputs": [
    {
     "data": {
      "text/plain": [
       "100    18110\n",
       "60     13607\n",
       "80      7447\n",
       "110     5959\n",
       "50      2853\n",
       "70      2509\n",
       "90      1133\n",
       "40       346\n",
       "75       254\n",
       "130      113\n",
       "20        28\n",
       "10        18\n",
       "30        14\n",
       "5          3\n",
       "25         2\n",
       "15         1\n",
       "Name: speed_limit, dtype: int64"
      ]
     },
     "execution_count": 18,
     "metadata": {},
     "output_type": "execute_result"
    }
   ],
   "source": [
    "df.speed_limit.value_counts()"
   ]
  },
  {
   "cell_type": "markdown",
   "id": "d52553f1",
   "metadata": {},
   "source": [
    "#### I am going to collate the speeds <= 40 km/h into one category and 70 and 75 together. There are enough of the rest of the speeds to remain their own categories"
   ]
  },
  {
   "cell_type": "code",
   "execution_count": 19,
   "id": "84e26f43",
   "metadata": {},
   "outputs": [],
   "source": [
    "df.speed_limit.replace([5, 10, 15, 20, 25, 30], 40, inplace=True)\n",
    "df.speed_limit.replace(75, 70, inplace=True)"
   ]
  },
  {
   "cell_type": "code",
   "execution_count": 20,
   "id": "4a692e6e",
   "metadata": {
    "scrolled": false
   },
   "outputs": [
    {
     "data": {
      "text/plain": [
       "<AxesSubplot:>"
      ]
     },
     "execution_count": 20,
     "metadata": {},
     "output_type": "execute_result"
    },
    {
     "data": {
      "image/png": "[encoded data removed]",
      "text/plain": [
       "<Figure size 432x288 with 1 Axes>"
      ]
     },
     "metadata": {
      "needs_background": "light"
     },
     "output_type": "display_data"
    }
   ],
   "source": [
    "df.speed_limit.value_counts().sort_index().plot(kind='bar')"
   ]
  },
  {
   "cell_type": "code",
   "execution_count": 21,
   "id": "3f5de979",
   "metadata": {},
   "outputs": [],
   "source": [
    "df.speed_limit.replace({40:1, 50:2, 60:3, 70:4, 80:5, 90:6, 100:7, 110:8, 130:9}, inplace=True)"
   ]
  },
  {
   "cell_type": "code",
   "execution_count": 22,
   "id": "c940ab87",
   "metadata": {},
   "outputs": [
    {
     "data": {
      "text/plain": [
       "Crash ID\n",
       "20185082    7\n",
       "20203185    3\n",
       "20132170    5\n",
       "19932114    3\n",
       "19981020    3\n",
       "19911304    7\n",
       "20066034    4\n",
       "20014010    3\n",
       "19944090    5\n",
       "19921169    7\n",
       "Name: speed_limit, dtype: int64"
      ]
     },
     "execution_count": 22,
     "metadata": {},
     "output_type": "execute_result"
    }
   ],
   "source": [
    "df.speed_limit.sample(10)"
   ]
  },
  {
   "cell_type": "markdown",
   "id": "aec7ec57",
   "metadata": {},
   "source": [
    "### Road User"
   ]
  },
  {
   "cell_type": "code",
   "execution_count": 23,
   "id": "4dc6afcd",
   "metadata": {},
   "outputs": [
    {
     "data": {
      "text/plain": [
       "Driver                          23609\n",
       "Passenger                       12270\n",
       "Pedestrian                       8183\n",
       "Motorcycle rider                 6564\n",
       "Pedal cyclist                    1409\n",
       "Motorcycle pillion passenger      362\n",
       "Name: road_user, dtype: int64"
      ]
     },
     "execution_count": 23,
     "metadata": {},
     "output_type": "execute_result"
    }
   ],
   "source": [
    "df.road_user.value_counts()"
   ]
  },
  {
   "cell_type": "code",
   "execution_count": 26,
   "id": "df247a87",
   "metadata": {},
   "outputs": [
    {
     "data": {
      "text/plain": [
       "1    23609\n",
       "2    12270\n",
       "3     8183\n",
       "4     6564\n",
       "5     1409\n",
       "6      362\n",
       "Name: road_user, dtype: int64"
      ]
     },
     "execution_count": 26,
     "metadata": {},
     "output_type": "execute_result"
    }
   ],
   "source": [
    "df.road_user.replace({'Driver': 1, \"Passenger\": 2, 'Pedestrian': 3, 'Motorcycle rider': 4, 'Pedal cyclist': 5, 'Motorcycle pillion passenger': 6}, inplace=True)\n",
    "df.road_user.value_counts()"
   ]
  },
  {
   "cell_type": "markdown",
   "id": "6f390498",
   "metadata": {},
   "source": [
    "### Gender"
   ]
  },
  {
   "cell_type": "code",
   "execution_count": 27,
   "id": "7345b863",
   "metadata": {},
   "outputs": [
    {
     "data": {
      "text/plain": [
       "Male      37520\n",
       "Female    14877\n",
       "Name: gender, dtype: int64"
      ]
     },
     "execution_count": 27,
     "metadata": {},
     "output_type": "execute_result"
    }
   ],
   "source": [
    "df.gender.value_counts()"
   ]
  },
  {
   "cell_type": "code",
   "execution_count": 28,
   "id": "ee1c9878",
   "metadata": {},
   "outputs": [
    {
     "data": {
      "text/plain": [
       "0    37520\n",
       "1    14877\n",
       "Name: gender, dtype: int64"
      ]
     },
     "execution_count": 28,
     "metadata": {},
     "output_type": "execute_result"
    }
   ],
   "source": [
    "df.gender.replace({'Male': 0, 'Female': 1}, inplace=True)\n",
    "df.gender.value_counts()"
   ]
  },
  {
   "cell_type": "markdown",
   "id": "39724742",
   "metadata": {},
   "source": [
    "### Christmas Period"
   ]
  },
  {
   "cell_type": "code",
   "execution_count": 29,
   "id": "6c5525d0",
   "metadata": {},
   "outputs": [
    {
     "data": {
      "text/plain": [
       "No     50762\n",
       "Yes     1635\n",
       "Name: christmas_period, dtype: int64"
      ]
     },
     "execution_count": 29,
     "metadata": {},
     "output_type": "execute_result"
    }
   ],
   "source": [
    "df.christmas_period.value_counts()"
   ]
  },
  {
   "cell_type": "code",
   "execution_count": 30,
   "id": "cf891b01",
   "metadata": {},
   "outputs": [
    {
     "data": {
      "text/plain": [
       "0    50762\n",
       "1     1635\n",
       "Name: xmas, dtype: int64"
      ]
     },
     "execution_count": 30,
     "metadata": {},
     "output_type": "execute_result"
    }
   ],
   "source": [
    "df.christmas_period.replace({'No': 0, 'Yes': 1}, inplace = True)\n",
    "df.rename(columns = {'christmas_period': 'xmas'}, inplace=True)\n",
    "df.xmas.value_counts()"
   ]
  },
  {
   "cell_type": "markdown",
   "id": "f42839fb",
   "metadata": {},
   "source": [
    "### Easter Period"
   ]
  },
  {
   "cell_type": "code",
   "execution_count": 31,
   "id": "9d3b3969",
   "metadata": {},
   "outputs": [
    {
     "data": {
      "text/plain": [
       "No     52151\n",
       "Yes      246\n",
       "Name: easter_period, dtype: int64"
      ]
     },
     "execution_count": 31,
     "metadata": {},
     "output_type": "execute_result"
    }
   ],
   "source": [
    "df.easter_period.value_counts()"
   ]
  },
  {
   "cell_type": "code",
   "execution_count": 32,
   "id": "0dae9c2b",
   "metadata": {},
   "outputs": [
    {
     "data": {
      "text/plain": [
       "0    52151\n",
       "1      246\n",
       "Name: easter, dtype: int64"
      ]
     },
     "execution_count": 32,
     "metadata": {},
     "output_type": "execute_result"
    }
   ],
   "source": [
    "df.easter_period.replace({'No': 0, 'Yes': 1}, inplace = True)\n",
    "df.rename(columns = {'easter_period': 'easter'}, inplace=True)\n",
    "df.easter.value_counts()"
   ]
  },
  {
   "cell_type": "markdown",
   "id": "34c0eb78",
   "metadata": {},
   "source": [
    "### Age Group"
   ]
  },
  {
   "cell_type": "code",
   "execution_count": 33,
   "id": "bb1d0fc7",
   "metadata": {},
   "outputs": [
    {
     "data": {
      "text/plain": [
       "0_to_16         4054\n",
       "17_to_25       13689\n",
       "26_to_39       12332\n",
       "40_to_64       13307\n",
       "65_to_74        3964\n",
       "75_or_older     5051\n",
       "Name: age_group, dtype: int64"
      ]
     },
     "execution_count": 33,
     "metadata": {},
     "output_type": "execute_result"
    }
   ],
   "source": [
    "df.age_group.value_counts().sort_index()"
   ]
  },
  {
   "cell_type": "code",
   "execution_count": 34,
   "id": "0a2852f8",
   "metadata": {},
   "outputs": [
    {
     "data": {
      "text/plain": [
       "0     4054\n",
       "1    13689\n",
       "2    12332\n",
       "3    13307\n",
       "4     3964\n",
       "5     5051\n",
       "Name: age_group, dtype: int64"
      ]
     },
     "execution_count": 34,
     "metadata": {},
     "output_type": "execute_result"
    }
   ],
   "source": [
    "df.age_group.replace({'0_to_16': 0, '17_to_25': 1, '26_to_39': 2, '40_to_64': 3, '65_to_74':4, '75_or_older':5}, inplace=True)\n",
    "df.age_group.value_counts().sort_index()"
   ]
  },
  {
   "cell_type": "markdown",
   "id": "d3069433",
   "metadata": {},
   "source": [
    "### Day of Week"
   ]
  },
  {
   "cell_type": "code",
   "execution_count": 35,
   "id": "803b50c5",
   "metadata": {},
   "outputs": [
    {
     "data": {
      "text/plain": [
       "Weekday    30780\n",
       "Weekend    21617\n",
       "Name: day_of_week, dtype: int64"
      ]
     },
     "execution_count": 35,
     "metadata": {},
     "output_type": "execute_result"
    }
   ],
   "source": [
    "df.day_of_week.value_counts()"
   ]
  },
  {
   "cell_type": "code",
   "execution_count": 36,
   "id": "95572603",
   "metadata": {},
   "outputs": [
    {
     "data": {
      "text/plain": [
       "0    30780\n",
       "1    21617\n",
       "Name: weekend, dtype: int64"
      ]
     },
     "execution_count": 36,
     "metadata": {},
     "output_type": "execute_result"
    }
   ],
   "source": [
    "df.day_of_week.replace({'Weekday': 0, 'Weekend': 1}, inplace=True)\n",
    "df.rename(columns={'day_of_week': 'weekend'}, inplace=True)\n",
    "df.weekend.value_counts()"
   ]
  },
  {
   "cell_type": "markdown",
   "id": "a8f5d190",
   "metadata": {},
   "source": [
    "### Time of Day"
   ]
  },
  {
   "cell_type": "code",
   "execution_count": 37,
   "id": "730d7c64",
   "metadata": {
    "scrolled": true
   },
   "outputs": [
    {
     "data": {
      "text/plain": [
       "Day      29847\n",
       "Night    22550\n",
       "Name: time_of_day, dtype: int64"
      ]
     },
     "execution_count": 37,
     "metadata": {},
     "output_type": "execute_result"
    }
   ],
   "source": [
    "df.time_of_day.value_counts()"
   ]
  },
  {
   "cell_type": "code",
   "execution_count": 38,
   "id": "74d52b1c",
   "metadata": {},
   "outputs": [
    {
     "data": {
      "text/plain": [
       "0    29847\n",
       "1    22550\n",
       "Name: night, dtype: int64"
      ]
     },
     "execution_count": 38,
     "metadata": {},
     "output_type": "execute_result"
    }
   ],
   "source": [
    "df.time_of_day.replace({'Day': 0, 'Night': 1}, inplace=True)\n",
    "df.rename(columns = {'time_of_day': 'night'}, inplace=True)\n",
    "df.night.value_counts()"
   ]
  },
  {
   "cell_type": "markdown",
   "id": "91cd8492",
   "metadata": {},
   "source": [
    "### Datetime"
   ]
  },
  {
   "cell_type": "code",
   "execution_count": 40,
   "id": "3741d29e",
   "metadata": {},
   "outputs": [],
   "source": [
    "df.drop(columns='day', inplace=True)"
   ]
  },
  {
   "cell_type": "code",
   "execution_count": 43,
   "id": "c70eb0f7",
   "metadata": {},
   "outputs": [
    {
     "data": {
      "text/plain": [
       "Crash ID\n",
       "20215020    1/04/2021 16:00\n",
       "20212067    1/04/2021 18:00\n",
       "20213015    1/04/2021 23:00\n",
       "20211009    1/04/2021 21:05\n",
       "20211054     1/04/2021 4:25\n",
       "                 ...       \n",
       "19892636     1/01/1989 2:20\n",
       "19892179     1/01/1989 8:15\n",
       "19891003    1/01/1989 21:15\n",
       "19893105     1/01/1989 6:00\n",
       "19893105     1/01/1989 6:00\n",
       "Name: datetime, Length: 52397, dtype: object"
      ]
     },
     "execution_count": 43,
     "metadata": {},
     "output_type": "execute_result"
    }
   ],
   "source": [
    "df.datetime"
   ]
  },
  {
   "cell_type": "code",
   "execution_count": 44,
   "id": "41e86d80",
   "metadata": {},
   "outputs": [],
   "source": [
    "df['dayweek'] = df['dayweek'].astype('str')\n",
    "df['month'] = df['month'].astype('str')\n",
    "df['year'] = df['year'].astype('str')"
   ]
  },
  {
   "cell_type": "code",
   "execution_count": 45,
   "id": "160b2cb5",
   "metadata": {},
   "outputs": [],
   "source": [
    "df['dt'] = ((df['dayweek'] + '/' + df['month'] + '/' + df['year'] + ' ' + df['time']))"
   ]
  },
  {
   "cell_type": "code",
   "execution_count": 46,
   "id": "d22b9dbb",
   "metadata": {},
   "outputs": [],
   "source": [
    "df.dt = (pd.to_datetime(df.dt, dayfirst=True))"
   ]
  },
  {
   "cell_type": "code",
   "execution_count": 47,
   "id": "a6ac5520",
   "metadata": {},
   "outputs": [
    {
     "data": {
      "text/plain": [
       "<AxesSubplot:>"
      ]
     },
     "execution_count": 47,
     "metadata": {},
     "output_type": "execute_result"
    },
    {
     "data": {
      "image/png": "[encoded data removed]",
      "text/plain": [
       "<Figure size 432x288 with 1 Axes>"
      ]
     },
     "metadata": {
      "needs_background": "light"
     },
     "output_type": "display_data"
    }
   ],
   "source": [
    "df.dt.value_counts().sort_index().plot()"
   ]
  },
  {
   "cell_type": "code",
   "execution_count": 48,
   "id": "eb6b6386",
   "metadata": {},
   "outputs": [
    {
     "data": {
      "text/plain": [
       "<AxesSubplot:>"
      ]
     },
     "execution_count": 48,
     "metadata": {},
     "output_type": "execute_result"
    },
    {
     "data": {
      "image/png": "[encoded data removed]",
      "text/plain": [
       "<Figure size 432x288 with 1 Axes>"
      ]
     },
     "metadata": {
      "needs_background": "light"
     },
     "output_type": "display_data"
    }
   ],
   "source": [
    "df.month_year.value_counts().sort_index().plot()"
   ]
  },
  {
   "cell_type": "code",
   "execution_count": 49,
   "id": "a9aa34f3",
   "metadata": {},
   "outputs": [
    {
     "data": {
      "text/plain": [
       "<AxesSubplot:xlabel='month_year', ylabel='count'>"
      ]
     },
     "execution_count": 49,
     "metadata": {},
     "output_type": "execute_result"
    },
    {
     "data": {
      "image/png": "[encoded data removed]",
      "text/plain": [
       "<Figure size 432x288 with 1 Axes>"
      ]
     },
     "metadata": {
      "needs_background": "light"
     },
     "output_type": "display_data"
    }
   ],
   "source": [
    "sns.countplot(x=df.month_year, data=df, hue=df.dayweek)"
   ]
  },
  {
   "cell_type": "code",
   "execution_count": 50,
   "id": "77d55d6f",
   "metadata": {},
   "outputs": [],
   "source": [
    "df_month_year = pd.DataFrame(df.month_year.value_counts())"
   ]
  },
  {
   "cell_type": "code",
   "execution_count": 51,
   "id": "c006d46e",
   "metadata": {},
   "outputs": [],
   "source": [
    "dfmy = df_month_year.sort_index()"
   ]
  },
  {
   "cell_type": "code",
   "execution_count": 52,
   "id": "40542388",
   "metadata": {},
   "outputs": [
    {
     "data": {
      "text/html": [
       "<div>\n",
       "<style scoped>\n",
       "    .dataframe tbody tr th:only-of-type {\n",
       "        vertical-align: middle;\n",
       "    }\n",
       "\n",
       "    .dataframe tbody tr th {\n",
       "        vertical-align: top;\n",
       "    }\n",
       "\n",
       "    .dataframe thead th {\n",
       "        text-align: right;\n",
       "    }\n",
       "</style>\n",
       "<table border=\"1\" class=\"dataframe\">\n",
       "  <thead>\n",
       "    <tr style=\"text-align: right;\">\n",
       "      <th></th>\n",
       "      <th>month_year</th>\n",
       "    </tr>\n",
       "  </thead>\n",
       "  <tbody>\n",
       "    <tr>\n",
       "      <th>1989-01</th>\n",
       "      <td>228</td>\n",
       "    </tr>\n",
       "    <tr>\n",
       "      <th>1989-02</th>\n",
       "      <td>211</td>\n",
       "    </tr>\n",
       "    <tr>\n",
       "      <th>1989-03</th>\n",
       "      <td>256</td>\n",
       "    </tr>\n",
       "    <tr>\n",
       "      <th>1989-04</th>\n",
       "      <td>188</td>\n",
       "    </tr>\n",
       "    <tr>\n",
       "      <th>1989-05</th>\n",
       "      <td>213</td>\n",
       "    </tr>\n",
       "    <tr>\n",
       "      <th>1989-06</th>\n",
       "      <td>257</td>\n",
       "    </tr>\n",
       "    <tr>\n",
       "      <th>1989-07</th>\n",
       "      <td>214</td>\n",
       "    </tr>\n",
       "    <tr>\n",
       "      <th>1989-08</th>\n",
       "      <td>211</td>\n",
       "    </tr>\n",
       "    <tr>\n",
       "      <th>1989-09</th>\n",
       "      <td>269</td>\n",
       "    </tr>\n",
       "    <tr>\n",
       "      <th>1989-10</th>\n",
       "      <td>241</td>\n",
       "    </tr>\n",
       "    <tr>\n",
       "      <th>1989-11</th>\n",
       "      <td>205</td>\n",
       "    </tr>\n",
       "    <tr>\n",
       "      <th>1989-12</th>\n",
       "      <td>307</td>\n",
       "    </tr>\n",
       "    <tr>\n",
       "      <th>1990-01</th>\n",
       "      <td>174</td>\n",
       "    </tr>\n",
       "    <tr>\n",
       "      <th>1990-02</th>\n",
       "      <td>166</td>\n",
       "    </tr>\n",
       "    <tr>\n",
       "      <th>1990-03</th>\n",
       "      <td>221</td>\n",
       "    </tr>\n",
       "    <tr>\n",
       "      <th>1990-04</th>\n",
       "      <td>175</td>\n",
       "    </tr>\n",
       "    <tr>\n",
       "      <th>1990-05</th>\n",
       "      <td>186</td>\n",
       "    </tr>\n",
       "    <tr>\n",
       "      <th>1990-06</th>\n",
       "      <td>221</td>\n",
       "    </tr>\n",
       "    <tr>\n",
       "      <th>1990-07</th>\n",
       "      <td>205</td>\n",
       "    </tr>\n",
       "    <tr>\n",
       "      <th>1990-08</th>\n",
       "      <td>189</td>\n",
       "    </tr>\n",
       "  </tbody>\n",
       "</table>\n",
       "</div>"
      ],
      "text/plain": [
       "         month_year\n",
       "1989-01         228\n",
       "1989-02         211\n",
       "1989-03         256\n",
       "1989-04         188\n",
       "1989-05         213\n",
       "1989-06         257\n",
       "1989-07         214\n",
       "1989-08         211\n",
       "1989-09         269\n",
       "1989-10         241\n",
       "1989-11         205\n",
       "1989-12         307\n",
       "1990-01         174\n",
       "1990-02         166\n",
       "1990-03         221\n",
       "1990-04         175\n",
       "1990-05         186\n",
       "1990-06         221\n",
       "1990-07         205\n",
       "1990-08         189"
      ]
     },
     "execution_count": 52,
     "metadata": {},
     "output_type": "execute_result"
    }
   ],
   "source": [
    "dfmy.head(20)"
   ]
  },
  {
   "cell_type": "code",
   "execution_count": 53,
   "id": "27e6ea56",
   "metadata": {},
   "outputs": [
    {
     "data": {
      "text/plain": [
       "(388, 1)"
      ]
     },
     "execution_count": 53,
     "metadata": {},
     "output_type": "execute_result"
    }
   ],
   "source": [
    "dfmy.shape"
   ]
  },
  {
   "cell_type": "markdown",
   "id": "b16b9d72",
   "metadata": {},
   "source": [
    "# I am going to make this df as a new csv for ease of use - I will then start a new notebook. The LSTM I am going to do will only require the monthly values."
   ]
  },
  {
   "cell_type": "markdown",
   "id": "c2e27f97",
   "metadata": {},
   "source": [
    "** Everything below here was not used in the final capstone project but I am keeping for posterity as I may revisit in the future. **"
   ]
  },
  {
   "cell_type": "code",
   "execution_count": 54,
   "id": "0d95eaf1",
   "metadata": {},
   "outputs": [],
   "source": [
    "#dfmy.to_csv('df_lstm')"
   ]
  },
  {
   "cell_type": "code",
   "execution_count": 55,
   "id": "a664c61b",
   "metadata": {},
   "outputs": [
    {
     "data": {
      "text/plain": [
       "['1989-12',\n",
       " '1989-09',\n",
       " '1989-06',\n",
       " '1989-03',\n",
       " '1989-10',\n",
       " '1990-09',\n",
       " '1989-01',\n",
       " '1990-12',\n",
       " '1990-06',\n",
       " '1990-03',\n",
       " '1989-07',\n",
       " '1989-05',\n",
       " '1989-08',\n",
       " '1989-02',\n",
       " '1993-10',\n",
       " '1989-11',\n",
       " '1990-07',\n",
       " '1991-03',\n",
       " '1994-10',\n",
       " '1996-08',\n",
       " '1993-12',\n",
       " '1991-08',\n",
       " '1992-10',\n",
       " '1991-12',\n",
       " '1990-08',\n",
       " '1989-04',\n",
       " '1995-10',\n",
       " '1991-07',\n",
       " '1995-06',\n",
       " '1990-05',\n",
       " '1992-04',\n",
       " '1994-03',\n",
       " '1993-08',\n",
       " '1994-11',\n",
       " '1995-12',\n",
       " '1991-09',\n",
       " '1991-04',\n",
       " '1996-09',\n",
       " '1992-12',\n",
       " '1991-10',\n",
       " '1992-01',\n",
       " '1995-11',\n",
       " '1990-04',\n",
       " '1990-01',\n",
       " '2002-05',\n",
       " '1995-05',\n",
       " '1991-01',\n",
       " '1997-01',\n",
       " '1990-11',\n",
       " '1996-11',\n",
       " '1996-02',\n",
       " '1993-11',\n",
       " '1994-12',\n",
       " '1996-04',\n",
       " '1992-06',\n",
       " '1990-10',\n",
       " '1995-08',\n",
       " '2000-03',\n",
       " '1990-02',\n",
       " '1996-12',\n",
       " '1991-11',\n",
       " '2000-07',\n",
       " '1995-09',\n",
       " '2000-05',\n",
       " '2000-12',\n",
       " '1997-05',\n",
       " '2001-10',\n",
       " '1993-04',\n",
       " '2005-12',\n",
       " '1995-03',\n",
       " '1997-11',\n",
       " '1992-03',\n",
       " '1996-03',\n",
       " '2000-09',\n",
       " '1991-05',\n",
       " '1996-06',\n",
       " '1995-01',\n",
       " '1992-07',\n",
       " '1997-12',\n",
       " '1993-09',\n",
       " '1994-06',\n",
       " '1994-07',\n",
       " '1994-01',\n",
       " '1997-08',\n",
       " '1993-03',\n",
       " '2007-12',\n",
       " '1999-09',\n",
       " '1998-12',\n",
       " '1992-08',\n",
       " '1999-05',\n",
       " '1998-07',\n",
       " '1995-02',\n",
       " '1998-03',\n",
       " '2000-11',\n",
       " '2005-03',\n",
       " '2006-01',\n",
       " '1995-07',\n",
       " '2001-05',\n",
       " '1999-03',\n",
       " '1997-07',\n",
       " '1999-04',\n",
       " '1999-10',\n",
       " '2006-12',\n",
       " '1996-05',\n",
       " '1999-11',\n",
       " '2001-06',\n",
       " '1999-01',\n",
       " '1996-07',\n",
       " '1991-02',\n",
       " '1998-11',\n",
       " '2009-04',\n",
       " '1994-04',\n",
       " '2002-10',\n",
       " '1992-05',\n",
       " '2001-11',\n",
       " '2002-03',\n",
       " '2002-08',\n",
       " '1992-11',\n",
       " '2005-08',\n",
       " '1991-06',\n",
       " '1993-05',\n",
       " '2003-03',\n",
       " '1995-04',\n",
       " '2003-04',\n",
       " '1998-10',\n",
       " '1997-10',\n",
       " '2007-03',\n",
       " '1998-04',\n",
       " '1999-12',\n",
       " '1992-02',\n",
       " '2001-08',\n",
       " '2003-12',\n",
       " '1996-10',\n",
       " '1993-07',\n",
       " '1998-05',\n",
       " '1992-09',\n",
       " '2001-12',\n",
       " '2002-11',\n",
       " '2004-01',\n",
       " '2000-04',\n",
       " '2000-06',\n",
       " '1994-08',\n",
       " '2000-10',\n",
       " '2000-01',\n",
       " '1994-05',\n",
       " '1993-06',\n",
       " '2003-10',\n",
       " '2003-11',\n",
       " '2005-05',\n",
       " '2009-10',\n",
       " '2002-09',\n",
       " '2001-09',\n",
       " '1998-09',\n",
       " '2004-05',\n",
       " '1996-01',\n",
       " '2001-07',\n",
       " '1994-09',\n",
       " '2005-07',\n",
       " '2002-06',\n",
       " '1997-03',\n",
       " '2002-12',\n",
       " '2004-03',\n",
       " '2003-08',\n",
       " '2008-08',\n",
       " '2001-03',\n",
       " '1998-08',\n",
       " '2006-09',\n",
       " '2004-07',\n",
       " '2001-01',\n",
       " '1998-02',\n",
       " '1999-07',\n",
       " '2002-04',\n",
       " '2004-10',\n",
       " '1993-01',\n",
       " '2006-11',\n",
       " '2006-06',\n",
       " '2005-09',\n",
       " '1993-02',\n",
       " '2007-04',\n",
       " '2003-06',\n",
       " '2011-11',\n",
       " '2004-08',\n",
       " '1997-02',\n",
       " '1999-08',\n",
       " '2002-02',\n",
       " '1997-04',\n",
       " '2005-04',\n",
       " '2008-03',\n",
       " '2010-05',\n",
       " '2007-07',\n",
       " '1998-06',\n",
       " '2008-12',\n",
       " '2007-05',\n",
       " '1998-01',\n",
       " '2007-06',\n",
       " '2007-01',\n",
       " '2009-03',\n",
       " '1999-06',\n",
       " '2006-05',\n",
       " '2001-04',\n",
       " '2006-03',\n",
       " '2009-06',\n",
       " '2004-11',\n",
       " '2007-11',\n",
       " '1994-02',\n",
       " '2009-05',\n",
       " '2007-10',\n",
       " '2005-10',\n",
       " '2017-12',\n",
       " '2003-02',\n",
       " '2007-08',\n",
       " '2006-08',\n",
       " '2006-02',\n",
       " '2003-01',\n",
       " '2002-07',\n",
       " '2004-12',\n",
       " '1997-09',\n",
       " '2010-01',\n",
       " '1999-02',\n",
       " '2000-08',\n",
       " '2012-08',\n",
       " '2000-02',\n",
       " '2003-05',\n",
       " '2008-10',\n",
       " '2015-10',\n",
       " '2005-11',\n",
       " '2015-08',\n",
       " '2006-04',\n",
       " '2009-12',\n",
       " '2008-07',\n",
       " '2008-06',\n",
       " '2001-02',\n",
       " '2004-06',\n",
       " '2004-04',\n",
       " '2011-12',\n",
       " '2004-09',\n",
       " '2005-06',\n",
       " '2010-10',\n",
       " '2007-02',\n",
       " '2006-10',\n",
       " '2010-12',\n",
       " '2003-09',\n",
       " '2007-09',\n",
       " '2002-01',\n",
       " '2010-11',\n",
       " '2005-02',\n",
       " '2012-11',\n",
       " '2019-01',\n",
       " '2016-10',\n",
       " '2012-10',\n",
       " '2009-08',\n",
       " '2009-02',\n",
       " '2004-02',\n",
       " '2008-11',\n",
       " '2016-07',\n",
       " '2011-04',\n",
       " '2016-12',\n",
       " '2010-04',\n",
       " '2006-07',\n",
       " '2009-01',\n",
       " '1997-06',\n",
       " '2019-03',\n",
       " '2012-05',\n",
       " '2016-04',\n",
       " '2016-08',\n",
       " '2009-09',\n",
       " '2018-03',\n",
       " '2012-12',\n",
       " '2017-08',\n",
       " '2011-03',\n",
       " '2008-01',\n",
       " '2017-11',\n",
       " '2010-06',\n",
       " '2014-03',\n",
       " '2005-01',\n",
       " '2017-07',\n",
       " '2008-09',\n",
       " '2011-08',\n",
       " '2016-03',\n",
       " '2012-09',\n",
       " '2019-12',\n",
       " '2013-05',\n",
       " '2009-07',\n",
       " '2011-05',\n",
       " '2008-04',\n",
       " '2008-05',\n",
       " '2013-12',\n",
       " '2014-11',\n",
       " '2016-01',\n",
       " '2010-07',\n",
       " '2020-10',\n",
       " '2016-05',\n",
       " '2013-11',\n",
       " '2012-06',\n",
       " '2009-11',\n",
       " '2012-01',\n",
       " '2003-07',\n",
       " '2013-08',\n",
       " '2019-05',\n",
       " '2012-04',\n",
       " '2018-09',\n",
       " '2015-05',\n",
       " '2018-08',\n",
       " '2013-03',\n",
       " '2020-11',\n",
       " '2011-06',\n",
       " '2015-01',\n",
       " '2017-06',\n",
       " '2010-09',\n",
       " '2010-03',\n",
       " '2016-11',\n",
       " '2014-10',\n",
       " '2021-03',\n",
       " '2008-02',\n",
       " '2020-03',\n",
       " '2014-05',\n",
       " '2013-02',\n",
       " '2017-04',\n",
       " '2012-03',\n",
       " '2018-01',\n",
       " '2014-08',\n",
       " '2019-10',\n",
       " '2015-04',\n",
       " '2016-02',\n",
       " '2011-07',\n",
       " '2014-09',\n",
       " '2017-05',\n",
       " '2019-08',\n",
       " '2011-02',\n",
       " '2015-06',\n",
       " '2018-11',\n",
       " '2019-04',\n",
       " '2010-02',\n",
       " '2020-08',\n",
       " '2018-12',\n",
       " '2021-01',\n",
       " '2014-01',\n",
       " '2017-01',\n",
       " '2015-03',\n",
       " '2017-09',\n",
       " '2013-01',\n",
       " '2021-02',\n",
       " '2013-07',\n",
       " '2016-06',\n",
       " '2018-07',\n",
       " '2017-10',\n",
       " '2020-07',\n",
       " '2015-12',\n",
       " '2020-12',\n",
       " '2015-11',\n",
       " '2010-08',\n",
       " '2012-02',\n",
       " '2015-07',\n",
       " '2013-10',\n",
       " '2016-09',\n",
       " '2014-07',\n",
       " '2017-03',\n",
       " '2020-02',\n",
       " '2013-06',\n",
       " '2015-09',\n",
       " '2019-09',\n",
       " '2019-06',\n",
       " '2019-02',\n",
       " '2011-10',\n",
       " '2011-01',\n",
       " '2018-05',\n",
       " '2014-06',\n",
       " '2011-09',\n",
       " '2012-07',\n",
       " '2018-04',\n",
       " '2014-02',\n",
       " '2018-02',\n",
       " '2014-12',\n",
       " '2013-04',\n",
       " '2021-04',\n",
       " '2019-07',\n",
       " '2020-01',\n",
       " '2020-06',\n",
       " '2020-09',\n",
       " '2013-09',\n",
       " '2020-05',\n",
       " '2019-11',\n",
       " '2020-04',\n",
       " '2018-06',\n",
       " '2018-10',\n",
       " '2014-04',\n",
       " '2015-02',\n",
       " '2017-02']"
      ]
     },
     "execution_count": 55,
     "metadata": {},
     "output_type": "execute_result"
    }
   ],
   "source": [
    "df.month_year.value_counts().index.tolist()"
   ]
  },
  {
   "cell_type": "code",
   "execution_count": 56,
   "id": "e43b12a9",
   "metadata": {
    "scrolled": true
   },
   "outputs": [
    {
     "data": {
      "text/plain": [
       "(388, 1)"
      ]
     },
     "execution_count": 56,
     "metadata": {},
     "output_type": "execute_result"
    }
   ],
   "source": [
    "df_month_year.shape"
   ]
  },
  {
   "cell_type": "code",
   "execution_count": 57,
   "id": "2a19a240",
   "metadata": {},
   "outputs": [
    {
     "data": {
      "text/html": [
       "<div>\n",
       "<style scoped>\n",
       "    .dataframe tbody tr th:only-of-type {\n",
       "        vertical-align: middle;\n",
       "    }\n",
       "\n",
       "    .dataframe tbody tr th {\n",
       "        vertical-align: top;\n",
       "    }\n",
       "\n",
       "    .dataframe thead th {\n",
       "        text-align: right;\n",
       "    }\n",
       "</style>\n",
       "<table border=\"1\" class=\"dataframe\">\n",
       "  <thead>\n",
       "    <tr style=\"text-align: right;\">\n",
       "      <th></th>\n",
       "      <th>state</th>\n",
       "      <th>month</th>\n",
       "      <th>year</th>\n",
       "      <th>dayweek</th>\n",
       "      <th>time</th>\n",
       "      <th>multiple</th>\n",
       "      <th>bus</th>\n",
       "      <th>truck</th>\n",
       "      <th>speed_limit</th>\n",
       "      <th>road_user</th>\n",
       "      <th>gender</th>\n",
       "      <th>age</th>\n",
       "      <th>xmas</th>\n",
       "      <th>easter</th>\n",
       "      <th>age_group</th>\n",
       "      <th>weekend</th>\n",
       "      <th>night</th>\n",
       "      <th>datetime</th>\n",
       "      <th>month_year</th>\n",
       "      <th>dt</th>\n",
       "    </tr>\n",
       "    <tr>\n",
       "      <th>Crash ID</th>\n",
       "      <th></th>\n",
       "      <th></th>\n",
       "      <th></th>\n",
       "      <th></th>\n",
       "      <th></th>\n",
       "      <th></th>\n",
       "      <th></th>\n",
       "      <th></th>\n",
       "      <th></th>\n",
       "      <th></th>\n",
       "      <th></th>\n",
       "      <th></th>\n",
       "      <th></th>\n",
       "      <th></th>\n",
       "      <th></th>\n",
       "      <th></th>\n",
       "      <th></th>\n",
       "      <th></th>\n",
       "      <th></th>\n",
       "      <th></th>\n",
       "    </tr>\n",
       "  </thead>\n",
       "  <tbody>\n",
       "    <tr>\n",
       "      <th>20215020</th>\n",
       "      <td>4</td>\n",
       "      <td>4</td>\n",
       "      <td>2021</td>\n",
       "      <td>2</td>\n",
       "      <td>16:00:00</td>\n",
       "      <td>0</td>\n",
       "      <td>0</td>\n",
       "      <td>0</td>\n",
       "      <td>5</td>\n",
       "      <td>3</td>\n",
       "      <td>0</td>\n",
       "      <td>3</td>\n",
       "      <td>0</td>\n",
       "      <td>0</td>\n",
       "      <td>0</td>\n",
       "      <td>0</td>\n",
       "      <td>0</td>\n",
       "      <td>1/04/2021 16:00</td>\n",
       "      <td>2021-04</td>\n",
       "      <td>2021-04-02 16:00:00</td>\n",
       "    </tr>\n",
       "    <tr>\n",
       "      <th>20212067</th>\n",
       "      <td>2</td>\n",
       "      <td>4</td>\n",
       "      <td>2021</td>\n",
       "      <td>4</td>\n",
       "      <td>18:00:00</td>\n",
       "      <td>1</td>\n",
       "      <td>0</td>\n",
       "      <td>0</td>\n",
       "      <td>5</td>\n",
       "      <td>4</td>\n",
       "      <td>0</td>\n",
       "      <td>55</td>\n",
       "      <td>0</td>\n",
       "      <td>0</td>\n",
       "      <td>3</td>\n",
       "      <td>0</td>\n",
       "      <td>1</td>\n",
       "      <td>1/04/2021 18:00</td>\n",
       "      <td>2021-04</td>\n",
       "      <td>2021-04-04 18:00:00</td>\n",
       "    </tr>\n",
       "    <tr>\n",
       "      <th>20213015</th>\n",
       "      <td>3</td>\n",
       "      <td>4</td>\n",
       "      <td>2021</td>\n",
       "      <td>7</td>\n",
       "      <td>23:00:00</td>\n",
       "      <td>0</td>\n",
       "      <td>0</td>\n",
       "      <td>0</td>\n",
       "      <td>4</td>\n",
       "      <td>1</td>\n",
       "      <td>0</td>\n",
       "      <td>21</td>\n",
       "      <td>0</td>\n",
       "      <td>0</td>\n",
       "      <td>1</td>\n",
       "      <td>1</td>\n",
       "      <td>1</td>\n",
       "      <td>1/04/2021 23:00</td>\n",
       "      <td>2021-04</td>\n",
       "      <td>2021-04-07 23:00:00</td>\n",
       "    </tr>\n",
       "    <tr>\n",
       "      <th>20211009</th>\n",
       "      <td>1</td>\n",
       "      <td>4</td>\n",
       "      <td>2021</td>\n",
       "      <td>4</td>\n",
       "      <td>21:05:00</td>\n",
       "      <td>0</td>\n",
       "      <td>0</td>\n",
       "      <td>0</td>\n",
       "      <td>8</td>\n",
       "      <td>3</td>\n",
       "      <td>1</td>\n",
       "      <td>21</td>\n",
       "      <td>0</td>\n",
       "      <td>0</td>\n",
       "      <td>1</td>\n",
       "      <td>0</td>\n",
       "      <td>1</td>\n",
       "      <td>1/04/2021 21:05</td>\n",
       "      <td>2021-04</td>\n",
       "      <td>2021-04-04 21:05:00</td>\n",
       "    </tr>\n",
       "    <tr>\n",
       "      <th>20211054</th>\n",
       "      <td>1</td>\n",
       "      <td>4</td>\n",
       "      <td>2021</td>\n",
       "      <td>6</td>\n",
       "      <td>4:25:00</td>\n",
       "      <td>0</td>\n",
       "      <td>0</td>\n",
       "      <td>0</td>\n",
       "      <td>5</td>\n",
       "      <td>2</td>\n",
       "      <td>0</td>\n",
       "      <td>5</td>\n",
       "      <td>0</td>\n",
       "      <td>0</td>\n",
       "      <td>0</td>\n",
       "      <td>1</td>\n",
       "      <td>1</td>\n",
       "      <td>1/04/2021 4:25</td>\n",
       "      <td>2021-04</td>\n",
       "      <td>2021-04-06 04:25:00</td>\n",
       "    </tr>\n",
       "  </tbody>\n",
       "</table>\n",
       "</div>"
      ],
      "text/plain": [
       "          state month  year dayweek      time  multiple  bus  truck  \\\n",
       "Crash ID                                                              \n",
       "20215020      4     4  2021       2  16:00:00         0    0      0   \n",
       "20212067      2     4  2021       4  18:00:00         1    0      0   \n",
       "20213015      3     4  2021       7  23:00:00         0    0      0   \n",
       "20211009      1     4  2021       4  21:05:00         0    0      0   \n",
       "20211054      1     4  2021       6   4:25:00         0    0      0   \n",
       "\n",
       "          speed_limit  road_user  gender  age  xmas  easter  age_group  \\\n",
       "Crash ID                                                                 \n",
       "20215020            5          3       0    3     0       0          0   \n",
       "20212067            5          4       0   55     0       0          3   \n",
       "20213015            4          1       0   21     0       0          1   \n",
       "20211009            8          3       1   21     0       0          1   \n",
       "20211054            5          2       0    5     0       0          0   \n",
       "\n",
       "          weekend  night         datetime month_year                  dt  \n",
       "Crash ID                                                                  \n",
       "20215020        0      0  1/04/2021 16:00    2021-04 2021-04-02 16:00:00  \n",
       "20212067        0      1  1/04/2021 18:00    2021-04 2021-04-04 18:00:00  \n",
       "20213015        1      1  1/04/2021 23:00    2021-04 2021-04-07 23:00:00  \n",
       "20211009        0      1  1/04/2021 21:05    2021-04 2021-04-04 21:05:00  \n",
       "20211054        1      1   1/04/2021 4:25    2021-04 2021-04-06 04:25:00  "
      ]
     },
     "execution_count": 57,
     "metadata": {},
     "output_type": "execute_result"
    }
   ],
   "source": [
    "df.head()"
   ]
  },
  {
   "cell_type": "code",
   "execution_count": 58,
   "id": "444be415",
   "metadata": {},
   "outputs": [],
   "source": [
    "df_m_y = pd.DataFrame()"
   ]
  },
  {
   "cell_type": "code",
   "execution_count": 59,
   "id": "64b9606d",
   "metadata": {},
   "outputs": [
    {
     "data": {
      "text/html": [
       "<div>\n",
       "<style scoped>\n",
       "    .dataframe tbody tr th:only-of-type {\n",
       "        vertical-align: middle;\n",
       "    }\n",
       "\n",
       "    .dataframe tbody tr th {\n",
       "        vertical-align: top;\n",
       "    }\n",
       "\n",
       "    .dataframe thead th {\n",
       "        text-align: right;\n",
       "    }\n",
       "</style>\n",
       "<table border=\"1\" class=\"dataframe\">\n",
       "  <thead>\n",
       "    <tr style=\"text-align: right;\">\n",
       "      <th></th>\n",
       "      <th>state</th>\n",
       "      <th>month</th>\n",
       "      <th>year</th>\n",
       "      <th>dayweek</th>\n",
       "      <th>time</th>\n",
       "      <th>multiple</th>\n",
       "      <th>bus</th>\n",
       "      <th>truck</th>\n",
       "      <th>speed_limit</th>\n",
       "      <th>road_user</th>\n",
       "      <th>gender</th>\n",
       "      <th>age</th>\n",
       "      <th>xmas</th>\n",
       "      <th>easter</th>\n",
       "      <th>age_group</th>\n",
       "      <th>weekend</th>\n",
       "      <th>night</th>\n",
       "      <th>datetime</th>\n",
       "      <th>month_year</th>\n",
       "      <th>dt</th>\n",
       "    </tr>\n",
       "    <tr>\n",
       "      <th>Crash ID</th>\n",
       "      <th></th>\n",
       "      <th></th>\n",
       "      <th></th>\n",
       "      <th></th>\n",
       "      <th></th>\n",
       "      <th></th>\n",
       "      <th></th>\n",
       "      <th></th>\n",
       "      <th></th>\n",
       "      <th></th>\n",
       "      <th></th>\n",
       "      <th></th>\n",
       "      <th></th>\n",
       "      <th></th>\n",
       "      <th></th>\n",
       "      <th></th>\n",
       "      <th></th>\n",
       "      <th></th>\n",
       "      <th></th>\n",
       "      <th></th>\n",
       "    </tr>\n",
       "  </thead>\n",
       "  <tbody>\n",
       "    <tr>\n",
       "      <th>20215020</th>\n",
       "      <td>4</td>\n",
       "      <td>4</td>\n",
       "      <td>2021</td>\n",
       "      <td>2</td>\n",
       "      <td>16:00:00</td>\n",
       "      <td>0</td>\n",
       "      <td>0</td>\n",
       "      <td>0</td>\n",
       "      <td>5</td>\n",
       "      <td>3</td>\n",
       "      <td>0</td>\n",
       "      <td>3</td>\n",
       "      <td>0</td>\n",
       "      <td>0</td>\n",
       "      <td>0</td>\n",
       "      <td>0</td>\n",
       "      <td>0</td>\n",
       "      <td>1/04/2021 16:00</td>\n",
       "      <td>2021-04</td>\n",
       "      <td>2021-04-02 16:00:00</td>\n",
       "    </tr>\n",
       "    <tr>\n",
       "      <th>20212067</th>\n",
       "      <td>2</td>\n",
       "      <td>4</td>\n",
       "      <td>2021</td>\n",
       "      <td>4</td>\n",
       "      <td>18:00:00</td>\n",
       "      <td>1</td>\n",
       "      <td>0</td>\n",
       "      <td>0</td>\n",
       "      <td>5</td>\n",
       "      <td>4</td>\n",
       "      <td>0</td>\n",
       "      <td>55</td>\n",
       "      <td>0</td>\n",
       "      <td>0</td>\n",
       "      <td>3</td>\n",
       "      <td>0</td>\n",
       "      <td>1</td>\n",
       "      <td>1/04/2021 18:00</td>\n",
       "      <td>2021-04</td>\n",
       "      <td>2021-04-04 18:00:00</td>\n",
       "    </tr>\n",
       "    <tr>\n",
       "      <th>20213015</th>\n",
       "      <td>3</td>\n",
       "      <td>4</td>\n",
       "      <td>2021</td>\n",
       "      <td>7</td>\n",
       "      <td>23:00:00</td>\n",
       "      <td>0</td>\n",
       "      <td>0</td>\n",
       "      <td>0</td>\n",
       "      <td>4</td>\n",
       "      <td>1</td>\n",
       "      <td>0</td>\n",
       "      <td>21</td>\n",
       "      <td>0</td>\n",
       "      <td>0</td>\n",
       "      <td>1</td>\n",
       "      <td>1</td>\n",
       "      <td>1</td>\n",
       "      <td>1/04/2021 23:00</td>\n",
       "      <td>2021-04</td>\n",
       "      <td>2021-04-07 23:00:00</td>\n",
       "    </tr>\n",
       "    <tr>\n",
       "      <th>20211009</th>\n",
       "      <td>1</td>\n",
       "      <td>4</td>\n",
       "      <td>2021</td>\n",
       "      <td>4</td>\n",
       "      <td>21:05:00</td>\n",
       "      <td>0</td>\n",
       "      <td>0</td>\n",
       "      <td>0</td>\n",
       "      <td>8</td>\n",
       "      <td>3</td>\n",
       "      <td>1</td>\n",
       "      <td>21</td>\n",
       "      <td>0</td>\n",
       "      <td>0</td>\n",
       "      <td>1</td>\n",
       "      <td>0</td>\n",
       "      <td>1</td>\n",
       "      <td>1/04/2021 21:05</td>\n",
       "      <td>2021-04</td>\n",
       "      <td>2021-04-04 21:05:00</td>\n",
       "    </tr>\n",
       "    <tr>\n",
       "      <th>20211054</th>\n",
       "      <td>1</td>\n",
       "      <td>4</td>\n",
       "      <td>2021</td>\n",
       "      <td>6</td>\n",
       "      <td>4:25:00</td>\n",
       "      <td>0</td>\n",
       "      <td>0</td>\n",
       "      <td>0</td>\n",
       "      <td>5</td>\n",
       "      <td>2</td>\n",
       "      <td>0</td>\n",
       "      <td>5</td>\n",
       "      <td>0</td>\n",
       "      <td>0</td>\n",
       "      <td>0</td>\n",
       "      <td>1</td>\n",
       "      <td>1</td>\n",
       "      <td>1/04/2021 4:25</td>\n",
       "      <td>2021-04</td>\n",
       "      <td>2021-04-06 04:25:00</td>\n",
       "    </tr>\n",
       "  </tbody>\n",
       "</table>\n",
       "</div>"
      ],
      "text/plain": [
       "          state month  year dayweek      time  multiple  bus  truck  \\\n",
       "Crash ID                                                              \n",
       "20215020      4     4  2021       2  16:00:00         0    0      0   \n",
       "20212067      2     4  2021       4  18:00:00         1    0      0   \n",
       "20213015      3     4  2021       7  23:00:00         0    0      0   \n",
       "20211009      1     4  2021       4  21:05:00         0    0      0   \n",
       "20211054      1     4  2021       6   4:25:00         0    0      0   \n",
       "\n",
       "          speed_limit  road_user  gender  age  xmas  easter  age_group  \\\n",
       "Crash ID                                                                 \n",
       "20215020            5          3       0    3     0       0          0   \n",
       "20212067            5          4       0   55     0       0          3   \n",
       "20213015            4          1       0   21     0       0          1   \n",
       "20211009            8          3       1   21     0       0          1   \n",
       "20211054            5          2       0    5     0       0          0   \n",
       "\n",
       "          weekend  night         datetime month_year                  dt  \n",
       "Crash ID                                                                  \n",
       "20215020        0      0  1/04/2021 16:00    2021-04 2021-04-02 16:00:00  \n",
       "20212067        0      1  1/04/2021 18:00    2021-04 2021-04-04 18:00:00  \n",
       "20213015        1      1  1/04/2021 23:00    2021-04 2021-04-07 23:00:00  \n",
       "20211009        0      1  1/04/2021 21:05    2021-04 2021-04-04 21:05:00  \n",
       "20211054        1      1   1/04/2021 4:25    2021-04 2021-04-06 04:25:00  "
      ]
     },
     "execution_count": 59,
     "metadata": {},
     "output_type": "execute_result"
    }
   ],
   "source": [
    "df.head()"
   ]
  },
  {
   "cell_type": "code",
   "execution_count": 64,
   "id": "49381754",
   "metadata": {},
   "outputs": [
    {
     "data": {
      "text/html": [
       "<div>\n",
       "<style scoped>\n",
       "    .dataframe tbody tr th:only-of-type {\n",
       "        vertical-align: middle;\n",
       "    }\n",
       "\n",
       "    .dataframe tbody tr th {\n",
       "        vertical-align: top;\n",
       "    }\n",
       "\n",
       "    .dataframe thead th {\n",
       "        text-align: right;\n",
       "    }\n",
       "</style>\n",
       "<table border=\"1\" class=\"dataframe\">\n",
       "  <thead>\n",
       "    <tr style=\"text-align: right;\">\n",
       "      <th></th>\n",
       "      <th>month_year</th>\n",
       "    </tr>\n",
       "  </thead>\n",
       "  <tbody>\n",
       "    <tr>\n",
       "      <th>1989-12</th>\n",
       "      <td>307</td>\n",
       "    </tr>\n",
       "    <tr>\n",
       "      <th>1989-09</th>\n",
       "      <td>269</td>\n",
       "    </tr>\n",
       "    <tr>\n",
       "      <th>1989-06</th>\n",
       "      <td>257</td>\n",
       "    </tr>\n",
       "    <tr>\n",
       "      <th>1989-03</th>\n",
       "      <td>256</td>\n",
       "    </tr>\n",
       "    <tr>\n",
       "      <th>1989-10</th>\n",
       "      <td>241</td>\n",
       "    </tr>\n",
       "  </tbody>\n",
       "</table>\n",
       "</div>"
      ],
      "text/plain": [
       "         month_year\n",
       "1989-12         307\n",
       "1989-09         269\n",
       "1989-06         257\n",
       "1989-03         256\n",
       "1989-10         241"
      ]
     },
     "execution_count": 64,
     "metadata": {},
     "output_type": "execute_result"
    }
   ],
   "source": [
    "df_month_year.head()"
   ]
  },
  {
   "cell_type": "code",
   "execution_count": 65,
   "id": "4b303b39",
   "metadata": {},
   "outputs": [
    {
     "data": {
      "text/plain": [
       "month_year    307\n",
       "Name: 1989-12, dtype: int64"
      ]
     },
     "execution_count": 65,
     "metadata": {},
     "output_type": "execute_result"
    }
   ],
   "source": [
    "df_month_year.iloc[0]"
   ]
  },
  {
   "cell_type": "code",
   "execution_count": 66,
   "id": "007e8741",
   "metadata": {},
   "outputs": [
    {
     "data": {
      "text/plain": [
       "'1989'"
      ]
     },
     "execution_count": 66,
     "metadata": {},
     "output_type": "execute_result"
    }
   ],
   "source": [
    "df_month_year.index[0][0:4]"
   ]
  },
  {
   "cell_type": "code",
   "execution_count": 67,
   "id": "8f69275f",
   "metadata": {},
   "outputs": [
    {
     "data": {
      "text/plain": [
       "'12'"
      ]
     },
     "execution_count": 67,
     "metadata": {},
     "output_type": "execute_result"
    }
   ],
   "source": [
    "df_month_year.index[0][5:7]"
   ]
  },
  {
   "cell_type": "code",
   "execution_count": 68,
   "id": "645a0cbc",
   "metadata": {},
   "outputs": [
    {
     "data": {
      "text/plain": [
       "'12'"
      ]
     },
     "execution_count": 68,
     "metadata": {},
     "output_type": "execute_result"
    }
   ],
   "source": [
    "(df_month_year.index[0][5:7])"
   ]
  },
  {
   "cell_type": "code",
   "execution_count": 69,
   "id": "3aa80ba2",
   "metadata": {},
   "outputs": [],
   "source": [
    "month = []\n",
    "\n",
    "for i in range(df_month_year.shape[0]):\n",
    "    month.append(df_month_year.index[i][5:7])   "
   ]
  },
  {
   "cell_type": "code",
   "execution_count": 70,
   "id": "1d698461",
   "metadata": {},
   "outputs": [
    {
     "data": {
      "text/plain": [
       "['12',\n",
       " '09',\n",
       " '06',\n",
       " '03',\n",
       " '10',\n",
       " '09',\n",
       " '01',\n",
       " '12',\n",
       " '06',\n",
       " '03',\n",
       " '07',\n",
       " '05',\n",
       " '08',\n",
       " '02',\n",
       " '10',\n",
       " '11',\n",
       " '07',\n",
       " '03',\n",
       " '10',\n",
       " '08',\n",
       " '12',\n",
       " '08',\n",
       " '10',\n",
       " '12',\n",
       " '08',\n",
       " '04',\n",
       " '10',\n",
       " '07',\n",
       " '06',\n",
       " '05',\n",
       " '04',\n",
       " '03',\n",
       " '08',\n",
       " '11',\n",
       " '12',\n",
       " '09',\n",
       " '04',\n",
       " '09',\n",
       " '12',\n",
       " '10',\n",
       " '01',\n",
       " '11',\n",
       " '04',\n",
       " '01',\n",
       " '05',\n",
       " '05',\n",
       " '01',\n",
       " '01',\n",
       " '11',\n",
       " '11',\n",
       " '02',\n",
       " '11',\n",
       " '12',\n",
       " '04',\n",
       " '06',\n",
       " '10',\n",
       " '08',\n",
       " '03',\n",
       " '02',\n",
       " '12',\n",
       " '11',\n",
       " '07',\n",
       " '09',\n",
       " '05',\n",
       " '12',\n",
       " '05',\n",
       " '10',\n",
       " '04',\n",
       " '12',\n",
       " '03',\n",
       " '11',\n",
       " '03',\n",
       " '03',\n",
       " '09',\n",
       " '05',\n",
       " '06',\n",
       " '01',\n",
       " '07',\n",
       " '12',\n",
       " '09',\n",
       " '06',\n",
       " '07',\n",
       " '01',\n",
       " '08',\n",
       " '03',\n",
       " '12',\n",
       " '09',\n",
       " '12',\n",
       " '08',\n",
       " '05',\n",
       " '07',\n",
       " '02',\n",
       " '03',\n",
       " '11',\n",
       " '03',\n",
       " '01',\n",
       " '07',\n",
       " '05',\n",
       " '03',\n",
       " '07',\n",
       " '04',\n",
       " '10',\n",
       " '12',\n",
       " '05',\n",
       " '11',\n",
       " '06',\n",
       " '01',\n",
       " '07',\n",
       " '02',\n",
       " '11',\n",
       " '04',\n",
       " '04',\n",
       " '10',\n",
       " '05',\n",
       " '11',\n",
       " '03',\n",
       " '08',\n",
       " '11',\n",
       " '08',\n",
       " '06',\n",
       " '05',\n",
       " '03',\n",
       " '04',\n",
       " '04',\n",
       " '10',\n",
       " '10',\n",
       " '03',\n",
       " '04',\n",
       " '12',\n",
       " '02',\n",
       " '08',\n",
       " '12',\n",
       " '10',\n",
       " '07',\n",
       " '05',\n",
       " '09',\n",
       " '12',\n",
       " '11',\n",
       " '01',\n",
       " '04',\n",
       " '06',\n",
       " '08',\n",
       " '10',\n",
       " '01',\n",
       " '05',\n",
       " '06',\n",
       " '10',\n",
       " '11',\n",
       " '05',\n",
       " '10',\n",
       " '09',\n",
       " '09',\n",
       " '09',\n",
       " '05',\n",
       " '01',\n",
       " '07',\n",
       " '09',\n",
       " '07',\n",
       " '06',\n",
       " '03',\n",
       " '12',\n",
       " '03',\n",
       " '08',\n",
       " '08',\n",
       " '03',\n",
       " '08',\n",
       " '09',\n",
       " '07',\n",
       " '01',\n",
       " '02',\n",
       " '07',\n",
       " '04',\n",
       " '10',\n",
       " '01',\n",
       " '11',\n",
       " '06',\n",
       " '09',\n",
       " '02',\n",
       " '04',\n",
       " '06',\n",
       " '11',\n",
       " '08',\n",
       " '02',\n",
       " '08',\n",
       " '02',\n",
       " '04',\n",
       " '04',\n",
       " '03',\n",
       " '05',\n",
       " '07',\n",
       " '06',\n",
       " '12',\n",
       " '05',\n",
       " '01',\n",
       " '06',\n",
       " '01',\n",
       " '03',\n",
       " '06',\n",
       " '05',\n",
       " '04',\n",
       " '03',\n",
       " '06',\n",
       " '11',\n",
       " '11',\n",
       " '02',\n",
       " '05',\n",
       " '10',\n",
       " '10',\n",
       " '12',\n",
       " '02',\n",
       " '08',\n",
       " '08',\n",
       " '02',\n",
       " '01',\n",
       " '07',\n",
       " '12',\n",
       " '09',\n",
       " '01',\n",
       " '02',\n",
       " '08',\n",
       " '08',\n",
       " '02',\n",
       " '05',\n",
       " '10',\n",
       " '10',\n",
       " '11',\n",
       " '08',\n",
       " '04',\n",
       " '12',\n",
       " '07',\n",
       " '06',\n",
       " '02',\n",
       " '06',\n",
       " '04',\n",
       " '12',\n",
       " '09',\n",
       " '06',\n",
       " '10',\n",
       " '02',\n",
       " '10',\n",
       " '12',\n",
       " '09',\n",
       " '09',\n",
       " '01',\n",
       " '11',\n",
       " '02',\n",
       " '11',\n",
       " '01',\n",
       " '10',\n",
       " '10',\n",
       " '08',\n",
       " '02',\n",
       " '02',\n",
       " '11',\n",
       " '07',\n",
       " '04',\n",
       " '12',\n",
       " '04',\n",
       " '07',\n",
       " '01',\n",
       " '06',\n",
       " '03',\n",
       " '05',\n",
       " '04',\n",
       " '08',\n",
       " '09',\n",
       " '03',\n",
       " '12',\n",
       " '08',\n",
       " '03',\n",
       " '01',\n",
       " '11',\n",
       " '06',\n",
       " '03',\n",
       " '01',\n",
       " '07',\n",
       " '09',\n",
       " '08',\n",
       " '03',\n",
       " '09',\n",
       " '12',\n",
       " '05',\n",
       " '07',\n",
       " '05',\n",
       " '04',\n",
       " '05',\n",
       " '12',\n",
       " '11',\n",
       " '01',\n",
       " '07',\n",
       " '10',\n",
       " '05',\n",
       " '11',\n",
       " '06',\n",
       " '11',\n",
       " '01',\n",
       " '07',\n",
       " '08',\n",
       " '05',\n",
       " '04',\n",
       " '09',\n",
       " '05',\n",
       " '08',\n",
       " '03',\n",
       " '11',\n",
       " '06',\n",
       " '01',\n",
       " '06',\n",
       " '09',\n",
       " '03',\n",
       " '11',\n",
       " '10',\n",
       " '03',\n",
       " '02',\n",
       " '03',\n",
       " '05',\n",
       " '02',\n",
       " '04',\n",
       " '03',\n",
       " '01',\n",
       " '08',\n",
       " '10',\n",
       " '04',\n",
       " '02',\n",
       " '07',\n",
       " '09',\n",
       " '05',\n",
       " '08',\n",
       " '02',\n",
       " '06',\n",
       " '11',\n",
       " '04',\n",
       " '02',\n",
       " '08',\n",
       " '12',\n",
       " '01',\n",
       " '01',\n",
       " '01',\n",
       " '03',\n",
       " '09',\n",
       " '01',\n",
       " '02',\n",
       " '07',\n",
       " '06',\n",
       " '07',\n",
       " '10',\n",
       " '07',\n",
       " '12',\n",
       " '12',\n",
       " '11',\n",
       " '08',\n",
       " '02',\n",
       " '07',\n",
       " '10',\n",
       " '09',\n",
       " '07',\n",
       " '03',\n",
       " '02',\n",
       " '06',\n",
       " '09',\n",
       " '09',\n",
       " '06',\n",
       " '02',\n",
       " '10',\n",
       " '01',\n",
       " '05',\n",
       " '06',\n",
       " '09',\n",
       " '07',\n",
       " '04',\n",
       " '02',\n",
       " '02',\n",
       " '12',\n",
       " '04',\n",
       " '04',\n",
       " '07',\n",
       " '01',\n",
       " '06',\n",
       " '09',\n",
       " '09',\n",
       " '05',\n",
       " '11',\n",
       " '04',\n",
       " '06',\n",
       " '10',\n",
       " '04',\n",
       " '02',\n",
       " '02']"
      ]
     },
     "execution_count": 70,
     "metadata": {},
     "output_type": "execute_result"
    }
   ],
   "source": [
    "month"
   ]
  },
  {
   "cell_type": "code",
   "execution_count": 71,
   "id": "ccfa203f",
   "metadata": {},
   "outputs": [
    {
     "data": {
      "text/plain": [
       "388"
      ]
     },
     "execution_count": 71,
     "metadata": {},
     "output_type": "execute_result"
    }
   ],
   "source": [
    "df_month_year.shape[0]"
   ]
  },
  {
   "cell_type": "code",
   "execution_count": 72,
   "id": "6403e486",
   "metadata": {},
   "outputs": [
    {
     "data": {
      "text/plain": [
       "['1989',\n",
       " '1989',\n",
       " '1989',\n",
       " '1989',\n",
       " '1989',\n",
       " '1990',\n",
       " '1989',\n",
       " '1990',\n",
       " '1990',\n",
       " '1990',\n",
       " '1989',\n",
       " '1989',\n",
       " '1989',\n",
       " '1989',\n",
       " '1993',\n",
       " '1989',\n",
       " '1990',\n",
       " '1991',\n",
       " '1994',\n",
       " '1996',\n",
       " '1993',\n",
       " '1991',\n",
       " '1992',\n",
       " '1991',\n",
       " '1990',\n",
       " '1989',\n",
       " '1995',\n",
       " '1991',\n",
       " '1995',\n",
       " '1990',\n",
       " '1992',\n",
       " '1994',\n",
       " '1993',\n",
       " '1994',\n",
       " '1995',\n",
       " '1991',\n",
       " '1991',\n",
       " '1996',\n",
       " '1992',\n",
       " '1991',\n",
       " '1992',\n",
       " '1995',\n",
       " '1990',\n",
       " '1990',\n",
       " '2002',\n",
       " '1995',\n",
       " '1991',\n",
       " '1997',\n",
       " '1990',\n",
       " '1996',\n",
       " '1996',\n",
       " '1993',\n",
       " '1994',\n",
       " '1996',\n",
       " '1992',\n",
       " '1990',\n",
       " '1995',\n",
       " '2000',\n",
       " '1990',\n",
       " '1996',\n",
       " '1991',\n",
       " '2000',\n",
       " '1995',\n",
       " '2000',\n",
       " '2000',\n",
       " '1997',\n",
       " '2001',\n",
       " '1993',\n",
       " '2005',\n",
       " '1995',\n",
       " '1997',\n",
       " '1992',\n",
       " '1996',\n",
       " '2000',\n",
       " '1991',\n",
       " '1996',\n",
       " '1995',\n",
       " '1992',\n",
       " '1997',\n",
       " '1993',\n",
       " '1994',\n",
       " '1994',\n",
       " '1994',\n",
       " '1997',\n",
       " '1993',\n",
       " '2007',\n",
       " '1999',\n",
       " '1998',\n",
       " '1992',\n",
       " '1999',\n",
       " '1998',\n",
       " '1995',\n",
       " '1998',\n",
       " '2000',\n",
       " '2005',\n",
       " '2006',\n",
       " '1995',\n",
       " '2001',\n",
       " '1999',\n",
       " '1997',\n",
       " '1999',\n",
       " '1999',\n",
       " '2006',\n",
       " '1996',\n",
       " '1999',\n",
       " '2001',\n",
       " '1999',\n",
       " '1996',\n",
       " '1991',\n",
       " '1998',\n",
       " '2009',\n",
       " '1994',\n",
       " '2002',\n",
       " '1992',\n",
       " '2001',\n",
       " '2002',\n",
       " '2002',\n",
       " '1992',\n",
       " '2005',\n",
       " '1991',\n",
       " '1993',\n",
       " '2003',\n",
       " '1995',\n",
       " '2003',\n",
       " '1998',\n",
       " '1997',\n",
       " '2007',\n",
       " '1998',\n",
       " '1999',\n",
       " '1992',\n",
       " '2001',\n",
       " '2003',\n",
       " '1996',\n",
       " '1993',\n",
       " '1998',\n",
       " '1992',\n",
       " '2001',\n",
       " '2002',\n",
       " '2004',\n",
       " '2000',\n",
       " '2000',\n",
       " '1994',\n",
       " '2000',\n",
       " '2000',\n",
       " '1994',\n",
       " '1993',\n",
       " '2003',\n",
       " '2003',\n",
       " '2005',\n",
       " '2009',\n",
       " '2002',\n",
       " '2001',\n",
       " '1998',\n",
       " '2004',\n",
       " '1996',\n",
       " '2001',\n",
       " '1994',\n",
       " '2005',\n",
       " '2002',\n",
       " '1997',\n",
       " '2002',\n",
       " '2004',\n",
       " '2003',\n",
       " '2008',\n",
       " '2001',\n",
       " '1998',\n",
       " '2006',\n",
       " '2004',\n",
       " '2001',\n",
       " '1998',\n",
       " '1999',\n",
       " '2002',\n",
       " '2004',\n",
       " '1993',\n",
       " '2006',\n",
       " '2006',\n",
       " '2005',\n",
       " '1993',\n",
       " '2007',\n",
       " '2003',\n",
       " '2011',\n",
       " '2004',\n",
       " '1997',\n",
       " '1999',\n",
       " '2002',\n",
       " '1997',\n",
       " '2005',\n",
       " '2008',\n",
       " '2010',\n",
       " '2007',\n",
       " '1998',\n",
       " '2008',\n",
       " '2007',\n",
       " '1998',\n",
       " '2007',\n",
       " '2007',\n",
       " '2009',\n",
       " '1999',\n",
       " '2006',\n",
       " '2001',\n",
       " '2006',\n",
       " '2009',\n",
       " '2004',\n",
       " '2007',\n",
       " '1994',\n",
       " '2009',\n",
       " '2007',\n",
       " '2005',\n",
       " '2017',\n",
       " '2003',\n",
       " '2007',\n",
       " '2006',\n",
       " '2006',\n",
       " '2003',\n",
       " '2002',\n",
       " '2004',\n",
       " '1997',\n",
       " '2010',\n",
       " '1999',\n",
       " '2000',\n",
       " '2012',\n",
       " '2000',\n",
       " '2003',\n",
       " '2008',\n",
       " '2015',\n",
       " '2005',\n",
       " '2015',\n",
       " '2006',\n",
       " '2009',\n",
       " '2008',\n",
       " '2008',\n",
       " '2001',\n",
       " '2004',\n",
       " '2004',\n",
       " '2011',\n",
       " '2004',\n",
       " '2005',\n",
       " '2010',\n",
       " '2007',\n",
       " '2006',\n",
       " '2010',\n",
       " '2003',\n",
       " '2007',\n",
       " '2002',\n",
       " '2010',\n",
       " '2005',\n",
       " '2012',\n",
       " '2019',\n",
       " '2016',\n",
       " '2012',\n",
       " '2009',\n",
       " '2009',\n",
       " '2004',\n",
       " '2008',\n",
       " '2016',\n",
       " '2011',\n",
       " '2016',\n",
       " '2010',\n",
       " '2006',\n",
       " '2009',\n",
       " '1997',\n",
       " '2019',\n",
       " '2012',\n",
       " '2016',\n",
       " '2016',\n",
       " '2009',\n",
       " '2018',\n",
       " '2012',\n",
       " '2017',\n",
       " '2011',\n",
       " '2008',\n",
       " '2017',\n",
       " '2010',\n",
       " '2014',\n",
       " '2005',\n",
       " '2017',\n",
       " '2008',\n",
       " '2011',\n",
       " '2016',\n",
       " '2012',\n",
       " '2019',\n",
       " '2013',\n",
       " '2009',\n",
       " '2011',\n",
       " '2008',\n",
       " '2008',\n",
       " '2013',\n",
       " '2014',\n",
       " '2016',\n",
       " '2010',\n",
       " '2020',\n",
       " '2016',\n",
       " '2013',\n",
       " '2012',\n",
       " '2009',\n",
       " '2012',\n",
       " '2003',\n",
       " '2013',\n",
       " '2019',\n",
       " '2012',\n",
       " '2018',\n",
       " '2015',\n",
       " '2018',\n",
       " '2013',\n",
       " '2020',\n",
       " '2011',\n",
       " '2015',\n",
       " '2017',\n",
       " '2010',\n",
       " '2010',\n",
       " '2016',\n",
       " '2014',\n",
       " '2021',\n",
       " '2008',\n",
       " '2020',\n",
       " '2014',\n",
       " '2013',\n",
       " '2017',\n",
       " '2012',\n",
       " '2018',\n",
       " '2014',\n",
       " '2019',\n",
       " '2015',\n",
       " '2016',\n",
       " '2011',\n",
       " '2014',\n",
       " '2017',\n",
       " '2019',\n",
       " '2011',\n",
       " '2015',\n",
       " '2018',\n",
       " '2019',\n",
       " '2010',\n",
       " '2020',\n",
       " '2018',\n",
       " '2021',\n",
       " '2014',\n",
       " '2017',\n",
       " '2015',\n",
       " '2017',\n",
       " '2013',\n",
       " '2021',\n",
       " '2013',\n",
       " '2016',\n",
       " '2018',\n",
       " '2017',\n",
       " '2020',\n",
       " '2015',\n",
       " '2020',\n",
       " '2015',\n",
       " '2010',\n",
       " '2012',\n",
       " '2015',\n",
       " '2013',\n",
       " '2016',\n",
       " '2014',\n",
       " '2017',\n",
       " '2020',\n",
       " '2013',\n",
       " '2015',\n",
       " '2019',\n",
       " '2019',\n",
       " '2019',\n",
       " '2011',\n",
       " '2011',\n",
       " '2018',\n",
       " '2014',\n",
       " '2011',\n",
       " '2012',\n",
       " '2018',\n",
       " '2014',\n",
       " '2018',\n",
       " '2014',\n",
       " '2013',\n",
       " '2021',\n",
       " '2019',\n",
       " '2020',\n",
       " '2020',\n",
       " '2020',\n",
       " '2013',\n",
       " '2020',\n",
       " '2019',\n",
       " '2020',\n",
       " '2018',\n",
       " '2018',\n",
       " '2014',\n",
       " '2015',\n",
       " '2017']"
      ]
     },
     "execution_count": 72,
     "metadata": {},
     "output_type": "execute_result"
    }
   ],
   "source": [
    "year = []\n",
    "\n",
    "for i in range(df_month_year.shape[0]):\n",
    "    year.append(df_month_year.index[i][0:4])\n",
    "\n",
    "year"
   ]
  },
  {
   "cell_type": "code",
   "execution_count": 73,
   "id": "15feb1cd",
   "metadata": {},
   "outputs": [],
   "source": [
    "df_month_year['year'] = year"
   ]
  },
  {
   "cell_type": "code",
   "execution_count": 74,
   "id": "8a940567",
   "metadata": {},
   "outputs": [],
   "source": [
    "df_month_year['month'] = month"
   ]
  },
  {
   "cell_type": "code",
   "execution_count": 75,
   "id": "0c9fef8f",
   "metadata": {},
   "outputs": [
    {
     "data": {
      "text/html": [
       "<div>\n",
       "<style scoped>\n",
       "    .dataframe tbody tr th:only-of-type {\n",
       "        vertical-align: middle;\n",
       "    }\n",
       "\n",
       "    .dataframe tbody tr th {\n",
       "        vertical-align: top;\n",
       "    }\n",
       "\n",
       "    .dataframe thead th {\n",
       "        text-align: right;\n",
       "    }\n",
       "</style>\n",
       "<table border=\"1\" class=\"dataframe\">\n",
       "  <thead>\n",
       "    <tr style=\"text-align: right;\">\n",
       "      <th></th>\n",
       "      <th>month_year</th>\n",
       "      <th>year</th>\n",
       "      <th>month</th>\n",
       "    </tr>\n",
       "  </thead>\n",
       "  <tbody>\n",
       "    <tr>\n",
       "      <th>1989-12</th>\n",
       "      <td>307</td>\n",
       "      <td>1989</td>\n",
       "      <td>12</td>\n",
       "    </tr>\n",
       "    <tr>\n",
       "      <th>1989-09</th>\n",
       "      <td>269</td>\n",
       "      <td>1989</td>\n",
       "      <td>09</td>\n",
       "    </tr>\n",
       "    <tr>\n",
       "      <th>1989-06</th>\n",
       "      <td>257</td>\n",
       "      <td>1989</td>\n",
       "      <td>06</td>\n",
       "    </tr>\n",
       "    <tr>\n",
       "      <th>1989-03</th>\n",
       "      <td>256</td>\n",
       "      <td>1989</td>\n",
       "      <td>03</td>\n",
       "    </tr>\n",
       "    <tr>\n",
       "      <th>1989-10</th>\n",
       "      <td>241</td>\n",
       "      <td>1989</td>\n",
       "      <td>10</td>\n",
       "    </tr>\n",
       "  </tbody>\n",
       "</table>\n",
       "</div>"
      ],
      "text/plain": [
       "         month_year  year month\n",
       "1989-12         307  1989    12\n",
       "1989-09         269  1989    09\n",
       "1989-06         257  1989    06\n",
       "1989-03         256  1989    03\n",
       "1989-10         241  1989    10"
      ]
     },
     "execution_count": 75,
     "metadata": {},
     "output_type": "execute_result"
    }
   ],
   "source": [
    "df_month_year.head()"
   ]
  },
  {
   "cell_type": "code",
   "execution_count": 76,
   "id": "fd4c12d1",
   "metadata": {},
   "outputs": [],
   "source": [
    "df_month_year = df_month_year.sort_index()"
   ]
  },
  {
   "cell_type": "code",
   "execution_count": 77,
   "id": "c3c819bb",
   "metadata": {},
   "outputs": [
    {
     "data": {
      "text/html": [
       "<div>\n",
       "<style scoped>\n",
       "    .dataframe tbody tr th:only-of-type {\n",
       "        vertical-align: middle;\n",
       "    }\n",
       "\n",
       "    .dataframe tbody tr th {\n",
       "        vertical-align: top;\n",
       "    }\n",
       "\n",
       "    .dataframe thead th {\n",
       "        text-align: right;\n",
       "    }\n",
       "</style>\n",
       "<table border=\"1\" class=\"dataframe\">\n",
       "  <thead>\n",
       "    <tr style=\"text-align: right;\">\n",
       "      <th></th>\n",
       "      <th>month_year</th>\n",
       "      <th>year</th>\n",
       "      <th>month</th>\n",
       "    </tr>\n",
       "  </thead>\n",
       "  <tbody>\n",
       "    <tr>\n",
       "      <th>1989-01</th>\n",
       "      <td>228</td>\n",
       "      <td>1989</td>\n",
       "      <td>01</td>\n",
       "    </tr>\n",
       "    <tr>\n",
       "      <th>1989-02</th>\n",
       "      <td>211</td>\n",
       "      <td>1989</td>\n",
       "      <td>02</td>\n",
       "    </tr>\n",
       "    <tr>\n",
       "      <th>1989-03</th>\n",
       "      <td>256</td>\n",
       "      <td>1989</td>\n",
       "      <td>03</td>\n",
       "    </tr>\n",
       "    <tr>\n",
       "      <th>1989-04</th>\n",
       "      <td>188</td>\n",
       "      <td>1989</td>\n",
       "      <td>04</td>\n",
       "    </tr>\n",
       "    <tr>\n",
       "      <th>1989-05</th>\n",
       "      <td>213</td>\n",
       "      <td>1989</td>\n",
       "      <td>05</td>\n",
       "    </tr>\n",
       "  </tbody>\n",
       "</table>\n",
       "</div>"
      ],
      "text/plain": [
       "         month_year  year month\n",
       "1989-01         228  1989    01\n",
       "1989-02         211  1989    02\n",
       "1989-03         256  1989    03\n",
       "1989-04         188  1989    04\n",
       "1989-05         213  1989    05"
      ]
     },
     "execution_count": 77,
     "metadata": {},
     "output_type": "execute_result"
    }
   ],
   "source": [
    "df_month_year.head()"
   ]
  },
  {
   "cell_type": "code",
   "execution_count": 78,
   "id": "03327f11",
   "metadata": {},
   "outputs": [
    {
     "data": {
      "text/plain": [
       "Text(0, 0.5, 'Year')"
      ]
     },
     "execution_count": 78,
     "metadata": {},
     "output_type": "execute_result"
    },
    {
     "data": {
      "image/png": "[encoded data removed]",
      "text/plain": [
       "<Figure size 432x288 with 1 Axes>"
      ]
     },
     "metadata": {
      "needs_background": "light"
     },
     "output_type": "display_data"
    }
   ],
   "source": [
    "sns.lineplot(x='month', y='month_year', data=df_month_year, hue='year')\n",
    "plt.legend(bbox_to_anchor = (1.05, 1.6))\n",
    "plt.title('Monthly Fatalities by Year')\n",
    "plt.xlabel('Month')\n",
    "plt.ylabel('Year')"
   ]
  },
  {
   "cell_type": "markdown",
   "id": "bbaa5ed7",
   "metadata": {},
   "source": [
    "# LSTM Modelling"
   ]
  },
  {
   "cell_type": "code",
   "execution_count": 79,
   "id": "e3d5d5db",
   "metadata": {},
   "outputs": [
    {
     "data": {
      "text/html": [
       "<div>\n",
       "<style scoped>\n",
       "    .dataframe tbody tr th:only-of-type {\n",
       "        vertical-align: middle;\n",
       "    }\n",
       "\n",
       "    .dataframe tbody tr th {\n",
       "        vertical-align: top;\n",
       "    }\n",
       "\n",
       "    .dataframe thead th {\n",
       "        text-align: right;\n",
       "    }\n",
       "</style>\n",
       "<table border=\"1\" class=\"dataframe\">\n",
       "  <thead>\n",
       "    <tr style=\"text-align: right;\">\n",
       "      <th></th>\n",
       "      <th>month_year</th>\n",
       "    </tr>\n",
       "  </thead>\n",
       "  <tbody>\n",
       "    <tr>\n",
       "      <th>1989-01</th>\n",
       "      <td>228</td>\n",
       "    </tr>\n",
       "    <tr>\n",
       "      <th>1989-02</th>\n",
       "      <td>211</td>\n",
       "    </tr>\n",
       "    <tr>\n",
       "      <th>1989-03</th>\n",
       "      <td>256</td>\n",
       "    </tr>\n",
       "    <tr>\n",
       "      <th>1989-04</th>\n",
       "      <td>188</td>\n",
       "    </tr>\n",
       "    <tr>\n",
       "      <th>1989-05</th>\n",
       "      <td>213</td>\n",
       "    </tr>\n",
       "  </tbody>\n",
       "</table>\n",
       "</div>"
      ],
      "text/plain": [
       "         month_year\n",
       "1989-01         228\n",
       "1989-02         211\n",
       "1989-03         256\n",
       "1989-04         188\n",
       "1989-05         213"
      ]
     },
     "execution_count": 79,
     "metadata": {},
     "output_type": "execute_result"
    }
   ],
   "source": [
    "dfmy.head()"
   ]
  },
  {
   "cell_type": "code",
   "execution_count": 80,
   "id": "936a098c",
   "metadata": {},
   "outputs": [],
   "source": [
    "for j in (range(1,12)):\n",
    "    dfmy['lag_' + str(j)] = dfmy.iloc[:,j-1].shift(1)"
   ]
  },
  {
   "cell_type": "code",
   "execution_count": 81,
   "id": "c585f535",
   "metadata": {},
   "outputs": [
    {
     "data": {
      "text/html": [
       "<div>\n",
       "<style scoped>\n",
       "    .dataframe tbody tr th:only-of-type {\n",
       "        vertical-align: middle;\n",
       "    }\n",
       "\n",
       "    .dataframe tbody tr th {\n",
       "        vertical-align: top;\n",
       "    }\n",
       "\n",
       "    .dataframe thead th {\n",
       "        text-align: right;\n",
       "    }\n",
       "</style>\n",
       "<table border=\"1\" class=\"dataframe\">\n",
       "  <thead>\n",
       "    <tr style=\"text-align: right;\">\n",
       "      <th></th>\n",
       "      <th>month_year</th>\n",
       "      <th>lag_1</th>\n",
       "      <th>lag_2</th>\n",
       "      <th>lag_3</th>\n",
       "      <th>lag_4</th>\n",
       "      <th>lag_5</th>\n",
       "      <th>lag_6</th>\n",
       "      <th>lag_7</th>\n",
       "      <th>lag_8</th>\n",
       "      <th>lag_9</th>\n",
       "      <th>lag_10</th>\n",
       "      <th>lag_11</th>\n",
       "    </tr>\n",
       "  </thead>\n",
       "  <tbody>\n",
       "    <tr>\n",
       "      <th>1989-01</th>\n",
       "      <td>228</td>\n",
       "      <td>NaN</td>\n",
       "      <td>NaN</td>\n",
       "      <td>NaN</td>\n",
       "      <td>NaN</td>\n",
       "      <td>NaN</td>\n",
       "      <td>NaN</td>\n",
       "      <td>NaN</td>\n",
       "      <td>NaN</td>\n",
       "      <td>NaN</td>\n",
       "      <td>NaN</td>\n",
       "      <td>NaN</td>\n",
       "    </tr>\n",
       "    <tr>\n",
       "      <th>1989-02</th>\n",
       "      <td>211</td>\n",
       "      <td>228.0</td>\n",
       "      <td>NaN</td>\n",
       "      <td>NaN</td>\n",
       "      <td>NaN</td>\n",
       "      <td>NaN</td>\n",
       "      <td>NaN</td>\n",
       "      <td>NaN</td>\n",
       "      <td>NaN</td>\n",
       "      <td>NaN</td>\n",
       "      <td>NaN</td>\n",
       "      <td>NaN</td>\n",
       "    </tr>\n",
       "    <tr>\n",
       "      <th>1989-03</th>\n",
       "      <td>256</td>\n",
       "      <td>211.0</td>\n",
       "      <td>228.0</td>\n",
       "      <td>NaN</td>\n",
       "      <td>NaN</td>\n",
       "      <td>NaN</td>\n",
       "      <td>NaN</td>\n",
       "      <td>NaN</td>\n",
       "      <td>NaN</td>\n",
       "      <td>NaN</td>\n",
       "      <td>NaN</td>\n",
       "      <td>NaN</td>\n",
       "    </tr>\n",
       "    <tr>\n",
       "      <th>1989-04</th>\n",
       "      <td>188</td>\n",
       "      <td>256.0</td>\n",
       "      <td>211.0</td>\n",
       "      <td>228.0</td>\n",
       "      <td>NaN</td>\n",
       "      <td>NaN</td>\n",
       "      <td>NaN</td>\n",
       "      <td>NaN</td>\n",
       "      <td>NaN</td>\n",
       "      <td>NaN</td>\n",
       "      <td>NaN</td>\n",
       "      <td>NaN</td>\n",
       "    </tr>\n",
       "    <tr>\n",
       "      <th>1989-05</th>\n",
       "      <td>213</td>\n",
       "      <td>188.0</td>\n",
       "      <td>256.0</td>\n",
       "      <td>211.0</td>\n",
       "      <td>228.0</td>\n",
       "      <td>NaN</td>\n",
       "      <td>NaN</td>\n",
       "      <td>NaN</td>\n",
       "      <td>NaN</td>\n",
       "      <td>NaN</td>\n",
       "      <td>NaN</td>\n",
       "      <td>NaN</td>\n",
       "    </tr>\n",
       "    <tr>\n",
       "      <th>1989-06</th>\n",
       "      <td>257</td>\n",
       "      <td>213.0</td>\n",
       "      <td>188.0</td>\n",
       "      <td>256.0</td>\n",
       "      <td>211.0</td>\n",
       "      <td>228.0</td>\n",
       "      <td>NaN</td>\n",
       "      <td>NaN</td>\n",
       "      <td>NaN</td>\n",
       "      <td>NaN</td>\n",
       "      <td>NaN</td>\n",
       "      <td>NaN</td>\n",
       "    </tr>\n",
       "    <tr>\n",
       "      <th>1989-07</th>\n",
       "      <td>214</td>\n",
       "      <td>257.0</td>\n",
       "      <td>213.0</td>\n",
       "      <td>188.0</td>\n",
       "      <td>256.0</td>\n",
       "      <td>211.0</td>\n",
       "      <td>228.0</td>\n",
       "      <td>NaN</td>\n",
       "      <td>NaN</td>\n",
       "      <td>NaN</td>\n",
       "      <td>NaN</td>\n",
       "      <td>NaN</td>\n",
       "    </tr>\n",
       "    <tr>\n",
       "      <th>1989-08</th>\n",
       "      <td>211</td>\n",
       "      <td>214.0</td>\n",
       "      <td>257.0</td>\n",
       "      <td>213.0</td>\n",
       "      <td>188.0</td>\n",
       "      <td>256.0</td>\n",
       "      <td>211.0</td>\n",
       "      <td>228.0</td>\n",
       "      <td>NaN</td>\n",
       "      <td>NaN</td>\n",
       "      <td>NaN</td>\n",
       "      <td>NaN</td>\n",
       "    </tr>\n",
       "    <tr>\n",
       "      <th>1989-09</th>\n",
       "      <td>269</td>\n",
       "      <td>211.0</td>\n",
       "      <td>214.0</td>\n",
       "      <td>257.0</td>\n",
       "      <td>213.0</td>\n",
       "      <td>188.0</td>\n",
       "      <td>256.0</td>\n",
       "      <td>211.0</td>\n",
       "      <td>228.0</td>\n",
       "      <td>NaN</td>\n",
       "      <td>NaN</td>\n",
       "      <td>NaN</td>\n",
       "    </tr>\n",
       "    <tr>\n",
       "      <th>1989-10</th>\n",
       "      <td>241</td>\n",
       "      <td>269.0</td>\n",
       "      <td>211.0</td>\n",
       "      <td>214.0</td>\n",
       "      <td>257.0</td>\n",
       "      <td>213.0</td>\n",
       "      <td>188.0</td>\n",
       "      <td>256.0</td>\n",
       "      <td>211.0</td>\n",
       "      <td>228.0</td>\n",
       "      <td>NaN</td>\n",
       "      <td>NaN</td>\n",
       "    </tr>\n",
       "    <tr>\n",
       "      <th>1989-11</th>\n",
       "      <td>205</td>\n",
       "      <td>241.0</td>\n",
       "      <td>269.0</td>\n",
       "      <td>211.0</td>\n",
       "      <td>214.0</td>\n",
       "      <td>257.0</td>\n",
       "      <td>213.0</td>\n",
       "      <td>188.0</td>\n",
       "      <td>256.0</td>\n",
       "      <td>211.0</td>\n",
       "      <td>228.0</td>\n",
       "      <td>NaN</td>\n",
       "    </tr>\n",
       "    <tr>\n",
       "      <th>1989-12</th>\n",
       "      <td>307</td>\n",
       "      <td>205.0</td>\n",
       "      <td>241.0</td>\n",
       "      <td>269.0</td>\n",
       "      <td>211.0</td>\n",
       "      <td>214.0</td>\n",
       "      <td>257.0</td>\n",
       "      <td>213.0</td>\n",
       "      <td>188.0</td>\n",
       "      <td>256.0</td>\n",
       "      <td>211.0</td>\n",
       "      <td>228.0</td>\n",
       "    </tr>\n",
       "    <tr>\n",
       "      <th>1990-01</th>\n",
       "      <td>174</td>\n",
       "      <td>307.0</td>\n",
       "      <td>205.0</td>\n",
       "      <td>241.0</td>\n",
       "      <td>269.0</td>\n",
       "      <td>211.0</td>\n",
       "      <td>214.0</td>\n",
       "      <td>257.0</td>\n",
       "      <td>213.0</td>\n",
       "      <td>188.0</td>\n",
       "      <td>256.0</td>\n",
       "      <td>211.0</td>\n",
       "    </tr>\n",
       "    <tr>\n",
       "      <th>1990-02</th>\n",
       "      <td>166</td>\n",
       "      <td>174.0</td>\n",
       "      <td>307.0</td>\n",
       "      <td>205.0</td>\n",
       "      <td>241.0</td>\n",
       "      <td>269.0</td>\n",
       "      <td>211.0</td>\n",
       "      <td>214.0</td>\n",
       "      <td>257.0</td>\n",
       "      <td>213.0</td>\n",
       "      <td>188.0</td>\n",
       "      <td>256.0</td>\n",
       "    </tr>\n",
       "    <tr>\n",
       "      <th>1990-03</th>\n",
       "      <td>221</td>\n",
       "      <td>166.0</td>\n",
       "      <td>174.0</td>\n",
       "      <td>307.0</td>\n",
       "      <td>205.0</td>\n",
       "      <td>241.0</td>\n",
       "      <td>269.0</td>\n",
       "      <td>211.0</td>\n",
       "      <td>214.0</td>\n",
       "      <td>257.0</td>\n",
       "      <td>213.0</td>\n",
       "      <td>188.0</td>\n",
       "    </tr>\n",
       "    <tr>\n",
       "      <th>1990-04</th>\n",
       "      <td>175</td>\n",
       "      <td>221.0</td>\n",
       "      <td>166.0</td>\n",
       "      <td>174.0</td>\n",
       "      <td>307.0</td>\n",
       "      <td>205.0</td>\n",
       "      <td>241.0</td>\n",
       "      <td>269.0</td>\n",
       "      <td>211.0</td>\n",
       "      <td>214.0</td>\n",
       "      <td>257.0</td>\n",
       "      <td>213.0</td>\n",
       "    </tr>\n",
       "    <tr>\n",
       "      <th>1990-05</th>\n",
       "      <td>186</td>\n",
       "      <td>175.0</td>\n",
       "      <td>221.0</td>\n",
       "      <td>166.0</td>\n",
       "      <td>174.0</td>\n",
       "      <td>307.0</td>\n",
       "      <td>205.0</td>\n",
       "      <td>241.0</td>\n",
       "      <td>269.0</td>\n",
       "      <td>211.0</td>\n",
       "      <td>214.0</td>\n",
       "      <td>257.0</td>\n",
       "    </tr>\n",
       "    <tr>\n",
       "      <th>1990-06</th>\n",
       "      <td>221</td>\n",
       "      <td>186.0</td>\n",
       "      <td>175.0</td>\n",
       "      <td>221.0</td>\n",
       "      <td>166.0</td>\n",
       "      <td>174.0</td>\n",
       "      <td>307.0</td>\n",
       "      <td>205.0</td>\n",
       "      <td>241.0</td>\n",
       "      <td>269.0</td>\n",
       "      <td>211.0</td>\n",
       "      <td>214.0</td>\n",
       "    </tr>\n",
       "    <tr>\n",
       "      <th>1990-07</th>\n",
       "      <td>205</td>\n",
       "      <td>221.0</td>\n",
       "      <td>186.0</td>\n",
       "      <td>175.0</td>\n",
       "      <td>221.0</td>\n",
       "      <td>166.0</td>\n",
       "      <td>174.0</td>\n",
       "      <td>307.0</td>\n",
       "      <td>205.0</td>\n",
       "      <td>241.0</td>\n",
       "      <td>269.0</td>\n",
       "      <td>211.0</td>\n",
       "    </tr>\n",
       "    <tr>\n",
       "      <th>1990-08</th>\n",
       "      <td>189</td>\n",
       "      <td>205.0</td>\n",
       "      <td>221.0</td>\n",
       "      <td>186.0</td>\n",
       "      <td>175.0</td>\n",
       "      <td>221.0</td>\n",
       "      <td>166.0</td>\n",
       "      <td>174.0</td>\n",
       "      <td>307.0</td>\n",
       "      <td>205.0</td>\n",
       "      <td>241.0</td>\n",
       "      <td>269.0</td>\n",
       "    </tr>\n",
       "  </tbody>\n",
       "</table>\n",
       "</div>"
      ],
      "text/plain": [
       "         month_year  lag_1  lag_2  lag_3  lag_4  lag_5  lag_6  lag_7  lag_8  \\\n",
       "1989-01         228    NaN    NaN    NaN    NaN    NaN    NaN    NaN    NaN   \n",
       "1989-02         211  228.0    NaN    NaN    NaN    NaN    NaN    NaN    NaN   \n",
       "1989-03         256  211.0  228.0    NaN    NaN    NaN    NaN    NaN    NaN   \n",
       "1989-04         188  256.0  211.0  228.0    NaN    NaN    NaN    NaN    NaN   \n",
       "1989-05         213  188.0  256.0  211.0  228.0    NaN    NaN    NaN    NaN   \n",
       "1989-06         257  213.0  188.0  256.0  211.0  228.0    NaN    NaN    NaN   \n",
       "1989-07         214  257.0  213.0  188.0  256.0  211.0  228.0    NaN    NaN   \n",
       "1989-08         211  214.0  257.0  213.0  188.0  256.0  211.0  228.0    NaN   \n",
       "1989-09         269  211.0  214.0  257.0  213.0  188.0  256.0  211.0  228.0   \n",
       "1989-10         241  269.0  211.0  214.0  257.0  213.0  188.0  256.0  211.0   \n",
       "1989-11         205  241.0  269.0  211.0  214.0  257.0  213.0  188.0  256.0   \n",
       "1989-12         307  205.0  241.0  269.0  211.0  214.0  257.0  213.0  188.0   \n",
       "1990-01         174  307.0  205.0  241.0  269.0  211.0  214.0  257.0  213.0   \n",
       "1990-02         166  174.0  307.0  205.0  241.0  269.0  211.0  214.0  257.0   \n",
       "1990-03         221  166.0  174.0  307.0  205.0  241.0  269.0  211.0  214.0   \n",
       "1990-04         175  221.0  166.0  174.0  307.0  205.0  241.0  269.0  211.0   \n",
       "1990-05         186  175.0  221.0  166.0  174.0  307.0  205.0  241.0  269.0   \n",
       "1990-06         221  186.0  175.0  221.0  166.0  174.0  307.0  205.0  241.0   \n",
       "1990-07         205  221.0  186.0  175.0  221.0  166.0  174.0  307.0  205.0   \n",
       "1990-08         189  205.0  221.0  186.0  175.0  221.0  166.0  174.0  307.0   \n",
       "\n",
       "         lag_9  lag_10  lag_11  \n",
       "1989-01    NaN     NaN     NaN  \n",
       "1989-02    NaN     NaN     NaN  \n",
       "1989-03    NaN     NaN     NaN  \n",
       "1989-04    NaN     NaN     NaN  \n",
       "1989-05    NaN     NaN     NaN  \n",
       "1989-06    NaN     NaN     NaN  \n",
       "1989-07    NaN     NaN     NaN  \n",
       "1989-08    NaN     NaN     NaN  \n",
       "1989-09    NaN     NaN     NaN  \n",
       "1989-10  228.0     NaN     NaN  \n",
       "1989-11  211.0   228.0     NaN  \n",
       "1989-12  256.0   211.0   228.0  \n",
       "1990-01  188.0   256.0   211.0  \n",
       "1990-02  213.0   188.0   256.0  \n",
       "1990-03  257.0   213.0   188.0  \n",
       "1990-04  214.0   257.0   213.0  \n",
       "1990-05  211.0   214.0   257.0  \n",
       "1990-06  269.0   211.0   214.0  \n",
       "1990-07  241.0   269.0   211.0  \n",
       "1990-08  205.0   241.0   269.0  "
      ]
     },
     "execution_count": 81,
     "metadata": {},
     "output_type": "execute_result"
    }
   ],
   "source": [
    "dfmy.head(20)"
   ]
  },
  {
   "cell_type": "code",
   "execution_count": 82,
   "id": "41db50ff",
   "metadata": {},
   "outputs": [],
   "source": [
    "#Reducing the first year down to get rid of null values\n",
    "dfmy = dfmy.iloc[11:, :]"
   ]
  },
  {
   "cell_type": "code",
   "execution_count": 83,
   "id": "01cf8760",
   "metadata": {},
   "outputs": [],
   "source": [
    "data_my = dfmy.values"
   ]
  },
  {
   "cell_type": "code",
   "execution_count": 84,
   "id": "5f086cf4",
   "metadata": {
    "scrolled": true
   },
   "outputs": [
    {
     "data": {
      "text/plain": [
       "(377, 12)"
      ]
     },
     "execution_count": 84,
     "metadata": {},
     "output_type": "execute_result"
    }
   ],
   "source": [
    "data_my.shape"
   ]
  },
  {
   "cell_type": "code",
   "execution_count": null,
   "id": "850232f9",
   "metadata": {},
   "outputs": [],
   "source": [
    "#dfmy.to_csv('df_my')"
   ]
  },
  {
   "cell_type": "code",
   "execution_count": null,
   "id": "0eb21a43",
   "metadata": {},
   "outputs": [],
   "source": []
  }
 ],
 "metadata": {
  "kernelspec": {
   "display_name": "Python 3",
   "language": "python",
   "name": "python3"
  },
  "language_info": {
   "codemirror_mode": {
    "name": "ipython",
    "version": 3
   },
   "file_extension": ".py",
   "mimetype": "text/x-python",
   "name": "python",
   "nbconvert_exporter": "python",
   "pygments_lexer": "ipython3",
   "version": "3.8.8"
  }
 },
 "nbformat": 4,
 "nbformat_minor": 5
}
