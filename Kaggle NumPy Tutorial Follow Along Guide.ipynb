{
 "cells": [
  {
   "cell_type": "markdown",
   "metadata": {},
   "source": [
    "This document is a follow along guide for a Kaggle tutorial on NumPy. \n",
    "\n",
    "The topics covered are as follows:\n",
    "\n",
    "1. ndarray\n",
    "2. Create a specific array\n",
    "3. Shape and operation\n",
    "4. Index\n",
    "5. Mathematics\n",
    "6. Matrix\n",
    "7. Random Number\n"
   ]
  },
  {
   "cell_type": "code",
   "execution_count": 2,
   "metadata": {},
   "outputs": [],
   "source": [
    "# In order to operate NumPy with Jupyter Notebooks, you must first import the package\n",
    "import numpy as np\n",
    "#Also import Pandas, for data processing purposes\n",
    "import pandas as pd"
   ]
  },
  {
   "cell_type": "markdown",
   "metadata": {},
   "source": [
    "##### 1. Creating two arrays with NumPy: 1 and 2 dimensional arrays"
   ]
  },
  {
   "cell_type": "code",
   "execution_count": 3,
   "metadata": {},
   "outputs": [
    {
     "name": "stdout",
     "output_type": "stream",
     "text": [
      "a:  [1 2 3]\n",
      "b:  [[1 2 3]\n",
      " [4 5 6]]\n"
     ]
    }
   ],
   "source": [
    "a = np.array([1, 2, 3])\n",
    "b = np.array([(1, 2, 3),(4, 5, 6)])\n",
    "\n",
    "print('a: ', a)\n",
    "print('b: ', b)"
   ]
  },
  {
   "cell_type": "code",
   "execution_count": 6,
   "metadata": {},
   "outputs": [
    {
     "name": "stdout",
     "output_type": "stream",
     "text": [
      "a=\n",
      "[[0. 0. 0.]\n",
      " [0. 0. 0.]]\n",
      "a's ndim 2\n",
      "a's shape (2, 3)\n",
      "a's size 6\n",
      "a's dtype float64\n",
      "a's itemsize 8\n",
      "\n",
      "b=\n",
      "[[1. 1. 1.]\n",
      " [1. 1. 1.]]\n",
      "b's ndim 2\n",
      "b's shape (2, 3)\n",
      "b's size 6\n",
      "b's dtype float64\n",
      "b's itemsize 8\n"
     ]
    }
   ],
   "source": [
    "#Show arrays' dimension, shape, size, data type and itemsize.\n",
    "\n",
    "print('a=')\n",
    "print(a)\n",
    "print(\"a's ndim {}\".format(a.ndim))\n",
    "print(\"a's shape {}\".format(a.shape))\n",
    "print(\"a's size {}\".format(a.size))\n",
    "print(\"a's dtype {}\".format(a.dtype))\n",
    "print(\"a's itemsize {}\".format(a.itemsize))\n",
    "\n",
    "print('')\n",
    "\n",
    "print('b=')\n",
    "print(b)\n",
    "print(\"b's ndim {}\".format(b.ndim))\n",
    "print(\"b's shape {}\".format(b.shape))\n",
    "print(\"b's size {}\".format(b.size))\n",
    "print(\"b's dtype {}\".format(b.dtype))\n",
    "print(\"b's itemsize [] {}\".format(b.itemsize))\n",
    "print({{\"Ricky's name is\"}}.format())"
   ]
  },
  {
   "cell_type": "code",
   "execution_count": 11,
   "metadata": {},
   "outputs": [
    {
     "name": "stdout",
     "output_type": "stream",
     "text": [
      "a=\n",
      "[[1 2 3 4]\n",
      " [4 5 6 7]]\n",
      "a ndim= 2\n",
      "a shape = (2, 4)\n",
      "a size= 8\n",
      "a dtype= int32\n",
      "a itemsize= 4\n"
     ]
    }
   ],
   "source": [
    "#Trying the same without .format\n",
    "a= np.array([(1,2,3,4), (4,5,6,7)])\n",
    "print('a=')\n",
    "print(a)\n",
    "print('a ndim=', a.ndim)\n",
    "print('a shape =', a.shape)\n",
    "print('a size=', a.size)\n",
    "print('a dtype=', a.dtype)\n",
    "print('a itemsize=', a.itemsize)"
   ]
  },
  {
   "cell_type": "markdown",
   "metadata": {},
   "source": [
    "2. Creating specific arrays: zeroes, ones, an empty array, an array with a range of numbers, an array that includes a linespace and an array filled with random numbers"
   ]
  },
  {
   "cell_type": "code",
   "execution_count": 5,
   "metadata": {},
   "outputs": [
    {
     "name": "stdout",
     "output_type": "stream",
     "text": [
      "np.empty((2,3))= \n",
      "[[0.75226374 0.40225435 0.47981695]\n",
      " [0.04331524 0.31846234 0.37087489]]\n",
      "\n",
      "np.arange(1, 2, 0.3)= \n",
      "[1.  1.3 1.6 1.9]\n",
      "\n",
      "np.linspace(1, 2, 7)= \n",
      "[1.         1.16666667 1.33333333 1.5        1.66666667 1.83333333\n",
      " 2.        ]\n",
      "\n",
      "np.random.random((2,3))= \n",
      "[[0.92072406 0.21848622 0.63678528]\n",
      " [0.52254171 0.49243312 0.18975186]]\n",
      "\n"
     ]
    }
   ],
   "source": [
    "# a = np.zeros((2,3))\n",
    "# print('np.zeros((2,3)= \\n{}\\n'.format(a))\n",
    "\n",
    "# b = np.ones((2,3))\n",
    "# print('np.ones((2,3))= \\n{}\\n'.format(b))\n",
    "\n",
    "c = np.empty((2,3))\n",
    "print('np.empty((2,3))= \\n{}\\n'.format(c))\n",
    "\n",
    "d = np.arange(1, 2, 0.3) - shift + tab\n",
    "print('np.arange(1, 2, 0.3)= \\n{}\\n'.format(d))\n",
    "\n",
    "e = np.linspace(1, 2, 7)\n",
    "print('np.linspace(1, 2, 7)= \\n{}\\n'.format(e))\n",
    "\n",
    "f = np.random.random((2,3))\n",
    "print('np.random.random((2,3))= \\n{}\\n'.format(f))"
   ]
  },
  {
   "cell_type": "code",
   "execution_count": 22,
   "metadata": {},
   "outputs": [
    {
     "name": "stdout",
     "output_type": "stream",
     "text": [
      "a np.zeros\n",
      " [[0. 0. 0.]\n",
      " [0. 0. 0.]]\n",
      "b range\n",
      " [1.  1.3 1.6 1.9]\n",
      "e linespace\n",
      " [10.         10.90909091 11.81818182 12.72727273 13.63636364 14.54545455\n",
      " 15.45454545 16.36363636 17.27272727 18.18181818 19.09090909 20.        ]\n"
     ]
    }
   ],
   "source": [
    "#Without .format\n",
    "a = np.zeros((2, 3))\n",
    "print('a np.zeros\\n', a)\n",
    "\n",
    "b= np.arange(1,2,0.3)\n",
    "print('b range\\n', b)\n",
    "\n",
    "e= np.linspace(10,20,12)\n",
    "print('e linespace\\n', e)"
   ]
  },
  {
   "cell_type": "markdown",
   "metadata": {},
   "source": [
    "3. Shape and operation of arrays - reshaping, vertical and horizontal stacking of multiple arrays and vertical and horizontal splitting of arrays"
   ]
  },
  {
   "cell_type": "code",
   "execution_count": 37,
   "metadata": {},
   "outputs": [
    {
     "name": "stdout",
     "output_type": "stream",
     "text": [
      "[[0. 0. 0. 0. 0. 0.]\n",
      " [0. 0. 0. 0. 0. 0.]]\n",
      "[[1. 1. 1.]\n",
      " [1. 1. 1.]]\n",
      "[[0.01351633]\n",
      " [0.96728699]\n",
      " [0.70531992]\n",
      " [0.55125873]\n",
      " [0.08336559]\n",
      " [0.4826359 ]\n",
      " [0.31785339]\n",
      " [0.53100824]\n",
      " [0.05585257]\n",
      " [0.23703002]\n",
      " [0.77169658]\n",
      " [0.3959486 ]]\n"
     ]
    }
   ],
   "source": [
    "# Setting up arrays to modify\n",
    "zeroes = np.zeros((2,6))\n",
    "ones = np.ones((2,3))\n",
    "onecol = np.random.random((12,1))\n",
    "\n",
    "print(zeroes)\n",
    "print(ones)\n",
    "print(onecol)"
   ]
  },
  {
   "cell_type": "code",
   "execution_count": 41,
   "metadata": {},
   "outputs": [
    {
     "name": "stdout",
     "output_type": "stream",
     "text": [
      "[[1.]\n",
      " [1.]\n",
      " [1.]\n",
      " [1.]\n",
      " [1.]\n",
      " [1.]]\n",
      "[[1. 1. 1. 1. 1. 1.]]\n"
     ]
    }
   ],
   "source": [
    "# Reshaping arrays\n",
    "ones = ones.reshape(6,1)\n",
    "print(ones)\n",
    "ones = ones.reshape(1,6)\n",
    "print(ones)"
   ]
  },
  {
   "cell_type": "code",
   "execution_count": 38,
   "metadata": {},
   "outputs": [
    {
     "name": "stdout",
     "output_type": "stream",
     "text": [
      "[[0.01351633 0.96728699 0.70531992 0.55125873 0.08336559 0.4826359 ]\n",
      " [0.31785339 0.53100824 0.05585257 0.23703002 0.77169658 0.3959486 ]]\n"
     ]
    }
   ],
   "source": [
    "# Preparing arrays to stack\n",
    "onecol = onecol.reshape(2,6)\n",
    "print(onecol)"
   ]
  },
  {
   "cell_type": "code",
   "execution_count": 42,
   "metadata": {},
   "outputs": [
    {
     "name": "stdout",
     "output_type": "stream",
     "text": [
      "[[0.         0.         0.         0.         0.         0.        ]\n",
      " [0.         0.         0.         0.         0.         0.        ]\n",
      " [1.         1.         1.         1.         1.         1.        ]\n",
      " [0.01351633 0.96728699 0.70531992 0.55125873 0.08336559 0.4826359 ]\n",
      " [0.31785339 0.53100824 0.05585257 0.23703002 0.77169658 0.3959486 ]]\n"
     ]
    }
   ],
   "source": [
    "# Stacking available arrays vertically\n",
    "v_stack = np.vstack((zeroes, ones, onecol))\n",
    "print(v_stack)"
   ]
  },
  {
   "cell_type": "code",
   "execution_count": 46,
   "metadata": {},
   "outputs": [],
   "source": [
    "# Preparing ones array to stack horizontally\n",
    "ones = ones.reshape(2,3)"
   ]
  },
  {
   "cell_type": "code",
   "execution_count": 47,
   "metadata": {},
   "outputs": [
    {
     "name": "stdout",
     "output_type": "stream",
     "text": [
      "[[0.         0.         0.         0.         0.         0.\n",
      "  1.         1.         1.         0.01351633 0.96728699 0.70531992\n",
      "  0.55125873 0.08336559 0.4826359 ]\n",
      " [0.         0.         0.         0.         0.         0.\n",
      "  1.         1.         1.         0.31785339 0.53100824 0.05585257\n",
      "  0.23703002 0.77169658 0.3959486 ]]\n"
     ]
    }
   ],
   "source": [
    "# Stacking arrays horizontally\n",
    "h_stack = np.hstack((zeroes, ones, onecol))\n",
    "print(h_stack)"
   ]
  },
  {
   "cell_type": "code",
   "execution_count": 49,
   "metadata": {},
   "outputs": [
    {
     "name": "stdout",
     "output_type": "stream",
     "text": [
      "[[0.         0.         0.         0.         0.         0.\n",
      "  1.         1.         1.         1.         1.         1.\n",
      "  0.01351633 0.96728699 0.70531992 0.55125873 0.08336559 0.4826359 ]\n",
      " [0.         0.         0.         0.         0.         0.\n",
      "  1.         1.         1.         1.         1.         1.\n",
      "  0.31785339 0.53100824 0.05585257 0.23703002 0.77169658 0.3959486 ]]\n"
     ]
    }
   ],
   "source": [
    "# Testing formatting/readability with 2x6 array of ones.\n",
    "ones = np.ones((2,6))\n",
    "h_stack = np.hstack((zeroes, ones, onecol))\n",
    "print(h_stack)"
   ]
  },
  {
   "cell_type": "code",
   "execution_count": 53,
   "metadata": {},
   "outputs": [
    {
     "name": "stdout",
     "output_type": "stream",
     "text": [
      "[[1. 1.]\n",
      " [1. 1.]\n",
      " [1. 1.]\n",
      " [1. 1.]\n",
      " [1. 1.]\n",
      " [1. 1.]]\n",
      "[[0. 0.]\n",
      " [0. 0.]\n",
      " [0. 0.]\n",
      " [0. 0.]\n",
      " [0. 0.]\n",
      " [0. 0.]]\n",
      "[[0.01351633 0.96728699]\n",
      " [0.70531992 0.55125873]\n",
      " [0.08336559 0.4826359 ]\n",
      " [0.31785339 0.53100824]\n",
      " [0.05585257 0.23703002]\n",
      " [0.77169658 0.3959486 ]]\n"
     ]
    }
   ],
   "source": [
    "# Trying again because I don't know why it splits the arrays this way\n",
    "ones = ones.reshape((6,2))\n",
    "zeroes = zeroes.reshape((6,2))\n",
    "onecol = onecol.reshape((6,2))\n",
    "print(ones)\n",
    "print(zeroes)\n",
    "print(onecol)"
   ]
  },
  {
   "cell_type": "code",
   "execution_count": 56,
   "metadata": {},
   "outputs": [
    {
     "name": "stdout",
     "output_type": "stream",
     "text": [
      "[[0.         0.         1.         1.         0.01351633 0.96728699]\n",
      " [0.         0.         1.         1.         0.70531992 0.55125873]\n",
      " [0.         0.         1.         1.         0.08336559 0.4826359 ]\n",
      " [0.         0.         1.         1.         0.31785339 0.53100824]\n",
      " [0.         0.         1.         1.         0.05585257 0.23703002]\n",
      " [0.         0.         1.         1.         0.77169658 0.3959486 ]]\n"
     ]
    }
   ],
   "source": [
    "h_stack = np.hstack((zeroes, ones, onecol))\n",
    "print(h_stack)"
   ]
  },
  {
   "cell_type": "code",
   "execution_count": 71,
   "metadata": {},
   "outputs": [
    {
     "name": "stdout",
     "output_type": "stream",
     "text": [
      "[array([[0., 0.],\n",
      "       [0., 0.],\n",
      "       [0., 0.],\n",
      "       [0., 0.],\n",
      "       [0., 0.],\n",
      "       [0., 0.]]), array([[1., 1.],\n",
      "       [1., 1.],\n",
      "       [1., 1.],\n",
      "       [1., 1.],\n",
      "       [1., 1.],\n",
      "       [1., 1.]]), array([[0.01351633, 0.96728699],\n",
      "       [0.70531992, 0.55125873],\n",
      "       [0.08336559, 0.4826359 ],\n",
      "       [0.31785339, 0.53100824],\n",
      "       [0.05585257, 0.23703002],\n",
      "       [0.77169658, 0.3959486 ]])]\n"
     ]
    }
   ],
   "source": [
    "# Splitting arrays vertically\n",
    "h_split = np. hsplit(h_stack, 3)\n",
    "print(h_split)"
   ]
  },
  {
   "cell_type": "code",
   "execution_count": 72,
   "metadata": {},
   "outputs": [
    {
     "name": "stdout",
     "output_type": "stream",
     "text": [
      "[[1. 1.]\n",
      " [1. 1.]\n",
      " [1. 1.]\n",
      " [1. 1.]\n",
      " [1. 1.]\n",
      " [1. 1.]]\n"
     ]
    }
   ],
   "source": [
    "print(h_split[1])"
   ]
  },
  {
   "cell_type": "code",
   "execution_count": 66,
   "metadata": {},
   "outputs": [
    {
     "name": "stdout",
     "output_type": "stream",
     "text": [
      "[[0.         0.         1.         1.         0.01351633 0.96728699]\n",
      " [0.         0.         1.         1.         0.70531992 0.55125873]\n",
      " [0.         0.         1.         1.         0.08336559 0.4826359 ]\n",
      " [0.         0.         1.         1.         0.31785339 0.53100824]\n",
      " [0.         0.         1.         1.         0.05585257 0.23703002]\n",
      " [0.         0.         1.         1.         0.77169658 0.3959486 ]]\n"
     ]
    }
   ],
   "source": [
    "print(h_stack)"
   ]
  },
  {
   "cell_type": "code",
   "execution_count": 73,
   "metadata": {},
   "outputs": [
    {
     "name": "stdout",
     "output_type": "stream",
     "text": [
      "[array([[0., 0., 1.],\n",
      "       [0., 0., 1.],\n",
      "       [0., 0., 1.],\n",
      "       [0., 0., 1.],\n",
      "       [0., 0., 1.],\n",
      "       [0., 0., 1.]]), array([[1.        , 0.01351633, 0.96728699],\n",
      "       [1.        , 0.70531992, 0.55125873],\n",
      "       [1.        , 0.08336559, 0.4826359 ],\n",
      "       [1.        , 0.31785339, 0.53100824],\n",
      "       [1.        , 0.05585257, 0.23703002],\n",
      "       [1.        , 0.77169658, 0.3959486 ]])]\n"
     ]
    }
   ],
   "source": [
    "h_split = np.hsplit(h_stack, 2)\n",
    "print(h_split)"
   ]
  },
  {
   "cell_type": "code",
   "execution_count": 74,
   "metadata": {},
   "outputs": [
    {
     "name": "stdout",
     "output_type": "stream",
     "text": [
      "[[0. 0. 1.]\n",
      " [0. 0. 1.]\n",
      " [0. 0. 1.]\n",
      " [0. 0. 1.]\n",
      " [0. 0. 1.]\n",
      " [0. 0. 1.]]\n"
     ]
    }
   ],
   "source": [
    "print(h_split[0])"
   ]
  },
  {
   "cell_type": "code",
   "execution_count": 75,
   "metadata": {},
   "outputs": [
    {
     "name": "stdout",
     "output_type": "stream",
     "text": [
      "[[1.         0.01351633 0.96728699]\n",
      " [1.         0.70531992 0.55125873]\n",
      " [1.         0.08336559 0.4826359 ]\n",
      " [1.         0.31785339 0.53100824]\n",
      " [1.         0.05585257 0.23703002]\n",
      " [1.         0.77169658 0.3959486 ]]\n"
     ]
    }
   ],
   "source": [
    "print(h_split[1])"
   ]
  },
  {
   "cell_type": "markdown",
   "metadata": {},
   "source": [
    "4. Indexing of NumPy arrays"
   ]
  },
  {
   "cell_type": "code",
   "execution_count": 7,
   "metadata": {},
   "outputs": [
    {
     "name": "stdout",
     "output_type": "stream",
     "text": [
      "[100 101 102 103 104 105 106 107 108 109 110 111 112 113 114 115 116 117\n",
      " 118 119 120 121 122 123 124 125 126 127 128 129 130 131 132 133 134 135\n",
      " 136 137 138 139 140 141 142 143 144 145 146 147 148 149 150 151 152 153\n",
      " 154 155 156 157 158 159 160 161 162 163 164 165 166 167 168 169 170 171\n",
      " 172 173 174 175 176 177 178 179 180 181 182 183 184 185 186 187 188 189\n",
      " 190 191 192 193 194 195 196 197 198 199]\n"
     ]
    }
   ],
   "source": [
    "# Setting up array\n",
    "base_data = np.arange(100, 200)\n",
    "print(base_data)"
   ]
  },
  {
   "cell_type": "code",
   "execution_count": 8,
   "metadata": {},
   "outputs": [
    {
     "name": "stdout",
     "output_type": "stream",
     "text": [
      "[100 110 120 130 140 150]\n"
     ]
    }
   ],
   "source": [
    "# selecting every 10 value from base_data within <60\n",
    "every_10 = np.arange(0, 60, 10)\n",
    "print(base_data[every_10])"
   ]
  },
  {
   "cell_type": "code",
   "execution_count": 9,
   "metadata": {},
   "outputs": [
    {
     "name": "stdout",
     "output_type": "stream",
     "text": [
      "[[ 5 10]\n",
      " [80 90]]\n"
     ]
    }
   ],
   "source": [
    "# Selecting specific values as an array within the given array\n",
    "a = np.array([(5,10), (80, 90)])\n",
    "print(a)"
   ]
  },
  {
   "cell_type": "code",
   "execution_count": 10,
   "metadata": {},
   "outputs": [
    {
     "name": "stdout",
     "output_type": "stream",
     "text": [
      "[[105 110]\n",
      " [180 190]]\n"
     ]
    }
   ],
   "source": [
    "print(base_data[a])"
   ]
  },
  {
   "cell_type": "code",
   "execution_count": 11,
   "metadata": {},
   "outputs": [
    {
     "ename": "ValueError",
     "evalue": "cannot reshape array of size 100 into shape (12,newaxis)",
     "output_type": "error",
     "traceback": [
      "\u001b[1;31m---------------------------------------------------------------------------\u001b[0m",
      "\u001b[1;31mValueError\u001b[0m                                Traceback (most recent call last)",
      "\u001b[1;32m<ipython-input-11-3ac27c7298d6>\u001b[0m in \u001b[0;36m<module>\u001b[1;34m\u001b[0m\n\u001b[0;32m      1\u001b[0m \u001b[1;31m# Reshaping data into a 10x10 array\u001b[0m\u001b[1;33m\u001b[0m\u001b[1;33m\u001b[0m\u001b[1;33m\u001b[0m\u001b[0m\n\u001b[1;32m----> 2\u001b[1;33m \u001b[0mbox_data\u001b[0m \u001b[1;33m=\u001b[0m \u001b[0mbase_data\u001b[0m\u001b[1;33m.\u001b[0m\u001b[0mreshape\u001b[0m\u001b[1;33m(\u001b[0m\u001b[1;33m(\u001b[0m\u001b[1;36m12\u001b[0m\u001b[1;33m,\u001b[0m \u001b[1;33m-\u001b[0m\u001b[1;36m1\u001b[0m\u001b[1;33m)\u001b[0m\u001b[1;33m)\u001b[0m\u001b[1;33m\u001b[0m\u001b[1;33m\u001b[0m\u001b[0m\n\u001b[0m\u001b[0;32m      3\u001b[0m \u001b[0mprint\u001b[0m\u001b[1;33m(\u001b[0m\u001b[0mbox_data\u001b[0m\u001b[1;33m)\u001b[0m\u001b[1;33m\u001b[0m\u001b[1;33m\u001b[0m\u001b[0m\n",
      "\u001b[1;31mValueError\u001b[0m: cannot reshape array of size 100 into shape (12,newaxis)"
     ]
    }
   ],
   "source": [
    "# Reshaping data into a 10x10 array\n",
    "box_data = base_data.reshape((12, -1))\n",
    "print(box_data)"
   ]
  },
  {
   "cell_type": "code",
   "execution_count": 92,
   "metadata": {},
   "outputs": [
    {
     "name": "stdout",
     "output_type": "stream",
     "text": [
      "[100 101 102 103 104 105 106 107 108 109]\n"
     ]
    }
   ],
   "source": [
    "# Selecting specific rows, columns from array\n",
    "print(box_data[0])"
   ]
  },
  {
   "cell_type": "code",
   "execution_count": 93,
   "metadata": {},
   "outputs": [
    {
     "name": "stdout",
     "output_type": "stream",
     "text": [
      "100\n"
     ]
    }
   ],
   "source": [
    "# Specific value located at index 0,0\n",
    "print(box_data[0, 0])"
   ]
  },
  {
   "cell_type": "code",
   "execution_count": 94,
   "metadata": {},
   "outputs": [
    {
     "name": "stdout",
     "output_type": "stream",
     "text": [
      "[100 101 102 103 104 105 106 107 108 109]\n"
     ]
    }
   ],
   "source": [
    "print(box_data[0, :])"
   ]
  },
  {
   "cell_type": "code",
   "execution_count": 95,
   "metadata": {},
   "outputs": [
    {
     "name": "stdout",
     "output_type": "stream",
     "text": [
      "[109 119 129 139 149 159 169 179 189 199]\n"
     ]
    }
   ],
   "source": [
    "# All values in one column\n",
    "print(box_data[:, -1])"
   ]
  },
  {
   "cell_type": "code",
   "execution_count": 96,
   "metadata": {},
   "outputs": [
    {
     "name": "stdout",
     "output_type": "stream",
     "text": [
      "[[100 101 102 103 104 105 106 107]\n",
      " [110 111 112 113 114 115 116 117]\n",
      " [120 121 122 123 124 125 126 127]\n",
      " [130 131 132 133 134 135 136 137]\n",
      " [140 141 142 143 144 145 146 147]\n",
      " [150 151 152 153 154 155 156 157]]\n"
     ]
    }
   ],
   "source": [
    "# Selecting a specific array within data - first 6 rows, first 8 columns.\n",
    "print(box_data[0:6, 0:8])"
   ]
  },
  {
   "cell_type": "code",
   "execution_count": 97,
   "metadata": {},
   "outputs": [
    {
     "name": "stdout",
     "output_type": "stream",
     "text": [
      "[[158 159]\n",
      " [168 169]\n",
      " [178 179]\n",
      " [188 189]\n",
      " [198 199]]\n"
     ]
    }
   ],
   "source": [
    "# Last 5 rows, last 2 columns\n",
    "print(box_data[5:, 8:])"
   ]
  },
  {
   "cell_type": "markdown",
   "metadata": {},
   "source": [
    "5. NumPy Mathematics"
   ]
  },
  {
   "cell_type": "code",
   "execution_count": 101,
   "metadata": {},
   "outputs": [
    {
     "name": "stdout",
     "output_type": "stream",
     "text": [
      "100\n",
      "199\n",
      "149.5\n",
      "14950\n",
      "[[-0.50636564  0.45202579  0.99482679  0.62298863 -0.3216224  -0.97053528\n",
      "  -0.7271425   0.18478174  0.92681851  0.81674261]\n",
      " [-0.04424268 -0.86455145 -0.8899956  -0.09718191  0.78498039  0.94543533\n",
      "   0.23666139 -0.68969794 -0.98195217 -0.3714041 ]\n",
      " [ 0.58061118  0.99881522  0.49871315 -0.45990349 -0.99568699 -0.61604046\n",
      "   0.32999083  0.97263007  0.72103771 -0.19347339]\n",
      " [-0.93010595 -0.81160339  0.05308359  0.86896576  0.88592482  0.08836869\n",
      "  -0.79043321 -0.94251445 -0.22805226  0.69608013]\n",
      " [ 0.98023966  0.36317137 -0.58779501 -0.99834536 -0.49102159  0.46774516\n",
      "   0.99646917  0.60904402 -0.33833339 -0.97464865]\n",
      " [-0.71487643  0.20214988  0.93332052  0.80640058 -0.06192034 -0.87331198\n",
      "  -0.88178462 -0.07954854  0.7958241   0.93951973]\n",
      " [ 0.21942526 -0.70240779 -0.97845035 -0.35491018  0.59493278  0.99779728\n",
      "   0.48329156 -0.47555019 -0.99717329 -0.60199987]\n",
      " [ 0.34664946  0.97659087  0.70865914 -0.21081053 -0.93646197 -0.8011346\n",
      "   0.07075224  0.87758979  0.87757534  0.07072217]\n",
      " [-0.80115264 -0.9364514  -0.21078107  0.70868041  0.97658438  0.34662118\n",
      "  -0.60202394 -0.99717102 -0.47552367  0.48331795]\n",
      " [ 0.99779928  0.59490855 -0.35493836 -0.97845657 -0.70238633  0.21945467\n",
      "   0.93953006  0.79580584 -0.07957859 -0.88179884]]\n"
     ]
    }
   ],
   "source": [
    "# Show calculations on array\n",
    "print(np.amin(box_data))\n",
    "print(np.amax(box_data))\n",
    "print(np.average(box_data))\n",
    "print(np.sum(box_data))\n",
    "print(np.sin(box_data))"
   ]
  },
  {
   "cell_type": "code",
   "execution_count": 102,
   "metadata": {},
   "outputs": [
    {
     "name": "stdout",
     "output_type": "stream",
     "text": [
      "[[10000 10201 10404 10609 10816 11025 11236 11449 11664 11881]\n",
      " [12100 12321 12544 12769 12996 13225 13456 13689 13924 14161]\n",
      " [14400 14641 14884 15129 15376 15625 15876 16129 16384 16641]\n",
      " [16900 17161 17424 17689 17956 18225 18496 18769 19044 19321]\n",
      " [19600 19881 20164 20449 20736 21025 21316 21609 21904 22201]\n",
      " [22500 22801 23104 23409 23716 24025 24336 24649 24964 25281]\n",
      " [25600 25921 26244 26569 26896 27225 27556 27889 28224 28561]\n",
      " [28900 29241 29584 29929 30276 30625 30976 31329 31684 32041]\n",
      " [32400 32761 33124 33489 33856 34225 34596 34969 35344 35721]\n",
      " [36100 36481 36864 37249 37636 38025 38416 38809 39204 39601]]\n"
     ]
    }
   ],
   "source": [
    "# Using operators on an array\n",
    "print(box_data * box_data)"
   ]
  },
  {
   "cell_type": "code",
   "execution_count": 103,
   "metadata": {},
   "outputs": [
    {
     "name": "stdout",
     "output_type": "stream",
     "text": [
      "[[200 202 204 206 208 210 212 214 216 218]\n",
      " [220 222 224 226 228 230 232 234 236 238]\n",
      " [240 242 244 246 248 250 252 254 256 258]\n",
      " [260 262 264 266 268 270 272 274 276 278]\n",
      " [280 282 284 286 288 290 292 294 296 298]\n",
      " [300 302 304 306 308 310 312 314 316 318]\n",
      " [320 322 324 326 328 330 332 334 336 338]\n",
      " [340 342 344 346 348 350 352 354 356 358]\n",
      " [360 362 364 366 368 370 372 374 376 378]\n",
      " [380 382 384 386 388 390 392 394 396 398]]\n"
     ]
    }
   ],
   "source": [
    "print(box_data + box_data)"
   ]
  },
  {
   "cell_type": "code",
   "execution_count": 104,
   "metadata": {},
   "outputs": [
    {
     "name": "stdout",
     "output_type": "stream",
     "text": [
      "[[10.  10.1 10.2 10.3 10.4 10.5 10.6 10.7 10.8 10.9]\n",
      " [11.  11.1 11.2 11.3 11.4 11.5 11.6 11.7 11.8 11.9]\n",
      " [12.  12.1 12.2 12.3 12.4 12.5 12.6 12.7 12.8 12.9]\n",
      " [13.  13.1 13.2 13.3 13.4 13.5 13.6 13.7 13.8 13.9]\n",
      " [14.  14.1 14.2 14.3 14.4 14.5 14.6 14.7 14.8 14.9]\n",
      " [15.  15.1 15.2 15.3 15.4 15.5 15.6 15.7 15.8 15.9]\n",
      " [16.  16.1 16.2 16.3 16.4 16.5 16.6 16.7 16.8 16.9]\n",
      " [17.  17.1 17.2 17.3 17.4 17.5 17.6 17.7 17.8 17.9]\n",
      " [18.  18.1 18.2 18.3 18.4 18.5 18.6 18.7 18.8 18.9]\n",
      " [19.  19.1 19.2 19.3 19.4 19.5 19.6 19.7 19.8 19.9]]\n"
     ]
    }
   ],
   "source": [
    "print(box_data * 0.1)"
   ]
  },
  {
   "cell_type": "code",
   "execution_count": 105,
   "metadata": {},
   "outputs": [
    {
     "name": "stdout",
     "output_type": "stream",
     "text": [
      "[[150 151 152 153 154 155 156 157 158 159]\n",
      " [160 161 162 163 164 165 166 167 168 169]\n",
      " [170 171 172 173 174 175 176 177 178 179]\n",
      " [180 181 182 183 184 185 186 187 188 189]\n",
      " [190 191 192 193 194 195 196 197 198 199]\n",
      " [200 201 202 203 204 205 206 207 208 209]\n",
      " [210 211 212 213 214 215 216 217 218 219]\n",
      " [220 221 222 223 224 225 226 227 228 229]\n",
      " [230 231 232 233 234 235 236 237 238 239]\n",
      " [240 241 242 243 244 245 246 247 248 249]]\n"
     ]
    }
   ],
   "source": [
    "print(box_data + (10*5))"
   ]
  },
  {
   "cell_type": "code",
   "execution_count": 106,
   "metadata": {},
   "outputs": [
    {
     "name": "stdout",
     "output_type": "stream",
     "text": [
      "[[10.         10.04987562 10.09950494 10.14889157 10.19803903 10.24695077\n",
      "  10.29563014 10.34408043 10.39230485 10.44030651]\n",
      " [10.48808848 10.53565375 10.58300524 10.63014581 10.67707825 10.72380529\n",
      "  10.77032961 10.81665383 10.86278049 10.90871211]\n",
      " [10.95445115 11.         11.04536102 11.09053651 11.13552873 11.18033989\n",
      "  11.22497216 11.26942767 11.3137085  11.35781669]\n",
      " [11.40175425 11.44552314 11.48912529 11.53256259 11.5758369  11.61895004\n",
      "  11.66190379 11.70469991 11.74734012 11.78982612]\n",
      " [11.83215957 11.87434209 11.91637529 11.95826074 12.         12.04159458\n",
      "  12.08304597 12.12435565 12.16552506 12.20655562]\n",
      " [12.24744871 12.28820573 12.32882801 12.36931688 12.40967365 12.4498996\n",
      "  12.489996   12.52996409 12.56980509 12.60952021]\n",
      " [12.64911064 12.68857754 12.72792206 12.76714533 12.80624847 12.84523258\n",
      "  12.88409873 12.92284798 12.9614814  13.        ]\n",
      " [13.03840481 13.07669683 13.11487705 13.15294644 13.19090596 13.22875656\n",
      "  13.26649916 13.3041347  13.34166406 13.37908816]\n",
      " [13.41640786 13.45362405 13.49073756 13.52774926 13.56465997 13.60147051\n",
      "  13.6381817  13.67479433 13.7113092  13.74772708]\n",
      " [13.78404875 13.82027496 13.85640646 13.89244399 13.92838828 13.96424004\n",
      "  14.         14.03566885 14.07124728 14.10673598]]\n"
     ]
    }
   ],
   "source": [
    "print(np.sqrt(box_data))"
   ]
  },
  {
   "cell_type": "code",
   "execution_count": 107,
   "metadata": {},
   "outputs": [
    {
     "name": "stdout",
     "output_type": "stream",
     "text": [
      "2.8722813232690143\n"
     ]
    }
   ],
   "source": [
    "# Standard deviation of the first row of values\n",
    "print(np.std(box_data[0]))"
   ]
  },
  {
   "cell_type": "code",
   "execution_count": 108,
   "metadata": {},
   "outputs": [
    {
     "name": "stdout",
     "output_type": "stream",
     "text": [
      "28.86607004772212\n"
     ]
    }
   ],
   "source": [
    "print(np.std(box_data))"
   ]
  },
  {
   "cell_type": "code",
   "execution_count": 109,
   "metadata": {},
   "outputs": [
    {
     "name": "stdout",
     "output_type": "stream",
     "text": [
      "1145\n"
     ]
    }
   ],
   "source": [
    "# Sum of the second row\n",
    "print(np.sum(box_data[1]))"
   ]
  },
  {
   "cell_type": "code",
   "execution_count": 110,
   "metadata": {},
   "outputs": [
    {
     "name": "stdout",
     "output_type": "stream",
     "text": [
      "134.5\n"
     ]
    }
   ],
   "source": [
    "# Average of one row\n",
    "print(np.average(box_data[3]))"
   ]
  },
  {
   "cell_type": "markdown",
   "metadata": {},
   "source": [
    "6. Numpy Matrices"
   ]
  },
  {
   "cell_type": "code",
   "execution_count": 120,
   "metadata": {},
   "outputs": [
    {
     "name": "stdout",
     "output_type": "stream",
     "text": [
      "[0.6096429  0.76816229 0.59162185 0.16406907 0.21560495 0.84922835\n",
      " 0.98654545 0.93629676 0.79556392 0.60712494 0.7694131  0.16421135\n",
      " 0.09709149 0.02285499 0.39359319 0.79651564 0.05546608 0.39744825\n",
      " 0.94552526 0.97920424 0.34861916 0.25281995 0.78868357 0.64117896\n",
      " 0.83840095]\n"
     ]
    }
   ],
   "source": [
    "# Setting up a matrix to work with\n",
    "grid = np.random.random(25)\n",
    "print(grid)"
   ]
  },
  {
   "cell_type": "code",
   "execution_count": 121,
   "metadata": {},
   "outputs": [],
   "source": [
    "grid5 = grid.reshape(5, 5)"
   ]
  },
  {
   "cell_type": "code",
   "execution_count": 122,
   "metadata": {},
   "outputs": [
    {
     "name": "stdout",
     "output_type": "stream",
     "text": [
      "[[0.6096429  0.76816229 0.59162185 0.16406907 0.21560495]\n",
      " [0.84922835 0.98654545 0.93629676 0.79556392 0.60712494]\n",
      " [0.7694131  0.16421135 0.09709149 0.02285499 0.39359319]\n",
      " [0.79651564 0.05546608 0.39744825 0.94552526 0.97920424]\n",
      " [0.34861916 0.25281995 0.78868357 0.64117896 0.83840095]]\n"
     ]
    }
   ],
   "source": [
    "print(grid5)"
   ]
  },
  {
   "cell_type": "code",
   "execution_count": 124,
   "metadata": {},
   "outputs": [
    {
     "name": "stdout",
     "output_type": "stream",
     "text": [
      "[[0.6096429  0.84922835 0.7694131  0.79651564 0.34861916]\n",
      " [0.76816229 0.98654545 0.16421135 0.05546608 0.25281995]\n",
      " [0.59162185 0.93629676 0.09709149 0.39744825 0.78868357]\n",
      " [0.16406907 0.79556392 0.02285499 0.94552526 0.64117896]\n",
      " [0.21560495 0.60712494 0.39359319 0.97920424 0.83840095]]\n"
     ]
    }
   ],
   "source": [
    "# Tranpose grid\n",
    "print(grid5.transpose())"
   ]
  },
  {
   "cell_type": "code",
   "execution_count": 127,
   "metadata": {},
   "outputs": [
    {
     "name": "stdout",
     "output_type": "stream",
     "text": [
      "[[1. 1. 1. 1. 1.]\n",
      " [1. 1. 1. 1. 1.]\n",
      " [1. 1. 1. 1. 1.]\n",
      " [1. 1. 1. 1. 1.]\n",
      " [1. 1. 1. 1. 1.]]\n"
     ]
    }
   ],
   "source": [
    "grid_ones = np.ones((5,5))\n",
    "print(grid_ones)"
   ]
  },
  {
   "cell_type": "code",
   "execution_count": 129,
   "metadata": {},
   "outputs": [
    {
     "name": "stdout",
     "output_type": "stream",
     "text": [
      "[[2. 2. 2. 2. 2.]\n",
      " [2. 2. 2. 2. 2.]\n",
      " [2. 2. 2. 2. 2.]\n",
      " [2. 2. 2. 2. 2.]\n",
      " [2. 2. 2. 2. 2.]]\n"
     ]
    }
   ],
   "source": [
    "twos = grid_ones * 2\n",
    "print(twos)"
   ]
  },
  {
   "cell_type": "code",
   "execution_count": 130,
   "metadata": {},
   "outputs": [
    {
     "name": "stdout",
     "output_type": "stream",
     "text": [
      "[[4.69820211 4.69820211 4.69820211 4.69820211 4.69820211]\n",
      " [8.34951886 8.34951886 8.34951886 8.34951886 8.34951886]\n",
      " [2.89432824 2.89432824 2.89432824 2.89432824 2.89432824]\n",
      " [6.34831893 6.34831893 6.34831893 6.34831893 6.34831893]\n",
      " [5.73940516 5.73940516 5.73940516 5.73940516 5.73940516]]\n"
     ]
    }
   ],
   "source": [
    "# Matrix mupltiplication using the .dot function\n",
    "print(np.dot(grid5, twos))"
   ]
  },
  {
   "cell_type": "code",
   "execution_count": null,
   "metadata": {},
   "outputs": [],
   "source": []
  }
 ],
 "metadata": {
  "kernelspec": {
   "display_name": "Python 3",
   "language": "python",
   "name": "python3"
  },
  "language_info": {
   "codemirror_mode": {
    "name": "ipython",
    "version": 3
   },
   "file_extension": ".py",
   "mimetype": "text/x-python",
   "name": "python",
   "nbconvert_exporter": "python",
   "pygments_lexer": "ipython3",
   "version": "3.8.5"
  }
 },
 "nbformat": 4,
 "nbformat_minor": 4
}
