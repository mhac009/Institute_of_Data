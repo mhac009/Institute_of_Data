{
 "cells": [
  {
   "cell_type": "markdown",
   "metadata": {
    "colab_type": "text",
    "id": "4hbPgptrMKl-"
   },
   "source": [
    "<div>\n",
    "<img src=https://www.institutedata.com/wp-content/uploads/2019/10/iod_h_tp_primary_c.svg width=\"300\">\n",
    "</div>"
   ]
  },
  {
   "cell_type": "markdown",
   "metadata": {
    "colab_type": "text",
    "id": "5YFCF9NXMKmB"
   },
   "source": [
    "# Lab 9.1: Regular Expressions\n",
    "INSTRUCTIONS:\n",
    "- Read the guides and [hints](https://www.w3schools.com/python/python_regex.asp), then create the necessary analysis and code to find an answer and conclusion for the task below.\n",
    "- Complete `IOD Demo-9_2` first"
   ]
  },
  {
   "cell_type": "markdown",
   "metadata": {
    "colab_type": "text",
    "id": "7HixmqcIMKmF"
   },
   "source": [
    "## 0. Import the necessary libraries\n",
    "\n",
    "Please use Python's built-in package called `re` to work with Regular Expressions."
   ]
  },
  {
   "cell_type": "code",
   "execution_count": 2,
   "metadata": {
    "colab": {},
    "colab_type": "code",
    "id": "zvHNnovVcwu0"
   },
   "outputs": [],
   "source": [
    "# Import Libraries\n",
    "import re"
   ]
  },
  {
   "cell_type": "markdown",
   "metadata": {
    "colab_type": "text",
    "id": "uyj2kaYeMKmI"
   },
   "source": [
    "## 1. Extract the `user id`, `domain name` and `suffix` from the following email addresses\n",
    "**Hint**: Use groups with `()`. There are more sophisticated patterns for matching the email domain and suffix. This is just one version of the answer."
   ]
  },
  {
   "cell_type": "code",
   "execution_count": 3,
   "metadata": {
    "colab": {},
    "colab_type": "code",
    "id": "RyB5pa2iMKmL"
   },
   "outputs": [],
   "source": [
    "emails = '''zuck26@facebook.com\n",
    "page33@google.com\n",
    "jeff42@amazon.com'''\n",
    "\n",
    "desired_output = [\n",
    "    ('zuck26', 'facebook', 'com'),\n",
    "    ('page33', 'google', 'com'),\n",
    "    ('jeff42', 'amazon', 'com')\n",
    "]\n",
    "\n",
    "pattern = r'(\\w+)@([A-Z0-9]+)\\.([A-Z]{2,4})'\n",
    "flags = re.IGNORECASE\n",
    "\n",
    "output = re.findall(pattern, emails, flags = flags)\n",
    "\n",
    "assert output == desired_output, 'Not equal!'"
   ]
  },
  {
   "cell_type": "code",
   "execution_count": 4,
   "metadata": {},
   "outputs": [
    {
     "data": {
      "text/plain": [
       "[('zuck26', 'facebook', 'com'),\n",
       " ('page33', 'google', 'com'),\n",
       " ('jeff42', 'amazon', 'com')]"
      ]
     },
     "execution_count": 4,
     "metadata": {},
     "output_type": "execute_result"
    }
   ],
   "source": [
    "output"
   ]
  },
  {
   "cell_type": "markdown",
   "metadata": {
    "colab_type": "text",
    "id": "x5VnTr9ZMKmV"
   },
   "source": [
    "## 2. Retrieve all the words starting with 'b' or 'B' from the following text\n",
    "`\\b` mandates the left of `B` is a word boundary, effectively requiring the word to start with `B`.\n",
    "\n",
    "Setting `flags` arg to `re.IGNORECASE` makes the pattern case insensitive."
   ]
  },
  {
   "cell_type": "code",
   "execution_count": 5,
   "metadata": {
    "colab": {},
    "colab_type": "code",
    "id": "mL5R80-xMKmX"
   },
   "outputs": [],
   "source": [
    "text = 'Betty bought a bit of butter, But the butter was so bitter, So she bought some better butter, To make the bitter butter better.'\n",
    "\n",
    "desired_output = [\n",
    "    'Betty', 'bought', 'bit', 'butter', 'But', \n",
    "    'butter', 'bitter', 'bought', 'better', \n",
    "    'butter', 'bitter', 'butter', 'better'\n",
    "]\n",
    "\n",
    "pattern = r'\\bB\\w+'\n",
    "flags = re.IGNORECASE\n",
    "\n",
    "output = re.findall(pattern, text, flags = flags)\n",
    "\n",
    "assert output == desired_output, 'Not equal!'"
   ]
  },
  {
   "cell_type": "code",
   "execution_count": 6,
   "metadata": {},
   "outputs": [
    {
     "data": {
      "text/plain": [
       "['Betty',\n",
       " 'bought',\n",
       " 'bit',\n",
       " 'butter',\n",
       " 'But',\n",
       " 'butter',\n",
       " 'bitter',\n",
       " 'bought',\n",
       " 'better',\n",
       " 'butter',\n",
       " 'bitter',\n",
       " 'butter',\n",
       " 'better']"
      ]
     },
     "execution_count": 6,
     "metadata": {},
     "output_type": "execute_result"
    }
   ],
   "source": [
    "output"
   ]
  },
  {
   "cell_type": "markdown",
   "metadata": {
    "colab_type": "text",
    "id": "Dhzd73XzMKmb"
   },
   "source": [
    "## 3. Split the following irregular sentence into words\n",
    "Add more delimiters into the pattern as needed."
   ]
  },
  {
   "cell_type": "code",
   "execution_count": 7,
   "metadata": {
    "colab": {},
    "colab_type": "code",
    "id": "RCILkx5rMKmd"
   },
   "outputs": [],
   "source": [
    "sentence = 'A, very   very; irregular_sentence'\n",
    "\n",
    "desired_output = 'A very very irregular sentence'\n",
    "\n",
    "pattern = r'[;,\\s_]+'\n",
    "\n",
    "output = ' '.join(re.split(pattern, sentence))\n",
    "\n",
    "assert output == desired_output, 'Not equal!'"
   ]
  },
  {
   "cell_type": "markdown",
   "metadata": {
    "colab_type": "text",
    "id": "YJoo9KuFMKmh"
   },
   "source": [
    "## 4. Clean up the following tweet so that it contains only the user’s message\n",
    "That is, remove all URLs, hashtags, mentions, punctuations, RTs and CCs."
   ]
  },
  {
   "cell_type": "code",
   "execution_count": 8,
   "metadata": {
    "colab": {},
    "colab_type": "code",
    "id": "02JgjxPTMKmi"
   },
   "outputs": [],
   "source": [
    "tweet = 'Good advice! RT @TheNextWeb: What I would do differently if I was learning to code today http://t.co/lbwej0pxOd cc: @garybernhardt #rstats'\n",
    "\n",
    "desired_output = 'Good advice What I would do differently if I was learning to code today'\n",
    "\n",
    "def clean_tweet(tweet):\n",
    "    tweet = re.sub(r'http\\S+\\s*', '', tweet)  # remove URLs\n",
    "    tweet = re.sub(r'RT|cc', '', tweet)  # remove RT and cc\n",
    "    tweet = re.sub(r'#\\S+', '', tweet)  # remove hashtags\n",
    "    tweet = re.sub(r'@\\S+', '', tweet)  # remove mentions\n",
    "    tweet = re.sub(r'[!@://.#]', '', tweet)  # remove punctuations\n",
    "    tweet = re.sub(r'\\s+', ' ', tweet)  # remove extra whitespace\n",
    "    tweet = re.sub(r'\\s+$', '', tweet)  # remove extra whitespace\n",
    "    return tweet\n",
    "\n",
    "output = clean_tweet(tweet)\n",
    "\n",
    "assert output == desired_output, 'Not equal!'"
   ]
  },
  {
   "cell_type": "code",
   "execution_count": 9,
   "metadata": {},
   "outputs": [
    {
     "data": {
      "text/plain": [
       "'Good advice What I would do differently if I was learning to code today'"
      ]
     },
     "execution_count": 9,
     "metadata": {},
     "output_type": "execute_result"
    }
   ],
   "source": [
    "output"
   ]
  },
  {
   "cell_type": "code",
   "execution_count": 10,
   "metadata": {
    "scrolled": true
   },
   "outputs": [
    {
     "data": {
      "text/plain": [
       "'Good advice! RT @TheNextWeb: What I would do differently if I was learning to code today cc: @garybernhardt #rstats'"
      ]
     },
     "execution_count": 10,
     "metadata": {},
     "output_type": "execute_result"
    }
   ],
   "source": [
    "result_1 = re.sub(r'http\\S+\\s*', '', tweet)\n",
    "result_1"
   ]
  },
  {
   "cell_type": "code",
   "execution_count": 11,
   "metadata": {},
   "outputs": [
    {
     "data": {
      "text/plain": [
       "'Good advice!  @TheNextWeb: What I would do differently if I was learning to code today : @garybernhardt #rstats'"
      ]
     },
     "execution_count": 11,
     "metadata": {},
     "output_type": "execute_result"
    }
   ],
   "source": [
    "result_2 = re.sub(r'RT|cc', '', result_1)\n",
    "result_2"
   ]
  },
  {
   "cell_type": "code",
   "execution_count": 12,
   "metadata": {},
   "outputs": [
    {
     "data": {
      "text/plain": [
       "'Good advice!  @TheNextWeb: What I would do differently if I was learning to code today : @garybernhardt '"
      ]
     },
     "execution_count": 12,
     "metadata": {},
     "output_type": "execute_result"
    }
   ],
   "source": [
    "result_3 = re.sub(r'#\\S+', '', result_2)\n",
    "result_3"
   ]
  },
  {
   "cell_type": "code",
   "execution_count": 13,
   "metadata": {},
   "outputs": [
    {
     "data": {
      "text/plain": [
       "'Good advice!   What I would do differently if I was learning to code today :  '"
      ]
     },
     "execution_count": 13,
     "metadata": {},
     "output_type": "execute_result"
    }
   ],
   "source": [
    "result_4 = re.sub(r'@\\S+', '', result_3)\n",
    "result_4"
   ]
  },
  {
   "cell_type": "code",
   "execution_count": 14,
   "metadata": {},
   "outputs": [
    {
     "data": {
      "text/plain": [
       "'Good advice   What I would do differently if I was learning to code today   '"
      ]
     },
     "execution_count": 14,
     "metadata": {},
     "output_type": "execute_result"
    }
   ],
   "source": [
    "result_5 = re.sub(r'[!@://.#]', '', result_4)\n",
    "result_5"
   ]
  },
  {
   "cell_type": "code",
   "execution_count": 15,
   "metadata": {},
   "outputs": [
    {
     "data": {
      "text/plain": [
       "'Good advice What I would do differently if I was learning to code today '"
      ]
     },
     "execution_count": 15,
     "metadata": {},
     "output_type": "execute_result"
    }
   ],
   "source": [
    "result_6 = re.sub(r'\\s+', ' ', result_5)\n",
    "result_6"
   ]
  },
  {
   "cell_type": "code",
   "execution_count": 16,
   "metadata": {},
   "outputs": [
    {
     "data": {
      "text/plain": [
       "'Good advice What I would do differently if I was learning to code today'"
      ]
     },
     "execution_count": 16,
     "metadata": {},
     "output_type": "execute_result"
    }
   ],
   "source": [
    "result_7 = re.sub(r'\\s+$', '', result_6)\n",
    "result_7"
   ]
  },
  {
   "cell_type": "markdown",
   "metadata": {
    "colab_type": "text",
    "id": "RERADKgNFq9T"
   },
   "source": [
    "\n",
    "\n",
    "---\n",
    "\n",
    "\n",
    "\n",
    "---\n",
    "\n",
    "\n",
    "\n",
    "> > > > > > > > > © 2021 Institute of Data\n",
    "\n",
    "\n",
    "---\n",
    "\n",
    "\n",
    "\n",
    "---\n",
    "\n",
    "\n",
    "\n"
   ]
  }
 ],
 "metadata": {
  "colab": {
   "collapsed_sections": [],
   "name": "DSIA Lab-9_1.ipynb",
   "provenance": []
  },
  "kernelspec": {
   "display_name": "Python 3",
   "language": "python",
   "name": "python3"
  },
  "language_info": {
   "codemirror_mode": {
    "name": "ipython",
    "version": 3
   },
   "file_extension": ".py",
   "mimetype": "text/x-python",
   "name": "python",
   "nbconvert_exporter": "python",
   "pygments_lexer": "ipython3",
   "version": "3.8.5"
  }
 },
 "nbformat": 4,
 "nbformat_minor": 1
}
